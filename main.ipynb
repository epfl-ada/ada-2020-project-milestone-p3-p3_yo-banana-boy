{
 "cells": [
  {
   "cell_type": "markdown",
   "metadata": {},
   "source": [
    "# Remarques:\n",
    "\n",
    "Le notebook ne runnait pas quand j'ai pull\n",
    "C'est pratique si chacun peut 'Restart the Kernel' avant de push comme ca le code compile pour ceux d'après"
   ]
  },
  {
   "cell_type": "markdown",
   "metadata": {},
   "source": [
    "# TODO LIST:\n",
    "\n",
    "quick summary of what is said about the data on SNAP\n"
   ]
  },
  {
   "cell_type": "markdown",
   "metadata": {},
   "source": [
    "# Data loading & cleaning"
   ]
  },
  {
   "cell_type": "markdown",
   "metadata": {},
   "source": [
    "#### Imports"
   ]
  },
  {
   "cell_type": "code",
   "execution_count": 1,
   "metadata": {},
   "outputs": [],
   "source": [
    "import pandas as pd\n",
    "import numpy as np\n",
    "import math\n",
    "import matplotlib.pyplot as plt"
   ]
  },
  {
   "cell_type": "markdown",
   "metadata": {},
   "source": [
    "#### Dataset description\n",
    "\n",
    "#TODO: quick summary of what is said about the data on SNAP\n",
    "\n",
    "\n",
    "#### Features description\n",
    "\n",
    "   E: election outcome, succesful (1) or not (0)\n",
    "   \n",
    "   T: time election was closed\n",
    "   \n",
    "   U: candidate id, the one being considered for promotion\n",
    "   \n",
    "   N: nominator id\n",
    "   \n",
    "   V: we have 3 interesting features in this line\n",
    "   \n",
    "      result of the vote (1:support, 0:neutral, -1:oppose)\n",
    "      \n",
    "      voter id\n",
    "      \n",
    "      time of the vote (yyyy-mm-dd)\n"
   ]
  },
  {
   "cell_type": "markdown",
   "metadata": {},
   "source": [
    "#### Data loading"
   ]
  },
  {
   "cell_type": "code",
   "execution_count": 26,
   "metadata": {},
   "outputs": [],
   "source": [
    "DATA_PATH = \"data/\"\n",
    "\n",
    "# create a variable to store all the features\n",
    "wiki = []\n",
    "\n",
    "# we use encoding=\"latin-1\" as some user names contain non utf-8 characters\n",
    "# note that we are not interested in the user names, so we don't care if their names is not properly read\n",
    "with open(DATA_PATH+\"wikiElec.ElecBs3.txt\", encoding=\"latin-1\") as f:\n",
    "    \n",
    "    # lines of the files\n",
    "    for line in f.readlines():\n",
    "        \n",
    "        # lines are separated with tab: \\t\n",
    "        line = line.split(\"\\t\")\n",
    "        first = line[0]\n",
    "            \n",
    "        # election outcome\n",
    "        if first==\"E\":\n",
    "            elec_outcome = line[1][:-1] #[:-1] to remove the \\n\n",
    "            continue\n",
    "        \n",
    "        # time the election was closed\n",
    "        if first==\"T\":\n",
    "            elec_time = pd.to_datetime(line[1])\n",
    "            continue\n",
    "            \n",
    "        # candidate id  \n",
    "        if first==\"U\":\n",
    "            candidate_id = line[1]\n",
    "            continue \n",
    "            \n",
    "        # nominator id\n",
    "        if first==\"N\":\n",
    "            nominator_id = line[1]\n",
    "            continue\n",
    "        \n",
    "        if first==\"V\":\n",
    "            vote = line[1]\n",
    "            voter_id = line[2]\n",
    "            vote_time = pd.to_datetime(line[3])\n",
    "            \n",
    "            #store the results\n",
    "            wiki.append([elec_outcome, elec_time, candidate_id, voter_id, vote, vote_time, nominator_id])\n",
    "            continue"
   ]
  },
  {
   "cell_type": "code",
   "execution_count": 27,
   "metadata": {
    "scrolled": true
   },
   "outputs": [
    {
     "data": {
      "text/html": [
       "<div>\n",
       "<style scoped>\n",
       "    .dataframe tbody tr th:only-of-type {\n",
       "        vertical-align: middle;\n",
       "    }\n",
       "\n",
       "    .dataframe tbody tr th {\n",
       "        vertical-align: top;\n",
       "    }\n",
       "\n",
       "    .dataframe thead th {\n",
       "        text-align: right;\n",
       "    }\n",
       "</style>\n",
       "<table border=\"1\" class=\"dataframe\">\n",
       "  <thead>\n",
       "    <tr style=\"text-align: right;\">\n",
       "      <th></th>\n",
       "      <th>elec_outcome</th>\n",
       "      <th>elec_time</th>\n",
       "      <th>candidate_id</th>\n",
       "      <th>voter_id</th>\n",
       "      <th>vote</th>\n",
       "      <th>vote_time</th>\n",
       "      <th>nominator_id</th>\n",
       "    </tr>\n",
       "  </thead>\n",
       "  <tbody>\n",
       "    <tr>\n",
       "      <th>0</th>\n",
       "      <td>1</td>\n",
       "      <td>2004-09-21 01:15:53</td>\n",
       "      <td>30</td>\n",
       "      <td>3</td>\n",
       "      <td>1</td>\n",
       "      <td>2004-09-14 16:26:00</td>\n",
       "      <td>32</td>\n",
       "    </tr>\n",
       "    <tr>\n",
       "      <th>1</th>\n",
       "      <td>1</td>\n",
       "      <td>2004-09-21 01:15:53</td>\n",
       "      <td>30</td>\n",
       "      <td>25</td>\n",
       "      <td>-1</td>\n",
       "      <td>2004-09-14 16:53:00</td>\n",
       "      <td>32</td>\n",
       "    </tr>\n",
       "    <tr>\n",
       "      <th>2</th>\n",
       "      <td>1</td>\n",
       "      <td>2004-09-21 01:15:53</td>\n",
       "      <td>30</td>\n",
       "      <td>4</td>\n",
       "      <td>1</td>\n",
       "      <td>2004-09-14 17:08:00</td>\n",
       "      <td>32</td>\n",
       "    </tr>\n",
       "    <tr>\n",
       "      <th>3</th>\n",
       "      <td>1</td>\n",
       "      <td>2004-09-21 01:15:53</td>\n",
       "      <td>30</td>\n",
       "      <td>5</td>\n",
       "      <td>1</td>\n",
       "      <td>2004-09-14 17:37:00</td>\n",
       "      <td>32</td>\n",
       "    </tr>\n",
       "    <tr>\n",
       "      <th>4</th>\n",
       "      <td>1</td>\n",
       "      <td>2004-09-21 01:15:53</td>\n",
       "      <td>30</td>\n",
       "      <td>6</td>\n",
       "      <td>1</td>\n",
       "      <td>2004-09-14 19:28:00</td>\n",
       "      <td>32</td>\n",
       "    </tr>\n",
       "  </tbody>\n",
       "</table>\n",
       "</div>"
      ],
      "text/plain": [
       "  elec_outcome           elec_time candidate_id voter_id vote  \\\n",
       "0            1 2004-09-21 01:15:53           30        3    1   \n",
       "1            1 2004-09-21 01:15:53           30       25   -1   \n",
       "2            1 2004-09-21 01:15:53           30        4    1   \n",
       "3            1 2004-09-21 01:15:53           30        5    1   \n",
       "4            1 2004-09-21 01:15:53           30        6    1   \n",
       "\n",
       "            vote_time nominator_id  \n",
       "0 2004-09-14 16:26:00           32  \n",
       "1 2004-09-14 16:53:00           32  \n",
       "2 2004-09-14 17:08:00           32  \n",
       "3 2004-09-14 17:37:00           32  \n",
       "4 2004-09-14 19:28:00           32  "
      ]
     },
     "execution_count": 27,
     "metadata": {},
     "output_type": "execute_result"
    }
   ],
   "source": [
    "# store the result wiki in an appropriate pandas dataframe\n",
    "wikipedia = pd.DataFrame(wiki, columns = [\"elec_outcome\", \"elec_time\", \"candidate_id\", \"voter_id\", \"vote\", \"vote_time\", \"nominator_id\"])\n",
    "wikipedia.head()"
   ]
  },
  {
   "cell_type": "markdown",
   "metadata": {},
   "source": [
    "#### Data cleaning"
   ]
  },
  {
   "cell_type": "markdown",
   "metadata": {},
   "source": [
    "We would not want to begin our analysis using inexisting dates ! Let us check that all dates present in our dataframe are coherent. \n",
    "\n",
    "Let's check extreme dates."
   ]
  },
  {
   "cell_type": "code",
   "execution_count": 29,
   "metadata": {
    "scrolled": true
   },
   "outputs": [
    {
     "name": "stdout",
     "output_type": "stream",
     "text": [
      "The last election was closed on 2008-01-06 02:18:28 \n",
      "The first election was closed on 2004-09-17 00:41:00\n",
      "The last vote was casted on 2105-08-31 10:32:44 \n",
      "The first vote was casted on 2004-03-28 19:12:00\n"
     ]
    }
   ],
   "source": [
    "print(\"The last election was closed on\", max(wikipedia.elec_time),\"\\nThe first election was closed on\", min(wikipedia.elec_time))\n",
    "print(\"The last vote was casted on\", max(wikipedia.vote_time),\"\\nThe first vote was casted on\", min(wikipedia.vote_time))"
   ]
  },
  {
   "cell_type": "markdown",
   "metadata": {},
   "source": [
    "The dataset is defined on the SNAP website as containing elections & votes until January 2008. \n",
    "\n",
    "The time elections were closed seem to be coherent. \n",
    "In contrast, there are clearly wrong dates about the time of the votes (we're not in 2105 yet...)"
   ]
  },
  {
   "cell_type": "code",
   "execution_count": 31,
   "metadata": {},
   "outputs": [
    {
     "data": {
      "text/html": [
       "<div>\n",
       "<style scoped>\n",
       "    .dataframe tbody tr th:only-of-type {\n",
       "        vertical-align: middle;\n",
       "    }\n",
       "\n",
       "    .dataframe tbody tr th {\n",
       "        vertical-align: top;\n",
       "    }\n",
       "\n",
       "    .dataframe thead th {\n",
       "        text-align: right;\n",
       "    }\n",
       "</style>\n",
       "<table border=\"1\" class=\"dataframe\">\n",
       "  <thead>\n",
       "    <tr style=\"text-align: right;\">\n",
       "      <th></th>\n",
       "      <th>elec_outcome</th>\n",
       "      <th>elec_time</th>\n",
       "      <th>candidate_id</th>\n",
       "      <th>voter_id</th>\n",
       "      <th>vote</th>\n",
       "      <th>vote_time</th>\n",
       "      <th>nominator_id</th>\n",
       "    </tr>\n",
       "  </thead>\n",
       "  <tbody>\n",
       "    <tr>\n",
       "      <th>1143</th>\n",
       "      <td>0</td>\n",
       "      <td>2006-12-29 16:13:03</td>\n",
       "      <td>300</td>\n",
       "      <td>92</td>\n",
       "      <td>1</td>\n",
       "      <td>2086-05-13 01:04:00</td>\n",
       "      <td>-1</td>\n",
       "    </tr>\n",
       "    <tr>\n",
       "      <th>1214</th>\n",
       "      <td>0</td>\n",
       "      <td>2007-09-10 02:08:15</td>\n",
       "      <td>302</td>\n",
       "      <td>92</td>\n",
       "      <td>1</td>\n",
       "      <td>2096-05-13 01:04:00</td>\n",
       "      <td>-1</td>\n",
       "    </tr>\n",
       "    <tr>\n",
       "      <th>64807</th>\n",
       "      <td>0</td>\n",
       "      <td>2006-11-07 23:12:34</td>\n",
       "      <td>5045</td>\n",
       "      <td>4963</td>\n",
       "      <td>0</td>\n",
       "      <td>2061-11-17 01:04:00</td>\n",
       "      <td>-1</td>\n",
       "    </tr>\n",
       "    <tr>\n",
       "      <th>65201</th>\n",
       "      <td>1</td>\n",
       "      <td>2007-05-04 01:47:24</td>\n",
       "      <td>3537</td>\n",
       "      <td>4963</td>\n",
       "      <td>1</td>\n",
       "      <td>2067-11-21 01:04:00</td>\n",
       "      <td>1137</td>\n",
       "    </tr>\n",
       "    <tr>\n",
       "      <th>65654</th>\n",
       "      <td>1</td>\n",
       "      <td>2007-05-04 02:02:48</td>\n",
       "      <td>5092</td>\n",
       "      <td>4963</td>\n",
       "      <td>1</td>\n",
       "      <td>2063-01-22 01:04:00</td>\n",
       "      <td>4476</td>\n",
       "    </tr>\n",
       "    <tr>\n",
       "      <th>66494</th>\n",
       "      <td>1</td>\n",
       "      <td>2007-05-04 02:46:43</td>\n",
       "      <td>5144</td>\n",
       "      <td>4963</td>\n",
       "      <td>1</td>\n",
       "      <td>2070-12-02 01:04:00</td>\n",
       "      <td>3453</td>\n",
       "    </tr>\n",
       "    <tr>\n",
       "      <th>66593</th>\n",
       "      <td>1</td>\n",
       "      <td>2007-05-04 02:56:08</td>\n",
       "      <td>4547</td>\n",
       "      <td>4963</td>\n",
       "      <td>1</td>\n",
       "      <td>2074-11-29 01:04:00</td>\n",
       "      <td>5058</td>\n",
       "    </tr>\n",
       "    <tr>\n",
       "      <th>67665</th>\n",
       "      <td>1</td>\n",
       "      <td>2007-05-04 03:31:09</td>\n",
       "      <td>3691</td>\n",
       "      <td>4963</td>\n",
       "      <td>1</td>\n",
       "      <td>2065-09-17 01:04:00</td>\n",
       "      <td>3691</td>\n",
       "    </tr>\n",
       "    <tr>\n",
       "      <th>67856</th>\n",
       "      <td>0</td>\n",
       "      <td>2007-12-10 10:57:36</td>\n",
       "      <td>3455</td>\n",
       "      <td>4963</td>\n",
       "      <td>1</td>\n",
       "      <td>2064-05-21 01:04:00</td>\n",
       "      <td>-1</td>\n",
       "    </tr>\n",
       "    <tr>\n",
       "      <th>68512</th>\n",
       "      <td>0</td>\n",
       "      <td>2007-05-04 03:57:13</td>\n",
       "      <td>4468</td>\n",
       "      <td>4963</td>\n",
       "      <td>0</td>\n",
       "      <td>2061-07-28 01:04:00</td>\n",
       "      <td>-1</td>\n",
       "    </tr>\n",
       "    <tr>\n",
       "      <th>80621</th>\n",
       "      <td>1</td>\n",
       "      <td>2007-04-25 20:58:00</td>\n",
       "      <td>4828</td>\n",
       "      <td>813</td>\n",
       "      <td>1</td>\n",
       "      <td>2105-08-31 10:32:44</td>\n",
       "      <td>5427</td>\n",
       "    </tr>\n",
       "  </tbody>\n",
       "</table>\n",
       "</div>"
      ],
      "text/plain": [
       "      elec_outcome           elec_time candidate_id voter_id vote  \\\n",
       "1143             0 2006-12-29 16:13:03          300       92    1   \n",
       "1214             0 2007-09-10 02:08:15          302       92    1   \n",
       "64807            0 2006-11-07 23:12:34         5045     4963    0   \n",
       "65201            1 2007-05-04 01:47:24         3537     4963    1   \n",
       "65654            1 2007-05-04 02:02:48         5092     4963    1   \n",
       "66494            1 2007-05-04 02:46:43         5144     4963    1   \n",
       "66593            1 2007-05-04 02:56:08         4547     4963    1   \n",
       "67665            1 2007-05-04 03:31:09         3691     4963    1   \n",
       "67856            0 2007-12-10 10:57:36         3455     4963    1   \n",
       "68512            0 2007-05-04 03:57:13         4468     4963    0   \n",
       "80621            1 2007-04-25 20:58:00         4828      813    1   \n",
       "\n",
       "                vote_time nominator_id  \n",
       "1143  2086-05-13 01:04:00           -1  \n",
       "1214  2096-05-13 01:04:00           -1  \n",
       "64807 2061-11-17 01:04:00           -1  \n",
       "65201 2067-11-21 01:04:00         1137  \n",
       "65654 2063-01-22 01:04:00         4476  \n",
       "66494 2070-12-02 01:04:00         3453  \n",
       "66593 2074-11-29 01:04:00         5058  \n",
       "67665 2065-09-17 01:04:00         3691  \n",
       "67856 2064-05-21 01:04:00           -1  \n",
       "68512 2061-07-28 01:04:00           -1  \n",
       "80621 2105-08-31 10:32:44         5427  "
      ]
     },
     "execution_count": 31,
     "metadata": {},
     "output_type": "execute_result"
    }
   ],
   "source": [
    "# Let's check how many votes were registered after Jan 2008. \n",
    "wikipedia[(wikipedia.vote_time >= '2008-02-01')]"
   ]
  },
  {
   "cell_type": "markdown",
   "metadata": {},
   "source": [
    "We will thus consider all votes that are registered after Jan 2008 as parasite and delete them from our dataset."
   ]
  },
  {
   "cell_type": "code",
   "execution_count": 32,
   "metadata": {},
   "outputs": [],
   "source": [
    "# Let's clean it up\n",
    "wikipedia = wikipedia[(wikipedia.vote_time < '2008-02-01')]"
   ]
  },
  {
   "cell_type": "code",
   "execution_count": 33,
   "metadata": {},
   "outputs": [
    {
     "data": {
      "text/plain": [
       "114017   2008-01-06 02:16:00\n",
       "114016   2008-01-06 02:10:00\n",
       "113850   2008-01-06 02:04:00\n",
       "114015   2008-01-06 01:53:00\n",
       "113904   2008-01-06 01:12:00\n",
       "                 ...        \n",
       "2326     2004-03-28 19:55:00\n",
       "2325     2004-03-28 19:25:00\n",
       "2324     2004-03-28 19:22:00\n",
       "2323     2004-03-28 19:19:00\n",
       "2322     2004-03-28 19:12:00\n",
       "Name: vote_time, Length: 114029, dtype: datetime64[ns]"
      ]
     },
     "execution_count": 33,
     "metadata": {},
     "output_type": "execute_result"
    }
   ],
   "source": [
    "# The site is not precise as when exactly in January the votes stopped to be casted. \n",
    "# Let's also investigate that in order to get a precise idea of the timelapse we are working on.\n",
    "wikipedia.vote_time.sort_values(ascending=False)"
   ]
  },
  {
   "cell_type": "markdown",
   "metadata": {},
   "source": [
    "In our dataset, the last votes were casted on January 6th, 2008. "
   ]
  },
  {
   "cell_type": "markdown",
   "metadata": {},
   "source": [
    "# Preparing datasets for subsequent analysis  "
   ]
  },
  {
   "cell_type": "markdown",
   "metadata": {},
   "source": [
    "## Sign_time\n",
    "\n",
    "In a first part, we will only need to study the sign of the votes (i.e. the vote outcome) and their date (i.e. vote_time). We do not need the ids of the voters or candidatate or nominators. Let's create an appropriate dataset for this case. "
   ]
  },
  {
   "cell_type": "code",
   "execution_count": 34,
   "metadata": {},
   "outputs": [],
   "source": [
    "sign_time = wikipedia[['vote','vote_time']]"
   ]
  },
  {
   "cell_type": "code",
   "execution_count": 35,
   "metadata": {},
   "outputs": [
    {
     "name": "stdout",
     "output_type": "stream",
     "text": [
      "(114029, 2)\n"
     ]
    },
    {
     "data": {
      "text/html": [
       "<div>\n",
       "<style scoped>\n",
       "    .dataframe tbody tr th:only-of-type {\n",
       "        vertical-align: middle;\n",
       "    }\n",
       "\n",
       "    .dataframe tbody tr th {\n",
       "        vertical-align: top;\n",
       "    }\n",
       "\n",
       "    .dataframe thead th {\n",
       "        text-align: right;\n",
       "    }\n",
       "</style>\n",
       "<table border=\"1\" class=\"dataframe\">\n",
       "  <thead>\n",
       "    <tr style=\"text-align: right;\">\n",
       "      <th></th>\n",
       "      <th>vote</th>\n",
       "      <th>vote_time</th>\n",
       "    </tr>\n",
       "  </thead>\n",
       "  <tbody>\n",
       "    <tr>\n",
       "      <th>0</th>\n",
       "      <td>1</td>\n",
       "      <td>2004-09-14 16:26:00</td>\n",
       "    </tr>\n",
       "    <tr>\n",
       "      <th>1</th>\n",
       "      <td>-1</td>\n",
       "      <td>2004-09-14 16:53:00</td>\n",
       "    </tr>\n",
       "    <tr>\n",
       "      <th>2</th>\n",
       "      <td>1</td>\n",
       "      <td>2004-09-14 17:08:00</td>\n",
       "    </tr>\n",
       "    <tr>\n",
       "      <th>3</th>\n",
       "      <td>1</td>\n",
       "      <td>2004-09-14 17:37:00</td>\n",
       "    </tr>\n",
       "    <tr>\n",
       "      <th>4</th>\n",
       "      <td>1</td>\n",
       "      <td>2004-09-14 19:28:00</td>\n",
       "    </tr>\n",
       "  </tbody>\n",
       "</table>\n",
       "</div>"
      ],
      "text/plain": [
       "  vote           vote_time\n",
       "0    1 2004-09-14 16:26:00\n",
       "1   -1 2004-09-14 16:53:00\n",
       "2    1 2004-09-14 17:08:00\n",
       "3    1 2004-09-14 17:37:00\n",
       "4    1 2004-09-14 19:28:00"
      ]
     },
     "execution_count": 35,
     "metadata": {},
     "output_type": "execute_result"
    }
   ],
   "source": [
    "print(sign_time.shape)\n",
    "sign_time.head()"
   ]
  },
  {
   "cell_type": "markdown",
   "metadata": {},
   "source": [
    "## Neutral or not\n",
    "\n",
    "What role do neutral votes play in this temporal analysis?\n",
    "We will need a dataframe with neutral votes and the same one without them \n"
   ]
  },
  {
   "cell_type": "code",
   "execution_count": 36,
   "metadata": {},
   "outputs": [],
   "source": [
    "wikipedia_neutral = wikipedia\n",
    "wikipedia_signed = wikipedia[wikipedia.vote != 0]"
   ]
  },
  {
   "cell_type": "markdown",
   "metadata": {},
   "source": [
    "# Temporal analysis"
   ]
  },
  {
   "cell_type": "markdown",
   "metadata": {},
   "source": [
    "## DATE (yyyy-mm-dd)"
   ]
  },
  {
   "cell_type": "markdown",
   "metadata": {},
   "source": [
    "We will try to detect any election-related patterns based on the moment that the elections were held. \n",
    "\n",
    "We will consider the following election-related outcomes:\n",
    "1. number of elections\n",
    "2. fraction of successful elections\n",
    "3. number of votes\n",
    "4. fractions of positive votes\n",
    "\n",
    "The x-axis will be the time at which the election was closed.\n",
    "\n",
    "We will use mainly visualizations under the form of graphs."
   ]
  },
  {
   "cell_type": "code",
   "execution_count": null,
   "metadata": {},
   "outputs": [],
   "source": [
    "#TODO : adapt the code below\n",
    "#not done yet"
   ]
  },
  {
   "cell_type": "markdown",
   "metadata": {},
   "source": [
    "### By month"
   ]
  },
  {
   "cell_type": "code",
   "execution_count": 12,
   "metadata": {},
   "outputs": [
    {
     "ename": "NameError",
     "evalue": "name 'sign_time' is not defined",
     "output_type": "error",
     "traceback": [
      "\u001b[0;31m---------------------------------------------------------------------------\u001b[0m",
      "\u001b[0;31mNameError\u001b[0m                                 Traceback (most recent call last)",
      "\u001b[0;32m<ipython-input-12-c81225299e92>\u001b[0m in \u001b[0;36m<module>\u001b[0;34m\u001b[0m\n\u001b[1;32m      1\u001b[0m \u001b[0;31m# sum of the votes\u001b[0m\u001b[0;34m\u001b[0m\u001b[0;34m\u001b[0m\u001b[0;34m\u001b[0m\u001b[0m\n\u001b[0;32m----> 2\u001b[0;31m \u001b[0msign_sum\u001b[0m \u001b[0;34m=\u001b[0m \u001b[0msign_time\u001b[0m\u001b[0;34m.\u001b[0m\u001b[0mgroupby\u001b[0m\u001b[0;34m(\u001b[0m\u001b[0mpd\u001b[0m\u001b[0;34m.\u001b[0m\u001b[0mGrouper\u001b[0m\u001b[0;34m(\u001b[0m\u001b[0mkey\u001b[0m\u001b[0;34m=\u001b[0m\u001b[0;34m\"Time\"\u001b[0m\u001b[0;34m,\u001b[0m \u001b[0mfreq\u001b[0m\u001b[0;34m=\u001b[0m\u001b[0;34m\"M\"\u001b[0m\u001b[0;34m)\u001b[0m\u001b[0;34m)\u001b[0m\u001b[0;34m.\u001b[0m\u001b[0msum\u001b[0m\u001b[0;34m(\u001b[0m\u001b[0;34m)\u001b[0m\u001b[0;34m\u001b[0m\u001b[0;34m\u001b[0m\u001b[0m\n\u001b[0m\u001b[1;32m      3\u001b[0m \u001b[0mprint\u001b[0m\u001b[0;34m(\u001b[0m\u001b[0msign_sum\u001b[0m\u001b[0;34m.\u001b[0m\u001b[0mtail\u001b[0m\u001b[0;34m(\u001b[0m\u001b[0;34m)\u001b[0m\u001b[0;34m)\u001b[0m\u001b[0;34m\u001b[0m\u001b[0;34m\u001b[0m\u001b[0m\n\u001b[1;32m      4\u001b[0m \u001b[0;34m\u001b[0m\u001b[0m\n\u001b[1;32m      5\u001b[0m \u001b[0mfig\u001b[0m \u001b[0;34m=\u001b[0m \u001b[0mplt\u001b[0m\u001b[0;34m.\u001b[0m\u001b[0mfigure\u001b[0m\u001b[0;34m(\u001b[0m\u001b[0mfigsize\u001b[0m\u001b[0;34m=\u001b[0m\u001b[0;34m(\u001b[0m\u001b[0;36m12\u001b[0m\u001b[0;34m,\u001b[0m\u001b[0;36m6\u001b[0m\u001b[0;34m)\u001b[0m\u001b[0;34m)\u001b[0m\u001b[0;34m\u001b[0m\u001b[0;34m\u001b[0m\u001b[0m\n",
      "\u001b[0;31mNameError\u001b[0m: name 'sign_time' is not defined"
     ]
    }
   ],
   "source": [
    "# sum of the votes\n",
    "sign_sum = sign_time.groupby(pd.Grouper(key=\"Time\", freq=\"M\")).sum()\n",
    "print(sign_sum.tail())\n",
    "\n",
    "fig = plt.figure(figsize=(12,6))\n",
    "plt.plot(sign_sum)\n",
    "plt.xlabel('Months')\n",
    "plt.ylabel('Sum of the votes')\n",
    "plt.title('Sum of the votes by months - from 2004-09-30 to 2008-01-31');\n",
    "\n",
    "# Interpretation:\n",
    "# majority of the votes are postive"
   ]
  },
  {
   "cell_type": "code",
   "execution_count": null,
   "metadata": {},
   "outputs": [],
   "source": [
    "# avg of the votes\n",
    "sign_avg = sign_time.groupby(pd.Grouper(key=\"Time\", freq=\"M\")).mean()\n",
    "print(sign_avg.tail())\n",
    "\n",
    "fig = plt.figure(figsize=(12,6))\n",
    "plt.plot(sign_avg)\n",
    "plt.xlabel('Months')\n",
    "plt.ylabel('Avg of the votes')\n",
    "plt.title('Avg of the votes by months - from 2004-09-30 to 2008-01-31');\n",
    "\n",
    "# Interpretation: large drop in positive vote in Jan 2007\n",
    "# Some pattern?"
   ]
  },
  {
   "cell_type": "code",
   "execution_count": null,
   "metadata": {},
   "outputs": [],
   "source": [
    "wikipedia.head()"
   ]
  },
  {
   "cell_type": "code",
   "execution_count": null,
   "metadata": {},
   "outputs": [],
   "source": [
    "#creating an interactive visualization using plotly\n",
    "import plotly.express as px\n",
    "#import plotly.offline as pyo\n",
    "\n",
    "from plotly.offline import download_plotlyjs, init_notebook_mode, iplot\n",
    "from plotly.graph_objs import *\n",
    "init_notebook_mode()\n",
    "#pyo.init_notebook_mode()\n",
    "#pyo.init_notebook_mode(connected=True)\n",
    "fig = px.line(wikipedia, x='Time', y='Sign', title='Time Series with Range Slider and Selectors')\n",
    "\n",
    "fig.update_xaxes(\n",
    "    rangeslider_visible=True,\n",
    "    rangeselector=dict(\n",
    "        buttons=list([\n",
    "            dict(count=1, label=\"1m\", step=\"month\", stepmode=\"backward\"),\n",
    "            dict(count=6, label=\"6m\", step=\"month\", stepmode=\"backward\"),\n",
    "            dict(count=1, label=\"YTD\", step=\"year\", stepmode=\"todate\"),\n",
    "            dict(count=1, label=\"1y\", step=\"year\", stepmode=\"backward\"),\n",
    "            dict(step=\"all\")\n",
    "        ])\n",
    "    )\n",
    ")\n",
    "fig.show()"
   ]
  },
  {
   "cell_type": "markdown",
   "metadata": {},
   "source": [
    "### By week"
   ]
  },
  {
   "cell_type": "code",
   "execution_count": null,
   "metadata": {},
   "outputs": [],
   "source": [
    "# avg of the votes\n",
    "sign_avg_w = sign_time.groupby(pd.Grouper(key=\"Time\", freq=\"W\")).mean()\n",
    "print(sign_avg_w.tail())\n",
    "\n",
    "fig = plt.figure(figsize=(16,6))\n",
    "plt.plot(sign_avg_w)\n",
    "plt.xlabel('Months')\n",
    "plt.ylabel('Avg of the votes')\n",
    "plt.title('Avg of the votes by weeks - from 2004-09-30 to 2008-01-31');\n",
    "\n",
    "# Interpretation: looks like there is a kind of recurrent pattern "
   ]
  },
  {
   "cell_type": "code",
   "execution_count": null,
   "metadata": {},
   "outputs": [],
   "source": [
    "# subsample: focus on the left part of the graph\n",
    "sample = wikipedia[(wikipedia.Time >= '2004-09-14') & (wikipedia.Time <= '2005-09-14')]\n",
    "sample = sample[['Sign','Time']]\n",
    "\n",
    "sign_avg_w = sample.groupby(pd.Grouper(key=\"Time\", freq=\"W\")).mean()\n",
    "\n",
    "fig = plt.figure(figsize=(19,6))\n",
    "plt.plot(sign_avg_w)\n",
    "plt.xlabel('Month')\n",
    "plt.ylabel('Avg of the votes')\n",
    "plt.title('Avg of the votes by weeks - from 2004-09-14 to 2005-09-14');\n",
    "\n",
    "# seems like people are less postive at the end of the month ??\n",
    "# looks like the priod is around 40 days... weird"
   ]
  },
  {
   "cell_type": "code",
   "execution_count": null,
   "metadata": {},
   "outputs": [],
   "source": [
    "# subsample: focus on the right part of the graph\n",
    "sample = wikipedia[(wikipedia.Time >= '2007-01-01') & (wikipedia.Time <= '2008-01-01')]\n",
    "sample = sample[['Sign','Time']]\n",
    "\n",
    "sign_avg_w = sample.groupby(pd.Grouper(key=\"Time\", freq=\"W\")).mean()\n",
    "\n",
    "fig = plt.figure(figsize=(19,6))\n",
    "plt.plot(sign_avg_w)\n",
    "plt.xlabel('Month')\n",
    "plt.ylabel('Avg of the votes')\n",
    "plt.title('Avg of the votes by weeks - from 2007-01-01 to 2008-01-01');\n",
    "\n",
    "# seems like people are less postive at the end of the month ??\n",
    "# looks like the priod is around 40 days... weird"
   ]
  },
  {
   "cell_type": "markdown",
   "metadata": {},
   "source": [
    "## Duplicates \n",
    "We want to investigate the vote distributions for repeated elections, meaning when the same candidate seeks adminship several times. For this to be possible, we have to chack that we indeed have enough duplicates in our dataset in order to conduct a meaningful analysis."
   ]
  },
  {
   "cell_type": "code",
   "execution_count": null,
   "metadata": {},
   "outputs": [],
   "source": [
    "wikipedia.head()"
   ]
  },
  {
   "cell_type": "code",
   "execution_count": null,
   "metadata": {},
   "outputs": [],
   "source": [
    "wikipedia.shape"
   ]
  },
  {
   "cell_type": "code",
   "execution_count": null,
   "metadata": {},
   "outputs": [],
   "source": [
    "duplicated = wikipedia[ wikipedia[['Voter','Candidate']].duplicated(keep=False) ] # keep=False to keep all duplicates\n",
    "duplicated\n",
    "# duplicate in this context = when a voter voted for the same candidate several time\n",
    "# we have a lot of duplicates : ~7500"
   ]
  },
  {
   "cell_type": "code",
   "execution_count": null,
   "metadata": {},
   "outputs": [],
   "source": [
    "# But on average, how many time did a voter voted for the same candidate?\n",
    "\n",
    "voter_candidate = wikipedia[['Voter','Candidate']]\n",
    "# voter_candidate = voter_candidate[voter_candidate.duplicated()]\n",
    "count_duplicated = voter_candidate.groupby(voter_candidate.columns.tolist(),as_index=False).size()\n",
    "count_duplicated"
   ]
  },
  {
   "cell_type": "code",
   "execution_count": null,
   "metadata": {},
   "outputs": [],
   "source": [
    "count_duplicated['size'].describe()\n",
    "\n",
    "# Interpretation\n",
    "# Most of the voter voted a single time for a given candidate \n",
    "# but some voted up to 5 times for the same candidate"
   ]
  },
  {
   "cell_type": "code",
   "execution_count": null,
   "metadata": {},
   "outputs": [],
   "source": [
    "# Histo of the duplicates (1= no duplication)\n",
    "plt.hist(count_duplicated['size']);"
   ]
  },
  {
   "cell_type": "code",
   "execution_count": null,
   "metadata": {},
   "outputs": [],
   "source": [
    "# Histo of the duplicates \n",
    "\n",
    "count_duplicated_tmp = count_duplicated[count_duplicated['size']>1]\n",
    "\n",
    "plt.hist(count_duplicated_tmp['size']);\n",
    "\n",
    "# Interpretation:\n",
    "# More than 3000 people voted at least 2 times for the same candidate"
   ]
  },
  {
   "cell_type": "code",
   "execution_count": null,
   "metadata": {},
   "outputs": [],
   "source": []
  },
  {
   "cell_type": "code",
   "execution_count": null,
   "metadata": {},
   "outputs": [],
   "source": []
  },
  {
   "cell_type": "code",
   "execution_count": null,
   "metadata": {},
   "outputs": [],
   "source": []
  },
  {
   "cell_type": "code",
   "execution_count": null,
   "metadata": {},
   "outputs": [],
   "source": []
  },
  {
   "cell_type": "code",
   "execution_count": null,
   "metadata": {},
   "outputs": [],
   "source": []
  },
  {
   "cell_type": "code",
   "execution_count": null,
   "metadata": {},
   "outputs": [],
   "source": []
  }
 ],
 "metadata": {
  "kernelspec": {
   "display_name": "Python 3",
   "language": "python",
   "name": "python3"
  },
  "language_info": {
   "codemirror_mode": {
    "name": "ipython",
    "version": 3
   },
   "file_extension": ".py",
   "mimetype": "text/x-python",
   "name": "python",
   "nbconvert_exporter": "python",
   "pygments_lexer": "ipython3",
   "version": "3.8.5"
  }
 },
 "nbformat": 4,
 "nbformat_minor": 4
}
