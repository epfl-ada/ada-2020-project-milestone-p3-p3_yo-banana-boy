{
 "cells": [
  {
   "cell_type": "markdown",
   "metadata": {},
   "source": [
    "# Remarques:\n",
    "\n",
    "Le notebook ne runnait pas quand j'ai pull\n",
    "C'est pratique si chacun peut 'Restart the Kernel' avant de push comme ca le code compile pour ceux d'après"
   ]
  },
  {
   "cell_type": "markdown",
   "metadata": {},
   "source": [
    "# TODO LIST:\n",
    "\n",
    "cf google doc\n"
   ]
  },
  {
   "cell_type": "markdown",
   "metadata": {},
   "source": [
    "# Data loading & cleaning"
   ]
  },
  {
   "cell_type": "markdown",
   "metadata": {},
   "source": [
    "#### Imports"
   ]
  },
  {
   "cell_type": "code",
   "execution_count": 1,
   "metadata": {},
   "outputs": [],
   "source": [
    "import pandas as pd\n",
    "import numpy as np\n",
    "import math\n",
    "import matplotlib.pyplot as plt\n",
    "import seaborn as sns"
   ]
  },
  {
   "cell_type": "markdown",
   "metadata": {},
   "source": [
    "#### Dataset description\n",
    "In the following analysis, we will analyse the dataset \"Wikipedia Vote Network\", which can be found on the SNAP website. \n",
    "Wikipedia is the free online encyclopedia that we all know and love. Its articles are written by volunteers, amongst whom can be distinguished Administrators. In addition of being able to write articles, those people also have access to technical features of the website, especially giving the ability to help with its maintenance. But not anyone can become an admin that easily ! \n",
    "Adminship seekers have go through a public election process at the end of which the vote count determines whether or not they are promoted.  \n",
    "Our dataset compile the 2794 admin elections that have happened between 2004 and January 2008. In this stretch of time, 103,663 votes were casted by a total of 7,066 users participating in the elections (meaning they either casted a vote or tried being elected). 1,235 elections had a positive outcome, while 1,559 times the adminship seekers were rejected.\n",
    "About half of the votes in the dataset are by existing admins, while the other half comes from ordinary Wikipedia users.\n",
    "\n",
    "The network contains all the Wikipedia voting data from the inception of Wikipedia till January 2008. Nodes in the network represent wikipedia users and a directed edge from node i to node j represents that user i voted on user j.\n",
    "\n",
    "#### Features description\n",
    "\n",
    "   E: election outcome, succesful (1) or not (0)\n",
    "   \n",
    "   T: time election was closed\n",
    "   \n",
    "   U: candidate id, the one being considered for promotion\n",
    "   \n",
    "   N: nominator id\n",
    "   \n",
    "   V: we have 3 interesting features in this line\n",
    "   \n",
    "      result of the vote (1:support, 0:neutral, -1:oppose)\n",
    "      \n",
    "      voter id\n",
    "      \n",
    "      time of the vote (yyyy-mm-dd)\n"
   ]
  },
  {
   "cell_type": "markdown",
   "metadata": {},
   "source": [
    "#### Data loading"
   ]
  },
  {
   "cell_type": "code",
   "execution_count": 2,
   "metadata": {},
   "outputs": [],
   "source": [
    "DATA_PATH = \"data/\"\n",
    "\n",
    "# create a variable to store all the features\n",
    "wiki = []\n",
    "\n",
    "# we use encoding=\"latin-1\" as some user names contain non utf-8 characters\n",
    "# note that we are not interested in the user names, so we don't care if their names is not properly read\n",
    "with open(DATA_PATH+\"wikiElec.ElecBs3.txt\", encoding=\"latin-1\") as f:\n",
    "    \n",
    "    # lines of the files\n",
    "    for line in f.readlines():\n",
    "        \n",
    "        # lines are separated with tab: \\t\n",
    "        line = line.split(\"\\t\")\n",
    "        first = line[0]\n",
    "            \n",
    "        # election outcome\n",
    "        if first==\"E\":\n",
    "            elec_outcome = int(line[1][:-1]) #[:-1] to remove the \\n\n",
    "            continue\n",
    "        \n",
    "        # time the election was closed\n",
    "        if first==\"T\":\n",
    "            elec_time = pd.to_datetime(line[1])\n",
    "            continue\n",
    "            \n",
    "        # candidate id  \n",
    "        if first==\"U\":\n",
    "            candidate_id = int(line[1])\n",
    "            continue \n",
    "            \n",
    "        # nominator id\n",
    "        if first==\"N\":\n",
    "            nominator_id = int(line[1])\n",
    "            continue\n",
    "        \n",
    "        if first==\"V\":\n",
    "            vote = int(line[1])\n",
    "            voter_id = int(line[2])\n",
    "            vote_time = pd.to_datetime(line[3])\n",
    "            \n",
    "            #store the results\n",
    "            wiki.append([elec_outcome, elec_time, candidate_id, voter_id, vote, vote_time, nominator_id])\n",
    "            continue"
   ]
  },
  {
   "cell_type": "code",
   "execution_count": 3,
   "metadata": {
    "scrolled": true
   },
   "outputs": [
    {
     "data": {
      "text/html": [
       "<div>\n",
       "<style scoped>\n",
       "    .dataframe tbody tr th:only-of-type {\n",
       "        vertical-align: middle;\n",
       "    }\n",
       "\n",
       "    .dataframe tbody tr th {\n",
       "        vertical-align: top;\n",
       "    }\n",
       "\n",
       "    .dataframe thead th {\n",
       "        text-align: right;\n",
       "    }\n",
       "</style>\n",
       "<table border=\"1\" class=\"dataframe\">\n",
       "  <thead>\n",
       "    <tr style=\"text-align: right;\">\n",
       "      <th></th>\n",
       "      <th>elec_outcome</th>\n",
       "      <th>elec_time</th>\n",
       "      <th>candidate_id</th>\n",
       "      <th>voter_id</th>\n",
       "      <th>vote</th>\n",
       "      <th>vote_time</th>\n",
       "      <th>nominator_id</th>\n",
       "    </tr>\n",
       "  </thead>\n",
       "  <tbody>\n",
       "    <tr>\n",
       "      <th>0</th>\n",
       "      <td>1</td>\n",
       "      <td>2004-09-21 01:15:53</td>\n",
       "      <td>30</td>\n",
       "      <td>3</td>\n",
       "      <td>1</td>\n",
       "      <td>2004-09-14 16:26:00</td>\n",
       "      <td>32</td>\n",
       "    </tr>\n",
       "    <tr>\n",
       "      <th>1</th>\n",
       "      <td>1</td>\n",
       "      <td>2004-09-21 01:15:53</td>\n",
       "      <td>30</td>\n",
       "      <td>25</td>\n",
       "      <td>-1</td>\n",
       "      <td>2004-09-14 16:53:00</td>\n",
       "      <td>32</td>\n",
       "    </tr>\n",
       "    <tr>\n",
       "      <th>2</th>\n",
       "      <td>1</td>\n",
       "      <td>2004-09-21 01:15:53</td>\n",
       "      <td>30</td>\n",
       "      <td>4</td>\n",
       "      <td>1</td>\n",
       "      <td>2004-09-14 17:08:00</td>\n",
       "      <td>32</td>\n",
       "    </tr>\n",
       "    <tr>\n",
       "      <th>3</th>\n",
       "      <td>1</td>\n",
       "      <td>2004-09-21 01:15:53</td>\n",
       "      <td>30</td>\n",
       "      <td>5</td>\n",
       "      <td>1</td>\n",
       "      <td>2004-09-14 17:37:00</td>\n",
       "      <td>32</td>\n",
       "    </tr>\n",
       "    <tr>\n",
       "      <th>4</th>\n",
       "      <td>1</td>\n",
       "      <td>2004-09-21 01:15:53</td>\n",
       "      <td>30</td>\n",
       "      <td>6</td>\n",
       "      <td>1</td>\n",
       "      <td>2004-09-14 19:28:00</td>\n",
       "      <td>32</td>\n",
       "    </tr>\n",
       "  </tbody>\n",
       "</table>\n",
       "</div>"
      ],
      "text/plain": [
       "   elec_outcome           elec_time  candidate_id  voter_id  vote  \\\n",
       "0             1 2004-09-21 01:15:53            30         3     1   \n",
       "1             1 2004-09-21 01:15:53            30        25    -1   \n",
       "2             1 2004-09-21 01:15:53            30         4     1   \n",
       "3             1 2004-09-21 01:15:53            30         5     1   \n",
       "4             1 2004-09-21 01:15:53            30         6     1   \n",
       "\n",
       "            vote_time  nominator_id  \n",
       "0 2004-09-14 16:26:00            32  \n",
       "1 2004-09-14 16:53:00            32  \n",
       "2 2004-09-14 17:08:00            32  \n",
       "3 2004-09-14 17:37:00            32  \n",
       "4 2004-09-14 19:28:00            32  "
      ]
     },
     "execution_count": 3,
     "metadata": {},
     "output_type": "execute_result"
    }
   ],
   "source": [
    "# store the result wiki in an appropriate pandas dataframe\n",
    "wikipedia = pd.DataFrame(wiki, columns = [\"elec_outcome\", \"elec_time\", \"candidate_id\", \"voter_id\", \"vote\", \"vote_time\", \"nominator_id\"])\n",
    "wikipedia.head()"
   ]
  },
  {
   "cell_type": "code",
   "execution_count": 4,
   "metadata": {},
   "outputs": [
    {
     "data": {
      "text/plain": [
       "elec_outcome             int64\n",
       "elec_time       datetime64[ns]\n",
       "candidate_id             int64\n",
       "voter_id                 int64\n",
       "vote                     int64\n",
       "vote_time       datetime64[ns]\n",
       "nominator_id             int64\n",
       "dtype: object"
      ]
     },
     "execution_count": 4,
     "metadata": {},
     "output_type": "execute_result"
    }
   ],
   "source": [
    "# check for coherent types\n",
    "wikipedia.dtypes"
   ]
  },
  {
   "cell_type": "markdown",
   "metadata": {},
   "source": [
    "#### Data cleaning"
   ]
  },
  {
   "cell_type": "markdown",
   "metadata": {},
   "source": [
    "We would not want to begin our analysis using inexisting dates ! Let us check that all dates present in our dataframe are coherent. \n",
    "\n",
    "Let's check extreme dates."
   ]
  },
  {
   "cell_type": "code",
   "execution_count": 5,
   "metadata": {
    "scrolled": true
   },
   "outputs": [
    {
     "name": "stdout",
     "output_type": "stream",
     "text": [
      "The last election was closed on 2008-01-06 02:18:28 \n",
      "The first election was closed on 2004-09-17 00:41:00\n",
      "The last vote was casted on 2105-08-31 10:32:44 \n",
      "The first vote was casted on 2004-03-28 19:12:00\n"
     ]
    }
   ],
   "source": [
    "print(\"The last election was closed on\", max(wikipedia.elec_time),\"\\nThe first election was closed on\", min(wikipedia.elec_time))\n",
    "print(\"The last vote was casted on\", max(wikipedia.vote_time),\"\\nThe first vote was casted on\", min(wikipedia.vote_time))"
   ]
  },
  {
   "cell_type": "markdown",
   "metadata": {},
   "source": [
    "The dataset is defined on the SNAP website as containing elections & votes until January 2008. \n",
    "\n",
    "The time elections were closed seem to be coherent. \n",
    "In contrast, there are clearly wrong dates about the time of the votes (we're not in 2105 yet...)"
   ]
  },
  {
   "cell_type": "code",
   "execution_count": 6,
   "metadata": {},
   "outputs": [
    {
     "data": {
      "text/html": [
       "<div>\n",
       "<style scoped>\n",
       "    .dataframe tbody tr th:only-of-type {\n",
       "        vertical-align: middle;\n",
       "    }\n",
       "\n",
       "    .dataframe tbody tr th {\n",
       "        vertical-align: top;\n",
       "    }\n",
       "\n",
       "    .dataframe thead th {\n",
       "        text-align: right;\n",
       "    }\n",
       "</style>\n",
       "<table border=\"1\" class=\"dataframe\">\n",
       "  <thead>\n",
       "    <tr style=\"text-align: right;\">\n",
       "      <th></th>\n",
       "      <th>elec_outcome</th>\n",
       "      <th>elec_time</th>\n",
       "      <th>candidate_id</th>\n",
       "      <th>voter_id</th>\n",
       "      <th>vote</th>\n",
       "      <th>vote_time</th>\n",
       "      <th>nominator_id</th>\n",
       "    </tr>\n",
       "  </thead>\n",
       "  <tbody>\n",
       "    <tr>\n",
       "      <th>1143</th>\n",
       "      <td>0</td>\n",
       "      <td>2006-12-29 16:13:03</td>\n",
       "      <td>300</td>\n",
       "      <td>92</td>\n",
       "      <td>1</td>\n",
       "      <td>2086-05-13 01:04:00</td>\n",
       "      <td>-1</td>\n",
       "    </tr>\n",
       "    <tr>\n",
       "      <th>1214</th>\n",
       "      <td>0</td>\n",
       "      <td>2007-09-10 02:08:15</td>\n",
       "      <td>302</td>\n",
       "      <td>92</td>\n",
       "      <td>1</td>\n",
       "      <td>2096-05-13 01:04:00</td>\n",
       "      <td>-1</td>\n",
       "    </tr>\n",
       "    <tr>\n",
       "      <th>64807</th>\n",
       "      <td>0</td>\n",
       "      <td>2006-11-07 23:12:34</td>\n",
       "      <td>5045</td>\n",
       "      <td>4963</td>\n",
       "      <td>0</td>\n",
       "      <td>2061-11-17 01:04:00</td>\n",
       "      <td>-1</td>\n",
       "    </tr>\n",
       "    <tr>\n",
       "      <th>65201</th>\n",
       "      <td>1</td>\n",
       "      <td>2007-05-04 01:47:24</td>\n",
       "      <td>3537</td>\n",
       "      <td>4963</td>\n",
       "      <td>1</td>\n",
       "      <td>2067-11-21 01:04:00</td>\n",
       "      <td>1137</td>\n",
       "    </tr>\n",
       "    <tr>\n",
       "      <th>65654</th>\n",
       "      <td>1</td>\n",
       "      <td>2007-05-04 02:02:48</td>\n",
       "      <td>5092</td>\n",
       "      <td>4963</td>\n",
       "      <td>1</td>\n",
       "      <td>2063-01-22 01:04:00</td>\n",
       "      <td>4476</td>\n",
       "    </tr>\n",
       "    <tr>\n",
       "      <th>66494</th>\n",
       "      <td>1</td>\n",
       "      <td>2007-05-04 02:46:43</td>\n",
       "      <td>5144</td>\n",
       "      <td>4963</td>\n",
       "      <td>1</td>\n",
       "      <td>2070-12-02 01:04:00</td>\n",
       "      <td>3453</td>\n",
       "    </tr>\n",
       "    <tr>\n",
       "      <th>66593</th>\n",
       "      <td>1</td>\n",
       "      <td>2007-05-04 02:56:08</td>\n",
       "      <td>4547</td>\n",
       "      <td>4963</td>\n",
       "      <td>1</td>\n",
       "      <td>2074-11-29 01:04:00</td>\n",
       "      <td>5058</td>\n",
       "    </tr>\n",
       "    <tr>\n",
       "      <th>67665</th>\n",
       "      <td>1</td>\n",
       "      <td>2007-05-04 03:31:09</td>\n",
       "      <td>3691</td>\n",
       "      <td>4963</td>\n",
       "      <td>1</td>\n",
       "      <td>2065-09-17 01:04:00</td>\n",
       "      <td>3691</td>\n",
       "    </tr>\n",
       "    <tr>\n",
       "      <th>67856</th>\n",
       "      <td>0</td>\n",
       "      <td>2007-12-10 10:57:36</td>\n",
       "      <td>3455</td>\n",
       "      <td>4963</td>\n",
       "      <td>1</td>\n",
       "      <td>2064-05-21 01:04:00</td>\n",
       "      <td>-1</td>\n",
       "    </tr>\n",
       "    <tr>\n",
       "      <th>68512</th>\n",
       "      <td>0</td>\n",
       "      <td>2007-05-04 03:57:13</td>\n",
       "      <td>4468</td>\n",
       "      <td>4963</td>\n",
       "      <td>0</td>\n",
       "      <td>2061-07-28 01:04:00</td>\n",
       "      <td>-1</td>\n",
       "    </tr>\n",
       "    <tr>\n",
       "      <th>80621</th>\n",
       "      <td>1</td>\n",
       "      <td>2007-04-25 20:58:00</td>\n",
       "      <td>4828</td>\n",
       "      <td>813</td>\n",
       "      <td>1</td>\n",
       "      <td>2105-08-31 10:32:44</td>\n",
       "      <td>5427</td>\n",
       "    </tr>\n",
       "  </tbody>\n",
       "</table>\n",
       "</div>"
      ],
      "text/plain": [
       "       elec_outcome           elec_time  candidate_id  voter_id  vote  \\\n",
       "1143              0 2006-12-29 16:13:03           300        92     1   \n",
       "1214              0 2007-09-10 02:08:15           302        92     1   \n",
       "64807             0 2006-11-07 23:12:34          5045      4963     0   \n",
       "65201             1 2007-05-04 01:47:24          3537      4963     1   \n",
       "65654             1 2007-05-04 02:02:48          5092      4963     1   \n",
       "66494             1 2007-05-04 02:46:43          5144      4963     1   \n",
       "66593             1 2007-05-04 02:56:08          4547      4963     1   \n",
       "67665             1 2007-05-04 03:31:09          3691      4963     1   \n",
       "67856             0 2007-12-10 10:57:36          3455      4963     1   \n",
       "68512             0 2007-05-04 03:57:13          4468      4963     0   \n",
       "80621             1 2007-04-25 20:58:00          4828       813     1   \n",
       "\n",
       "                vote_time  nominator_id  \n",
       "1143  2086-05-13 01:04:00            -1  \n",
       "1214  2096-05-13 01:04:00            -1  \n",
       "64807 2061-11-17 01:04:00            -1  \n",
       "65201 2067-11-21 01:04:00          1137  \n",
       "65654 2063-01-22 01:04:00          4476  \n",
       "66494 2070-12-02 01:04:00          3453  \n",
       "66593 2074-11-29 01:04:00          5058  \n",
       "67665 2065-09-17 01:04:00          3691  \n",
       "67856 2064-05-21 01:04:00            -1  \n",
       "68512 2061-07-28 01:04:00            -1  \n",
       "80621 2105-08-31 10:32:44          5427  "
      ]
     },
     "execution_count": 6,
     "metadata": {},
     "output_type": "execute_result"
    }
   ],
   "source": [
    "# Let's check how many votes were registered after Jan 2008. \n",
    "wikipedia[(wikipedia.vote_time >= '2008-02-01')]"
   ]
  },
  {
   "cell_type": "markdown",
   "metadata": {},
   "source": [
    "We will thus consider all votes that are registered after Jan 2008 as parasite and delete them from our dataset."
   ]
  },
  {
   "cell_type": "code",
   "execution_count": 7,
   "metadata": {},
   "outputs": [],
   "source": [
    "# Let's clean it up\n",
    "wikipedia = wikipedia[(wikipedia.vote_time < '2008-02-01')]"
   ]
  },
  {
   "cell_type": "code",
   "execution_count": 8,
   "metadata": {},
   "outputs": [
    {
     "data": {
      "text/plain": [
       "114017   2008-01-06 02:16:00\n",
       "114016   2008-01-06 02:10:00\n",
       "113850   2008-01-06 02:04:00\n",
       "114015   2008-01-06 01:53:00\n",
       "113904   2008-01-06 01:12:00\n",
       "                 ...        \n",
       "2326     2004-03-28 19:55:00\n",
       "2325     2004-03-28 19:25:00\n",
       "2324     2004-03-28 19:22:00\n",
       "2323     2004-03-28 19:19:00\n",
       "2322     2004-03-28 19:12:00\n",
       "Name: vote_time, Length: 114029, dtype: datetime64[ns]"
      ]
     },
     "execution_count": 8,
     "metadata": {},
     "output_type": "execute_result"
    }
   ],
   "source": [
    "# The site is not precise as when exactly in January the votes stopped to be casted. \n",
    "# Let's also investigate that in order to get a precise idea of the timelapse we are working on.\n",
    "wikipedia.vote_time.sort_values(ascending=False)"
   ]
  },
  {
   "cell_type": "markdown",
   "metadata": {},
   "source": [
    "In our dataset, the last votes were casted on January 6th, 2008. "
   ]
  },
  {
   "cell_type": "markdown",
   "metadata": {},
   "source": [
    "# Temporal analysis"
   ]
  },
  {
   "cell_type": "markdown",
   "metadata": {},
   "source": [
    "## DATE (yyyy-mm-dd)"
   ]
  },
  {
   "cell_type": "markdown",
   "metadata": {},
   "source": [
    "We will try to detect any election-related patterns based on the moment that the elections were held. \n",
    "\n",
    "We will consider the following election-related outcomes, on the y-axis:\n",
    "1. number of elections\n",
    "2. fraction of successful elections\n",
    "3. number of votes\n",
    "4. fractions of positive votes\n",
    "\n",
    "The x-axis will be \n",
    "- the time at which the election was closed for 1. and 2.\n",
    "- the time at which the vote was casted for 3. and 4.\n",
    "\n",
    "We will use mainly visualizations under the form of interactive graphs, so that we can easily see the trends by day, week, month, or year."
   ]
  },
  {
   "cell_type": "markdown",
   "metadata": {},
   "source": [
    "### MODULARIZED :) "
   ]
  },
  {
   "cell_type": "markdown",
   "metadata": {},
   "source": [
    "#### Classical interactive plot (using line, not circle)"
   ]
  },
  {
   "cell_type": "code",
   "execution_count": null,
   "metadata": {},
   "outputs": [],
   "source": [
    "#TODO: !! il faut changer le nom de tous les x-axis en elec_date/vote_date au lieu de time \n",
    "#sinon c'est pas compréhensible avec la catégorie time après !!\n",
    "def plot_trace(fig, x, y, period, x_name, y_name):\n",
    "    # period: D, W, M, Y\n",
    "    fig.add_trace(go.Scatter(\n",
    "        x= x,\n",
    "        y= y,\n",
    "        mode=\"lines\",\n",
    "        name=\"average over \" + period,\n",
    "        visible = 'legendonly',\n",
    "        hovertemplate =\n",
    "        '<br><b>' + x_name + '</b>: %{x}' +\n",
    "        '<br><b>' + y_name + '</b>: %{y:.2f}'\n",
    "    ))"
   ]
  },
  {
   "cell_type": "code",
   "execution_count": null,
   "metadata": {},
   "outputs": [],
   "source": [
    "def compute_stats_by_date(period, x_name, y_name):\n",
    "    \n",
    "    # determine the useful features for the specific tasks (according to x_name and y_name)\n",
    "    if y_name.endswith('elec'):\n",
    "        features = ['elec_outcome', x_name] #x_name = elec_time\n",
    "    elif y_name.endswith('vote'):\n",
    "        features = ['vote', x_name] #x_name = vote_time\n",
    "    \n",
    "    # compute the stats for the required period\n",
    "    if y_name.startswith('nbr'): # use .count()\n",
    "        stats_by_date = wikipedia[features].groupby(pd.Grouper(key=x_name, freq=period)).count()\n",
    "    elif y_name.startswith('avg'): # use .mean()\n",
    "        stats_by_date = wikipedia[features].groupby(pd.Grouper(key=x_name, freq=period)).mean()\n",
    "    return stats_by_date.index, stats_by_date[features[0]]"
   ]
  },
  {
   "cell_type": "code",
   "execution_count": null,
   "metadata": {},
   "outputs": [],
   "source": [
    "import plotly.graph_objects as go\n",
    "\n",
    "    \n",
    "def plot_by_date(df, x_name, y_name, periods = ['D', 'W', 'M', 'Y']):\n",
    "    # df: wikipedia\n",
    "    # x_name: feature for the x axis: elec_time, vote_time\n",
    "    # y_name: feature for the y axis: nbr_elec, avg_elec, nbr_vote, avg_vote\n",
    "    # periods: the periods the user is interested in for the groupby, can be any composition of 'D', 'W', 'M', 'Y'\n",
    "    \n",
    "    # initialize the figure\n",
    "    fig = go.Figure()\n",
    "    \n",
    "    # compute the stats that are asked (according to x_name and y_name), by grouping by the asked periods\n",
    "    for period in periods:\n",
    "        x_, y_ = compute_stats_by_date(period, x_name, y_name)\n",
    "        plot_trace(fig, x_, y_, period, x_name, y_name)\n",
    "\n",
    "    # label the interactive plot\n",
    "    fig.update_layout(\n",
    "        title=\"Evolution of \" + y_name + \" over \" + x_name,\n",
    "        xaxis_title=x_name,\n",
    "        yaxis_title=y_name)\n",
    "    \n",
    "    # show the plot\n",
    "    fig.show()\n",
    "    \n",
    "    # save the plot\n",
    "    html_path = \"../wikipedia/_includes/\" + y_name + \".html\"\n",
    "    fig.write_html(html_path)"
   ]
  },
  {
   "cell_type": "code",
   "execution_count": null,
   "metadata": {},
   "outputs": [],
   "source": [
    "plot_by_date(wikipedia, 'vote_time', 'avg_vote')\n",
    "plot_by_date(wikipedia, 'vote_time', 'nbr_vote')\n",
    "plot_by_date(wikipedia, 'elec_time', 'avg_elec')\n",
    "plot_by_date(wikipedia, 'elec_time', 'nbr_elec')"
   ]
  },
  {
   "cell_type": "markdown",
   "metadata": {},
   "source": [
    "#### Fancier interactive plot (using circle to visualize the number of votes or election)"
   ]
  },
  {
   "cell_type": "code",
   "execution_count": null,
   "metadata": {},
   "outputs": [],
   "source": [
    "def plot_trace_with_size(fig, x, y, counts, period, x_name, y_name):\n",
    "    # period: D, W, M, Y\n",
    "    fig.add_trace(go.Scatter(\n",
    "        x= x,\n",
    "        y= y,\n",
    "        mode=\"lines\",\n",
    "        name=\"average over \" + period,\n",
    "        marker_size=counts,\n",
    "        visible = 'legendonly',\n",
    "        hovertemplate =\n",
    "        '<br><b>' + x_name + '</b>: %{x}' +\n",
    "        '<br><b>' + y_name + '</b>: %{y:.2f}' +\n",
    "        '<br><b>' + 'Number of ' + y_name[4:] + '</b>: %{marker_size}<br>'\n",
    "    ))"
   ]
  },
  {
   "cell_type": "code",
   "execution_count": null,
   "metadata": {},
   "outputs": [],
   "source": [
    "def compute_stats_by_date_with_size(period, x_name, y_name):\n",
    "    \n",
    "    # determine the useful features for the specific tasks (according to x_name and y_name)\n",
    "    if y_name.endswith('elec'):\n",
    "        features = ['elec_outcome', x_name] #x_name = elec_time\n",
    "    elif y_name.endswith('vote'):\n",
    "        features = ['vote', x_name] #x_name = vote_time\n",
    "    \n",
    "    stats_by_date = wikipedia[features].groupby(pd.Grouper(key=x_name, freq=period)).mean()\n",
    "    counts = wikipedia[features].groupby(pd.Grouper(key=x_name, freq=period)).count()\n",
    "    \n",
    "    return stats_by_date.index, stats_by_date[features[0]], counts"
   ]
  },
  {
   "cell_type": "code",
   "execution_count": null,
   "metadata": {},
   "outputs": [],
   "source": [
    "def plot_by_date_with_size(df, x_name, y_name, periods = ['D', 'W', 'M', 'Y']):\n",
    "    # df: wikipedia\n",
    "    # x_name: feature for the x axis: elec_time, vote_time\n",
    "    # y_name: feature for the y axis: avg_elec, avg_vote\n",
    "    # periods: the periods the user is interested in for the groupby, can be any composition of 'D', 'W', 'M', 'Y'\n",
    "    \n",
    "    #note: the number of election or the number of votes will be plotted on the graph using circle of different diameters \n",
    "    \n",
    "    # initialize the figure\n",
    "    fig = go.Figure()\n",
    "    \n",
    "    # compute the stats that are asked (according to x_name and y_name), by grouping by the asked periods\n",
    "    for period in periods:\n",
    "        x_, y_, counts = compute_stats_by_date_with_size(period, x_name, y_name)\n",
    "        plot_trace_with_size(fig, x_, y_, counts, period, x_name, y_name)\n",
    "\n",
    "    # label the interactive plot\n",
    "    fig.update_layout(\n",
    "        title=\"Evolution of \" + y_name + \" over \" + x_name,\n",
    "        xaxis_title=x_name,\n",
    "        yaxis_title=y_name)\n",
    "    \n",
    "    fig.update_traces(\n",
    "    mode='markers',\n",
    "    marker={'sizemode':'area',\n",
    "            'sizeref':10})\n",
    "    \n",
    "    # show the plot\n",
    "    fig.show()\n",
    "    \n",
    "    # save the plot\n",
    "    html_path = \"../wikipedia/_includes/data_with_size\" + y_name + \".html\"\n",
    "    fig.write_html(html_path)"
   ]
  },
  {
   "cell_type": "code",
   "execution_count": null,
   "metadata": {
    "scrolled": true
   },
   "outputs": [],
   "source": [
    "plot_by_date_with_size(wikipedia, 'vote_time', 'avg_vote')\n",
    "plot_by_date_with_size(wikipedia, 'elec_time', 'avg_elec')"
   ]
  },
  {
   "cell_type": "markdown",
   "metadata": {},
   "source": [
    "#TODO we should add the legend: what diameter corresponds to what number of votes"
   ]
  },
  {
   "cell_type": "markdown",
   "metadata": {},
   "source": [
    "### Not modularized - but with interpretation\n",
    "\n",
    "#### Average number of votes\n",
    "\n",
    "Taking the average number of votes and looking at its evolution over time allows us to compare how the average vote evolved over time without experiencing a distortion over time due to the unequal number of votes for the different time instants. \n",
    "\n"
   ]
  },
  {
   "cell_type": "code",
   "execution_count": null,
   "metadata": {},
   "outputs": [],
   "source": [
    "#make sure the 'vote' is of type int (needed for further calculations) #note: I changed the data loading -> votes are int now :)\n",
    "sign_time = wikipedia[['vote','vote_time']].copy()\n",
    "sign_time[\"vote\"] = sign_time[\"vote\"].apply(lambda x : int(x))\n",
    "sign_time.head()"
   ]
  },
  {
   "cell_type": "code",
   "execution_count": null,
   "metadata": {},
   "outputs": [],
   "source": [
    "import plotly.graph_objects as go\n",
    "#overall average\n",
    "sign_avg = sign_time['vote'].mean()\n",
    "print(\"Overall average of vote: \", \"{:.3f}\".format(sign_avg))\n",
    "\n",
    "#average over days, weeks, months and years\n",
    "sign_avg_day = sign_time.groupby(pd.Grouper(key=\"vote_time\", freq=\"D\")).mean()\n",
    "sign_avg_day['count'] = sign_time.groupby(pd.Grouper(key=\"vote_time\", freq=\"D\")).count()\n",
    "sign_avg_week = sign_time.groupby(pd.Grouper(key=\"vote_time\", freq=\"W\")).mean()\n",
    "sign_avg_week['count'] = sign_time.groupby(pd.Grouper(key=\"vote_time\", freq=\"W\")).count()\n",
    "sign_avg_month = sign_time.groupby(pd.Grouper(key=\"vote_time\", freq=\"M\")).mean()\n",
    "sign_avg_month['count'] = sign_time.groupby(pd.Grouper(key=\"vote_time\", freq=\"M\")).count()\n",
    "sign_avg_year = sign_time.groupby(pd.Grouper(key=\"vote_time\", freq=\"Y\")).mean()\n",
    "sign_avg_year['count'] = sign_time.groupby(pd.Grouper(key=\"vote_time\", freq=\"Y\")).count()\n",
    "\n",
    "fig = go.Figure()\n",
    "\n",
    "def plot_trace(x,y):\n",
    "    fig.add_trace(go.Scatter(\n",
    "        x= x,\n",
    "        y= y,\n",
    "        mode=\"lines\",\n",
    "        name=\"average over days\", #to modularize\n",
    "        visible = 'legendonly',\n",
    "        hovertemplate =\n",
    "        '<br><b>Date </b>: %{x}'+\n",
    "        '<br><b>Average vote </b>: %{y:.2f}'\n",
    "    ))\n",
    "\n",
    "plot_trace(sign_avg_day.index,sign_avg_day['vote'])\n",
    "\n",
    "fig.add_trace(go.Scatter(\n",
    "    x= sign_avg_week.index,\n",
    "    y= sign_avg_week['vote'],\n",
    "    mode=\"lines\",\n",
    "    name=\"average over weeks\",\n",
    "    #opacity=0.2\n",
    "    hovertemplate =\n",
    "    '<br><b>Date </b>: %{x}'+\n",
    "    '<br><b>Average vote </b>: %{y:.2f}'\n",
    "))\n",
    "\n",
    "fig.add_trace(go.Scatter(\n",
    "    x= sign_avg_month.index,\n",
    "    y= sign_avg_month['vote'],\n",
    "    mode=\"lines\",\n",
    "    name=\"average over months\",\n",
    "        visible = 'legendonly',\n",
    "    hovertemplate =\n",
    "    '<br><b>Date </b>: %{x}'+\n",
    "    '<br><b>Average vote </b>: %{y:.2f}'\n",
    "))\n",
    "\n",
    "fig.add_trace(go.Scatter(\n",
    "    x= sign_avg_year.index,\n",
    "    y= sign_avg_year['vote'],\n",
    "    mode=\"lines\",\n",
    "    name=\"average over years\",\n",
    "    visible = 'legendonly',\n",
    "    #opacity=0.2\n",
    "    hovertemplate =\n",
    "    '<br><b>Date </b>: %{x}'+\n",
    "    '<br><b>Average vote </b>: %{y:.2f}'\n",
    "))\n",
    "\n",
    "fig.update_layout(\n",
    "    title=\"Evolution of the average vote over time\",\n",
    "    xaxis_title=\"time\",\n",
    "    yaxis_title=\"average vote\")\n",
    "fig.show()\n",
    "\n",
    "fig.write_html(\"../wikipedia/_includes/average_over_time.html\")"
   ]
  },
  {
   "cell_type": "markdown",
   "metadata": {},
   "source": [
    "As we have an average of 0.534, it seems that we have an overall tendency for positive votes. Indeed, having an equal amount of positive and negative votes would mean that we would get an average vote of 0.\n",
    "\n",
    "Feel free to investigate this graph by activating the traces for averaging over different time ranges and/or by zooming in! A few things on this visualization immediately caught our attention. First of all, considering the averaging over years, we only have 4 values of course as all voting dates occurred between 2004 and 2008. It is important to note that especially the value obtained for the year '2008' does not represent much as our dataset only has values for the first 6 days of that year. The value obtained for '2008' has thus been calculated from 6 days only. \n",
    "\n",
    "Secondly, by taking a closer look at the averaging over the weeks, we can see that data is missing for two 2-week periods, namely between April 4th and April 18th 2004 as well as between August 22nd and September 5th 2004.\n",
    "\n",
    "Last but not least, the average vote is very low considering values from the beginning on the vote recording, i.e. March 2004, until around October of the same year. Does this mean that people were overall 'meaner' and thus preferentially voting against people in the beginning of 2004? Let's not jump to conclusions! It might be better to first check for outliers and see if we have a skewed distribution of votes, so let's do this as next step!"
   ]
  },
  {
   "cell_type": "code",
   "execution_count": null,
   "metadata": {},
   "outputs": [],
   "source": [
    "#Analyze distribution of the number of votes\n",
    "count_per_week=sign_time.groupby(pd.Grouper(key=\"vote_time\", freq=\"W\")).count()\n",
    "count_per_month=sign_time.groupby(pd.Grouper(key=\"vote_time\", freq=\"M\")).count()\n",
    "\n",
    "#plt.figure(1, figsize = (7,3.5))\n",
    "fig , (ax1, ax2) = plt.subplots(1,2, figsize = (10,3.5))\n",
    "count_per_week.boxplot(grid=False, ax=ax1)\n",
    "count_per_month.boxplot(grid=False, ax=ax2) \n",
    "ax1.set_ylabel('number of votes')\n",
    "ax1.set_title('Number of votes per week')\n",
    "ax2.set_ylabel('number of votes')\n",
    "ax2.set_title('Number of votes per month')\n",
    "\n",
    "plt.show()"
   ]
  },
  {
   "cell_type": "markdown",
   "metadata": {},
   "source": [
    "This figures show us that we have no outliers, neat. We can however already see that the distribution is clearly skewed. "
   ]
  },
  {
   "cell_type": "code",
   "execution_count": null,
   "metadata": {},
   "outputs": [],
   "source": [
    "import seaborn as sns\n",
    "count_per_week\n",
    "\n",
    "fig , (ax1, ax2) = plt.subplots(1,2, figsize = (13,3.5))\n",
    "sns.distplot(count_per_week, hist=True, label='per week', ax=ax1)\n",
    "sns.distplot(count_per_month, hist=True, label='per month', ax=ax2)\n",
    "ax1.set_xlabel('number of votes')\n",
    "ax1.set_title('Distribution of number of votes per week')\n",
    "ax2.set_xlabel('number of votes')\n",
    "ax2.set_title('Distribution of number of votes per month')\n",
    "\n",
    "plt.show()\n",
    "#WHAT DO WE GET FROM THIS? :/ could interpret as 2 sep pattern of counts (double peak distribution)"
   ]
  },
  {
   "cell_type": "code",
   "execution_count": null,
   "metadata": {
    "scrolled": true
   },
   "outputs": [],
   "source": [
    "#import plotly.express as px\n",
    "fig = go.Figure()\n",
    "\n",
    "fig.add_trace(go.Scatter(\n",
    "    x= sign_avg_day.index,\n",
    "    y= sign_avg_day['vote'],\n",
    "    name=\"average over days\",\n",
    "    marker_size=sign_avg_day['count'],\n",
    "    visible = 'legendonly',\n",
    "    hovertemplate =\n",
    "    '<br><b>Date </b>: %{x}'+\n",
    "    '<br><b>Average vote </b>: %{y:.2f}'+\n",
    "    '<br><b>Number of votes </b>: %{marker_size}<br>'\n",
    "))\n",
    "\n",
    "\n",
    "fig.add_trace(go.Scatter(\n",
    "    x= sign_avg_week.index,\n",
    "    y= sign_avg_week['vote'],\n",
    "    name=\"average over weeks\",\n",
    "    marker_size=sign_avg_week['count'],\n",
    "    hovertemplate =\n",
    "    '<br><b>Date </b>: %{x}'+\n",
    "    '<br><b>Average vote </b>: %{y:.2f}'+\n",
    "    '<br><b>Number of votes </b>: %{marker_size}<br>'\n",
    "))\n",
    "\n",
    "\n",
    "fig.add_trace(go.Scatter(\n",
    "    x= sign_avg_month.index,\n",
    "    y= sign_avg_month['vote'],\n",
    "    name=\"average over months\",\n",
    "    marker_size=sign_avg_month['count'],\n",
    "    visible = 'legendonly',\n",
    "    hovertemplate =\n",
    "    '<br><b>Date </b>: %{x}'+\n",
    "    '<br><b>Average vote </b>: %{y:.2f}'+\n",
    "    '<br><b>Number of votes </b>: %{marker_size}<br>'\n",
    "))\n",
    "\n",
    "\n",
    "fig.update_layout(\n",
    "    title=\"Evolution of the average vote over time\",\n",
    "    xaxis_title=\"time\",\n",
    "    yaxis_title=\"average vote\")\n",
    "\n",
    "fig.update_traces(\n",
    "    mode='markers',\n",
    "    marker={'sizemode':'area',\n",
    "            'sizeref':10})\n",
    "fig.show()"
   ]
  },
  {
   "cell_type": "markdown",
   "metadata": {},
   "source": [
    "Focusing on the week range, we can now easily see that until around July 2005, we only have a quite low number of votes (smaller bubbles) compared to the number of votes from July 2005 until January 2008 (bigger bubbles). Interesting! It seems that over time more and more people started voted in Wikipedia elections. However, we unfortunately do not have the total number of wikipedia admins because most likely this number also increased over time in the same fashion than the number of votes. Circling back to our previous comment, we can thus see that especially before October 2004, only very few people voted during adminship elections. XXcomment? maybe interesting for herding behaviour as we see that as we have far less votes they are way more negative! \n",
    "\n",
    "We are sure you did not miss out on the little bubble that does not follow the overall trend in January 2007. Indeed, this bubble corresponds to the number of votes that was recorded the week ending with December the 31st 2006. The small size of this bubble does not surprise, one could expect that during the holiday season less people vote on elections (even though we did not investigate this trend for the other years), XXThey might also be a lower number of elections? interesting to look into?. What is more interesting however, is that the average vote is significantly(XXwould need to do a test for that) for that week. XXback to comment before! \n",
    "\n",
    "https://en.wikipedia.org/wiki/Special:ListUsers?username=&group=sysop&wpsubmit=&wpFormIdentifier=mw-listusers-form&limit=50 (list of all wikipedia admins, maybe interesting to cite or put as hyperlink onto website)"
   ]
  },
  {
   "cell_type": "markdown",
   "metadata": {},
   "source": [
    "#### Average number of positive vs negative votes\n",
    "\n",
    "Let's now more specifically take a look at the average number of positive and negative votes. "
   ]
  },
  {
   "cell_type": "code",
   "execution_count": null,
   "metadata": {},
   "outputs": [],
   "source": [
    "def plot_trace_opacity(fig, x, y, period, x_name, y_name, opacity_level, chosen_color):\n",
    "    # period: D, W, M, Y\n",
    "    fig.add_trace(go.Scatter(\n",
    "        x = x,\n",
    "        y = y,\n",
    "        mode = \"lines\",\n",
    "        name = y_name + \" over \" + period,\n",
    "        line = dict(color = chosen_color),\n",
    "        opacity = opacity_level, \n",
    "        hovertemplate =\n",
    "        '<br><b>' + x_name + '</b>: %{x}' +\n",
    "        '<br><b>' + y_name + '</b>: %{y:.2f}'\n",
    "    ))\n",
    "    \n",
    "def compute_frac_stats_by_date(df, period, x_name, y_name, sign):\n",
    "    \n",
    "    # determine the useful features for the specific tasks (according to x_name and y_name)\n",
    "    if y_name.endswith('elec'):\n",
    "        features = ['elec_outcome', x_name] #x_name = elec_time\n",
    "    elif y_name.endswith('vote'):\n",
    "        features = ['vote', x_name] #x_name = vote_time\n",
    "        \n",
    "    total = df[features].groupby(pd.Grouper(key = x_name, freq = period)).count()\n",
    "    \n",
    "    # compute the stats for the required period\n",
    "    \n",
    "    if y_name.startswith('pos'): # compute the fraction of positive votes\n",
    "        chosen_color = 'rgb(200, 0, 0)'\n",
    "        #select only positive or only negative votes/election outcomes  \n",
    "        pos_or_neg_df = df[df[sign].apply(lambda x: x==1)] \n",
    "    elif y_name.startswith('neg'): # compute the fraction of negative votes\n",
    "        chosen_color = 'rgb(0, 0, 200)'\n",
    "        #select only positive or only negative votes/election outcomes \n",
    "        if y_name.endswith('elec'):\n",
    "            pos_or_neg_df = df[df[sign].apply(lambda x: x==0)]  #x_name = elec_time\n",
    "        elif y_name.endswith('vote'):\n",
    "            pos_or_neg_df = df[df[sign].apply(lambda x: x==-1)]  #x_name = vote_time\n",
    "\n",
    "    sign_avg = pos_or_neg_df[features].groupby(pd.Grouper(key= x_name, freq = period)).count()/total\n",
    "    return sign_avg.index, sign_avg[features[0]], chosen_color\n",
    "\n",
    "def plot_frac_by_date_opacity(df, x_name, y_name, sign, periods = ['D', 'W', 'M']): #can add 'Y' if want to\n",
    "    # df: wikipedia\n",
    "    # x_name: feature for the x axis: elec_time, vote_time\n",
    "    # periods: the periods the user is interested in for the groupby, can be any composition of 'D', 'W', 'M', 'Y'\n",
    "    \n",
    "    # compute the stats that are asked (according to x_name and y_name), by grouping by the asked periods\n",
    "    opacity_level = 0\n",
    "    for period in periods:\n",
    "        x_, y_, chosen_color = compute_frac_stats_by_date(df, period, x_name, y_name, sign)\n",
    "        opacity_level = opacity_level + 0.3\n",
    "        plot_trace_opacity(fig, x_ , y_, period, x_name, y_name, opacity_level, chosen_color)\n",
    "\n",
    "    # label the interactive plot\n",
    "    fig.update_layout(\n",
    "        title = \"Evolution of the \" + y_name + \" ratio of positive vs negative votes over time\",\n",
    "        xaxis_title = x_name,\n",
    "        yaxis_title = \"ratio\")\n",
    "    \n",
    "    # save the plot\n",
    "    html_path = \"../wikipedia/_includes/\" + y_name + \".html\"\n",
    "    fig.write_html(html_path)"
   ]
  },
  {
   "cell_type": "code",
   "execution_count": null,
   "metadata": {},
   "outputs": [],
   "source": [
    "#Graph playing around with opacities\n",
    "\n",
    "#creation of two dataframes containing only positive or negative votes respectively \n",
    "pos_votes=sign_time[sign_time['vote'].apply(lambda x: x==1)]\n",
    "neg_votes=sign_time[sign_time['vote'].apply(lambda x: x==-1)]\n",
    "\n",
    "# initialize the figure\n",
    "fig = go.Figure()\n",
    "\n",
    "plot_frac_by_date_opacity(wikipedia, 'vote_time', 'pos_ratio_vote', 'vote')\n",
    "plot_frac_by_date_opacity(wikipedia, 'vote_time', 'neg_ratio_vote', 'vote')\n",
    "\n",
    "#show the plot\n",
    "fig.show()"
   ]
  },
  {
   "cell_type": "code",
   "execution_count": null,
   "metadata": {},
   "outputs": [],
   "source": [
    "#TODO analysis"
   ]
  },
  {
   "cell_type": "code",
   "execution_count": null,
   "metadata": {},
   "outputs": [],
   "source": [
    "#creation of two dataframes containing only positive or negative votes respectively \n",
    "pos_votes=sign_time[sign_time['vote'].apply(lambda x: x==1)]\n",
    "neg_votes=sign_time[sign_time['vote'].apply(lambda x: x==-1)]\n",
    "\n",
    "# initialize the figure\n",
    "fig = go.Figure()\n",
    "\n",
    "plot_frac_by_date_opacity(wikipedia, 'elec_time', 'pos_ratio_elec', 'elec_outcome')\n",
    "plot_frac_by_date_opacity(wikipedia, 'elec_time', 'neg_ratio_elec', 'elec_outcome')\n",
    "\n",
    "#show the plot\n",
    "fig.show()"
   ]
  },
  {
   "cell_type": "code",
   "execution_count": null,
   "metadata": {},
   "outputs": [],
   "source": [
    "#TODO analysis "
   ]
  },
  {
   "cell_type": "code",
   "execution_count": null,
   "metadata": {},
   "outputs": [],
   "source": [
    "#TODO analysis comparing election outcome and vote fractions"
   ]
  },
  {
   "cell_type": "code",
   "execution_count": null,
   "metadata": {},
   "outputs": [],
   "source": [
    "#https://docs.bokeh.org/en/latest/docs/gallery/stacked_area.html: idea for stacked pos and neg votes graph using bokeh (recommended by TA)"
   ]
  },
  {
   "cell_type": "markdown",
   "metadata": {},
   "source": [
    "## DURATION (in hours)"
   ]
  },
  {
   "cell_type": "markdown",
   "metadata": {},
   "source": [
    "We will try to detect any election-related patterns based on the duration of the election. \n",
    "\n",
    "There are 2 ways to define the duration of an election:\n",
    "1. (date the election was closed) - (date the first vote was casted)\n",
    "2. (date the last vote was casted) - (date the first vote was casted)\n",
    "We choose to define the duration as described in the 2nd point. \n",
    "\n",
    "We will plot the ratio of + to - votes (on the y axis), in function of the duration of the election (on the x axis), and we will 'hue' the plot (dots of two colors: one for successful elec, the other for unsuccesful election) "
   ]
  },
  {
   "cell_type": "code",
   "execution_count": 34,
   "metadata": {},
   "outputs": [
    {
     "data": {
      "text/html": [
       "<div>\n",
       "<style scoped>\n",
       "    .dataframe tbody tr th:only-of-type {\n",
       "        vertical-align: middle;\n",
       "    }\n",
       "\n",
       "    .dataframe tbody tr th {\n",
       "        vertical-align: top;\n",
       "    }\n",
       "\n",
       "    .dataframe thead th {\n",
       "        text-align: right;\n",
       "    }\n",
       "</style>\n",
       "<table border=\"1\" class=\"dataframe\">\n",
       "  <thead>\n",
       "    <tr style=\"text-align: right;\">\n",
       "      <th></th>\n",
       "      <th>elec_outcome</th>\n",
       "      <th>elec_time</th>\n",
       "      <th>candidate_id</th>\n",
       "      <th>voter_id</th>\n",
       "      <th>vote</th>\n",
       "      <th>vote_time</th>\n",
       "      <th>nominator_id</th>\n",
       "    </tr>\n",
       "  </thead>\n",
       "  <tbody>\n",
       "    <tr>\n",
       "      <th>0</th>\n",
       "      <td>1</td>\n",
       "      <td>2004-09-21 01:15:53</td>\n",
       "      <td>30</td>\n",
       "      <td>3</td>\n",
       "      <td>1</td>\n",
       "      <td>2004-09-14 16:26:00</td>\n",
       "      <td>32</td>\n",
       "    </tr>\n",
       "    <tr>\n",
       "      <th>1</th>\n",
       "      <td>1</td>\n",
       "      <td>2004-09-21 01:15:53</td>\n",
       "      <td>30</td>\n",
       "      <td>25</td>\n",
       "      <td>-1</td>\n",
       "      <td>2004-09-14 16:53:00</td>\n",
       "      <td>32</td>\n",
       "    </tr>\n",
       "    <tr>\n",
       "      <th>2</th>\n",
       "      <td>1</td>\n",
       "      <td>2004-09-21 01:15:53</td>\n",
       "      <td>30</td>\n",
       "      <td>4</td>\n",
       "      <td>1</td>\n",
       "      <td>2004-09-14 17:08:00</td>\n",
       "      <td>32</td>\n",
       "    </tr>\n",
       "    <tr>\n",
       "      <th>3</th>\n",
       "      <td>1</td>\n",
       "      <td>2004-09-21 01:15:53</td>\n",
       "      <td>30</td>\n",
       "      <td>5</td>\n",
       "      <td>1</td>\n",
       "      <td>2004-09-14 17:37:00</td>\n",
       "      <td>32</td>\n",
       "    </tr>\n",
       "    <tr>\n",
       "      <th>4</th>\n",
       "      <td>1</td>\n",
       "      <td>2004-09-21 01:15:53</td>\n",
       "      <td>30</td>\n",
       "      <td>6</td>\n",
       "      <td>1</td>\n",
       "      <td>2004-09-14 19:28:00</td>\n",
       "      <td>32</td>\n",
       "    </tr>\n",
       "  </tbody>\n",
       "</table>\n",
       "</div>"
      ],
      "text/plain": [
       "   elec_outcome           elec_time  candidate_id  voter_id  vote  \\\n",
       "0             1 2004-09-21 01:15:53            30         3     1   \n",
       "1             1 2004-09-21 01:15:53            30        25    -1   \n",
       "2             1 2004-09-21 01:15:53            30         4     1   \n",
       "3             1 2004-09-21 01:15:53            30         5     1   \n",
       "4             1 2004-09-21 01:15:53            30         6     1   \n",
       "\n",
       "            vote_time  nominator_id  \n",
       "0 2004-09-14 16:26:00            32  \n",
       "1 2004-09-14 16:53:00            32  \n",
       "2 2004-09-14 17:08:00            32  \n",
       "3 2004-09-14 17:37:00            32  \n",
       "4 2004-09-14 19:28:00            32  "
      ]
     },
     "execution_count": 34,
     "metadata": {},
     "output_type": "execute_result"
    }
   ],
   "source": [
    "wikipedia.head()"
   ]
  },
  {
   "cell_type": "markdown",
   "metadata": {},
   "source": [
    "Let's first group our wikipedia dataframe by elections."
   ]
  },
  {
   "cell_type": "code",
   "execution_count": 35,
   "metadata": {},
   "outputs": [],
   "source": [
    "grouped_wiki = wikipedia.groupby(\"elec_time\")"
   ]
  },
  {
   "cell_type": "markdown",
   "metadata": {},
   "source": [
    "We are now going to create a dataframe containing the duration of each election, computed as mentioned previously, the total fraction of positive votes received by the wannabe admin, and finally the outcome of the election, deduced by the value of the fraction of positive votes casted.  \n",
    "TODO : NEUTRAL VOTES "
   ]
  },
  {
   "cell_type": "code",
   "execution_count": 36,
   "metadata": {},
   "outputs": [],
   "source": [
    "results = pd.DataFrame(columns = [\"duration\", \"fraction_pos_votes\", \"outcome\"])\n",
    "results.head()\n",
    "\n",
    "durations_ = []\n",
    "fractions_pos_votes = []\n",
    "outcome = []\n",
    "\n",
    "for time, group in grouped_wiki: \n",
    "    if len(group[\"vote\"]) == 0 :\n",
    "        print(\"empty election\")\n",
    "    duration = (max(group[\"vote_time\"]) - min(group[\"vote_time\"])).total_seconds()\n",
    "    if duration !=0.0 :\n",
    "        if (len(group[group[\"vote\"]==-1]) != 0)  : \n",
    "            fraction_pos_votes = len(group[group[\"vote\"]==1]) / len(group[\"vote\"])\n",
    "        else : \n",
    "            # if no negative votes votes were casted, we consider the fraction of positive votes to be 1\n",
    "            fraction_pos_votes = 1\n",
    "            \n",
    "        # duration is stored in the number of hours it lasted, with 2 decimals.\n",
    "        # we consider this precision is enough in order to draw analysis based on comparison of the elections durations.\n",
    "        durations_.append(round(duration/3600.0, 2) )\n",
    "        fractions_pos_votes.append(fraction_pos_votes)\n",
    "        if fraction_pos_votes >0.5 : \n",
    "            outcome.append(1)\n",
    "        else : \n",
    "            outcome.append(-1)\n",
    "\n",
    "results[\"duration\"] = durations_#.apply(lambda x : x.total_seconds())\n",
    "results[\"fraction_pos_votes\"] = fractions_pos_votes\n",
    "results.outcome= outcome"
   ]
  },
  {
   "cell_type": "code",
   "execution_count": 37,
   "metadata": {},
   "outputs": [
    {
     "data": {
      "text/html": [
       "<div>\n",
       "<style scoped>\n",
       "    .dataframe tbody tr th:only-of-type {\n",
       "        vertical-align: middle;\n",
       "    }\n",
       "\n",
       "    .dataframe tbody tr th {\n",
       "        vertical-align: top;\n",
       "    }\n",
       "\n",
       "    .dataframe thead th {\n",
       "        text-align: right;\n",
       "    }\n",
       "</style>\n",
       "<table border=\"1\" class=\"dataframe\">\n",
       "  <thead>\n",
       "    <tr style=\"text-align: right;\">\n",
       "      <th></th>\n",
       "      <th>duration</th>\n",
       "      <th>fraction_pos_votes</th>\n",
       "      <th>outcome</th>\n",
       "    </tr>\n",
       "  </thead>\n",
       "  <tbody>\n",
       "    <tr>\n",
       "      <th>0</th>\n",
       "      <td>167.90</td>\n",
       "      <td>1.000000</td>\n",
       "      <td>1</td>\n",
       "    </tr>\n",
       "    <tr>\n",
       "      <th>1</th>\n",
       "      <td>150.53</td>\n",
       "      <td>1.000000</td>\n",
       "      <td>1</td>\n",
       "    </tr>\n",
       "    <tr>\n",
       "      <th>2</th>\n",
       "      <td>149.90</td>\n",
       "      <td>0.814815</td>\n",
       "      <td>1</td>\n",
       "    </tr>\n",
       "    <tr>\n",
       "      <th>3</th>\n",
       "      <td>155.27</td>\n",
       "      <td>1.000000</td>\n",
       "      <td>1</td>\n",
       "    </tr>\n",
       "    <tr>\n",
       "      <th>4</th>\n",
       "      <td>162.98</td>\n",
       "      <td>1.000000</td>\n",
       "      <td>1</td>\n",
       "    </tr>\n",
       "  </tbody>\n",
       "</table>\n",
       "</div>"
      ],
      "text/plain": [
       "   duration  fraction_pos_votes  outcome\n",
       "0    167.90            1.000000        1\n",
       "1    150.53            1.000000        1\n",
       "2    149.90            0.814815        1\n",
       "3    155.27            1.000000        1\n",
       "4    162.98            1.000000        1"
      ]
     },
     "execution_count": 37,
     "metadata": {},
     "output_type": "execute_result"
    }
   ],
   "source": [
    "results.head()"
   ]
  },
  {
   "cell_type": "code",
   "execution_count": 38,
   "metadata": {},
   "outputs": [
    {
     "name": "stdout",
     "output_type": "stream",
     "text": [
      "The minimal duration of an election was 0.02 hours, while the maximal duration was 18720.22 hours.\n"
     ]
    }
   ],
   "source": [
    "results = results.sort_values(by=['duration'])\n",
    "print(\"The minimal duration of an election was\", min(results.duration), \"hours, while the maximal duration was\", max(results.duration), \"hours.\")"
   ]
  },
  {
   "cell_type": "markdown",
   "metadata": {},
   "source": [
    "We will firstly visualize the repartition of fraction of positive votes with respect to the duration of each election, for the whole dataset. We will use a seaborn scatter plot."
   ]
  },
  {
   "cell_type": "code",
   "execution_count": 232,
   "metadata": {},
   "outputs": [
    {
     "data": {
      "text/plain": [
       "<AxesSubplot:xlabel='duration', ylabel='fraction_pos_votes'>"
      ]
     },
     "execution_count": 232,
     "metadata": {},
     "output_type": "execute_result"
    },
    {
     "data": {
      "image/png": "[encoded data removed]",
      "text/plain": [
       "<Figure size 432x288 with 1 Axes>"
      ]
     },
     "metadata": {},
     "output_type": "display_data"
    }
   ],
   "source": [
    "sns.scatterplot(x = results.duration, y=  results.fraction_pos_votes, hue = results.outcome)"
   ]
  },
  {
   "cell_type": "markdown",
   "metadata": {},
   "source": [
    "This plot tells us that most of the elections lasted less than 500 hours. "
   ]
  },
  {
   "cell_type": "code",
   "execution_count": 235,
   "metadata": {},
   "outputs": [
    {
     "name": "stdout",
     "output_type": "stream",
     "text": [
      "The longuest duration considered for an election is now  488.45 hours\n"
     ]
    }
   ],
   "source": [
    "results = results[results.duration < 500]\n",
    "print(\"The longuest duration considered for an election is now \", max(results.duration), \"hours\")"
   ]
  },
  {
   "cell_type": "code",
   "execution_count": 236,
   "metadata": {},
   "outputs": [
    {
     "data": {
      "text/plain": [
       "<AxesSubplot:xlabel='duration', ylabel='fraction_pos_votes'>"
      ]
     },
     "execution_count": 236,
     "metadata": {},
     "output_type": "execute_result"
    },
    {
     "data": {
      "image/png": "[encoded data removed]",
      "text/plain": [
       "<Figure size 432x288 with 1 Axes>"
      ]
     },
     "metadata": {},
     "output_type": "display_data"
    }
   ],
   "source": [
    "sns.scatterplot(x = results.duration, y = results.fraction_pos_votes, hue = results.outcome)"
   ]
  },
  {
   "cell_type": "code",
   "execution_count": 256,
   "metadata": {},
   "outputs": [
    {
     "name": "stdout",
     "output_type": "stream",
     "text": [
      "199.83\n"
     ]
    },
    {
     "data": {
      "text/plain": [
       "<AxesSubplot:xlabel='duration', ylabel='fraction_pos_votes'>"
      ]
     },
     "execution_count": 256,
     "metadata": {},
     "output_type": "execute_result"
    },
    {
     "data": {
      "image/png": "[encoded data removed]",
      "text/plain": [
       "<Figure size 432x288 with 1 Axes>"
      ]
     },
     "metadata": {},
     "output_type": "display_data"
    }
   ],
   "source": [
    "results = results[results.duration < 200]\n",
    "print(max(results.duration))\n",
    "#plt.scatter(results.duration, results.fraction_pos_votes)\n",
    "sns.scatterplot( x= results.duration, y = results.fraction_pos_votes, hue = results.outcome)"
   ]
  },
  {
   "cell_type": "code",
   "execution_count": 257,
   "metadata": {},
   "outputs": [
    {
     "name": "stdout",
     "output_type": "stream",
     "text": [
      "The longuest duration considered for an election is now  199.83 hours\n"
     ]
    },
    {
     "data": {
      "text/plain": [
       "<AxesSubplot:xlabel='duration', ylabel='fraction_pos_votes'>"
      ]
     },
     "execution_count": 257,
     "metadata": {},
     "output_type": "execute_result"
    },
    {
     "data": {
      "image/png": "[encoded data removed]",
      "text/plain": [
       "<Figure size 432x288 with 1 Axes>"
      ]
     },
     "metadata": {},
     "output_type": "display_data"
    }
   ],
   "source": [
    "results = results[results.duration < 200]\n",
    "print(\"The longuest duration considered for an election is now \", max(results.duration), \"hours\")\n",
    "sns.scatterplot( x= results.duration, y = results.fraction_pos_votes, hue = results.outcome)#, style = results.duration)"
   ]
  },
  {
   "cell_type": "markdown",
   "metadata": {},
   "source": [
    "Finally, we can begin to see 2 clusters. On the top right of the graph, the first cluster corresponds to elections that lasted for a long amount of time, and for which the outcome was positive. On the bottom left, the second cluster corresponds to elections that were short, and for which the outcome was negative.  \n",
    "This repartition seems to be coherent with the fact that short elections are rather unsuccessful (low success rate, low pos. to neg. votes ratio).  \n",
    "Why is that? Well, because wikipedia bureaucrats who regulate the election process tend to end very negative election early. It is thus very likely that elections displaying a low ratio of positive votes will be closed early, resulting in short, unsuccessful elections."
   ]
  },
  {
   "cell_type": "code",
   "execution_count": 202,
   "metadata": {},
   "outputs": [
    {
     "data": {
      "text/html": [
       "<div>\n",
       "<style scoped>\n",
       "    .dataframe tbody tr th:only-of-type {\n",
       "        vertical-align: middle;\n",
       "    }\n",
       "\n",
       "    .dataframe tbody tr th {\n",
       "        vertical-align: top;\n",
       "    }\n",
       "\n",
       "    .dataframe thead th {\n",
       "        text-align: right;\n",
       "    }\n",
       "</style>\n",
       "<table border=\"1\" class=\"dataframe\">\n",
       "  <thead>\n",
       "    <tr style=\"text-align: right;\">\n",
       "      <th></th>\n",
       "      <th>fraction_pos_votes</th>\n",
       "      <th>outcome</th>\n",
       "    </tr>\n",
       "    <tr>\n",
       "      <th>duration</th>\n",
       "      <th></th>\n",
       "      <th></th>\n",
       "    </tr>\n",
       "  </thead>\n",
       "  <tbody>\n",
       "    <tr>\n",
       "      <th>0.016667</th>\n",
       "      <td>2</td>\n",
       "      <td>2</td>\n",
       "    </tr>\n",
       "    <tr>\n",
       "      <th>0.033333</th>\n",
       "      <td>6</td>\n",
       "      <td>6</td>\n",
       "    </tr>\n",
       "    <tr>\n",
       "      <th>0.050000</th>\n",
       "      <td>6</td>\n",
       "      <td>6</td>\n",
       "    </tr>\n",
       "    <tr>\n",
       "      <th>0.066667</th>\n",
       "      <td>10</td>\n",
       "      <td>10</td>\n",
       "    </tr>\n",
       "    <tr>\n",
       "      <th>0.083333</th>\n",
       "      <td>9</td>\n",
       "      <td>9</td>\n",
       "    </tr>\n",
       "  </tbody>\n",
       "</table>\n",
       "</div>"
      ],
      "text/plain": [
       "          fraction_pos_votes  outcome\n",
       "duration                             \n",
       "0.016667                   2        2\n",
       "0.033333                   6        6\n",
       "0.050000                   6        6\n",
       "0.066667                  10       10\n",
       "0.083333                   9        9"
      ]
     },
     "execution_count": 202,
     "metadata": {},
     "output_type": "execute_result"
    }
   ],
   "source": [
    "grouped_duration = results.groupby(\"duration\").count()\n",
    "grouped_duration.head()\n",
    "#sns.scatterplot( x= grouped_duration.index, y = grouped_duration.fraction_pos_votes, hue = grouped_duration.outcome)#, style = grouped_duration.count())"
   ]
  },
  {
   "cell_type": "code",
   "execution_count": 241,
   "metadata": {},
   "outputs": [
    {
     "data": {
      "text/html": [
       "<div>\n",
       "<style scoped>\n",
       "    .dataframe tbody tr th:only-of-type {\n",
       "        vertical-align: middle;\n",
       "    }\n",
       "\n",
       "    .dataframe tbody tr th {\n",
       "        vertical-align: top;\n",
       "    }\n",
       "\n",
       "    .dataframe thead th {\n",
       "        text-align: right;\n",
       "    }\n",
       "</style>\n",
       "<table border=\"1\" class=\"dataframe\">\n",
       "  <thead>\n",
       "    <tr style=\"text-align: right;\">\n",
       "      <th></th>\n",
       "      <th>duration</th>\n",
       "      <th>outcome</th>\n",
       "    </tr>\n",
       "  </thead>\n",
       "  <tbody>\n",
       "    <tr>\n",
       "      <th>616</th>\n",
       "      <td>0.02</td>\n",
       "      <td>-1</td>\n",
       "    </tr>\n",
       "    <tr>\n",
       "      <th>622</th>\n",
       "      <td>0.02</td>\n",
       "      <td>-1</td>\n",
       "    </tr>\n",
       "    <tr>\n",
       "      <th>563</th>\n",
       "      <td>0.03</td>\n",
       "      <td>-1</td>\n",
       "    </tr>\n",
       "    <tr>\n",
       "      <th>2082</th>\n",
       "      <td>0.03</td>\n",
       "      <td>-1</td>\n",
       "    </tr>\n",
       "    <tr>\n",
       "      <th>2653</th>\n",
       "      <td>0.03</td>\n",
       "      <td>-1</td>\n",
       "    </tr>\n",
       "    <tr>\n",
       "      <th>...</th>\n",
       "      <td>...</td>\n",
       "      <td>...</td>\n",
       "    </tr>\n",
       "    <tr>\n",
       "      <th>900</th>\n",
       "      <td>196.95</td>\n",
       "      <td>1</td>\n",
       "    </tr>\n",
       "    <tr>\n",
       "      <th>2023</th>\n",
       "      <td>197.35</td>\n",
       "      <td>1</td>\n",
       "    </tr>\n",
       "    <tr>\n",
       "      <th>1370</th>\n",
       "      <td>198.15</td>\n",
       "      <td>-1</td>\n",
       "    </tr>\n",
       "    <tr>\n",
       "      <th>1795</th>\n",
       "      <td>198.72</td>\n",
       "      <td>1</td>\n",
       "    </tr>\n",
       "    <tr>\n",
       "      <th>333</th>\n",
       "      <td>199.83</td>\n",
       "      <td>-1</td>\n",
       "    </tr>\n",
       "  </tbody>\n",
       "</table>\n",
       "<p>2555 rows × 2 columns</p>\n",
       "</div>"
      ],
      "text/plain": [
       "      duration  outcome\n",
       "616       0.02       -1\n",
       "622       0.02       -1\n",
       "563       0.03       -1\n",
       "2082      0.03       -1\n",
       "2653      0.03       -1\n",
       "...        ...      ...\n",
       "900     196.95        1\n",
       "2023    197.35        1\n",
       "1370    198.15       -1\n",
       "1795    198.72        1\n",
       "333     199.83       -1\n",
       "\n",
       "[2555 rows x 2 columns]"
      ]
     },
     "execution_count": 241,
     "metadata": {},
     "output_type": "execute_result"
    }
   ],
   "source": [
    "grouped_duration = results.drop([\"fraction_pos_votes\"], axis = 1).groupby(\"duration\")\n",
    "grouped_duration.head()\n"
   ]
  },
  {
   "cell_type": "code",
   "execution_count": 194,
   "metadata": {},
   "outputs": [
    {
     "data": {
      "text/html": [
       "<div>\n",
       "<style scoped>\n",
       "    .dataframe tbody tr th:only-of-type {\n",
       "        vertical-align: middle;\n",
       "    }\n",
       "\n",
       "    .dataframe tbody tr th {\n",
       "        vertical-align: top;\n",
       "    }\n",
       "\n",
       "    .dataframe thead th {\n",
       "        text-align: right;\n",
       "    }\n",
       "</style>\n",
       "<table border=\"1\" class=\"dataframe\">\n",
       "  <thead>\n",
       "    <tr style=\"text-align: right;\">\n",
       "      <th></th>\n",
       "      <th>outcome</th>\n",
       "    </tr>\n",
       "    <tr>\n",
       "      <th>duration</th>\n",
       "      <th></th>\n",
       "    </tr>\n",
       "  </thead>\n",
       "  <tbody>\n",
       "    <tr>\n",
       "      <th>0.016667</th>\n",
       "      <td>2</td>\n",
       "    </tr>\n",
       "    <tr>\n",
       "      <th>0.033333</th>\n",
       "      <td>6</td>\n",
       "    </tr>\n",
       "    <tr>\n",
       "      <th>0.050000</th>\n",
       "      <td>6</td>\n",
       "    </tr>\n",
       "    <tr>\n",
       "      <th>0.066667</th>\n",
       "      <td>10</td>\n",
       "    </tr>\n",
       "    <tr>\n",
       "      <th>0.083333</th>\n",
       "      <td>9</td>\n",
       "    </tr>\n",
       "  </tbody>\n",
       "</table>\n",
       "</div>"
      ],
      "text/plain": [
       "          outcome\n",
       "duration         \n",
       "0.016667        2\n",
       "0.033333        6\n",
       "0.050000        6\n",
       "0.066667       10\n",
       "0.083333        9"
      ]
     },
     "execution_count": 194,
     "metadata": {},
     "output_type": "execute_result"
    }
   ],
   "source": [
    "#grouped_duration = grouped_duration.count()\n",
    "#grouped_duration.head()"
   ]
  },
  {
   "cell_type": "code",
   "execution_count": 253,
   "metadata": {},
   "outputs": [
    {
     "data": {
      "text/plain": [
       "1832"
      ]
     },
     "execution_count": 253,
     "metadata": {},
     "output_type": "execute_result"
    }
   ],
   "source": [
    "len(grouped_duration)"
   ]
  },
  {
   "cell_type": "code",
   "execution_count": 249,
   "metadata": {},
   "outputs": [],
   "source": [
    "# fraction of elections with positive outcomes w.r.t their duration\n",
    "ratios = []\n",
    "durations_list = []\n",
    "for duration, df in grouped_duration:\n",
    "    #print(duration)\n",
    "    #print(df)\n",
    "    nb_elections = len(df.outcome) \n",
    "    durations_list.append(duration)\n",
    "    ratios.append( len(df[df[\"outcome\"]==1] )/ nb_elections ) \n",
    "\n",
    "duration_outcome = pd.DataFrame(columns = [\"duration\", \"ratio\"])\n",
    "duration_outcome.duration= durations_list\n",
    "duration_outcome.ratio = ratios"
   ]
  },
  {
   "cell_type": "code",
   "execution_count": 250,
   "metadata": {},
   "outputs": [
    {
     "data": {
      "text/html": [
       "<div>\n",
       "<style scoped>\n",
       "    .dataframe tbody tr th:only-of-type {\n",
       "        vertical-align: middle;\n",
       "    }\n",
       "\n",
       "    .dataframe tbody tr th {\n",
       "        vertical-align: top;\n",
       "    }\n",
       "\n",
       "    .dataframe thead th {\n",
       "        text-align: right;\n",
       "    }\n",
       "</style>\n",
       "<table border=\"1\" class=\"dataframe\">\n",
       "  <thead>\n",
       "    <tr style=\"text-align: right;\">\n",
       "      <th></th>\n",
       "      <th>duration</th>\n",
       "      <th>ratio</th>\n",
       "    </tr>\n",
       "  </thead>\n",
       "  <tbody>\n",
       "    <tr>\n",
       "      <th>0</th>\n",
       "      <td>0.02</td>\n",
       "      <td>0.000000</td>\n",
       "    </tr>\n",
       "    <tr>\n",
       "      <th>1</th>\n",
       "      <td>0.03</td>\n",
       "      <td>0.000000</td>\n",
       "    </tr>\n",
       "    <tr>\n",
       "      <th>2</th>\n",
       "      <td>0.05</td>\n",
       "      <td>0.000000</td>\n",
       "    </tr>\n",
       "    <tr>\n",
       "      <th>3</th>\n",
       "      <td>0.07</td>\n",
       "      <td>0.000000</td>\n",
       "    </tr>\n",
       "    <tr>\n",
       "      <th>4</th>\n",
       "      <td>0.08</td>\n",
       "      <td>0.222222</td>\n",
       "    </tr>\n",
       "  </tbody>\n",
       "</table>\n",
       "</div>"
      ],
      "text/plain": [
       "   duration     ratio\n",
       "0      0.02  0.000000\n",
       "1      0.03  0.000000\n",
       "2      0.05  0.000000\n",
       "3      0.07  0.000000\n",
       "4      0.08  0.222222"
      ]
     },
     "execution_count": 250,
     "metadata": {},
     "output_type": "execute_result"
    }
   ],
   "source": [
    "duration_outcome.head()"
   ]
  },
  {
   "cell_type": "code",
   "execution_count": 252,
   "metadata": {},
   "outputs": [
    {
     "data": {
      "text/plain": [
       "<AxesSubplot:xlabel='duration', ylabel='ratio'>"
      ]
     },
     "execution_count": 252,
     "metadata": {},
     "output_type": "execute_result"
    },
    {
     "data": {
      "image/png": "[encoded data removed]",
      "text/plain": [
       "<Figure size 432x288 with 1 Axes>"
      ]
     },
     "metadata": {},
     "output_type": "display_data"
    }
   ],
   "source": [
    "sns.scatterplot(x = duration_outcome.duration, y = duration_outcome.ratio)#, data = grouped_duration)#, hue = results.outcome)"
   ]
  },
  {
   "cell_type": "markdown",
   "metadata": {},
   "source": [
    "Lets focus on the elections that have equal durations but different outcomes, and see if some patterns can be identified."
   ]
  },
  {
   "cell_type": "code",
   "execution_count": 255,
   "metadata": {},
   "outputs": [
    {
     "data": {
      "text/plain": [
       "<AxesSubplot:xlabel='duration', ylabel='ratio'>"
      ]
     },
     "execution_count": 255,
     "metadata": {},
     "output_type": "execute_result"
    },
    {
     "data": {
      "image/png": "[encoded data removed]",
      "text/plain": [
       "<Figure size 432x288 with 1 Axes>"
      ]
     },
     "metadata": {},
     "output_type": "display_data"
    }
   ],
   "source": [
    "duration_outcome = duration_outcome[duration_outcome.ratio != 0.0]\n",
    "duration_outcome = duration_outcome[duration_outcome.ratio != 1.0]\n",
    "sns.scatterplot(x = duration_outcome.duration, y = duration_outcome.ratio)#, data = grouped_duration)#, hue = results.outcome)"
   ]
  },
  {
   "cell_type": "markdown",
   "metadata": {},
   "source": [
    "Indeed, we once again find the same pattern that we previously observed : the shorter elections are correlated with lower ratios of positive outcome, and inversly, longer elections are correlated with higher ratios of positive outcomes. "
   ]
  },
  {
   "cell_type": "markdown",
   "metadata": {},
   "source": [
    "## TIME (in hours)"
   ]
  },
  {
   "cell_type": "markdown",
   "metadata": {},
   "source": [
    "This time, we will analyse the evolution of the votes throughout an election.\n",
    "\n",
    "Thus, the x-axis will span from the first seconds after the election started to the last seconds before the election was closed.\n",
    "\n",
    "\n",
    "\n",
    "Below, we produce 3 plots, of increasing difficulty.\n",
    "\n",
    "1. one election, on one plot\n",
    "\n",
    "On the y-axis: the ratio of + to - votes for that election\n",
    "\n",
    "\n",
    "2. all elections, on one plot\n",
    "\n",
    "On the y-axis: the ratio of + to - votes\n",
    "\n",
    "The plot will be composed of many lines, of different length (as the different election did not last for the same amount of time)\n",
    "\n",
    "The lines will be colored in either of two colors, according the the election outcome. We may find nice trends :)\n",
    "\n",
    "\n",
    "3. all elections, on one plot, by saving ink\n",
    "\n",
    "The plot 2 was a bit messy... To save a bit of ink and increase the readibility of the plot, we will plot the mean ratio of + to - votes on the y axis, for the successful elections (in one color), and unsuccessful elections (in another color).\n",
    "\n",
    "We will also add a boostraped confidence interval to quantifiy the error.\n",
    "\n",
    "We may identify interesting findings\n",
    "\n",
    "#TODO"
   ]
  },
  {
   "cell_type": "code",
   "execution_count": 30,
   "metadata": {},
   "outputs": [],
   "source": [
    "#create dataframe with only positive respectively negative votes\n",
    "pos_votes = wikipedia[wikipedia['vote'].apply(lambda x: x==1)]\n",
    "neg_votes = wikipedia[wikipedia['vote'].apply(lambda x: x==-1)]\n",
    "#TODO: figure out how we handle the neutral votes for all of this\n",
    "\n",
    "#create dataframe with only succeeded respectively failed elections\n",
    "pos_election = wikipedia[wikipedia['elec_outcome'].apply(lambda x: x==1)]\n",
    "neg_election = wikipedia[wikipedia['elec_outcome'].apply(lambda x: x==0)]"
   ]
  },
  {
   "cell_type": "code",
   "execution_count": 31,
   "metadata": {},
   "outputs": [
    {
     "data": {
      "application/vnd.plotly.v1+json": {
       "config": {
        "plotlyServerURL": "https://plot.ly"
       },
       "data": [
        {
         "hovertemplate": "<br><b>Date </b>: %{x}<br><b>Fraction of positive votes </b>: %{y:.2f}",
         "mode": "lines",
         "name": "proportion of positive votes over total votes until this time instant",
         "type": "scatter",
         "x": [
          "2004-09-14T16:26:00",
          "2004-09-14T16:53:00",
          "2004-09-14T17:08:00",
          "2004-09-14T17:37:00",
          "2004-09-14T19:28:00",
          "2004-09-14T19:37:00",
          "2004-09-14T21:04:00",
          "2004-09-14T21:30:00",
          "2004-09-14T22:13:00",
          "2004-09-14T22:18:00",
          "2004-09-15T03:19:00",
          "2004-09-15T03:20:00",
          "2004-09-15T04:28:00",
          "2004-09-15T06:56:00",
          "2004-09-15T09:19:00",
          "2004-09-15T12:20:00",
          "2004-09-16T00:58:00",
          "2004-09-16T14:50:00",
          "2004-09-16T15:31:00",
          "2004-09-17T13:49:00",
          "2004-09-17T20:57:00",
          "2004-09-17T22:11:00",
          "2004-09-18T00:02:00",
          "2004-09-18T01:06:00",
          "2004-09-20T05:36:00",
          "2004-09-20T14:28:00",
          "2004-09-20T22:20:00"
         ],
         "y": [
          1,
          0.5,
          0.6666666666666666,
          0.75,
          0.8,
          0.8333333333333334,
          0.8571428571428571,
          0.875,
          0.8888888888888888,
          0.8,
          0.7272727272727273,
          0.6666666666666666,
          0.6923076923076923,
          0.7142857142857143,
          0.7333333333333333,
          0.75,
          0.7058823529411765,
          0.7222222222222222,
          0.7368421052631579,
          0.75,
          0.7619047619047619,
          0.7727272727272727,
          0.782608695652174,
          0.7916666666666666,
          0.8,
          0.8076923076923077,
          0.8148148148148148
         ]
        }
       ],
       "layout": {
        "autosize": true,
        "template": {
         "data": {
          "bar": [
           {
            "error_x": {
             "color": "#2a3f5f"
            },
            "error_y": {
             "color": "#2a3f5f"
            },
            "marker": {
             "line": {
              "color": "#E5ECF6",
              "width": 0.5
             }
            },
            "type": "bar"
           }
          ],
          "barpolar": [
           {
            "marker": {
             "line": {
              "color": "#E5ECF6",
              "width": 0.5
             }
            },
            "type": "barpolar"
           }
          ],
          "carpet": [
           {
            "aaxis": {
             "endlinecolor": "#2a3f5f",
             "gridcolor": "white",
             "linecolor": "white",
             "minorgridcolor": "white",
             "startlinecolor": "#2a3f5f"
            },
            "baxis": {
             "endlinecolor": "#2a3f5f",
             "gridcolor": "white",
             "linecolor": "white",
             "minorgridcolor": "white",
             "startlinecolor": "#2a3f5f"
            },
            "type": "carpet"
           }
          ],
          "choropleth": [
           {
            "colorbar": {
             "outlinewidth": 0,
             "ticks": ""
            },
            "type": "choropleth"
           }
          ],
          "contour": [
           {
            "colorbar": {
             "outlinewidth": 0,
             "ticks": ""
            },
            "colorscale": [
             [
              0,
              "#0d0887"
             ],
             [
              0.1111111111111111,
              "#46039f"
             ],
             [
              0.2222222222222222,
              "#7201a8"
             ],
             [
              0.3333333333333333,
              "#9c179e"
             ],
             [
              0.4444444444444444,
              "#bd3786"
             ],
             [
              0.5555555555555556,
              "#d8576b"
             ],
             [
              0.6666666666666666,
              "#ed7953"
             ],
             [
              0.7777777777777778,
              "#fb9f3a"
             ],
             [
              0.8888888888888888,
              "#fdca26"
             ],
             [
              1,
              "#f0f921"
             ]
            ],
            "type": "contour"
           }
          ],
          "contourcarpet": [
           {
            "colorbar": {
             "outlinewidth": 0,
             "ticks": ""
            },
            "type": "contourcarpet"
           }
          ],
          "heatmap": [
           {
            "colorbar": {
             "outlinewidth": 0,
             "ticks": ""
            },
            "colorscale": [
             [
              0,
              "#0d0887"
             ],
             [
              0.1111111111111111,
              "#46039f"
             ],
             [
              0.2222222222222222,
              "#7201a8"
             ],
             [
              0.3333333333333333,
              "#9c179e"
             ],
             [
              0.4444444444444444,
              "#bd3786"
             ],
             [
              0.5555555555555556,
              "#d8576b"
             ],
             [
              0.6666666666666666,
              "#ed7953"
             ],
             [
              0.7777777777777778,
              "#fb9f3a"
             ],
             [
              0.8888888888888888,
              "#fdca26"
             ],
             [
              1,
              "#f0f921"
             ]
            ],
            "type": "heatmap"
           }
          ],
          "heatmapgl": [
           {
            "colorbar": {
             "outlinewidth": 0,
             "ticks": ""
            },
            "colorscale": [
             [
              0,
              "#0d0887"
             ],
             [
              0.1111111111111111,
              "#46039f"
             ],
             [
              0.2222222222222222,
              "#7201a8"
             ],
             [
              0.3333333333333333,
              "#9c179e"
             ],
             [
              0.4444444444444444,
              "#bd3786"
             ],
             [
              0.5555555555555556,
              "#d8576b"
             ],
             [
              0.6666666666666666,
              "#ed7953"
             ],
             [
              0.7777777777777778,
              "#fb9f3a"
             ],
             [
              0.8888888888888888,
              "#fdca26"
             ],
             [
              1,
              "#f0f921"
             ]
            ],
            "type": "heatmapgl"
           }
          ],
          "histogram": [
           {
            "marker": {
             "colorbar": {
              "outlinewidth": 0,
              "ticks": ""
             }
            },
            "type": "histogram"
           }
          ],
          "histogram2d": [
           {
            "colorbar": {
             "outlinewidth": 0,
             "ticks": ""
            },
            "colorscale": [
             [
              0,
              "#0d0887"
             ],
             [
              0.1111111111111111,
              "#46039f"
             ],
             [
              0.2222222222222222,
              "#7201a8"
             ],
             [
              0.3333333333333333,
              "#9c179e"
             ],
             [
              0.4444444444444444,
              "#bd3786"
             ],
             [
              0.5555555555555556,
              "#d8576b"
             ],
             [
              0.6666666666666666,
              "#ed7953"
             ],
             [
              0.7777777777777778,
              "#fb9f3a"
             ],
             [
              0.8888888888888888,
              "#fdca26"
             ],
             [
              1,
              "#f0f921"
             ]
            ],
            "type": "histogram2d"
           }
          ],
          "histogram2dcontour": [
           {
            "colorbar": {
             "outlinewidth": 0,
             "ticks": ""
            },
            "colorscale": [
             [
              0,
              "#0d0887"
             ],
             [
              0.1111111111111111,
              "#46039f"
             ],
             [
              0.2222222222222222,
              "#7201a8"
             ],
             [
              0.3333333333333333,
              "#9c179e"
             ],
             [
              0.4444444444444444,
              "#bd3786"
             ],
             [
              0.5555555555555556,
              "#d8576b"
             ],
             [
              0.6666666666666666,
              "#ed7953"
             ],
             [
              0.7777777777777778,
              "#fb9f3a"
             ],
             [
              0.8888888888888888,
              "#fdca26"
             ],
             [
              1,
              "#f0f921"
             ]
            ],
            "type": "histogram2dcontour"
           }
          ],
          "mesh3d": [
           {
            "colorbar": {
             "outlinewidth": 0,
             "ticks": ""
            },
            "type": "mesh3d"
           }
          ],
          "parcoords": [
           {
            "line": {
             "colorbar": {
              "outlinewidth": 0,
              "ticks": ""
             }
            },
            "type": "parcoords"
           }
          ],
          "pie": [
           {
            "automargin": true,
            "type": "pie"
           }
          ],
          "scatter": [
           {
            "marker": {
             "colorbar": {
              "outlinewidth": 0,
              "ticks": ""
             }
            },
            "type": "scatter"
           }
          ],
          "scatter3d": [
           {
            "line": {
             "colorbar": {
              "outlinewidth": 0,
              "ticks": ""
             }
            },
            "marker": {
             "colorbar": {
              "outlinewidth": 0,
              "ticks": ""
             }
            },
            "type": "scatter3d"
           }
          ],
          "scattercarpet": [
           {
            "marker": {
             "colorbar": {
              "outlinewidth": 0,
              "ticks": ""
             }
            },
            "type": "scattercarpet"
           }
          ],
          "scattergeo": [
           {
            "marker": {
             "colorbar": {
              "outlinewidth": 0,
              "ticks": ""
             }
            },
            "type": "scattergeo"
           }
          ],
          "scattergl": [
           {
            "marker": {
             "colorbar": {
              "outlinewidth": 0,
              "ticks": ""
             }
            },
            "type": "scattergl"
           }
          ],
          "scattermapbox": [
           {
            "marker": {
             "colorbar": {
              "outlinewidth": 0,
              "ticks": ""
             }
            },
            "type": "scattermapbox"
           }
          ],
          "scatterpolar": [
           {
            "marker": {
             "colorbar": {
              "outlinewidth": 0,
              "ticks": ""
             }
            },
            "type": "scatterpolar"
           }
          ],
          "scatterpolargl": [
           {
            "marker": {
             "colorbar": {
              "outlinewidth": 0,
              "ticks": ""
             }
            },
            "type": "scatterpolargl"
           }
          ],
          "scatterternary": [
           {
            "marker": {
             "colorbar": {
              "outlinewidth": 0,
              "ticks": ""
             }
            },
            "type": "scatterternary"
           }
          ],
          "surface": [
           {
            "colorbar": {
             "outlinewidth": 0,
             "ticks": ""
            },
            "colorscale": [
             [
              0,
              "#0d0887"
             ],
             [
              0.1111111111111111,
              "#46039f"
             ],
             [
              0.2222222222222222,
              "#7201a8"
             ],
             [
              0.3333333333333333,
              "#9c179e"
             ],
             [
              0.4444444444444444,
              "#bd3786"
             ],
             [
              0.5555555555555556,
              "#d8576b"
             ],
             [
              0.6666666666666666,
              "#ed7953"
             ],
             [
              0.7777777777777778,
              "#fb9f3a"
             ],
             [
              0.8888888888888888,
              "#fdca26"
             ],
             [
              1,
              "#f0f921"
             ]
            ],
            "type": "surface"
           }
          ],
          "table": [
           {
            "cells": {
             "fill": {
              "color": "#EBF0F8"
             },
             "line": {
              "color": "white"
             }
            },
            "header": {
             "fill": {
              "color": "#C8D4E3"
             },
             "line": {
              "color": "white"
             }
            },
            "type": "table"
           }
          ]
         },
         "layout": {
          "annotationdefaults": {
           "arrowcolor": "#2a3f5f",
           "arrowhead": 0,
           "arrowwidth": 1
          },
          "coloraxis": {
           "colorbar": {
            "outlinewidth": 0,
            "ticks": ""
           }
          },
          "colorscale": {
           "diverging": [
            [
             0,
             "#8e0152"
            ],
            [
             0.1,
             "#c51b7d"
            ],
            [
             0.2,
             "#de77ae"
            ],
            [
             0.3,
             "#f1b6da"
            ],
            [
             0.4,
             "#fde0ef"
            ],
            [
             0.5,
             "#f7f7f7"
            ],
            [
             0.6,
             "#e6f5d0"
            ],
            [
             0.7,
             "#b8e186"
            ],
            [
             0.8,
             "#7fbc41"
            ],
            [
             0.9,
             "#4d9221"
            ],
            [
             1,
             "#276419"
            ]
           ],
           "sequential": [
            [
             0,
             "#0d0887"
            ],
            [
             0.1111111111111111,
             "#46039f"
            ],
            [
             0.2222222222222222,
             "#7201a8"
            ],
            [
             0.3333333333333333,
             "#9c179e"
            ],
            [
             0.4444444444444444,
             "#bd3786"
            ],
            [
             0.5555555555555556,
             "#d8576b"
            ],
            [
             0.6666666666666666,
             "#ed7953"
            ],
            [
             0.7777777777777778,
             "#fb9f3a"
            ],
            [
             0.8888888888888888,
             "#fdca26"
            ],
            [
             1,
             "#f0f921"
            ]
           ],
           "sequentialminus": [
            [
             0,
             "#0d0887"
            ],
            [
             0.1111111111111111,
             "#46039f"
            ],
            [
             0.2222222222222222,
             "#7201a8"
            ],
            [
             0.3333333333333333,
             "#9c179e"
            ],
            [
             0.4444444444444444,
             "#bd3786"
            ],
            [
             0.5555555555555556,
             "#d8576b"
            ],
            [
             0.6666666666666666,
             "#ed7953"
            ],
            [
             0.7777777777777778,
             "#fb9f3a"
            ],
            [
             0.8888888888888888,
             "#fdca26"
            ],
            [
             1,
             "#f0f921"
            ]
           ]
          },
          "colorway": [
           "#636efa",
           "#EF553B",
           "#00cc96",
           "#ab63fa",
           "#FFA15A",
           "#19d3f3",
           "#FF6692",
           "#B6E880",
           "#FF97FF",
           "#FECB52"
          ],
          "font": {
           "color": "#2a3f5f"
          },
          "geo": {
           "bgcolor": "white",
           "lakecolor": "white",
           "landcolor": "#E5ECF6",
           "showlakes": true,
           "showland": true,
           "subunitcolor": "white"
          },
          "hoverlabel": {
           "align": "left"
          },
          "hovermode": "closest",
          "mapbox": {
           "style": "light"
          },
          "paper_bgcolor": "white",
          "plot_bgcolor": "#E5ECF6",
          "polar": {
           "angularaxis": {
            "gridcolor": "white",
            "linecolor": "white",
            "ticks": ""
           },
           "bgcolor": "#E5ECF6",
           "radialaxis": {
            "gridcolor": "white",
            "linecolor": "white",
            "ticks": ""
           }
          },
          "scene": {
           "xaxis": {
            "backgroundcolor": "#E5ECF6",
            "gridcolor": "white",
            "gridwidth": 2,
            "linecolor": "white",
            "showbackground": true,
            "ticks": "",
            "zerolinecolor": "white"
           },
           "yaxis": {
            "backgroundcolor": "#E5ECF6",
            "gridcolor": "white",
            "gridwidth": 2,
            "linecolor": "white",
            "showbackground": true,
            "ticks": "",
            "zerolinecolor": "white"
           },
           "zaxis": {
            "backgroundcolor": "#E5ECF6",
            "gridcolor": "white",
            "gridwidth": 2,
            "linecolor": "white",
            "showbackground": true,
            "ticks": "",
            "zerolinecolor": "white"
           }
          },
          "shapedefaults": {
           "line": {
            "color": "#2a3f5f"
           }
          },
          "ternary": {
           "aaxis": {
            "gridcolor": "white",
            "linecolor": "white",
            "ticks": ""
           },
           "baxis": {
            "gridcolor": "white",
            "linecolor": "white",
            "ticks": ""
           },
           "bgcolor": "#E5ECF6",
           "caxis": {
            "gridcolor": "white",
            "linecolor": "white",
            "ticks": ""
           }
          },
          "title": {
           "x": 0.05
          },
          "xaxis": {
           "automargin": true,
           "gridcolor": "white",
           "linecolor": "white",
           "ticks": "",
           "title": {
            "standoff": 15
           },
           "zerolinecolor": "white",
           "zerolinewidth": 2
          },
          "yaxis": {
           "automargin": true,
           "gridcolor": "white",
           "linecolor": "white",
           "ticks": "",
           "title": {
            "standoff": 15
           },
           "zerolinecolor": "white",
           "zerolinewidth": 2
          }
         }
        },
        "title": {
         "text": "Proportion of positive votes over total votes over time"
        },
        "xaxis": {
         "autorange": true,
         "range": [
          "2004-09-14 16:26",
          "2004-09-20 22:20"
         ],
         "title": {
          "text": "time"
         },
         "type": "date"
        },
        "yaxis": {
         "autorange": true,
         "range": [
          0.4722222222222222,
          1.0277777777777777
         ],
         "title": {
          "text": "proportion of positive votes over total votes"
         },
         "type": "linear"
        }
       }
      },
      "image/png": "[encoded data removed]",
      "text/html": [
       "<div>                            <div id=\"f44add15-fc17-4f32-bdef-467ee88ce8b1\" class=\"plotly-graph-div\" style=\"height:525px; width:100%;\"></div>            <script type=\"text/javascript\">                require([\"plotly\"], function(Plotly) {                    window.PLOTLYENV=window.PLOTLYENV || {};                                    if (document.getElementById(\"f44add15-fc17-4f32-bdef-467ee88ce8b1\")) {                    Plotly.newPlot(                        \"f44add15-fc17-4f32-bdef-467ee88ce8b1\",                        [{\"hovertemplate\": \"<br><b>Date </b>: %{x}<br><b>Fraction of positive votes </b>: %{y:.2f}\", \"mode\": \"lines\", \"name\": \"proportion of positive votes over total votes until this time instant\", \"type\": \"scatter\", \"x\": [\"2004-09-14T16:26:00\", \"2004-09-14T16:53:00\", \"2004-09-14T17:08:00\", \"2004-09-14T17:37:00\", \"2004-09-14T19:28:00\", \"2004-09-14T19:37:00\", \"2004-09-14T21:04:00\", \"2004-09-14T21:30:00\", \"2004-09-14T22:13:00\", \"2004-09-14T22:18:00\", \"2004-09-15T03:19:00\", \"2004-09-15T03:20:00\", \"2004-09-15T04:28:00\", \"2004-09-15T06:56:00\", \"2004-09-15T09:19:00\", \"2004-09-15T12:20:00\", \"2004-09-16T00:58:00\", \"2004-09-16T14:50:00\", \"2004-09-16T15:31:00\", \"2004-09-17T13:49:00\", \"2004-09-17T20:57:00\", \"2004-09-17T22:11:00\", \"2004-09-18T00:02:00\", \"2004-09-18T01:06:00\", \"2004-09-20T05:36:00\", \"2004-09-20T14:28:00\", \"2004-09-20T22:20:00\"], \"y\": [1.0, 0.5, 0.6666666666666666, 0.75, 0.8, 0.8333333333333334, 0.8571428571428571, 0.875, 0.8888888888888888, 0.8, 0.7272727272727273, 0.6666666666666666, 0.6923076923076923, 0.7142857142857143, 0.7333333333333333, 0.75, 0.7058823529411765, 0.7222222222222222, 0.7368421052631579, 0.75, 0.7619047619047619, 0.7727272727272727, 0.782608695652174, 0.7916666666666666, 0.8, 0.8076923076923077, 0.8148148148148148]}],                        {\"template\": {\"data\": {\"bar\": [{\"error_x\": {\"color\": \"#2a3f5f\"}, \"error_y\": {\"color\": \"#2a3f5f\"}, \"marker\": {\"line\": {\"color\": \"#E5ECF6\", \"width\": 0.5}}, \"type\": \"bar\"}], \"barpolar\": [{\"marker\": {\"line\": {\"color\": \"#E5ECF6\", \"width\": 0.5}}, \"type\": \"barpolar\"}], \"carpet\": [{\"aaxis\": {\"endlinecolor\": \"#2a3f5f\", \"gridcolor\": \"white\", \"linecolor\": \"white\", \"minorgridcolor\": \"white\", \"startlinecolor\": \"#2a3f5f\"}, \"baxis\": {\"endlinecolor\": \"#2a3f5f\", \"gridcolor\": \"white\", \"linecolor\": \"white\", \"minorgridcolor\": \"white\", \"startlinecolor\": \"#2a3f5f\"}, \"type\": \"carpet\"}], \"choropleth\": [{\"colorbar\": {\"outlinewidth\": 0, \"ticks\": \"\"}, \"type\": \"choropleth\"}], \"contour\": [{\"colorbar\": {\"outlinewidth\": 0, \"ticks\": \"\"}, \"colorscale\": [[0.0, \"#0d0887\"], [0.1111111111111111, \"#46039f\"], [0.2222222222222222, \"#7201a8\"], [0.3333333333333333, \"#9c179e\"], [0.4444444444444444, \"#bd3786\"], [0.5555555555555556, \"#d8576b\"], [0.6666666666666666, \"#ed7953\"], [0.7777777777777778, \"#fb9f3a\"], [0.8888888888888888, \"#fdca26\"], [1.0, \"#f0f921\"]], \"type\": \"contour\"}], \"contourcarpet\": [{\"colorbar\": {\"outlinewidth\": 0, \"ticks\": \"\"}, \"type\": \"contourcarpet\"}], \"heatmap\": [{\"colorbar\": {\"outlinewidth\": 0, \"ticks\": \"\"}, \"colorscale\": [[0.0, \"#0d0887\"], [0.1111111111111111, \"#46039f\"], [0.2222222222222222, \"#7201a8\"], [0.3333333333333333, \"#9c179e\"], [0.4444444444444444, \"#bd3786\"], [0.5555555555555556, \"#d8576b\"], [0.6666666666666666, \"#ed7953\"], [0.7777777777777778, \"#fb9f3a\"], [0.8888888888888888, \"#fdca26\"], [1.0, \"#f0f921\"]], \"type\": \"heatmap\"}], \"heatmapgl\": [{\"colorbar\": {\"outlinewidth\": 0, \"ticks\": \"\"}, \"colorscale\": [[0.0, \"#0d0887\"], [0.1111111111111111, \"#46039f\"], [0.2222222222222222, \"#7201a8\"], [0.3333333333333333, \"#9c179e\"], [0.4444444444444444, \"#bd3786\"], [0.5555555555555556, \"#d8576b\"], [0.6666666666666666, \"#ed7953\"], [0.7777777777777778, \"#fb9f3a\"], [0.8888888888888888, \"#fdca26\"], [1.0, \"#f0f921\"]], \"type\": \"heatmapgl\"}], \"histogram\": [{\"marker\": {\"colorbar\": {\"outlinewidth\": 0, \"ticks\": \"\"}}, \"type\": \"histogram\"}], \"histogram2d\": [{\"colorbar\": {\"outlinewidth\": 0, \"ticks\": \"\"}, \"colorscale\": [[0.0, \"#0d0887\"], [0.1111111111111111, \"#46039f\"], [0.2222222222222222, \"#7201a8\"], [0.3333333333333333, \"#9c179e\"], [0.4444444444444444, \"#bd3786\"], [0.5555555555555556, \"#d8576b\"], [0.6666666666666666, \"#ed7953\"], [0.7777777777777778, \"#fb9f3a\"], [0.8888888888888888, \"#fdca26\"], [1.0, \"#f0f921\"]], \"type\": \"histogram2d\"}], \"histogram2dcontour\": [{\"colorbar\": {\"outlinewidth\": 0, \"ticks\": \"\"}, \"colorscale\": [[0.0, \"#0d0887\"], [0.1111111111111111, \"#46039f\"], [0.2222222222222222, \"#7201a8\"], [0.3333333333333333, \"#9c179e\"], [0.4444444444444444, \"#bd3786\"], [0.5555555555555556, \"#d8576b\"], [0.6666666666666666, \"#ed7953\"], [0.7777777777777778, \"#fb9f3a\"], [0.8888888888888888, \"#fdca26\"], [1.0, \"#f0f921\"]], \"type\": \"histogram2dcontour\"}], \"mesh3d\": [{\"colorbar\": {\"outlinewidth\": 0, \"ticks\": \"\"}, \"type\": \"mesh3d\"}], \"parcoords\": [{\"line\": {\"colorbar\": {\"outlinewidth\": 0, \"ticks\": \"\"}}, \"type\": \"parcoords\"}], \"pie\": [{\"automargin\": true, \"type\": \"pie\"}], \"scatter\": [{\"marker\": {\"colorbar\": {\"outlinewidth\": 0, \"ticks\": \"\"}}, \"type\": \"scatter\"}], \"scatter3d\": [{\"line\": {\"colorbar\": {\"outlinewidth\": 0, \"ticks\": \"\"}}, \"marker\": {\"colorbar\": {\"outlinewidth\": 0, \"ticks\": \"\"}}, \"type\": \"scatter3d\"}], \"scattercarpet\": [{\"marker\": {\"colorbar\": {\"outlinewidth\": 0, \"ticks\": \"\"}}, \"type\": \"scattercarpet\"}], \"scattergeo\": [{\"marker\": {\"colorbar\": {\"outlinewidth\": 0, \"ticks\": \"\"}}, \"type\": \"scattergeo\"}], \"scattergl\": [{\"marker\": {\"colorbar\": {\"outlinewidth\": 0, \"ticks\": \"\"}}, \"type\": \"scattergl\"}], \"scattermapbox\": [{\"marker\": {\"colorbar\": {\"outlinewidth\": 0, \"ticks\": \"\"}}, \"type\": \"scattermapbox\"}], \"scatterpolar\": [{\"marker\": {\"colorbar\": {\"outlinewidth\": 0, \"ticks\": \"\"}}, \"type\": \"scatterpolar\"}], \"scatterpolargl\": [{\"marker\": {\"colorbar\": {\"outlinewidth\": 0, \"ticks\": \"\"}}, \"type\": \"scatterpolargl\"}], \"scatterternary\": [{\"marker\": {\"colorbar\": {\"outlinewidth\": 0, \"ticks\": \"\"}}, \"type\": \"scatterternary\"}], \"surface\": [{\"colorbar\": {\"outlinewidth\": 0, \"ticks\": \"\"}, \"colorscale\": [[0.0, \"#0d0887\"], [0.1111111111111111, \"#46039f\"], [0.2222222222222222, \"#7201a8\"], [0.3333333333333333, \"#9c179e\"], [0.4444444444444444, \"#bd3786\"], [0.5555555555555556, \"#d8576b\"], [0.6666666666666666, \"#ed7953\"], [0.7777777777777778, \"#fb9f3a\"], [0.8888888888888888, \"#fdca26\"], [1.0, \"#f0f921\"]], \"type\": \"surface\"}], \"table\": [{\"cells\": {\"fill\": {\"color\": \"#EBF0F8\"}, \"line\": {\"color\": \"white\"}}, \"header\": {\"fill\": {\"color\": \"#C8D4E3\"}, \"line\": {\"color\": \"white\"}}, \"type\": \"table\"}]}, \"layout\": {\"annotationdefaults\": {\"arrowcolor\": \"#2a3f5f\", \"arrowhead\": 0, \"arrowwidth\": 1}, \"coloraxis\": {\"colorbar\": {\"outlinewidth\": 0, \"ticks\": \"\"}}, \"colorscale\": {\"diverging\": [[0, \"#8e0152\"], [0.1, \"#c51b7d\"], [0.2, \"#de77ae\"], [0.3, \"#f1b6da\"], [0.4, \"#fde0ef\"], [0.5, \"#f7f7f7\"], [0.6, \"#e6f5d0\"], [0.7, \"#b8e186\"], [0.8, \"#7fbc41\"], [0.9, \"#4d9221\"], [1, \"#276419\"]], \"sequential\": [[0.0, \"#0d0887\"], [0.1111111111111111, \"#46039f\"], [0.2222222222222222, \"#7201a8\"], [0.3333333333333333, \"#9c179e\"], [0.4444444444444444, \"#bd3786\"], [0.5555555555555556, \"#d8576b\"], [0.6666666666666666, \"#ed7953\"], [0.7777777777777778, \"#fb9f3a\"], [0.8888888888888888, \"#fdca26\"], [1.0, \"#f0f921\"]], \"sequentialminus\": [[0.0, \"#0d0887\"], [0.1111111111111111, \"#46039f\"], [0.2222222222222222, \"#7201a8\"], [0.3333333333333333, \"#9c179e\"], [0.4444444444444444, \"#bd3786\"], [0.5555555555555556, \"#d8576b\"], [0.6666666666666666, \"#ed7953\"], [0.7777777777777778, \"#fb9f3a\"], [0.8888888888888888, \"#fdca26\"], [1.0, \"#f0f921\"]]}, \"colorway\": [\"#636efa\", \"#EF553B\", \"#00cc96\", \"#ab63fa\", \"#FFA15A\", \"#19d3f3\", \"#FF6692\", \"#B6E880\", \"#FF97FF\", \"#FECB52\"], \"font\": {\"color\": \"#2a3f5f\"}, \"geo\": {\"bgcolor\": \"white\", \"lakecolor\": \"white\", \"landcolor\": \"#E5ECF6\", \"showlakes\": true, \"showland\": true, \"subunitcolor\": \"white\"}, \"hoverlabel\": {\"align\": \"left\"}, \"hovermode\": \"closest\", \"mapbox\": {\"style\": \"light\"}, \"paper_bgcolor\": \"white\", \"plot_bgcolor\": \"#E5ECF6\", \"polar\": {\"angularaxis\": {\"gridcolor\": \"white\", \"linecolor\": \"white\", \"ticks\": \"\"}, \"bgcolor\": \"#E5ECF6\", \"radialaxis\": {\"gridcolor\": \"white\", \"linecolor\": \"white\", \"ticks\": \"\"}}, \"scene\": {\"xaxis\": {\"backgroundcolor\": \"#E5ECF6\", \"gridcolor\": \"white\", \"gridwidth\": 2, \"linecolor\": \"white\", \"showbackground\": true, \"ticks\": \"\", \"zerolinecolor\": \"white\"}, \"yaxis\": {\"backgroundcolor\": \"#E5ECF6\", \"gridcolor\": \"white\", \"gridwidth\": 2, \"linecolor\": \"white\", \"showbackground\": true, \"ticks\": \"\", \"zerolinecolor\": \"white\"}, \"zaxis\": {\"backgroundcolor\": \"#E5ECF6\", \"gridcolor\": \"white\", \"gridwidth\": 2, \"linecolor\": \"white\", \"showbackground\": true, \"ticks\": \"\", \"zerolinecolor\": \"white\"}}, \"shapedefaults\": {\"line\": {\"color\": \"#2a3f5f\"}}, \"ternary\": {\"aaxis\": {\"gridcolor\": \"white\", \"linecolor\": \"white\", \"ticks\": \"\"}, \"baxis\": {\"gridcolor\": \"white\", \"linecolor\": \"white\", \"ticks\": \"\"}, \"bgcolor\": \"#E5ECF6\", \"caxis\": {\"gridcolor\": \"white\", \"linecolor\": \"white\", \"ticks\": \"\"}}, \"title\": {\"x\": 0.05}, \"xaxis\": {\"automargin\": true, \"gridcolor\": \"white\", \"linecolor\": \"white\", \"ticks\": \"\", \"title\": {\"standoff\": 15}, \"zerolinecolor\": \"white\", \"zerolinewidth\": 2}, \"yaxis\": {\"automargin\": true, \"gridcolor\": \"white\", \"linecolor\": \"white\", \"ticks\": \"\", \"title\": {\"standoff\": 15}, \"zerolinecolor\": \"white\", \"zerolinewidth\": 2}}}, \"title\": {\"text\": \"Proportion of positive votes over total votes over time\"}, \"xaxis\": {\"title\": {\"text\": \"time\"}}, \"yaxis\": {\"title\": {\"text\": \"proportion of positive votes over total votes\"}}},                        {\"responsive\": true}                    ).then(function(){\n",
       "                            \n",
       "var gd = document.getElementById('f44add15-fc17-4f32-bdef-467ee88ce8b1');\n",
       "var x = new MutationObserver(function (mutations, observer) {{\n",
       "        var display = window.getComputedStyle(gd).display;\n",
       "        if (!display || display === 'none') {{\n",
       "            console.log([gd, 'removed!']);\n",
       "            Plotly.purge(gd);\n",
       "            observer.disconnect();\n",
       "        }}\n",
       "}});\n",
       "\n",
       "// Listen for the removal of the full notebook cells\n",
       "var notebookContainer = gd.closest('#notebook-container');\n",
       "if (notebookContainer) {{\n",
       "    x.observe(notebookContainer, {childList: true});\n",
       "}}\n",
       "\n",
       "// Listen for the clearing of the current output cell\n",
       "var outputEl = gd.closest('.output');\n",
       "if (outputEl) {{\n",
       "    x.observe(outputEl, {childList: true});\n",
       "}}\n",
       "\n",
       "                        })                };                });            </script>        </div>"
      ]
     },
     "metadata": {},
     "output_type": "display_data"
    }
   ],
   "source": [
    "#PLOT 1: graph for the first election\n",
    "first_candidate_id = wikipedia['candidate_id'][0]\n",
    "first_election = wikipedia[wikipedia['candidate_id']==first_candidate_id]\n",
    "\n",
    "#VERSION FRAC\n",
    "frac=[]\n",
    "pos_counter=0\n",
    "for i in range(len(first_election)):\n",
    "    if (first_election['vote'][i]==1):\n",
    "        pos_counter += 1 \n",
    "    frac.append( pos_counter/(i+1))\n",
    "\n",
    "fig=go.Figure()\n",
    "\n",
    "fig.add_trace(go.Scatter(\n",
    "    x= first_election['vote_time'],\n",
    "    y= frac,\n",
    "    mode=\"lines\",\n",
    "    name=\"proportion of positive votes over total votes until this time instant\",\n",
    "    hovertemplate =\n",
    "    '<br><b>Date </b>: %{x}'+\n",
    "    '<br><b>Fraction of positive votes </b>: %{y:.2f}'\n",
    "))\n",
    "\n",
    "fig.update_layout(\n",
    "    title=\"Proportion of positive votes over total votes over time\",\n",
    "    xaxis_title=\"time\",\n",
    "    yaxis_title=\"proportion of positive votes over total votes\")\n",
    "fig.show()"
   ]
  },
  {
   "cell_type": "code",
   "execution_count": 32,
   "metadata": {},
   "outputs": [
    {
     "data": {
      "application/vnd.plotly.v1+json": {
       "config": {
        "plotlyServerURL": "https://plot.ly"
       },
       "data": [
        {
         "hovertemplate": "<br><b>Date </b>: %{x}<br><b>Fraction of positive votes </b>: %{y:.2f}",
         "mode": "lines",
         "name": "proportion of positive votes over total votes until this time instant",
         "type": "scatter",
         "x": [
          "2004-09-14T16:26:00",
          "2004-09-14T16:53:00",
          "2004-09-14T17:08:00",
          "2004-09-14T17:37:00",
          "2004-09-14T19:28:00",
          "2004-09-14T19:37:00",
          "2004-09-14T21:04:00",
          "2004-09-14T21:30:00",
          "2004-09-14T22:13:00",
          "2004-09-14T22:18:00",
          "2004-09-15T03:19:00",
          "2004-09-15T03:20:00",
          "2004-09-15T04:28:00",
          "2004-09-15T06:56:00",
          "2004-09-15T09:19:00",
          "2004-09-15T12:20:00",
          "2004-09-16T00:58:00",
          "2004-09-16T14:50:00",
          "2004-09-16T15:31:00",
          "2004-09-17T13:49:00",
          "2004-09-17T20:57:00",
          "2004-09-17T22:11:00",
          "2004-09-18T00:02:00",
          "2004-09-18T01:06:00",
          "2004-09-20T05:36:00",
          "2004-09-20T14:28:00",
          "2004-09-20T22:20:00"
         ],
         "y": [
          1,
          0,
          0.3333333333333333,
          0.5,
          0.6,
          0.6666666666666666,
          0.7142857142857143,
          0.75,
          0.7777777777777778,
          0.7,
          0.6363636363636364,
          0.5833333333333334,
          0.6153846153846154,
          0.6428571428571429,
          0.6666666666666666,
          0.6875,
          0.6470588235294118,
          0.6666666666666666,
          0.6842105263157895,
          0.7,
          0.7142857142857143,
          0.7272727272727273,
          0.7391304347826086,
          0.75,
          0.76,
          0.7692307692307693,
          0.7777777777777778
         ]
        }
       ],
       "layout": {
        "autosize": true,
        "template": {
         "data": {
          "bar": [
           {
            "error_x": {
             "color": "#2a3f5f"
            },
            "error_y": {
             "color": "#2a3f5f"
            },
            "marker": {
             "line": {
              "color": "#E5ECF6",
              "width": 0.5
             }
            },
            "type": "bar"
           }
          ],
          "barpolar": [
           {
            "marker": {
             "line": {
              "color": "#E5ECF6",
              "width": 0.5
             }
            },
            "type": "barpolar"
           }
          ],
          "carpet": [
           {
            "aaxis": {
             "endlinecolor": "#2a3f5f",
             "gridcolor": "white",
             "linecolor": "white",
             "minorgridcolor": "white",
             "startlinecolor": "#2a3f5f"
            },
            "baxis": {
             "endlinecolor": "#2a3f5f",
             "gridcolor": "white",
             "linecolor": "white",
             "minorgridcolor": "white",
             "startlinecolor": "#2a3f5f"
            },
            "type": "carpet"
           }
          ],
          "choropleth": [
           {
            "colorbar": {
             "outlinewidth": 0,
             "ticks": ""
            },
            "type": "choropleth"
           }
          ],
          "contour": [
           {
            "colorbar": {
             "outlinewidth": 0,
             "ticks": ""
            },
            "colorscale": [
             [
              0,
              "#0d0887"
             ],
             [
              0.1111111111111111,
              "#46039f"
             ],
             [
              0.2222222222222222,
              "#7201a8"
             ],
             [
              0.3333333333333333,
              "#9c179e"
             ],
             [
              0.4444444444444444,
              "#bd3786"
             ],
             [
              0.5555555555555556,
              "#d8576b"
             ],
             [
              0.6666666666666666,
              "#ed7953"
             ],
             [
              0.7777777777777778,
              "#fb9f3a"
             ],
             [
              0.8888888888888888,
              "#fdca26"
             ],
             [
              1,
              "#f0f921"
             ]
            ],
            "type": "contour"
           }
          ],
          "contourcarpet": [
           {
            "colorbar": {
             "outlinewidth": 0,
             "ticks": ""
            },
            "type": "contourcarpet"
           }
          ],
          "heatmap": [
           {
            "colorbar": {
             "outlinewidth": 0,
             "ticks": ""
            },
            "colorscale": [
             [
              0,
              "#0d0887"
             ],
             [
              0.1111111111111111,
              "#46039f"
             ],
             [
              0.2222222222222222,
              "#7201a8"
             ],
             [
              0.3333333333333333,
              "#9c179e"
             ],
             [
              0.4444444444444444,
              "#bd3786"
             ],
             [
              0.5555555555555556,
              "#d8576b"
             ],
             [
              0.6666666666666666,
              "#ed7953"
             ],
             [
              0.7777777777777778,
              "#fb9f3a"
             ],
             [
              0.8888888888888888,
              "#fdca26"
             ],
             [
              1,
              "#f0f921"
             ]
            ],
            "type": "heatmap"
           }
          ],
          "heatmapgl": [
           {
            "colorbar": {
             "outlinewidth": 0,
             "ticks": ""
            },
            "colorscale": [
             [
              0,
              "#0d0887"
             ],
             [
              0.1111111111111111,
              "#46039f"
             ],
             [
              0.2222222222222222,
              "#7201a8"
             ],
             [
              0.3333333333333333,
              "#9c179e"
             ],
             [
              0.4444444444444444,
              "#bd3786"
             ],
             [
              0.5555555555555556,
              "#d8576b"
             ],
             [
              0.6666666666666666,
              "#ed7953"
             ],
             [
              0.7777777777777778,
              "#fb9f3a"
             ],
             [
              0.8888888888888888,
              "#fdca26"
             ],
             [
              1,
              "#f0f921"
             ]
            ],
            "type": "heatmapgl"
           }
          ],
          "histogram": [
           {
            "marker": {
             "colorbar": {
              "outlinewidth": 0,
              "ticks": ""
             }
            },
            "type": "histogram"
           }
          ],
          "histogram2d": [
           {
            "colorbar": {
             "outlinewidth": 0,
             "ticks": ""
            },
            "colorscale": [
             [
              0,
              "#0d0887"
             ],
             [
              0.1111111111111111,
              "#46039f"
             ],
             [
              0.2222222222222222,
              "#7201a8"
             ],
             [
              0.3333333333333333,
              "#9c179e"
             ],
             [
              0.4444444444444444,
              "#bd3786"
             ],
             [
              0.5555555555555556,
              "#d8576b"
             ],
             [
              0.6666666666666666,
              "#ed7953"
             ],
             [
              0.7777777777777778,
              "#fb9f3a"
             ],
             [
              0.8888888888888888,
              "#fdca26"
             ],
             [
              1,
              "#f0f921"
             ]
            ],
            "type": "histogram2d"
           }
          ],
          "histogram2dcontour": [
           {
            "colorbar": {
             "outlinewidth": 0,
             "ticks": ""
            },
            "colorscale": [
             [
              0,
              "#0d0887"
             ],
             [
              0.1111111111111111,
              "#46039f"
             ],
             [
              0.2222222222222222,
              "#7201a8"
             ],
             [
              0.3333333333333333,
              "#9c179e"
             ],
             [
              0.4444444444444444,
              "#bd3786"
             ],
             [
              0.5555555555555556,
              "#d8576b"
             ],
             [
              0.6666666666666666,
              "#ed7953"
             ],
             [
              0.7777777777777778,
              "#fb9f3a"
             ],
             [
              0.8888888888888888,
              "#fdca26"
             ],
             [
              1,
              "#f0f921"
             ]
            ],
            "type": "histogram2dcontour"
           }
          ],
          "mesh3d": [
           {
            "colorbar": {
             "outlinewidth": 0,
             "ticks": ""
            },
            "type": "mesh3d"
           }
          ],
          "parcoords": [
           {
            "line": {
             "colorbar": {
              "outlinewidth": 0,
              "ticks": ""
             }
            },
            "type": "parcoords"
           }
          ],
          "pie": [
           {
            "automargin": true,
            "type": "pie"
           }
          ],
          "scatter": [
           {
            "marker": {
             "colorbar": {
              "outlinewidth": 0,
              "ticks": ""
             }
            },
            "type": "scatter"
           }
          ],
          "scatter3d": [
           {
            "line": {
             "colorbar": {
              "outlinewidth": 0,
              "ticks": ""
             }
            },
            "marker": {
             "colorbar": {
              "outlinewidth": 0,
              "ticks": ""
             }
            },
            "type": "scatter3d"
           }
          ],
          "scattercarpet": [
           {
            "marker": {
             "colorbar": {
              "outlinewidth": 0,
              "ticks": ""
             }
            },
            "type": "scattercarpet"
           }
          ],
          "scattergeo": [
           {
            "marker": {
             "colorbar": {
              "outlinewidth": 0,
              "ticks": ""
             }
            },
            "type": "scattergeo"
           }
          ],
          "scattergl": [
           {
            "marker": {
             "colorbar": {
              "outlinewidth": 0,
              "ticks": ""
             }
            },
            "type": "scattergl"
           }
          ],
          "scattermapbox": [
           {
            "marker": {
             "colorbar": {
              "outlinewidth": 0,
              "ticks": ""
             }
            },
            "type": "scattermapbox"
           }
          ],
          "scatterpolar": [
           {
            "marker": {
             "colorbar": {
              "outlinewidth": 0,
              "ticks": ""
             }
            },
            "type": "scatterpolar"
           }
          ],
          "scatterpolargl": [
           {
            "marker": {
             "colorbar": {
              "outlinewidth": 0,
              "ticks": ""
             }
            },
            "type": "scatterpolargl"
           }
          ],
          "scatterternary": [
           {
            "marker": {
             "colorbar": {
              "outlinewidth": 0,
              "ticks": ""
             }
            },
            "type": "scatterternary"
           }
          ],
          "surface": [
           {
            "colorbar": {
             "outlinewidth": 0,
             "ticks": ""
            },
            "colorscale": [
             [
              0,
              "#0d0887"
             ],
             [
              0.1111111111111111,
              "#46039f"
             ],
             [
              0.2222222222222222,
              "#7201a8"
             ],
             [
              0.3333333333333333,
              "#9c179e"
             ],
             [
              0.4444444444444444,
              "#bd3786"
             ],
             [
              0.5555555555555556,
              "#d8576b"
             ],
             [
              0.6666666666666666,
              "#ed7953"
             ],
             [
              0.7777777777777778,
              "#fb9f3a"
             ],
             [
              0.8888888888888888,
              "#fdca26"
             ],
             [
              1,
              "#f0f921"
             ]
            ],
            "type": "surface"
           }
          ],
          "table": [
           {
            "cells": {
             "fill": {
              "color": "#EBF0F8"
             },
             "line": {
              "color": "white"
             }
            },
            "header": {
             "fill": {
              "color": "#C8D4E3"
             },
             "line": {
              "color": "white"
             }
            },
            "type": "table"
           }
          ]
         },
         "layout": {
          "annotationdefaults": {
           "arrowcolor": "#2a3f5f",
           "arrowhead": 0,
           "arrowwidth": 1
          },
          "coloraxis": {
           "colorbar": {
            "outlinewidth": 0,
            "ticks": ""
           }
          },
          "colorscale": {
           "diverging": [
            [
             0,
             "#8e0152"
            ],
            [
             0.1,
             "#c51b7d"
            ],
            [
             0.2,
             "#de77ae"
            ],
            [
             0.3,
             "#f1b6da"
            ],
            [
             0.4,
             "#fde0ef"
            ],
            [
             0.5,
             "#f7f7f7"
            ],
            [
             0.6,
             "#e6f5d0"
            ],
            [
             0.7,
             "#b8e186"
            ],
            [
             0.8,
             "#7fbc41"
            ],
            [
             0.9,
             "#4d9221"
            ],
            [
             1,
             "#276419"
            ]
           ],
           "sequential": [
            [
             0,
             "#0d0887"
            ],
            [
             0.1111111111111111,
             "#46039f"
            ],
            [
             0.2222222222222222,
             "#7201a8"
            ],
            [
             0.3333333333333333,
             "#9c179e"
            ],
            [
             0.4444444444444444,
             "#bd3786"
            ],
            [
             0.5555555555555556,
             "#d8576b"
            ],
            [
             0.6666666666666666,
             "#ed7953"
            ],
            [
             0.7777777777777778,
             "#fb9f3a"
            ],
            [
             0.8888888888888888,
             "#fdca26"
            ],
            [
             1,
             "#f0f921"
            ]
           ],
           "sequentialminus": [
            [
             0,
             "#0d0887"
            ],
            [
             0.1111111111111111,
             "#46039f"
            ],
            [
             0.2222222222222222,
             "#7201a8"
            ],
            [
             0.3333333333333333,
             "#9c179e"
            ],
            [
             0.4444444444444444,
             "#bd3786"
            ],
            [
             0.5555555555555556,
             "#d8576b"
            ],
            [
             0.6666666666666666,
             "#ed7953"
            ],
            [
             0.7777777777777778,
             "#fb9f3a"
            ],
            [
             0.8888888888888888,
             "#fdca26"
            ],
            [
             1,
             "#f0f921"
            ]
           ]
          },
          "colorway": [
           "#636efa",
           "#EF553B",
           "#00cc96",
           "#ab63fa",
           "#FFA15A",
           "#19d3f3",
           "#FF6692",
           "#B6E880",
           "#FF97FF",
           "#FECB52"
          ],
          "font": {
           "color": "#2a3f5f"
          },
          "geo": {
           "bgcolor": "white",
           "lakecolor": "white",
           "landcolor": "#E5ECF6",
           "showlakes": true,
           "showland": true,
           "subunitcolor": "white"
          },
          "hoverlabel": {
           "align": "left"
          },
          "hovermode": "closest",
          "mapbox": {
           "style": "light"
          },
          "paper_bgcolor": "white",
          "plot_bgcolor": "#E5ECF6",
          "polar": {
           "angularaxis": {
            "gridcolor": "white",
            "linecolor": "white",
            "ticks": ""
           },
           "bgcolor": "#E5ECF6",
           "radialaxis": {
            "gridcolor": "white",
            "linecolor": "white",
            "ticks": ""
           }
          },
          "scene": {
           "xaxis": {
            "backgroundcolor": "#E5ECF6",
            "gridcolor": "white",
            "gridwidth": 2,
            "linecolor": "white",
            "showbackground": true,
            "ticks": "",
            "zerolinecolor": "white"
           },
           "yaxis": {
            "backgroundcolor": "#E5ECF6",
            "gridcolor": "white",
            "gridwidth": 2,
            "linecolor": "white",
            "showbackground": true,
            "ticks": "",
            "zerolinecolor": "white"
           },
           "zaxis": {
            "backgroundcolor": "#E5ECF6",
            "gridcolor": "white",
            "gridwidth": 2,
            "linecolor": "white",
            "showbackground": true,
            "ticks": "",
            "zerolinecolor": "white"
           }
          },
          "shapedefaults": {
           "line": {
            "color": "#2a3f5f"
           }
          },
          "ternary": {
           "aaxis": {
            "gridcolor": "white",
            "linecolor": "white",
            "ticks": ""
           },
           "baxis": {
            "gridcolor": "white",
            "linecolor": "white",
            "ticks": ""
           },
           "bgcolor": "#E5ECF6",
           "caxis": {
            "gridcolor": "white",
            "linecolor": "white",
            "ticks": ""
           }
          },
          "title": {
           "x": 0.05
          },
          "xaxis": {
           "automargin": true,
           "gridcolor": "white",
           "linecolor": "white",
           "ticks": "",
           "title": {
            "standoff": 15
           },
           "zerolinecolor": "white",
           "zerolinewidth": 2
          },
          "yaxis": {
           "automargin": true,
           "gridcolor": "white",
           "linecolor": "white",
           "ticks": "",
           "title": {
            "standoff": 15
           },
           "zerolinecolor": "white",
           "zerolinewidth": 2
          }
         }
        },
        "title": {
         "text": "Proportion of positive votes over total votes over time"
        },
        "xaxis": {
         "autorange": true,
         "range": [
          "2004-09-14 16:26",
          "2004-09-20 22:20"
         ],
         "title": {
          "text": "time"
         },
         "type": "date"
        },
        "yaxis": {
         "autorange": true,
         "range": [
          -0.05555555555555556,
          1.0555555555555556
         ],
         "title": {
          "text": "proportion of positive votes over total votes"
         },
         "type": "linear"
        }
       }
      },
      "image/png": "[encoded data removed]",
      "text/html": [
       "<div>                            <div id=\"c8dbfc8d-b557-4b6f-a107-1071c3ab8337\" class=\"plotly-graph-div\" style=\"height:525px; width:100%;\"></div>            <script type=\"text/javascript\">                require([\"plotly\"], function(Plotly) {                    window.PLOTLYENV=window.PLOTLYENV || {};                                    if (document.getElementById(\"c8dbfc8d-b557-4b6f-a107-1071c3ab8337\")) {                    Plotly.newPlot(                        \"c8dbfc8d-b557-4b6f-a107-1071c3ab8337\",                        [{\"hovertemplate\": \"<br><b>Date </b>: %{x}<br><b>Fraction of positive votes </b>: %{y:.2f}\", \"mode\": \"lines\", \"name\": \"proportion of positive votes over total votes until this time instant\", \"type\": \"scatter\", \"x\": [\"2004-09-14T16:26:00\", \"2004-09-14T16:53:00\", \"2004-09-14T17:08:00\", \"2004-09-14T17:37:00\", \"2004-09-14T19:28:00\", \"2004-09-14T19:37:00\", \"2004-09-14T21:04:00\", \"2004-09-14T21:30:00\", \"2004-09-14T22:13:00\", \"2004-09-14T22:18:00\", \"2004-09-15T03:19:00\", \"2004-09-15T03:20:00\", \"2004-09-15T04:28:00\", \"2004-09-15T06:56:00\", \"2004-09-15T09:19:00\", \"2004-09-15T12:20:00\", \"2004-09-16T00:58:00\", \"2004-09-16T14:50:00\", \"2004-09-16T15:31:00\", \"2004-09-17T13:49:00\", \"2004-09-17T20:57:00\", \"2004-09-17T22:11:00\", \"2004-09-18T00:02:00\", \"2004-09-18T01:06:00\", \"2004-09-20T05:36:00\", \"2004-09-20T14:28:00\", \"2004-09-20T22:20:00\"], \"y\": [1.0, 0.0, 0.3333333333333333, 0.5, 0.6, 0.6666666666666666, 0.7142857142857143, 0.75, 0.7777777777777778, 0.7, 0.6363636363636364, 0.5833333333333334, 0.6153846153846154, 0.6428571428571429, 0.6666666666666666, 0.6875, 0.6470588235294118, 0.6666666666666666, 0.6842105263157895, 0.7, 0.7142857142857143, 0.7272727272727273, 0.7391304347826086, 0.75, 0.76, 0.7692307692307693, 0.7777777777777778]}],                        {\"template\": {\"data\": {\"bar\": [{\"error_x\": {\"color\": \"#2a3f5f\"}, \"error_y\": {\"color\": \"#2a3f5f\"}, \"marker\": {\"line\": {\"color\": \"#E5ECF6\", \"width\": 0.5}}, \"type\": \"bar\"}], \"barpolar\": [{\"marker\": {\"line\": {\"color\": \"#E5ECF6\", \"width\": 0.5}}, \"type\": \"barpolar\"}], \"carpet\": [{\"aaxis\": {\"endlinecolor\": \"#2a3f5f\", \"gridcolor\": \"white\", \"linecolor\": \"white\", \"minorgridcolor\": \"white\", \"startlinecolor\": \"#2a3f5f\"}, \"baxis\": {\"endlinecolor\": \"#2a3f5f\", \"gridcolor\": \"white\", \"linecolor\": \"white\", \"minorgridcolor\": \"white\", \"startlinecolor\": \"#2a3f5f\"}, \"type\": \"carpet\"}], \"choropleth\": [{\"colorbar\": {\"outlinewidth\": 0, \"ticks\": \"\"}, \"type\": \"choropleth\"}], \"contour\": [{\"colorbar\": {\"outlinewidth\": 0, \"ticks\": \"\"}, \"colorscale\": [[0.0, \"#0d0887\"], [0.1111111111111111, \"#46039f\"], [0.2222222222222222, \"#7201a8\"], [0.3333333333333333, \"#9c179e\"], [0.4444444444444444, \"#bd3786\"], [0.5555555555555556, \"#d8576b\"], [0.6666666666666666, \"#ed7953\"], [0.7777777777777778, \"#fb9f3a\"], [0.8888888888888888, \"#fdca26\"], [1.0, \"#f0f921\"]], \"type\": \"contour\"}], \"contourcarpet\": [{\"colorbar\": {\"outlinewidth\": 0, \"ticks\": \"\"}, \"type\": \"contourcarpet\"}], \"heatmap\": [{\"colorbar\": {\"outlinewidth\": 0, \"ticks\": \"\"}, \"colorscale\": [[0.0, \"#0d0887\"], [0.1111111111111111, \"#46039f\"], [0.2222222222222222, \"#7201a8\"], [0.3333333333333333, \"#9c179e\"], [0.4444444444444444, \"#bd3786\"], [0.5555555555555556, \"#d8576b\"], [0.6666666666666666, \"#ed7953\"], [0.7777777777777778, \"#fb9f3a\"], [0.8888888888888888, \"#fdca26\"], [1.0, \"#f0f921\"]], \"type\": \"heatmap\"}], \"heatmapgl\": [{\"colorbar\": {\"outlinewidth\": 0, \"ticks\": \"\"}, \"colorscale\": [[0.0, \"#0d0887\"], [0.1111111111111111, \"#46039f\"], [0.2222222222222222, \"#7201a8\"], [0.3333333333333333, \"#9c179e\"], [0.4444444444444444, \"#bd3786\"], [0.5555555555555556, \"#d8576b\"], [0.6666666666666666, \"#ed7953\"], [0.7777777777777778, \"#fb9f3a\"], [0.8888888888888888, \"#fdca26\"], [1.0, \"#f0f921\"]], \"type\": \"heatmapgl\"}], \"histogram\": [{\"marker\": {\"colorbar\": {\"outlinewidth\": 0, \"ticks\": \"\"}}, \"type\": \"histogram\"}], \"histogram2d\": [{\"colorbar\": {\"outlinewidth\": 0, \"ticks\": \"\"}, \"colorscale\": [[0.0, \"#0d0887\"], [0.1111111111111111, \"#46039f\"], [0.2222222222222222, \"#7201a8\"], [0.3333333333333333, \"#9c179e\"], [0.4444444444444444, \"#bd3786\"], [0.5555555555555556, \"#d8576b\"], [0.6666666666666666, \"#ed7953\"], [0.7777777777777778, \"#fb9f3a\"], [0.8888888888888888, \"#fdca26\"], [1.0, \"#f0f921\"]], \"type\": \"histogram2d\"}], \"histogram2dcontour\": [{\"colorbar\": {\"outlinewidth\": 0, \"ticks\": \"\"}, \"colorscale\": [[0.0, \"#0d0887\"], [0.1111111111111111, \"#46039f\"], [0.2222222222222222, \"#7201a8\"], [0.3333333333333333, \"#9c179e\"], [0.4444444444444444, \"#bd3786\"], [0.5555555555555556, \"#d8576b\"], [0.6666666666666666, \"#ed7953\"], [0.7777777777777778, \"#fb9f3a\"], [0.8888888888888888, \"#fdca26\"], [1.0, \"#f0f921\"]], \"type\": \"histogram2dcontour\"}], \"mesh3d\": [{\"colorbar\": {\"outlinewidth\": 0, \"ticks\": \"\"}, \"type\": \"mesh3d\"}], \"parcoords\": [{\"line\": {\"colorbar\": {\"outlinewidth\": 0, \"ticks\": \"\"}}, \"type\": \"parcoords\"}], \"pie\": [{\"automargin\": true, \"type\": \"pie\"}], \"scatter\": [{\"marker\": {\"colorbar\": {\"outlinewidth\": 0, \"ticks\": \"\"}}, \"type\": \"scatter\"}], \"scatter3d\": [{\"line\": {\"colorbar\": {\"outlinewidth\": 0, \"ticks\": \"\"}}, \"marker\": {\"colorbar\": {\"outlinewidth\": 0, \"ticks\": \"\"}}, \"type\": \"scatter3d\"}], \"scattercarpet\": [{\"marker\": {\"colorbar\": {\"outlinewidth\": 0, \"ticks\": \"\"}}, \"type\": \"scattercarpet\"}], \"scattergeo\": [{\"marker\": {\"colorbar\": {\"outlinewidth\": 0, \"ticks\": \"\"}}, \"type\": \"scattergeo\"}], \"scattergl\": [{\"marker\": {\"colorbar\": {\"outlinewidth\": 0, \"ticks\": \"\"}}, \"type\": \"scattergl\"}], \"scattermapbox\": [{\"marker\": {\"colorbar\": {\"outlinewidth\": 0, \"ticks\": \"\"}}, \"type\": \"scattermapbox\"}], \"scatterpolar\": [{\"marker\": {\"colorbar\": {\"outlinewidth\": 0, \"ticks\": \"\"}}, \"type\": \"scatterpolar\"}], \"scatterpolargl\": [{\"marker\": {\"colorbar\": {\"outlinewidth\": 0, \"ticks\": \"\"}}, \"type\": \"scatterpolargl\"}], \"scatterternary\": [{\"marker\": {\"colorbar\": {\"outlinewidth\": 0, \"ticks\": \"\"}}, \"type\": \"scatterternary\"}], \"surface\": [{\"colorbar\": {\"outlinewidth\": 0, \"ticks\": \"\"}, \"colorscale\": [[0.0, \"#0d0887\"], [0.1111111111111111, \"#46039f\"], [0.2222222222222222, \"#7201a8\"], [0.3333333333333333, \"#9c179e\"], [0.4444444444444444, \"#bd3786\"], [0.5555555555555556, \"#d8576b\"], [0.6666666666666666, \"#ed7953\"], [0.7777777777777778, \"#fb9f3a\"], [0.8888888888888888, \"#fdca26\"], [1.0, \"#f0f921\"]], \"type\": \"surface\"}], \"table\": [{\"cells\": {\"fill\": {\"color\": \"#EBF0F8\"}, \"line\": {\"color\": \"white\"}}, \"header\": {\"fill\": {\"color\": \"#C8D4E3\"}, \"line\": {\"color\": \"white\"}}, \"type\": \"table\"}]}, \"layout\": {\"annotationdefaults\": {\"arrowcolor\": \"#2a3f5f\", \"arrowhead\": 0, \"arrowwidth\": 1}, \"coloraxis\": {\"colorbar\": {\"outlinewidth\": 0, \"ticks\": \"\"}}, \"colorscale\": {\"diverging\": [[0, \"#8e0152\"], [0.1, \"#c51b7d\"], [0.2, \"#de77ae\"], [0.3, \"#f1b6da\"], [0.4, \"#fde0ef\"], [0.5, \"#f7f7f7\"], [0.6, \"#e6f5d0\"], [0.7, \"#b8e186\"], [0.8, \"#7fbc41\"], [0.9, \"#4d9221\"], [1, \"#276419\"]], \"sequential\": [[0.0, \"#0d0887\"], [0.1111111111111111, \"#46039f\"], [0.2222222222222222, \"#7201a8\"], [0.3333333333333333, \"#9c179e\"], [0.4444444444444444, \"#bd3786\"], [0.5555555555555556, \"#d8576b\"], [0.6666666666666666, \"#ed7953\"], [0.7777777777777778, \"#fb9f3a\"], [0.8888888888888888, \"#fdca26\"], [1.0, \"#f0f921\"]], \"sequentialminus\": [[0.0, \"#0d0887\"], [0.1111111111111111, \"#46039f\"], [0.2222222222222222, \"#7201a8\"], [0.3333333333333333, \"#9c179e\"], [0.4444444444444444, \"#bd3786\"], [0.5555555555555556, \"#d8576b\"], [0.6666666666666666, \"#ed7953\"], [0.7777777777777778, \"#fb9f3a\"], [0.8888888888888888, \"#fdca26\"], [1.0, \"#f0f921\"]]}, \"colorway\": [\"#636efa\", \"#EF553B\", \"#00cc96\", \"#ab63fa\", \"#FFA15A\", \"#19d3f3\", \"#FF6692\", \"#B6E880\", \"#FF97FF\", \"#FECB52\"], \"font\": {\"color\": \"#2a3f5f\"}, \"geo\": {\"bgcolor\": \"white\", \"lakecolor\": \"white\", \"landcolor\": \"#E5ECF6\", \"showlakes\": true, \"showland\": true, \"subunitcolor\": \"white\"}, \"hoverlabel\": {\"align\": \"left\"}, \"hovermode\": \"closest\", \"mapbox\": {\"style\": \"light\"}, \"paper_bgcolor\": \"white\", \"plot_bgcolor\": \"#E5ECF6\", \"polar\": {\"angularaxis\": {\"gridcolor\": \"white\", \"linecolor\": \"white\", \"ticks\": \"\"}, \"bgcolor\": \"#E5ECF6\", \"radialaxis\": {\"gridcolor\": \"white\", \"linecolor\": \"white\", \"ticks\": \"\"}}, \"scene\": {\"xaxis\": {\"backgroundcolor\": \"#E5ECF6\", \"gridcolor\": \"white\", \"gridwidth\": 2, \"linecolor\": \"white\", \"showbackground\": true, \"ticks\": \"\", \"zerolinecolor\": \"white\"}, \"yaxis\": {\"backgroundcolor\": \"#E5ECF6\", \"gridcolor\": \"white\", \"gridwidth\": 2, \"linecolor\": \"white\", \"showbackground\": true, \"ticks\": \"\", \"zerolinecolor\": \"white\"}, \"zaxis\": {\"backgroundcolor\": \"#E5ECF6\", \"gridcolor\": \"white\", \"gridwidth\": 2, \"linecolor\": \"white\", \"showbackground\": true, \"ticks\": \"\", \"zerolinecolor\": \"white\"}}, \"shapedefaults\": {\"line\": {\"color\": \"#2a3f5f\"}}, \"ternary\": {\"aaxis\": {\"gridcolor\": \"white\", \"linecolor\": \"white\", \"ticks\": \"\"}, \"baxis\": {\"gridcolor\": \"white\", \"linecolor\": \"white\", \"ticks\": \"\"}, \"bgcolor\": \"#E5ECF6\", \"caxis\": {\"gridcolor\": \"white\", \"linecolor\": \"white\", \"ticks\": \"\"}}, \"title\": {\"x\": 0.05}, \"xaxis\": {\"automargin\": true, \"gridcolor\": \"white\", \"linecolor\": \"white\", \"ticks\": \"\", \"title\": {\"standoff\": 15}, \"zerolinecolor\": \"white\", \"zerolinewidth\": 2}, \"yaxis\": {\"automargin\": true, \"gridcolor\": \"white\", \"linecolor\": \"white\", \"ticks\": \"\", \"title\": {\"standoff\": 15}, \"zerolinecolor\": \"white\", \"zerolinewidth\": 2}}}, \"title\": {\"text\": \"Proportion of positive votes over total votes over time\"}, \"xaxis\": {\"title\": {\"text\": \"time\"}}, \"yaxis\": {\"title\": {\"text\": \"proportion of positive votes over total votes\"}}},                        {\"responsive\": true}                    ).then(function(){\n",
       "                            \n",
       "var gd = document.getElementById('c8dbfc8d-b557-4b6f-a107-1071c3ab8337');\n",
       "var x = new MutationObserver(function (mutations, observer) {{\n",
       "        var display = window.getComputedStyle(gd).display;\n",
       "        if (!display || display === 'none') {{\n",
       "            console.log([gd, 'removed!']);\n",
       "            Plotly.purge(gd);\n",
       "            observer.disconnect();\n",
       "        }}\n",
       "}});\n",
       "\n",
       "// Listen for the removal of the full notebook cells\n",
       "var notebookContainer = gd.closest('#notebook-container');\n",
       "if (notebookContainer) {{\n",
       "    x.observe(notebookContainer, {childList: true});\n",
       "}}\n",
       "\n",
       "// Listen for the clearing of the current output cell\n",
       "var outputEl = gd.closest('.output');\n",
       "if (outputEl) {{\n",
       "    x.observe(outputEl, {childList: true});\n",
       "}}\n",
       "\n",
       "                        })                };                });            </script>        </div>"
      ]
     },
     "metadata": {},
     "output_type": "display_data"
    }
   ],
   "source": [
    "#VERSION VOTE MOYEN\n",
    "frac=[]\n",
    "summed=0\n",
    "for i in range(len(first_election)):\n",
    "    summed += first_election['vote'][i]\n",
    "    frac.append( summed/(i+1))\n",
    "    \n",
    "\n",
    "fig=go.Figure()\n",
    "\n",
    "fig.add_trace(go.Scatter(\n",
    "    x= first_election['vote_time'],\n",
    "    y= frac,\n",
    "    mode=\"lines\",\n",
    "    name=\"proportion of positive votes over total votes until this time instant\",\n",
    "    hovertemplate =\n",
    "    '<br><b>Date </b>: %{x}'+\n",
    "    '<br><b>Fraction of positive votes </b>: %{y:.2f}'\n",
    "))\n",
    "\n",
    "fig.update_layout(\n",
    "    title=\"Proportion of positive votes over total votes over time\",\n",
    "    xaxis_title=\"time\",\n",
    "    yaxis_title=\"proportion of positive votes over total votes\")\n",
    "fig.show()"
   ]
  },
  {
   "cell_type": "code",
   "execution_count": 33,
   "metadata": {},
   "outputs": [
    {
     "ename": "TypeError",
     "evalue": "'DataFrame' object cannot be interpreted as an integer",
     "output_type": "error",
     "traceback": [
      "\u001b[0;31m---------------------------------------------------------------------------\u001b[0m",
      "\u001b[0;31mTypeError\u001b[0m                                 Traceback (most recent call last)",
      "\u001b[0;32m<ipython-input-33-1f8917cef069>\u001b[0m in \u001b[0;36m<module>\u001b[0;34m\u001b[0m\n\u001b[1;32m     42\u001b[0m \u001b[0mfig\u001b[0m\u001b[0;34m=\u001b[0m\u001b[0mgo\u001b[0m\u001b[0;34m.\u001b[0m\u001b[0mFigure\u001b[0m\u001b[0;34m(\u001b[0m\u001b[0;34m)\u001b[0m\u001b[0;34m\u001b[0m\u001b[0;34m\u001b[0m\u001b[0m\n\u001b[1;32m     43\u001b[0m \u001b[0;31m#election outcome determines color of traces, successful elections will be depicted in red\u001b[0m\u001b[0;34m\u001b[0m\u001b[0;34m\u001b[0m\u001b[0;34m\u001b[0m\u001b[0m\n\u001b[0;32m---> 44\u001b[0;31m \u001b[0mplot_by_time\u001b[0m\u001b[0;34m(\u001b[0m\u001b[0mpos_election\u001b[0m\u001b[0;34m,\u001b[0m \u001b[0;34m'rgb(200, 0, 0)'\u001b[0m\u001b[0;34m)\u001b[0m\u001b[0;34m\u001b[0m\u001b[0;34m\u001b[0m\u001b[0m\n\u001b[0m\u001b[1;32m     45\u001b[0m \u001b[0;31m#failed elections will be depicted in blue\u001b[0m\u001b[0;34m\u001b[0m\u001b[0;34m\u001b[0m\u001b[0;34m\u001b[0m\u001b[0m\n\u001b[1;32m     46\u001b[0m \u001b[0mplot_by_time\u001b[0m\u001b[0;34m(\u001b[0m\u001b[0mneg_election\u001b[0m\u001b[0;34m,\u001b[0m \u001b[0;34m'rgb(0, 0, 200)'\u001b[0m\u001b[0;34m)\u001b[0m\u001b[0;34m\u001b[0m\u001b[0;34m\u001b[0m\u001b[0m\n",
      "\u001b[0;32m<ipython-input-33-1f8917cef069>\u001b[0m in \u001b[0;36mplot_by_time\u001b[0;34m(df, chosen_color)\u001b[0m\n\u001b[1;32m     28\u001b[0m \u001b[0;34m\u001b[0m\u001b[0m\n\u001b[1;32m     29\u001b[0m     \u001b[0mgrouped_by_candidate\u001b[0m \u001b[0;34m=\u001b[0m \u001b[0mdf\u001b[0m\u001b[0;34m.\u001b[0m\u001b[0mgroupby\u001b[0m\u001b[0;34m(\u001b[0m\u001b[0;34m\"candidate_id\"\u001b[0m\u001b[0;34m)\u001b[0m \u001b[0;31m#pas la bonne façon de faire\u001b[0m\u001b[0;34m\u001b[0m\u001b[0;34m\u001b[0m\u001b[0m\n\u001b[0;32m---> 30\u001b[0;31m     \u001b[0;32mfor\u001b[0m \u001b[0mi\u001b[0m \u001b[0;32min\u001b[0m \u001b[0mrange\u001b[0m\u001b[0;34m(\u001b[0m\u001b[0;34m(\u001b[0m\u001b[0mgrouped_by_candidate\u001b[0m\u001b[0;34m.\u001b[0m\u001b[0mcount\u001b[0m\u001b[0;34m(\u001b[0m\u001b[0;34m)\u001b[0m\u001b[0;34m)\u001b[0m\u001b[0;34m)\u001b[0m\u001b[0;34m:\u001b[0m\u001b[0;34m\u001b[0m\u001b[0;34m\u001b[0m\u001b[0m\n\u001b[0m\u001b[1;32m     31\u001b[0m         \u001b[0mcurrent_election\u001b[0m \u001b[0;34m=\u001b[0m \u001b[0mgrouped_by_candidate\u001b[0m\u001b[0;34m.\u001b[0m\u001b[0mget_group\u001b[0m\u001b[0;34m(\u001b[0m\u001b[0mi\u001b[0m\u001b[0;34m)\u001b[0m\u001b[0;34m\u001b[0m\u001b[0;34m\u001b[0m\u001b[0m\n\u001b[1;32m     32\u001b[0m         \u001b[0mx_\u001b[0m\u001b[0;34m,\u001b[0m \u001b[0my_\u001b[0m \u001b[0;34m=\u001b[0m \u001b[0mfraction_calculator\u001b[0m\u001b[0;34m(\u001b[0m\u001b[0mcurrent_election\u001b[0m\u001b[0;34m)\u001b[0m \u001b[0;31m#current_election being a df\u001b[0m\u001b[0;34m\u001b[0m\u001b[0;34m\u001b[0m\u001b[0m\n",
      "\u001b[0;31mTypeError\u001b[0m: 'DataFrame' object cannot be interpreted as an integer"
     ]
    }
   ],
   "source": [
    "#PLOT 2: graph for all elections, election outcome as hue \n",
    "\n",
    "#first_candidate_id = wikipedia['candidate_id'][0]\n",
    "#first_election = wikipedia[wikipedia['candidate_id']==first_candidate_id]\n",
    "\n",
    "def fraction_calculator(df):\n",
    "    frac=[]\n",
    "    pos_counter=0\n",
    "    for i in range(len(df)):\n",
    "        if (df['vote'][i]==1):\n",
    "            pos_counter += 1 \n",
    "        frac.append( pos_counter/(i+1))\n",
    "    return frac\n",
    "\n",
    "def plot_trace_frac(x,y, chosen_color):\n",
    "    fig.add_trace(go.Scatter(\n",
    "        x= x, #first_election['vote_time']\n",
    "        y= y, #frac\n",
    "        mode=\"lines\",\n",
    "        line = dict(color = chosen_color),\n",
    "        name=\"proportion of positive votes over total votes until this time instant\",\n",
    "        hovertemplate =\n",
    "        '<br><b>Date </b>: %{x}'+\n",
    "        '<br><b>Fraction of positive votes </b>: %{y:.2f}'\n",
    "    ))\n",
    "\n",
    "def plot_by_time(df, chosen_color):\n",
    "\n",
    "    grouped_by_candidate = df.groupby(\"candidate_id\") #pas la bonne façon de faire\n",
    "    for i in range((grouped_by_candidate.count())):\n",
    "        current_election = grouped_by_candidate.get_group(i)\n",
    "        x_, y_ = fraction_calculator(current_election) #current_election being a df \n",
    "        plot_trace_frac(x_ ,y_ , chosen_color)\n",
    "\n",
    "    fig.update_layout(\n",
    "        title=\"Proportion of positive votes over total votes over time\",\n",
    "        xaxis_title=\"time\",\n",
    "        yaxis_title=\"proportion of positive votes over total votes\")\n",
    "\n",
    "\n",
    "\n",
    "fig=go.Figure()\n",
    "#election outcome determines color of traces, successful elections will be depicted in red \n",
    "plot_by_time(pos_election, 'rgb(200, 0, 0)') \n",
    "#failed elections will be depicted in blue \n",
    "plot_by_time(neg_election, 'rgb(0, 0, 200)')\n",
    "\n",
    "fig.show()"
   ]
  },
  {
   "cell_type": "code",
   "execution_count": null,
   "metadata": {},
   "outputs": [],
   "source": [
    "pos_election.head()\n",
    "#print(pos_election.groupby(pd.Grouper(key=\"candidate_id\")))\n",
    "#print(pos_election.groupby(pos_election['candidate_id']).__iter__())\n",
    "grouped_by_candidate = pos_election.groupby(\"candidate_id\")\n",
    "grouped_by_candidate.count().head()"
   ]
  },
  {
   "cell_type": "markdown",
   "metadata": {},
   "source": [
    "# Duplicates \n",
    "We want to investigate the vote distributions for repeated elections, meaning when the same candidate seeks adminship several times. For this to be possible, we have to chack that we indeed have enough duplicates in our dataset in order to conduct a meaningful analysis."
   ]
  },
  {
   "cell_type": "code",
   "execution_count": null,
   "metadata": {},
   "outputs": [],
   "source": [
    "wikipedia.head()"
   ]
  },
  {
   "cell_type": "code",
   "execution_count": null,
   "metadata": {},
   "outputs": [],
   "source": [
    "wikipedia.shape"
   ]
  },
  {
   "cell_type": "markdown",
   "metadata": {},
   "source": [
    "### Overall duplicates\n",
    "\n",
    "duplicate in this context = when a voter voted for the same candidate several time, through the all data that we have\n",
    "\n",
    "vote_count = 1 : unique vote, no duplicate over the time-frame of the dataframe\n",
    "vote_count = 2 : two votes from the same voter to the same candidate, over the time-frame of the dataframe"
   ]
  },
  {
   "cell_type": "code",
   "execution_count": null,
   "metadata": {},
   "outputs": [],
   "source": [
    "duplicates = wikipedia[['voter_id', 'candidate_id', 'vote']].groupby(by=['voter_id', 'candidate_id']).count().rename(columns={'vote':'vote_count'})\n",
    "duplicates"
   ]
  },
  {
   "cell_type": "code",
   "execution_count": null,
   "metadata": {},
   "outputs": [],
   "source": [
    "# In total, there are >3500 duplicated votes\n",
    "np.sum(duplicates.vote_count>1)"
   ]
  },
  {
   "cell_type": "code",
   "execution_count": null,
   "metadata": {},
   "outputs": [],
   "source": [
    "# Histo of the duplicates (1= no duplication)\n",
    "dup_max = max(duplicates.vote_count)\n",
    "plt.hist(duplicates.vote_count, bins=dup_max-1)\n",
    "plt.title(\"Histograms of the duplicated votes\")\n",
    "plt.xticks(range(1, dup_max+1))\n",
    "plt.xlabel(\"Multiplicity of duplication\")\n",
    "plt.ylabel(\"Number of duplicates\")\n",
    "plt.show()"
   ]
  },
  {
   "cell_type": "code",
   "execution_count": null,
   "metadata": {},
   "outputs": [],
   "source": [
    "# Let's use appropriate axes:\n",
    "plt.hist(duplicates.vote_count, bins=dup_max-1)\n",
    "plt.title(\"Histograms of the duplicated votes, log-log scale\")\n",
    "plt.xticks(range(1, dup_max+1))\n",
    "plt.xlabel(\"Multiplicity of duplication\")\n",
    "plt.ylabel(\"Number of duplicates\")\n",
    "plt.xscale('log')\n",
    "plt.yscale('log')\n",
    "plt.show()\n",
    "\n",
    "# we don't have many values of multiplicity \n",
    "# but it does look like the distribution of the multiplicity of duplicates follows a power law\n",
    "\n",
    "# Interpretation:\n",
    "# More than 3000 people voted at least 2 times for the same candidate\n",
    "# Above 200 people voted at least 3 times for the same candidate"
   ]
  },
  {
   "cell_type": "markdown",
   "metadata": {},
   "source": [
    "### Election-specific duplicates\n",
    "\n",
    "duplicate in this context = when a voter voted for the same candidate several time during the same election,\n",
    "i.e., the voter changed its mind\n",
    "\n",
    "vote_count = 1 : unique vote, no duplicate for a given election\n",
    "vote_count = 2 : two votes from the same voter to the same candidate at the same election"
   ]
  },
  {
   "cell_type": "code",
   "execution_count": null,
   "metadata": {},
   "outputs": [],
   "source": [
    "duplicates_elec = wikipedia[['elec_time', 'voter_id', 'candidate_id', 'vote']].groupby(by=['elec_time', 'voter_id', 'candidate_id']).count().rename(columns={'vote':'vote_count'})\n",
    "duplicates_elec"
   ]
  },
  {
   "cell_type": "code",
   "execution_count": null,
   "metadata": {},
   "outputs": [],
   "source": [
    "# In total, there are >3500 duplicated votes\n",
    "np.sum(duplicates_elec.vote_count>1)\n",
    "#TODO: investigate\n",
    "# either: it is not possible to change its mind: we're able to vote only a single time\n",
    "# or: it is possible to change its mind, but only the latest vote is taken into account (ie only the latest vote is in the dataframe)"
   ]
  },
  {
   "cell_type": "markdown",
   "metadata": {},
   "source": [
    "# Analysis of Neutral votes "
   ]
  },
  {
   "cell_type": "markdown",
   "metadata": {},
   "source": [
    "What can the number/proportion of neutral votes can tell us about the ongoing election ? \n",
    "- can the proportion of neutral vote be correlated with a specific outcome ? \n",
    "- can the proportion of neutral votes be correlated with a specific duration of election ? "
   ]
  },
  {
   "cell_type": "markdown",
   "metadata": {},
   "source": [
    "### Neutral votes and outcome of the election "
   ]
  },
  {
   "cell_type": "code",
   "execution_count": 9,
   "metadata": {},
   "outputs": [
    {
     "data": {
      "text/plain": [
       "array([1, 0], dtype=int64)"
      ]
     },
     "execution_count": 9,
     "metadata": {},
     "output_type": "execute_result"
    }
   ],
   "source": [
    "wikipedia.head()\n",
    "wikipedia.elec_outcome.unique()"
   ]
  },
  {
   "cell_type": "code",
   "execution_count": 10,
   "metadata": {},
   "outputs": [],
   "source": [
    "neutral_analysis = wikipedia[[\"elec_time\", \"vote\", \"elec_outcome\"]].groupby(\"elec_time\")\n",
    "\n",
    "prop_neutral_votes = []\n",
    "outcome = []\n",
    "\n",
    "for election, df in neutral_analysis :\n",
    "    prop_neutral_votes.append(len(df[df[\"vote\"] == 0]) / len(df))\n",
    "    outcome.append(df.iloc[0][\"elec_outcome\"])\n",
    "\n",
    "neutral_outcome = pd.DataFrame(columns = [\"prop_neutral\", \"outcome\"])\n",
    "neutral_outcome.prop_neutral = prop_neutral_votes \n",
    "neutral_outcome.outcome = outcome"
   ]
  },
  {
   "cell_type": "code",
   "execution_count": 11,
   "metadata": {},
   "outputs": [
    {
     "data": {
      "text/html": [
       "<div>\n",
       "<style scoped>\n",
       "    .dataframe tbody tr th:only-of-type {\n",
       "        vertical-align: middle;\n",
       "    }\n",
       "\n",
       "    .dataframe tbody tr th {\n",
       "        vertical-align: top;\n",
       "    }\n",
       "\n",
       "    .dataframe thead th {\n",
       "        text-align: right;\n",
       "    }\n",
       "</style>\n",
       "<table border=\"1\" class=\"dataframe\">\n",
       "  <thead>\n",
       "    <tr style=\"text-align: right;\">\n",
       "      <th></th>\n",
       "      <th>prop_neutral</th>\n",
       "      <th>outcome</th>\n",
       "    </tr>\n",
       "  </thead>\n",
       "  <tbody>\n",
       "    <tr>\n",
       "      <th>0</th>\n",
       "      <td>0.176471</td>\n",
       "      <td>1</td>\n",
       "    </tr>\n",
       "    <tr>\n",
       "      <th>1</th>\n",
       "      <td>0.090909</td>\n",
       "      <td>1</td>\n",
       "    </tr>\n",
       "    <tr>\n",
       "      <th>2</th>\n",
       "      <td>0.148148</td>\n",
       "      <td>1</td>\n",
       "    </tr>\n",
       "    <tr>\n",
       "      <th>3</th>\n",
       "      <td>0.000000</td>\n",
       "      <td>1</td>\n",
       "    </tr>\n",
       "    <tr>\n",
       "      <th>4</th>\n",
       "      <td>0.000000</td>\n",
       "      <td>1</td>\n",
       "    </tr>\n",
       "  </tbody>\n",
       "</table>\n",
       "</div>"
      ],
      "text/plain": [
       "   prop_neutral  outcome\n",
       "0      0.176471        1\n",
       "1      0.090909        1\n",
       "2      0.148148        1\n",
       "3      0.000000        1\n",
       "4      0.000000        1"
      ]
     },
     "execution_count": 11,
     "metadata": {},
     "output_type": "execute_result"
    }
   ],
   "source": [
    "neutral_outcome.head()"
   ]
  },
  {
   "cell_type": "code",
   "execution_count": 12,
   "metadata": {},
   "outputs": [
    {
     "data": {
      "text/html": [
       "<div>\n",
       "<style scoped>\n",
       "    .dataframe tbody tr th:only-of-type {\n",
       "        vertical-align: middle;\n",
       "    }\n",
       "\n",
       "    .dataframe tbody tr th {\n",
       "        vertical-align: top;\n",
       "    }\n",
       "\n",
       "    .dataframe thead th {\n",
       "        text-align: right;\n",
       "    }\n",
       "</style>\n",
       "<table border=\"1\" class=\"dataframe\">\n",
       "  <thead>\n",
       "    <tr style=\"text-align: right;\">\n",
       "      <th></th>\n",
       "      <th>prop_neutral</th>\n",
       "      <th>outcome</th>\n",
       "    </tr>\n",
       "  </thead>\n",
       "  <tbody>\n",
       "    <tr>\n",
       "      <th>1396</th>\n",
       "      <td>0.0</td>\n",
       "      <td>1</td>\n",
       "    </tr>\n",
       "    <tr>\n",
       "      <th>2584</th>\n",
       "      <td>0.0</td>\n",
       "      <td>1</td>\n",
       "    </tr>\n",
       "    <tr>\n",
       "      <th>2030</th>\n",
       "      <td>0.0</td>\n",
       "      <td>1</td>\n",
       "    </tr>\n",
       "    <tr>\n",
       "      <th>969</th>\n",
       "      <td>0.0</td>\n",
       "      <td>1</td>\n",
       "    </tr>\n",
       "    <tr>\n",
       "      <th>968</th>\n",
       "      <td>0.0</td>\n",
       "      <td>1</td>\n",
       "    </tr>\n",
       "    <tr>\n",
       "      <th>...</th>\n",
       "      <td>...</td>\n",
       "      <td>...</td>\n",
       "    </tr>\n",
       "    <tr>\n",
       "      <th>2538</th>\n",
       "      <td>1.0</td>\n",
       "      <td>0</td>\n",
       "    </tr>\n",
       "    <tr>\n",
       "      <th>2742</th>\n",
       "      <td>1.0</td>\n",
       "      <td>0</td>\n",
       "    </tr>\n",
       "    <tr>\n",
       "      <th>2532</th>\n",
       "      <td>1.0</td>\n",
       "      <td>0</td>\n",
       "    </tr>\n",
       "    <tr>\n",
       "      <th>407</th>\n",
       "      <td>1.0</td>\n",
       "      <td>0</td>\n",
       "    </tr>\n",
       "    <tr>\n",
       "      <th>788</th>\n",
       "      <td>1.0</td>\n",
       "      <td>0</td>\n",
       "    </tr>\n",
       "  </tbody>\n",
       "</table>\n",
       "<p>2793 rows × 2 columns</p>\n",
       "</div>"
      ],
      "text/plain": [
       "      prop_neutral  outcome\n",
       "1396           0.0        1\n",
       "2584           0.0        1\n",
       "2030           0.0        1\n",
       "969            0.0        1\n",
       "968            0.0        1\n",
       "...            ...      ...\n",
       "2538           1.0        0\n",
       "2742           1.0        0\n",
       "2532           1.0        0\n",
       "407            1.0        0\n",
       "788            1.0        0\n",
       "\n",
       "[2793 rows x 2 columns]"
      ]
     },
     "execution_count": 12,
     "metadata": {},
     "output_type": "execute_result"
    }
   ],
   "source": [
    "neutral_outcome.sort_values(\"prop_neutral\")"
   ]
  },
  {
   "cell_type": "code",
   "execution_count": 13,
   "metadata": {},
   "outputs": [
    {
     "data": {
      "image/png": "[encoded data removed]",
      "text/plain": [
       "<Figure size 432x288 with 1 Axes>"
      ]
     },
     "metadata": {
      "needs_background": "light"
     },
     "output_type": "display_data"
    }
   ],
   "source": [
    "plt.scatter(neutral_outcome.outcome, neutral_outcome.prop_neutral)\n",
    "plt.show()"
   ]
  },
  {
   "cell_type": "code",
   "execution_count": 14,
   "metadata": {},
   "outputs": [
    {
     "data": {
      "text/plain": [
       "0.5380228136882129"
      ]
     },
     "execution_count": 14,
     "metadata": {},
     "output_type": "execute_result"
    }
   ],
   "source": [
    "zeros_neutral = neutral_outcome[neutral_outcome.prop_neutral==0]\n",
    "len(zeros_neutral)\n",
    "len(zeros_neutral[zeros_neutral.outcome == 1])/len(zeros_neutral)"
   ]
  },
  {
   "cell_type": "markdown",
   "metadata": {},
   "source": [
    "When there is no neutral votes casted, there is roughly a 50 percent chance that the election outcome is postive.  \n",
    "Let's now drop those elections with zero neutral votes and visualize the influence of proportion of neutral votes on the election outcome."
   ]
  },
  {
   "cell_type": "code",
   "execution_count": 15,
   "metadata": {},
   "outputs": [
    {
     "data": {
      "text/plain": [
       "<seaborn.axisgrid.FacetGrid at 0x1f3a01a9ac8>"
      ]
     },
     "execution_count": 15,
     "metadata": {},
     "output_type": "execute_result"
    },
    {
     "data": {
      "image/png": "[encoded data removed]",
      "text/plain": [
       "<Figure size 360x360 with 1 Axes>"
      ]
     },
     "metadata": {
      "needs_background": "light"
     },
     "output_type": "display_data"
    }
   ],
   "source": [
    "neutral = neutral_outcome[neutral_outcome.prop_neutral!=0]\n",
    "sns.relplot(x = neutral.outcome, y= neutral.prop_neutral)"
   ]
  },
  {
   "cell_type": "markdown",
   "metadata": {},
   "source": [
    "There are a lot of elections, a lot of different proportions, we cannot see much on this plot. Let's try to round the proportion to 3 decimals, group by proportion of neutral votes and see what happens. "
   ]
  },
  {
   "cell_type": "code",
   "execution_count": 16,
   "metadata": {},
   "outputs": [
    {
     "name": "stderr",
     "output_type": "stream",
     "text": [
      "C:\\Users\\eugch\\anaconda3\\lib\\site-packages\\pandas\\core\\generic.py:5168: SettingWithCopyWarning: \n",
      "A value is trying to be set on a copy of a slice from a DataFrame.\n",
      "Try using .loc[row_indexer,col_indexer] = value instead\n",
      "\n",
      "See the caveats in the documentation: https://pandas.pydata.org/pandas-docs/stable/user_guide/indexing.html#returning-a-view-versus-a-copy\n",
      "  self[name] = value\n"
     ]
    },
    {
     "data": {
      "text/html": [
       "<div>\n",
       "<style scoped>\n",
       "    .dataframe tbody tr th:only-of-type {\n",
       "        vertical-align: middle;\n",
       "    }\n",
       "\n",
       "    .dataframe tbody tr th {\n",
       "        vertical-align: top;\n",
       "    }\n",
       "\n",
       "    .dataframe thead th {\n",
       "        text-align: right;\n",
       "    }\n",
       "</style>\n",
       "<table border=\"1\" class=\"dataframe\">\n",
       "  <thead>\n",
       "    <tr style=\"text-align: right;\">\n",
       "      <th></th>\n",
       "      <th>prop_neutral</th>\n",
       "      <th>outcome</th>\n",
       "    </tr>\n",
       "  </thead>\n",
       "  <tbody>\n",
       "    <tr>\n",
       "      <th>486</th>\n",
       "      <td>0.133</td>\n",
       "      <td>0</td>\n",
       "    </tr>\n",
       "    <tr>\n",
       "      <th>879</th>\n",
       "      <td>0.100</td>\n",
       "      <td>0</td>\n",
       "    </tr>\n",
       "    <tr>\n",
       "      <th>1850</th>\n",
       "      <td>0.038</td>\n",
       "      <td>1</td>\n",
       "    </tr>\n",
       "    <tr>\n",
       "      <th>2200</th>\n",
       "      <td>0.222</td>\n",
       "      <td>0</td>\n",
       "    </tr>\n",
       "    <tr>\n",
       "      <th>1613</th>\n",
       "      <td>0.065</td>\n",
       "      <td>1</td>\n",
       "    </tr>\n",
       "  </tbody>\n",
       "</table>\n",
       "</div>"
      ],
      "text/plain": [
       "      prop_neutral  outcome\n",
       "486          0.133        0\n",
       "879          0.100        0\n",
       "1850         0.038        1\n",
       "2200         0.222        0\n",
       "1613         0.065        1"
      ]
     },
     "execution_count": 16,
     "metadata": {},
     "output_type": "execute_result"
    }
   ],
   "source": [
    "neutral.prop_neutral = neutral.prop_neutral.apply(lambda x: round(x, 3))\n",
    "neutral.sample(5)"
   ]
  },
  {
   "cell_type": "code",
   "execution_count": 17,
   "metadata": {},
   "outputs": [
    {
     "name": "stdout",
     "output_type": "stream",
     "text": [
      "1741 271\n"
     ]
    }
   ],
   "source": [
    "print(len(neutral), len(neutral.groupby(\"prop_neutral\")))"
   ]
  },
  {
   "cell_type": "code",
   "execution_count": 18,
   "metadata": {},
   "outputs": [],
   "source": [
    "neutral_pos_outcome = neutral[neutral.outcome==1]\n",
    "neutral_neg_outcome = neutral[neutral.outcome==0]\n",
    "\n",
    "neutral_pos_outcome = neutral_pos_outcome.groupby(\"prop_neutral\").count()\n",
    "neutral_neg_outcome = neutral_neg_outcome.groupby(\"prop_neutral\").count()\n",
    "\n",
    "neutral_pos_outcome.rename(columns = {'outcome':'Count'}, inplace = True) \n",
    "neutral_neg_outcome.rename(columns = {'outcome':'Count'}, inplace = True) "
   ]
  },
  {
   "cell_type": "code",
   "execution_count": 19,
   "metadata": {},
   "outputs": [
    {
     "data": {
      "text/html": [
       "<div>\n",
       "<style scoped>\n",
       "    .dataframe tbody tr th:only-of-type {\n",
       "        vertical-align: middle;\n",
       "    }\n",
       "\n",
       "    .dataframe tbody tr th {\n",
       "        vertical-align: top;\n",
       "    }\n",
       "\n",
       "    .dataframe thead th {\n",
       "        text-align: right;\n",
       "    }\n",
       "</style>\n",
       "<table border=\"1\" class=\"dataframe\">\n",
       "  <thead>\n",
       "    <tr style=\"text-align: right;\">\n",
       "      <th></th>\n",
       "      <th>Count</th>\n",
       "    </tr>\n",
       "    <tr>\n",
       "      <th>prop_neutral</th>\n",
       "      <th></th>\n",
       "    </tr>\n",
       "  </thead>\n",
       "  <tbody>\n",
       "    <tr>\n",
       "      <th>0.006</th>\n",
       "      <td>2</td>\n",
       "    </tr>\n",
       "    <tr>\n",
       "      <th>0.007</th>\n",
       "      <td>1</td>\n",
       "    </tr>\n",
       "    <tr>\n",
       "      <th>0.008</th>\n",
       "      <td>2</td>\n",
       "    </tr>\n",
       "    <tr>\n",
       "      <th>0.009</th>\n",
       "      <td>7</td>\n",
       "    </tr>\n",
       "    <tr>\n",
       "      <th>0.010</th>\n",
       "      <td>4</td>\n",
       "    </tr>\n",
       "  </tbody>\n",
       "</table>\n",
       "</div>"
      ],
      "text/plain": [
       "              Count\n",
       "prop_neutral       \n",
       "0.006             2\n",
       "0.007             1\n",
       "0.008             2\n",
       "0.009             7\n",
       "0.010             4"
      ]
     },
     "execution_count": 19,
     "metadata": {},
     "output_type": "execute_result"
    }
   ],
   "source": [
    "neutral_pos_outcome.head()"
   ]
  },
  {
   "cell_type": "code",
   "execution_count": 32,
   "metadata": {},
   "outputs": [
    {
     "data": {
      "text/plain": [
       "Text(0.5, 1.0, 'outcome positive')"
      ]
     },
     "execution_count": 32,
     "metadata": {},
     "output_type": "execute_result"
    },
    {
     "data": {
      "image/png": "[encoded data removed]",
      "text/plain": [
       "<Figure size 720x720 with 2 Axes>"
      ]
     },
     "metadata": {
      "needs_background": "light"
     },
     "output_type": "display_data"
    }
   ],
   "source": [
    "fig, axes = plt.subplots(1, 2,  sharey=True, figsize=(10, 10) )\n",
    "fig.suptitle('repartition of proportion of neutral votes with respect to the outcome')\n",
    "\n",
    "sns.scatterplot(ax=axes[0], x =0, y=neutral_neg_outcome.index, hue = neutral_neg_outcome.Count, size=neutral_neg_outcome.Count)\n",
    "axes[0].set_title(\"outcome negative\")\n",
    "\n",
    "sns.scatterplot(ax=axes[1], x =1, y=neutral_pos_outcome.index, hue = neutral_pos_outcome.Count, size=neutral_pos_outcome.Count)\n",
    "axes[1].set_title(\"outcome positive\")"
   ]
  },
  {
   "cell_type": "markdown",
   "metadata": {},
   "source": [
    "Interpretation : Neutral votes more numerous are correlated with a negative outcome election. "
   ]
  },
  {
   "cell_type": "markdown",
   "metadata": {},
   "source": [
    "### Neutral votes and duration of the elections"
   ]
  },
  {
   "cell_type": "code",
   "execution_count": 49,
   "metadata": {},
   "outputs": [
    {
     "data": {
      "text/html": [
       "<div>\n",
       "<style scoped>\n",
       "    .dataframe tbody tr th:only-of-type {\n",
       "        vertical-align: middle;\n",
       "    }\n",
       "\n",
       "    .dataframe tbody tr th {\n",
       "        vertical-align: top;\n",
       "    }\n",
       "\n",
       "    .dataframe thead th {\n",
       "        text-align: right;\n",
       "    }\n",
       "</style>\n",
       "<table border=\"1\" class=\"dataframe\">\n",
       "  <thead>\n",
       "    <tr style=\"text-align: right;\">\n",
       "      <th></th>\n",
       "      <th>elec_outcome</th>\n",
       "      <th>elec_time</th>\n",
       "      <th>candidate_id</th>\n",
       "      <th>voter_id</th>\n",
       "      <th>vote</th>\n",
       "      <th>vote_time</th>\n",
       "      <th>nominator_id</th>\n",
       "    </tr>\n",
       "  </thead>\n",
       "  <tbody>\n",
       "    <tr>\n",
       "      <th>0</th>\n",
       "      <td>1</td>\n",
       "      <td>2004-09-21 01:15:53</td>\n",
       "      <td>30</td>\n",
       "      <td>3</td>\n",
       "      <td>1</td>\n",
       "      <td>2004-09-14 16:26:00</td>\n",
       "      <td>32</td>\n",
       "    </tr>\n",
       "    <tr>\n",
       "      <th>1</th>\n",
       "      <td>1</td>\n",
       "      <td>2004-09-21 01:15:53</td>\n",
       "      <td>30</td>\n",
       "      <td>25</td>\n",
       "      <td>-1</td>\n",
       "      <td>2004-09-14 16:53:00</td>\n",
       "      <td>32</td>\n",
       "    </tr>\n",
       "    <tr>\n",
       "      <th>2</th>\n",
       "      <td>1</td>\n",
       "      <td>2004-09-21 01:15:53</td>\n",
       "      <td>30</td>\n",
       "      <td>4</td>\n",
       "      <td>1</td>\n",
       "      <td>2004-09-14 17:08:00</td>\n",
       "      <td>32</td>\n",
       "    </tr>\n",
       "    <tr>\n",
       "      <th>3</th>\n",
       "      <td>1</td>\n",
       "      <td>2004-09-21 01:15:53</td>\n",
       "      <td>30</td>\n",
       "      <td>5</td>\n",
       "      <td>1</td>\n",
       "      <td>2004-09-14 17:37:00</td>\n",
       "      <td>32</td>\n",
       "    </tr>\n",
       "    <tr>\n",
       "      <th>4</th>\n",
       "      <td>1</td>\n",
       "      <td>2004-09-21 01:15:53</td>\n",
       "      <td>30</td>\n",
       "      <td>6</td>\n",
       "      <td>1</td>\n",
       "      <td>2004-09-14 19:28:00</td>\n",
       "      <td>32</td>\n",
       "    </tr>\n",
       "    <tr>\n",
       "      <th>...</th>\n",
       "      <td>...</td>\n",
       "      <td>...</td>\n",
       "      <td>...</td>\n",
       "      <td>...</td>\n",
       "      <td>...</td>\n",
       "      <td>...</td>\n",
       "      <td>...</td>\n",
       "    </tr>\n",
       "    <tr>\n",
       "      <th>114034</th>\n",
       "      <td>0</td>\n",
       "      <td>2008-01-06 01:14:38</td>\n",
       "      <td>6307</td>\n",
       "      <td>5800</td>\n",
       "      <td>-1</td>\n",
       "      <td>2008-01-05 23:31:00</td>\n",
       "      <td>-1</td>\n",
       "    </tr>\n",
       "    <tr>\n",
       "      <th>114035</th>\n",
       "      <td>0</td>\n",
       "      <td>2008-01-06 01:14:38</td>\n",
       "      <td>6307</td>\n",
       "      <td>8045</td>\n",
       "      <td>-1</td>\n",
       "      <td>2008-01-05 23:34:00</td>\n",
       "      <td>-1</td>\n",
       "    </tr>\n",
       "    <tr>\n",
       "      <th>114036</th>\n",
       "      <td>0</td>\n",
       "      <td>2008-01-06 01:14:38</td>\n",
       "      <td>6307</td>\n",
       "      <td>7053</td>\n",
       "      <td>-1</td>\n",
       "      <td>2008-01-05 23:36:00</td>\n",
       "      <td>-1</td>\n",
       "    </tr>\n",
       "    <tr>\n",
       "      <th>114037</th>\n",
       "      <td>0</td>\n",
       "      <td>2008-01-06 01:14:38</td>\n",
       "      <td>6307</td>\n",
       "      <td>6885</td>\n",
       "      <td>-1</td>\n",
       "      <td>2008-01-06 00:44:00</td>\n",
       "      <td>-1</td>\n",
       "    </tr>\n",
       "    <tr>\n",
       "      <th>114038</th>\n",
       "      <td>0</td>\n",
       "      <td>2008-01-06 01:14:38</td>\n",
       "      <td>6307</td>\n",
       "      <td>8243</td>\n",
       "      <td>-1</td>\n",
       "      <td>2008-01-06 01:07:00</td>\n",
       "      <td>-1</td>\n",
       "    </tr>\n",
       "  </tbody>\n",
       "</table>\n",
       "<p>13261 rows × 7 columns</p>\n",
       "</div>"
      ],
      "text/plain": [
       "        elec_outcome           elec_time  candidate_id  voter_id  vote  \\\n",
       "0                  1 2004-09-21 01:15:53            30         3     1   \n",
       "1                  1 2004-09-21 01:15:53            30        25    -1   \n",
       "2                  1 2004-09-21 01:15:53            30         4     1   \n",
       "3                  1 2004-09-21 01:15:53            30         5     1   \n",
       "4                  1 2004-09-21 01:15:53            30         6     1   \n",
       "...              ...                 ...           ...       ...   ...   \n",
       "114034             0 2008-01-06 01:14:38          6307      5800    -1   \n",
       "114035             0 2008-01-06 01:14:38          6307      8045    -1   \n",
       "114036             0 2008-01-06 01:14:38          6307      7053    -1   \n",
       "114037             0 2008-01-06 01:14:38          6307      6885    -1   \n",
       "114038             0 2008-01-06 01:14:38          6307      8243    -1   \n",
       "\n",
       "                 vote_time  nominator_id  \n",
       "0      2004-09-14 16:26:00            32  \n",
       "1      2004-09-14 16:53:00            32  \n",
       "2      2004-09-14 17:08:00            32  \n",
       "3      2004-09-14 17:37:00            32  \n",
       "4      2004-09-14 19:28:00            32  \n",
       "...                    ...           ...  \n",
       "114034 2008-01-05 23:31:00            -1  \n",
       "114035 2008-01-05 23:34:00            -1  \n",
       "114036 2008-01-05 23:36:00            -1  \n",
       "114037 2008-01-06 00:44:00            -1  \n",
       "114038 2008-01-06 01:07:00            -1  \n",
       "\n",
       "[13261 rows x 7 columns]"
      ]
     },
     "execution_count": 49,
     "metadata": {},
     "output_type": "execute_result"
    }
   ],
   "source": [
    "grouped_wiki.head()"
   ]
  },
  {
   "cell_type": "code",
   "execution_count": 52,
   "metadata": {},
   "outputs": [
    {
     "data": {
      "text/html": [
       "<div>\n",
       "<style scoped>\n",
       "    .dataframe tbody tr th:only-of-type {\n",
       "        vertical-align: middle;\n",
       "    }\n",
       "\n",
       "    .dataframe tbody tr th {\n",
       "        vertical-align: top;\n",
       "    }\n",
       "\n",
       "    .dataframe thead th {\n",
       "        text-align: right;\n",
       "    }\n",
       "</style>\n",
       "<table border=\"1\" class=\"dataframe\">\n",
       "  <thead>\n",
       "    <tr style=\"text-align: right;\">\n",
       "      <th></th>\n",
       "      <th>duration</th>\n",
       "      <th>prop_neutral_votes</th>\n",
       "      <th>outcome</th>\n",
       "    </tr>\n",
       "  </thead>\n",
       "  <tbody>\n",
       "    <tr>\n",
       "      <th>0</th>\n",
       "      <td>167.90</td>\n",
       "      <td>0.176471</td>\n",
       "      <td>1</td>\n",
       "    </tr>\n",
       "    <tr>\n",
       "      <th>1</th>\n",
       "      <td>150.53</td>\n",
       "      <td>0.090909</td>\n",
       "      <td>1</td>\n",
       "    </tr>\n",
       "    <tr>\n",
       "      <th>2</th>\n",
       "      <td>149.90</td>\n",
       "      <td>0.148148</td>\n",
       "      <td>1</td>\n",
       "    </tr>\n",
       "    <tr>\n",
       "      <th>3</th>\n",
       "      <td>155.27</td>\n",
       "      <td>0.000000</td>\n",
       "      <td>1</td>\n",
       "    </tr>\n",
       "    <tr>\n",
       "      <th>4</th>\n",
       "      <td>162.98</td>\n",
       "      <td>0.000000</td>\n",
       "      <td>1</td>\n",
       "    </tr>\n",
       "  </tbody>\n",
       "</table>\n",
       "</div>"
      ],
      "text/plain": [
       "   duration  prop_neutral_votes  outcome\n",
       "0    167.90            0.176471        1\n",
       "1    150.53            0.090909        1\n",
       "2    149.90            0.148148        1\n",
       "3    155.27            0.000000        1\n",
       "4    162.98            0.000000        1"
      ]
     },
     "execution_count": 52,
     "metadata": {},
     "output_type": "execute_result"
    }
   ],
   "source": [
    "results = pd.DataFrame(columns = [\"duration\", \"prop_neutral_votes\", \"outcome\"])\n",
    "results.head()\n",
    "\n",
    "durations_ = []\n",
    "fractions_neutral_votes = []\n",
    "outcomes = []\n",
    "for time, group in grouped_wiki: \n",
    "    if len(group[\"vote\"]) == 0 :\n",
    "        print(\"empty election\")\n",
    "    duration = (max(group[\"vote_time\"]) - min(group[\"vote_time\"])).total_seconds()\n",
    "    if duration !=0.0 :\n",
    "        if (len(group[group[\"vote\"]==0]) != 0)  : \n",
    "            fraction_neutral_votes = len(group[group[\"vote\"]==0]) / len(group[\"vote\"])\n",
    "        else : \n",
    "            # if no negative votes votes were casted, we consider the fraction of positive votes to be 1\n",
    "            fraction_neutral_votes = 0.0\n",
    "            \n",
    "        # duration is stored in the number of hours it lasted, with 2 decimals.\n",
    "        # we consider this precision is enough in order to draw analysis based on comparison of the elections durations.\n",
    "        durations_.append(round(duration/3600.0, 2) )\n",
    "        fractions_neutral_votes.append(fraction_neutral_votes)\n",
    "        outcomes.append(group.iloc[0][\"elec_outcome\"])\n",
    "\n",
    "\n",
    "results[\"duration\"] = durations_\n",
    "results[\"prop_neutral_votes\"] = fractions_neutral_votes\n",
    "results[\"outcome\"] = outcomes\n",
    "results.head()"
   ]
  },
  {
   "cell_type": "code",
   "execution_count": 55,
   "metadata": {},
   "outputs": [
    {
     "data": {
      "text/plain": [
       "<AxesSubplot:xlabel='duration', ylabel='prop_neutral_votes'>"
      ]
     },
     "execution_count": 55,
     "metadata": {},
     "output_type": "execute_result"
    },
    {
     "data": {
      "image/png": "[encoded data removed]",
      "text/plain": [
       "<Figure size 432x288 with 1 Axes>"
      ]
     },
     "metadata": {
      "needs_background": "light"
     },
     "output_type": "display_data"
    }
   ],
   "source": [
    "neutral_duration = results[results.prop_neutral_votes!=0]\n",
    "sns.scatterplot(x = neutral_duration.duration, y= neutral_duration.prop_neutral_votes)"
   ]
  },
  {
   "cell_type": "code",
   "execution_count": 56,
   "metadata": {},
   "outputs": [
    {
     "data": {
      "text/html": [
       "<div>\n",
       "<style scoped>\n",
       "    .dataframe tbody tr th:only-of-type {\n",
       "        vertical-align: middle;\n",
       "    }\n",
       "\n",
       "    .dataframe tbody tr th {\n",
       "        vertical-align: top;\n",
       "    }\n",
       "\n",
       "    .dataframe thead th {\n",
       "        text-align: right;\n",
       "    }\n",
       "</style>\n",
       "<table border=\"1\" class=\"dataframe\">\n",
       "  <thead>\n",
       "    <tr style=\"text-align: right;\">\n",
       "      <th></th>\n",
       "      <th>duration</th>\n",
       "      <th>prop_neutral_votes</th>\n",
       "      <th>outcome</th>\n",
       "    </tr>\n",
       "  </thead>\n",
       "  <tbody>\n",
       "    <tr>\n",
       "      <th>0</th>\n",
       "      <td>167.90</td>\n",
       "      <td>0.176471</td>\n",
       "      <td>1</td>\n",
       "    </tr>\n",
       "    <tr>\n",
       "      <th>1</th>\n",
       "      <td>150.53</td>\n",
       "      <td>0.090909</td>\n",
       "      <td>1</td>\n",
       "    </tr>\n",
       "    <tr>\n",
       "      <th>2</th>\n",
       "      <td>149.90</td>\n",
       "      <td>0.148148</td>\n",
       "      <td>1</td>\n",
       "    </tr>\n",
       "    <tr>\n",
       "      <th>5</th>\n",
       "      <td>187.00</td>\n",
       "      <td>0.055556</td>\n",
       "      <td>0</td>\n",
       "    </tr>\n",
       "    <tr>\n",
       "      <th>7</th>\n",
       "      <td>168.43</td>\n",
       "      <td>0.058824</td>\n",
       "      <td>1</td>\n",
       "    </tr>\n",
       "  </tbody>\n",
       "</table>\n",
       "</div>"
      ],
      "text/plain": [
       "   duration  prop_neutral_votes  outcome\n",
       "0    167.90            0.176471        1\n",
       "1    150.53            0.090909        1\n",
       "2    149.90            0.148148        1\n",
       "5    187.00            0.055556        0\n",
       "7    168.43            0.058824        1"
      ]
     },
     "execution_count": 56,
     "metadata": {},
     "output_type": "execute_result"
    }
   ],
   "source": [
    "neutral_duration.head()"
   ]
  },
  {
   "cell_type": "code",
   "execution_count": 57,
   "metadata": {},
   "outputs": [
    {
     "data": {
      "text/plain": [
       "<AxesSubplot:xlabel='duration', ylabel='prop_neutral_votes'>"
      ]
     },
     "execution_count": 57,
     "metadata": {},
     "output_type": "execute_result"
    },
    {
     "data": {
      "image/png": "[encoded data removed]",
      "text/plain": [
       "<Figure size 432x288 with 1 Axes>"
      ]
     },
     "metadata": {
      "needs_background": "light"
     },
     "output_type": "display_data"
    }
   ],
   "source": [
    "neutral_duration_cropped = neutral_duration[neutral_duration.duration<=250]\n",
    "sns.scatterplot(x = neutral_duration_cropped.duration, y= neutral_duration_cropped.prop_neutral_votes, hue = neutral_duration_cropped.outcome)"
   ]
  },
  {
   "cell_type": "markdown",
   "metadata": {},
   "source": [
    "Interpretation : Duration does not seems to be correlated with a specific pattern of proportion of neutral votes ???"
   ]
  },
  {
   "cell_type": "code",
   "execution_count": null,
   "metadata": {},
   "outputs": [],
   "source": []
  }
 ],
 "metadata": {
  "kernelspec": {
   "display_name": "Python 3",
   "language": "python",
   "name": "python3"
  },
  "language_info": {
   "codemirror_mode": {
    "name": "ipython",
    "version": 3
   },
   "file_extension": ".py",
   "mimetype": "text/x-python",
   "name": "python",
   "nbconvert_exporter": "python",
   "pygments_lexer": "ipython3",
   "version": "3.7.9"
  }
 },
 "nbformat": 4,
 "nbformat_minor": 4
}
