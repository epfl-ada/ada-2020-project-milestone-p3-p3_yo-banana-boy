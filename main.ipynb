{
 "cells": [
  {
   "cell_type": "markdown",
   "metadata": {},
   "source": [
    "# Remarques:\n",
    "\n",
    "Le notebook ne runnait pas quand j'ai pull\n",
    "C'est pratique si chacun peut 'Restart the Kernel' avant de push comme ca le code compile pour ceux d'après"
   ]
  },
  {
   "cell_type": "markdown",
   "metadata": {},
   "source": [
    "# TODO LIST:\n",
    "\n",
    "quick summary of what is said about the data on SNAP\n"
   ]
  },
  {
   "cell_type": "markdown",
   "metadata": {},
   "source": [
    "# Data loading & cleaning"
   ]
  },
  {
   "cell_type": "markdown",
   "metadata": {},
   "source": [
    "#### Imports"
   ]
  },
  {
   "cell_type": "code",
   "execution_count": 1,
   "metadata": {},
   "outputs": [],
   "source": [
    "import pandas as pd\n",
    "import numpy as np\n",
    "import math\n",
    "import matplotlib.pyplot as plt"
   ]
  },
  {
   "cell_type": "markdown",
   "metadata": {},
   "source": [
    "#### Dataset description\n",
    "\n",
    "#TODO: quick summary of what is said about the data on SNAP\n",
    "\n",
    "\n",
    "#### Features description\n",
    "\n",
    "   E: election outcome, succesful (1) or not (0)\n",
    "   \n",
    "   T: time election was closed\n",
    "   \n",
    "   U: candidate id, the one being considered for promotion\n",
    "   \n",
    "   N: nominator id\n",
    "   \n",
    "   V: we have 3 interesting features in this line\n",
    "   \n",
    "      result of the vote (1:support, 0:neutral, -1:oppose)\n",
    "      \n",
    "      voter id\n",
    "      \n",
    "      time of the vote (yyyy-mm-dd)\n"
   ]
  },
  {
   "cell_type": "markdown",
   "metadata": {},
   "source": [
    "#### Data loading"
   ]
  },
  {
   "cell_type": "code",
   "execution_count": 2,
   "metadata": {},
   "outputs": [],
   "source": [
    "DATA_PATH = \"data/\"\n",
    "\n",
    "# create a variable to store all the features\n",
    "wiki = []\n",
    "\n",
    "# we use encoding=\"latin-1\" as some user names contain non utf-8 characters\n",
    "# note that we are not interested in the user names, so we don't care if their names is not properly read\n",
    "with open(DATA_PATH+\"wikiElec.ElecBs3.txt\", encoding=\"latin-1\") as f:\n",
    "    \n",
    "    # lines of the files\n",
    "    for line in f.readlines():\n",
    "        \n",
    "        # lines are separated with tab: \\t\n",
    "        line = line.split(\"\\t\")\n",
    "        first = line[0]\n",
    "            \n",
    "        # election outcome\n",
    "        if first==\"E\":\n",
    "            elec_outcome = line[1][:-1] #[:-1] to remove the \\n\n",
    "            continue\n",
    "        \n",
    "        # time the election was closed\n",
    "        if first==\"T\":\n",
    "            elec_time = pd.to_datetime(line[1])\n",
    "            continue\n",
    "            \n",
    "        # candidate id  \n",
    "        if first==\"U\":\n",
    "            candidate_id = line[1]\n",
    "            continue \n",
    "            \n",
    "        # nominator id\n",
    "        if first==\"N\":\n",
    "            nominator_id = line[1]\n",
    "            continue\n",
    "        \n",
    "        if first==\"V\":\n",
    "            vote = line[1]\n",
    "            voter_id = line[2]\n",
    "            vote_time = pd.to_datetime(line[3])\n",
    "            \n",
    "            #store the results\n",
    "            wiki.append([elec_outcome, elec_time, candidate_id, voter_id, vote, vote_time, nominator_id])\n",
    "            continue"
   ]
  },
  {
   "cell_type": "code",
   "execution_count": 3,
   "metadata": {
    "scrolled": true
   },
   "outputs": [
    {
     "data": {
      "text/html": [
       "<div>\n",
       "<style scoped>\n",
       "    .dataframe tbody tr th:only-of-type {\n",
       "        vertical-align: middle;\n",
       "    }\n",
       "\n",
       "    .dataframe tbody tr th {\n",
       "        vertical-align: top;\n",
       "    }\n",
       "\n",
       "    .dataframe thead th {\n",
       "        text-align: right;\n",
       "    }\n",
       "</style>\n",
       "<table border=\"1\" class=\"dataframe\">\n",
       "  <thead>\n",
       "    <tr style=\"text-align: right;\">\n",
       "      <th></th>\n",
       "      <th>elec_outcome</th>\n",
       "      <th>elec_time</th>\n",
       "      <th>candidate_id</th>\n",
       "      <th>voter_id</th>\n",
       "      <th>vote</th>\n",
       "      <th>vote_time</th>\n",
       "      <th>nominator_id</th>\n",
       "    </tr>\n",
       "  </thead>\n",
       "  <tbody>\n",
       "    <tr>\n",
       "      <th>0</th>\n",
       "      <td>1</td>\n",
       "      <td>2004-09-21 01:15:53</td>\n",
       "      <td>30</td>\n",
       "      <td>3</td>\n",
       "      <td>1</td>\n",
       "      <td>2004-09-14 16:26:00</td>\n",
       "      <td>32</td>\n",
       "    </tr>\n",
       "    <tr>\n",
       "      <th>1</th>\n",
       "      <td>1</td>\n",
       "      <td>2004-09-21 01:15:53</td>\n",
       "      <td>30</td>\n",
       "      <td>25</td>\n",
       "      <td>-1</td>\n",
       "      <td>2004-09-14 16:53:00</td>\n",
       "      <td>32</td>\n",
       "    </tr>\n",
       "    <tr>\n",
       "      <th>2</th>\n",
       "      <td>1</td>\n",
       "      <td>2004-09-21 01:15:53</td>\n",
       "      <td>30</td>\n",
       "      <td>4</td>\n",
       "      <td>1</td>\n",
       "      <td>2004-09-14 17:08:00</td>\n",
       "      <td>32</td>\n",
       "    </tr>\n",
       "    <tr>\n",
       "      <th>3</th>\n",
       "      <td>1</td>\n",
       "      <td>2004-09-21 01:15:53</td>\n",
       "      <td>30</td>\n",
       "      <td>5</td>\n",
       "      <td>1</td>\n",
       "      <td>2004-09-14 17:37:00</td>\n",
       "      <td>32</td>\n",
       "    </tr>\n",
       "    <tr>\n",
       "      <th>4</th>\n",
       "      <td>1</td>\n",
       "      <td>2004-09-21 01:15:53</td>\n",
       "      <td>30</td>\n",
       "      <td>6</td>\n",
       "      <td>1</td>\n",
       "      <td>2004-09-14 19:28:00</td>\n",
       "      <td>32</td>\n",
       "    </tr>\n",
       "  </tbody>\n",
       "</table>\n",
       "</div>"
      ],
      "text/plain": [
       "  elec_outcome           elec_time candidate_id voter_id vote  \\\n",
       "0            1 2004-09-21 01:15:53           30        3    1   \n",
       "1            1 2004-09-21 01:15:53           30       25   -1   \n",
       "2            1 2004-09-21 01:15:53           30        4    1   \n",
       "3            1 2004-09-21 01:15:53           30        5    1   \n",
       "4            1 2004-09-21 01:15:53           30        6    1   \n",
       "\n",
       "            vote_time nominator_id  \n",
       "0 2004-09-14 16:26:00           32  \n",
       "1 2004-09-14 16:53:00           32  \n",
       "2 2004-09-14 17:08:00           32  \n",
       "3 2004-09-14 17:37:00           32  \n",
       "4 2004-09-14 19:28:00           32  "
      ]
     },
     "execution_count": 3,
     "metadata": {},
     "output_type": "execute_result"
    }
   ],
   "source": [
    "# store the result wiki in an appropriate pandas dataframe\n",
    "wikipedia = pd.DataFrame(wiki, columns = [\"elec_outcome\", \"elec_time\", \"candidate_id\", \"voter_id\", \"vote\", \"vote_time\", \"nominator_id\"])\n",
    "wikipedia.head()"
   ]
  },
  {
   "cell_type": "markdown",
   "metadata": {},
   "source": [
    "#### Data cleaning"
   ]
  },
  {
   "cell_type": "markdown",
   "metadata": {},
   "source": [
    "We would not want to begin our analysis using inexisting dates ! Let us check that all dates present in our dataframe are coherent. \n",
    "\n",
    "Let's check extreme dates."
   ]
  },
  {
   "cell_type": "code",
   "execution_count": 4,
   "metadata": {
    "scrolled": true
   },
   "outputs": [
    {
     "name": "stdout",
     "output_type": "stream",
     "text": [
      "The last election was closed on 2008-01-06 02:18:28 \n",
      "The first election was closed on 2004-09-17 00:41:00\n",
      "The last vote was casted on 2105-08-31 10:32:44 \n",
      "The first vote was casted on 2004-03-28 19:12:00\n"
     ]
    }
   ],
   "source": [
    "print(\"The last election was closed on\", max(wikipedia.elec_time),\"\\nThe first election was closed on\", min(wikipedia.elec_time))\n",
    "print(\"The last vote was casted on\", max(wikipedia.vote_time),\"\\nThe first vote was casted on\", min(wikipedia.vote_time))"
   ]
  },
  {
   "cell_type": "markdown",
   "metadata": {},
   "source": [
    "The dataset is defined on the SNAP website as containing elections & votes until January 2008. \n",
    "\n",
    "The time elections were closed seem to be coherent. \n",
    "In contrast, there are clearly wrong dates about the time of the votes (we're not in 2105 yet...)"
   ]
  },
  {
   "cell_type": "code",
   "execution_count": 5,
   "metadata": {},
   "outputs": [
    {
     "data": {
      "text/html": [
       "<div>\n",
       "<style scoped>\n",
       "    .dataframe tbody tr th:only-of-type {\n",
       "        vertical-align: middle;\n",
       "    }\n",
       "\n",
       "    .dataframe tbody tr th {\n",
       "        vertical-align: top;\n",
       "    }\n",
       "\n",
       "    .dataframe thead th {\n",
       "        text-align: right;\n",
       "    }\n",
       "</style>\n",
       "<table border=\"1\" class=\"dataframe\">\n",
       "  <thead>\n",
       "    <tr style=\"text-align: right;\">\n",
       "      <th></th>\n",
       "      <th>elec_outcome</th>\n",
       "      <th>elec_time</th>\n",
       "      <th>candidate_id</th>\n",
       "      <th>voter_id</th>\n",
       "      <th>vote</th>\n",
       "      <th>vote_time</th>\n",
       "      <th>nominator_id</th>\n",
       "    </tr>\n",
       "  </thead>\n",
       "  <tbody>\n",
       "    <tr>\n",
       "      <th>1143</th>\n",
       "      <td>0</td>\n",
       "      <td>2006-12-29 16:13:03</td>\n",
       "      <td>300</td>\n",
       "      <td>92</td>\n",
       "      <td>1</td>\n",
       "      <td>2086-05-13 01:04:00</td>\n",
       "      <td>-1</td>\n",
       "    </tr>\n",
       "    <tr>\n",
       "      <th>1214</th>\n",
       "      <td>0</td>\n",
       "      <td>2007-09-10 02:08:15</td>\n",
       "      <td>302</td>\n",
       "      <td>92</td>\n",
       "      <td>1</td>\n",
       "      <td>2096-05-13 01:04:00</td>\n",
       "      <td>-1</td>\n",
       "    </tr>\n",
       "    <tr>\n",
       "      <th>64807</th>\n",
       "      <td>0</td>\n",
       "      <td>2006-11-07 23:12:34</td>\n",
       "      <td>5045</td>\n",
       "      <td>4963</td>\n",
       "      <td>0</td>\n",
       "      <td>2061-11-17 01:04:00</td>\n",
       "      <td>-1</td>\n",
       "    </tr>\n",
       "    <tr>\n",
       "      <th>65201</th>\n",
       "      <td>1</td>\n",
       "      <td>2007-05-04 01:47:24</td>\n",
       "      <td>3537</td>\n",
       "      <td>4963</td>\n",
       "      <td>1</td>\n",
       "      <td>2067-11-21 01:04:00</td>\n",
       "      <td>1137</td>\n",
       "    </tr>\n",
       "    <tr>\n",
       "      <th>65654</th>\n",
       "      <td>1</td>\n",
       "      <td>2007-05-04 02:02:48</td>\n",
       "      <td>5092</td>\n",
       "      <td>4963</td>\n",
       "      <td>1</td>\n",
       "      <td>2063-01-22 01:04:00</td>\n",
       "      <td>4476</td>\n",
       "    </tr>\n",
       "    <tr>\n",
       "      <th>66494</th>\n",
       "      <td>1</td>\n",
       "      <td>2007-05-04 02:46:43</td>\n",
       "      <td>5144</td>\n",
       "      <td>4963</td>\n",
       "      <td>1</td>\n",
       "      <td>2070-12-02 01:04:00</td>\n",
       "      <td>3453</td>\n",
       "    </tr>\n",
       "    <tr>\n",
       "      <th>66593</th>\n",
       "      <td>1</td>\n",
       "      <td>2007-05-04 02:56:08</td>\n",
       "      <td>4547</td>\n",
       "      <td>4963</td>\n",
       "      <td>1</td>\n",
       "      <td>2074-11-29 01:04:00</td>\n",
       "      <td>5058</td>\n",
       "    </tr>\n",
       "    <tr>\n",
       "      <th>67665</th>\n",
       "      <td>1</td>\n",
       "      <td>2007-05-04 03:31:09</td>\n",
       "      <td>3691</td>\n",
       "      <td>4963</td>\n",
       "      <td>1</td>\n",
       "      <td>2065-09-17 01:04:00</td>\n",
       "      <td>3691</td>\n",
       "    </tr>\n",
       "    <tr>\n",
       "      <th>67856</th>\n",
       "      <td>0</td>\n",
       "      <td>2007-12-10 10:57:36</td>\n",
       "      <td>3455</td>\n",
       "      <td>4963</td>\n",
       "      <td>1</td>\n",
       "      <td>2064-05-21 01:04:00</td>\n",
       "      <td>-1</td>\n",
       "    </tr>\n",
       "    <tr>\n",
       "      <th>68512</th>\n",
       "      <td>0</td>\n",
       "      <td>2007-05-04 03:57:13</td>\n",
       "      <td>4468</td>\n",
       "      <td>4963</td>\n",
       "      <td>0</td>\n",
       "      <td>2061-07-28 01:04:00</td>\n",
       "      <td>-1</td>\n",
       "    </tr>\n",
       "    <tr>\n",
       "      <th>80621</th>\n",
       "      <td>1</td>\n",
       "      <td>2007-04-25 20:58:00</td>\n",
       "      <td>4828</td>\n",
       "      <td>813</td>\n",
       "      <td>1</td>\n",
       "      <td>2105-08-31 10:32:44</td>\n",
       "      <td>5427</td>\n",
       "    </tr>\n",
       "  </tbody>\n",
       "</table>\n",
       "</div>"
      ],
      "text/plain": [
       "      elec_outcome           elec_time candidate_id voter_id vote  \\\n",
       "1143             0 2006-12-29 16:13:03          300       92    1   \n",
       "1214             0 2007-09-10 02:08:15          302       92    1   \n",
       "64807            0 2006-11-07 23:12:34         5045     4963    0   \n",
       "65201            1 2007-05-04 01:47:24         3537     4963    1   \n",
       "65654            1 2007-05-04 02:02:48         5092     4963    1   \n",
       "66494            1 2007-05-04 02:46:43         5144     4963    1   \n",
       "66593            1 2007-05-04 02:56:08         4547     4963    1   \n",
       "67665            1 2007-05-04 03:31:09         3691     4963    1   \n",
       "67856            0 2007-12-10 10:57:36         3455     4963    1   \n",
       "68512            0 2007-05-04 03:57:13         4468     4963    0   \n",
       "80621            1 2007-04-25 20:58:00         4828      813    1   \n",
       "\n",
       "                vote_time nominator_id  \n",
       "1143  2086-05-13 01:04:00           -1  \n",
       "1214  2096-05-13 01:04:00           -1  \n",
       "64807 2061-11-17 01:04:00           -1  \n",
       "65201 2067-11-21 01:04:00         1137  \n",
       "65654 2063-01-22 01:04:00         4476  \n",
       "66494 2070-12-02 01:04:00         3453  \n",
       "66593 2074-11-29 01:04:00         5058  \n",
       "67665 2065-09-17 01:04:00         3691  \n",
       "67856 2064-05-21 01:04:00           -1  \n",
       "68512 2061-07-28 01:04:00           -1  \n",
       "80621 2105-08-31 10:32:44         5427  "
      ]
     },
     "execution_count": 5,
     "metadata": {},
     "output_type": "execute_result"
    }
   ],
   "source": [
    "# Let's check how many votes were registered after Jan 2008. \n",
    "wikipedia[(wikipedia.vote_time >= '2008-02-01')]"
   ]
  },
  {
   "cell_type": "markdown",
   "metadata": {},
   "source": [
    "We will thus consider all votes that are registered after Jan 2008 as parasite and delete them from our dataset."
   ]
  },
  {
   "cell_type": "code",
   "execution_count": 6,
   "metadata": {},
   "outputs": [],
   "source": [
    "# Let's clean it up\n",
    "wikipedia = wikipedia[(wikipedia.vote_time < '2008-02-01')]"
   ]
  },
  {
   "cell_type": "code",
   "execution_count": 7,
   "metadata": {},
   "outputs": [
    {
     "data": {
      "text/plain": [
       "114017   2008-01-06 02:16:00\n",
       "114016   2008-01-06 02:10:00\n",
       "113850   2008-01-06 02:04:00\n",
       "114015   2008-01-06 01:53:00\n",
       "113904   2008-01-06 01:12:00\n",
       "                 ...        \n",
       "2326     2004-03-28 19:55:00\n",
       "2325     2004-03-28 19:25:00\n",
       "2324     2004-03-28 19:22:00\n",
       "2323     2004-03-28 19:19:00\n",
       "2322     2004-03-28 19:12:00\n",
       "Name: vote_time, Length: 114029, dtype: datetime64[ns]"
      ]
     },
     "execution_count": 7,
     "metadata": {},
     "output_type": "execute_result"
    }
   ],
   "source": [
    "# The site is not precise as when exactly in January the votes stopped to be casted. \n",
    "# Let's also investigate that in order to get a precise idea of the timelapse we are working on.\n",
    "wikipedia.vote_time.sort_values(ascending=False)"
   ]
  },
  {
   "cell_type": "markdown",
   "metadata": {},
   "source": [
    "In our dataset, the last votes were casted on January 6th, 2008. "
   ]
  },
  {
   "cell_type": "markdown",
   "metadata": {},
   "source": [
    "# Preparing datasets for subsequent analysis  "
   ]
  },
  {
   "cell_type": "markdown",
   "metadata": {},
   "source": [
    "## Sign_time\n",
    "\n",
    "In a first part, we will only need to study the sign of the votes (i.e. the vote outcome) and their date (i.e. vote_time). We do not need the ids of the voters or candidatate or nominators. Let's create an appropriate dataset for this case. "
   ]
  },
  {
   "cell_type": "code",
   "execution_count": 8,
   "metadata": {},
   "outputs": [],
   "source": [
    "sign_time = wikipedia[['vote','vote_time']]"
   ]
  },
  {
   "cell_type": "code",
   "execution_count": 9,
   "metadata": {},
   "outputs": [
    {
     "name": "stdout",
     "output_type": "stream",
     "text": [
      "(114029, 2)\n"
     ]
    },
    {
     "data": {
      "text/html": [
       "<div>\n",
       "<style scoped>\n",
       "    .dataframe tbody tr th:only-of-type {\n",
       "        vertical-align: middle;\n",
       "    }\n",
       "\n",
       "    .dataframe tbody tr th {\n",
       "        vertical-align: top;\n",
       "    }\n",
       "\n",
       "    .dataframe thead th {\n",
       "        text-align: right;\n",
       "    }\n",
       "</style>\n",
       "<table border=\"1\" class=\"dataframe\">\n",
       "  <thead>\n",
       "    <tr style=\"text-align: right;\">\n",
       "      <th></th>\n",
       "      <th>vote</th>\n",
       "      <th>vote_time</th>\n",
       "    </tr>\n",
       "  </thead>\n",
       "  <tbody>\n",
       "    <tr>\n",
       "      <th>0</th>\n",
       "      <td>1</td>\n",
       "      <td>2004-09-14 16:26:00</td>\n",
       "    </tr>\n",
       "    <tr>\n",
       "      <th>1</th>\n",
       "      <td>-1</td>\n",
       "      <td>2004-09-14 16:53:00</td>\n",
       "    </tr>\n",
       "    <tr>\n",
       "      <th>2</th>\n",
       "      <td>1</td>\n",
       "      <td>2004-09-14 17:08:00</td>\n",
       "    </tr>\n",
       "    <tr>\n",
       "      <th>3</th>\n",
       "      <td>1</td>\n",
       "      <td>2004-09-14 17:37:00</td>\n",
       "    </tr>\n",
       "    <tr>\n",
       "      <th>4</th>\n",
       "      <td>1</td>\n",
       "      <td>2004-09-14 19:28:00</td>\n",
       "    </tr>\n",
       "  </tbody>\n",
       "</table>\n",
       "</div>"
      ],
      "text/plain": [
       "  vote           vote_time\n",
       "0    1 2004-09-14 16:26:00\n",
       "1   -1 2004-09-14 16:53:00\n",
       "2    1 2004-09-14 17:08:00\n",
       "3    1 2004-09-14 17:37:00\n",
       "4    1 2004-09-14 19:28:00"
      ]
     },
     "execution_count": 9,
     "metadata": {},
     "output_type": "execute_result"
    }
   ],
   "source": [
    "print(sign_time.shape)\n",
    "sign_time.head()"
   ]
  },
  {
   "cell_type": "markdown",
   "metadata": {},
   "source": [
    "## Neutral or not\n",
    "\n",
    "What role do neutral votes play in this temporal analysis?\n",
    "We will need a dataframe with neutral votes and the same one without them \n"
   ]
  },
  {
   "cell_type": "code",
   "execution_count": 10,
   "metadata": {},
   "outputs": [],
   "source": [
    "wikipedia_neutral = wikipedia\n",
    "wikipedia_signed = wikipedia[wikipedia.vote != 0]"
   ]
  },
  {
   "cell_type": "markdown",
   "metadata": {},
   "source": [
    "# Temporal analysis"
   ]
  },
  {
   "cell_type": "markdown",
   "metadata": {},
   "source": [
    "## DATE (yyyy-mm-dd)"
   ]
  },
  {
   "cell_type": "markdown",
   "metadata": {},
   "source": [
    "We will try to detect any election-related patterns based on the moment that the elections were held. \n",
    "\n",
    "We will consider the following election-related outcomes:\n",
    "1. number of elections\n",
    "2. fraction of successful elections\n",
    "3. number of votes\n",
    "4. fractions of positive votes\n",
    "\n",
    "The x-axis will be the time at which the election was closed.\n",
    "\n",
    "We will use mainly visualizations under the form of graphs."
   ]
  },
  {
   "cell_type": "code",
   "execution_count": 11,
   "metadata": {},
   "outputs": [],
   "source": [
    "#TODO : adapt the code below\n",
    "#not done yet"
   ]
  },
  {
   "cell_type": "markdown",
   "metadata": {},
   "source": [
    "### By month"
   ]
  },
  {
   "cell_type": "code",
   "execution_count": 12,
   "metadata": {},
   "outputs": [
    {
     "data": {
      "text/plain": [
       "'sign_sum = sign_time.groupby(pd.Grouper(key=\"Time\", freq=\"M\")).sum()\\nprint(sign_sum.tail())\\n\\nfig = plt.figure(figsize=(12,6))\\nplt.plot(sign_sum)\\nplt.xlabel(\\'Months\\')\\nplt.ylabel(\\'Sum of the votes\\')\\nplt.title(\\'Sum of the votes by months - from 2004-09-30 to 2008-01-31\\');\\n\\n# Interpretation:\\n# majority of the votes are postive'"
      ]
     },
     "execution_count": 12,
     "metadata": {},
     "output_type": "execute_result"
    }
   ],
   "source": [
    "# sum of the votes\n",
    "\"\"\"sign_sum = sign_time.groupby(pd.Grouper(key=\"Time\", freq=\"M\")).sum()\n",
    "print(sign_sum.tail())\n",
    "\n",
    "fig = plt.figure(figsize=(12,6))\n",
    "plt.plot(sign_sum)\n",
    "plt.xlabel('Months')\n",
    "plt.ylabel('Sum of the votes')\n",
    "plt.title('Sum of the votes by months - from 2004-09-30 to 2008-01-31');\n",
    "\n",
    "# Interpretation:\n",
    "# majority of the votes are postive\"\"\" "
   ]
  },
  {
   "cell_type": "code",
   "execution_count": 13,
   "metadata": {},
   "outputs": [
    {
     "data": {
      "text/plain": [
       "'sign_avg = sign_time.groupby(pd.Grouper(key=\"Time\", freq=\"M\")).mean()\\nprint(sign_avg.tail())\\n\\nfig = plt.figure(figsize=(12,6))\\nplt.plot(sign_avg)\\nplt.xlabel(\\'Months\\')\\nplt.ylabel(\\'Avg of the votes\\')\\nplt.title(\\'Avg of the votes by months - from 2004-09-30 to 2008-01-31\\');\\n\\n# Interpretation: large drop in positive vote in Jan 2007\\n# Some pattern?'"
      ]
     },
     "execution_count": 13,
     "metadata": {},
     "output_type": "execute_result"
    }
   ],
   "source": [
    "# avg of the votes\n",
    "\"\"\"sign_avg = sign_time.groupby(pd.Grouper(key=\"Time\", freq=\"M\")).mean()\n",
    "print(sign_avg.tail())\n",
    "\n",
    "fig = plt.figure(figsize=(12,6))\n",
    "plt.plot(sign_avg)\n",
    "plt.xlabel('Months')\n",
    "plt.ylabel('Avg of the votes')\n",
    "plt.title('Avg of the votes by months - from 2004-09-30 to 2008-01-31');\n",
    "\n",
    "# Interpretation: large drop in positive vote in Jan 2007\n",
    "# Some pattern?\"\"\""
   ]
  },
  {
   "cell_type": "markdown",
   "metadata": {},
   "source": [
    "### By week"
   ]
  },
  {
   "cell_type": "code",
   "execution_count": 14,
   "metadata": {},
   "outputs": [
    {
     "data": {
      "text/plain": [
       "'sign_avg_w = sign_time.groupby(pd.Grouper(key=\"Time\", freq=\"W\")).mean()\\nprint(sign_avg_w.tail())\\n\\nfig = plt.figure(figsize=(16,6))\\nplt.plot(sign_avg_w)\\nplt.xlabel(\\'Months\\')\\nplt.ylabel(\\'Avg of the votes\\')\\nplt.title(\\'Avg of the votes by weeks - from 2004-09-30 to 2008-01-31\\');\\n\\n# Interpretation: looks like there is a kind of recurrent pattern '"
      ]
     },
     "execution_count": 14,
     "metadata": {},
     "output_type": "execute_result"
    }
   ],
   "source": [
    "# avg of the votes\n",
    "\"\"\"sign_avg_w = sign_time.groupby(pd.Grouper(key=\"Time\", freq=\"W\")).mean()\n",
    "print(sign_avg_w.tail())\n",
    "\n",
    "fig = plt.figure(figsize=(16,6))\n",
    "plt.plot(sign_avg_w)\n",
    "plt.xlabel('Months')\n",
    "plt.ylabel('Avg of the votes')\n",
    "plt.title('Avg of the votes by weeks - from 2004-09-30 to 2008-01-31');\n",
    "\n",
    "# Interpretation: looks like there is a kind of recurrent pattern \"\"\""
   ]
  },
  {
   "cell_type": "code",
   "execution_count": 15,
   "metadata": {},
   "outputs": [
    {
     "data": {
      "text/plain": [
       "'sample = wikipedia[(wikipedia.Time >= \\'2004-09-14\\') & (wikipedia.Time <= \\'2005-09-14\\')]\\nsample = sample[[\\'Sign\\',\\'Time\\']]\\n\\nsign_avg_w = sample.groupby(pd.Grouper(key=\"Time\", freq=\"W\")).mean()\\n\\nfig = plt.figure(figsize=(19,6))\\nplt.plot(sign_avg_w)\\nplt.xlabel(\\'Month\\')\\nplt.ylabel(\\'Avg of the votes\\')\\nplt.title(\\'Avg of the votes by weeks - from 2004-09-14 to 2005-09-14\\');\\n\\n# seems like people are less postive at the end of the month ??\\n# looks like the priod is around 40 days... weird'"
      ]
     },
     "execution_count": 15,
     "metadata": {},
     "output_type": "execute_result"
    }
   ],
   "source": [
    "# subsample: focus on the left part of the graph\n",
    "\"\"\"sample = wikipedia[(wikipedia.Time >= '2004-09-14') & (wikipedia.Time <= '2005-09-14')]\n",
    "sample = sample[['Sign','Time']]\n",
    "\n",
    "sign_avg_w = sample.groupby(pd.Grouper(key=\"Time\", freq=\"W\")).mean()\n",
    "\n",
    "fig = plt.figure(figsize=(19,6))\n",
    "plt.plot(sign_avg_w)\n",
    "plt.xlabel('Month')\n",
    "plt.ylabel('Avg of the votes')\n",
    "plt.title('Avg of the votes by weeks - from 2004-09-14 to 2005-09-14');\n",
    "\n",
    "# seems like people are less postive at the end of the month ??\n",
    "# looks like the priod is around 40 days... weird\"\"\""
   ]
  },
  {
   "cell_type": "code",
   "execution_count": 16,
   "metadata": {},
   "outputs": [
    {
     "data": {
      "text/plain": [
       "'sample = wikipedia[(wikipedia.Time >= \\'2007-01-01\\') & (wikipedia.Time <= \\'2008-01-01\\')]\\nsample = sample[[\\'Sign\\',\\'Time\\']]\\n\\nsign_avg_w = sample.groupby(pd.Grouper(key=\"Time\", freq=\"W\")).mean()\\n\\nfig = plt.figure(figsize=(19,6))\\nplt.plot(sign_avg_w)\\nplt.xlabel(\\'Month\\')\\nplt.ylabel(\\'Avg of the votes\\')\\nplt.title(\\'Avg of the votes by weeks - from 2007-01-01 to 2008-01-01\\');\\n\\n# seems like people are less postive at the end of the month ??\\n# looks like the priod is around 40 days... weird '"
      ]
     },
     "execution_count": 16,
     "metadata": {},
     "output_type": "execute_result"
    }
   ],
   "source": [
    "# subsample: focus on the right part of the graph\n",
    "\"\"\"sample = wikipedia[(wikipedia.Time >= '2007-01-01') & (wikipedia.Time <= '2008-01-01')]\n",
    "sample = sample[['Sign','Time']]\n",
    "\n",
    "sign_avg_w = sample.groupby(pd.Grouper(key=\"Time\", freq=\"W\")).mean()\n",
    "\n",
    "fig = plt.figure(figsize=(19,6))\n",
    "plt.plot(sign_avg_w)\n",
    "plt.xlabel('Month')\n",
    "plt.ylabel('Avg of the votes')\n",
    "plt.title('Avg of the votes by weeks - from 2007-01-01 to 2008-01-01');\n",
    "\n",
    "# seems like people are less postive at the end of the month ??\n",
    "# looks like the priod is around 40 days... weird \"\"\""
   ]
  },
  {
   "cell_type": "code",
   "execution_count": 17,
   "metadata": {},
   "outputs": [],
   "source": [
    "#make sure the 'vote' is of type int (needed for further calculations)\n",
    "sign_time = wikipedia[['vote','vote_time']].copy()\n",
    "sign_time[\"vote\"] = sign_time[\"vote\"].apply(lambda x : int(x))"
   ]
  },
  {
   "cell_type": "code",
   "execution_count": 25,
   "metadata": {},
   "outputs": [
    {
     "data": {
      "application/vnd.plotly.v1+json": {
       "config": {
        "plotlyServerURL": "https://plot.ly"
       },
       "data": [
        {
         "hovertemplate": "<br><b>Date </b>: %{x}<br><b>Average vote </b>: %{y}",
         "mode": "lines",
         "name": "average over months",
         "type": "scatter",
         "x": [
          "2004-03-31T00:00:00",
          "2004-04-30T00:00:00",
          "2004-05-31T00:00:00",
          "2004-06-30T00:00:00",
          "2004-07-31T00:00:00",
          "2004-08-31T00:00:00",
          "2004-09-30T00:00:00",
          "2004-10-31T00:00:00",
          "2004-11-30T00:00:00",
          "2004-12-31T00:00:00",
          "2005-01-31T00:00:00",
          "2005-02-28T00:00:00",
          "2005-03-31T00:00:00",
          "2005-04-30T00:00:00",
          "2005-05-31T00:00:00",
          "2005-06-30T00:00:00",
          "2005-07-31T00:00:00",
          "2005-08-31T00:00:00",
          "2005-09-30T00:00:00",
          "2005-10-31T00:00:00",
          "2005-11-30T00:00:00",
          "2005-12-31T00:00:00",
          "2006-01-31T00:00:00",
          "2006-02-28T00:00:00",
          "2006-03-31T00:00:00",
          "2006-04-30T00:00:00",
          "2006-05-31T00:00:00",
          "2006-06-30T00:00:00",
          "2006-07-31T00:00:00",
          "2006-08-31T00:00:00",
          "2006-09-30T00:00:00",
          "2006-10-31T00:00:00",
          "2006-11-30T00:00:00",
          "2006-12-31T00:00:00",
          "2007-01-31T00:00:00",
          "2007-02-28T00:00:00",
          "2007-03-31T00:00:00",
          "2007-04-30T00:00:00",
          "2007-05-31T00:00:00",
          "2007-06-30T00:00:00",
          "2007-07-31T00:00:00",
          "2007-08-31T00:00:00",
          "2007-09-30T00:00:00",
          "2007-10-31T00:00:00",
          "2007-11-30T00:00:00",
          "2007-12-31T00:00:00",
          "2008-01-31T00:00:00"
         ],
         "y": [
          -0.02127659574468085,
          -0.5,
          0.19387755102040816,
          0,
          0.07983193277310924,
          0.3475177304964539,
          0.6484375,
          0.5270618556701031,
          0.675734494015234,
          0.6201201201201201,
          0.7055449330783938,
          0.7006172839506173,
          0.6244239631336406,
          0.6252446183953033,
          0.6280148423005566,
          0.6433778857837181,
          0.5137085137085137,
          0.693170731707317,
          0.646784715750233,
          0.6119840213049268,
          0.7233812949640288,
          0.6971600218459858,
          0.5210129310344828,
          0.48751076658053405,
          0.5456110154905336,
          0.5446115288220551,
          0.4764789016757521,
          0.48653281096963763,
          0.4670223084384093,
          0.4263742523497579,
          0.45114420632037777,
          0.5024228513134404,
          0.6301672451877564,
          0.33517417162276975,
          0.43671031472547667,
          0.5548810101991258,
          0.49626762510367706,
          0.4808743169398907,
          0.5372211177380164,
          0.5824429685244008,
          0.47670043415340085,
          0.4565794463405385,
          0.48164014687882495,
          0.5333763302160593,
          0.6239464551313832,
          0.4985632183908046,
          0.6182380216383307
         ]
        },
        {
         "hovertemplate": "<br><b>Date </b>: %{x}<br><b>Average vote </b>: %{y}",
         "mode": "lines",
         "name": "average over weeks",
         "type": "scatter",
         "visible": "legendonly",
         "x": [
          "2004-03-28T00:00:00",
          "2004-04-04T00:00:00",
          "2004-04-11T00:00:00",
          "2004-04-18T00:00:00",
          "2004-04-25T00:00:00",
          "2004-05-02T00:00:00",
          "2004-05-09T00:00:00",
          "2004-05-16T00:00:00",
          "2004-05-23T00:00:00",
          "2004-05-30T00:00:00",
          "2004-06-06T00:00:00",
          "2004-06-13T00:00:00",
          "2004-06-20T00:00:00",
          "2004-06-27T00:00:00",
          "2004-07-04T00:00:00",
          "2004-07-11T00:00:00",
          "2004-07-18T00:00:00",
          "2004-07-25T00:00:00",
          "2004-08-01T00:00:00",
          "2004-08-08T00:00:00",
          "2004-08-15T00:00:00",
          "2004-08-22T00:00:00",
          "2004-08-29T00:00:00",
          "2004-09-05T00:00:00",
          "2004-09-12T00:00:00",
          "2004-09-19T00:00:00",
          "2004-09-26T00:00:00",
          "2004-10-03T00:00:00",
          "2004-10-10T00:00:00",
          "2004-10-17T00:00:00",
          "2004-10-24T00:00:00",
          "2004-10-31T00:00:00",
          "2004-11-07T00:00:00",
          "2004-11-14T00:00:00",
          "2004-11-21T00:00:00",
          "2004-11-28T00:00:00",
          "2004-12-05T00:00:00",
          "2004-12-12T00:00:00",
          "2004-12-19T00:00:00",
          "2004-12-26T00:00:00",
          "2005-01-02T00:00:00",
          "2005-01-09T00:00:00",
          "2005-01-16T00:00:00",
          "2005-01-23T00:00:00",
          "2005-01-30T00:00:00",
          "2005-02-06T00:00:00",
          "2005-02-13T00:00:00",
          "2005-02-20T00:00:00",
          "2005-02-27T00:00:00",
          "2005-03-06T00:00:00",
          "2005-03-13T00:00:00",
          "2005-03-20T00:00:00",
          "2005-03-27T00:00:00",
          "2005-04-03T00:00:00",
          "2005-04-10T00:00:00",
          "2005-04-17T00:00:00",
          "2005-04-24T00:00:00",
          "2005-05-01T00:00:00",
          "2005-05-08T00:00:00",
          "2005-05-15T00:00:00",
          "2005-05-22T00:00:00",
          "2005-05-29T00:00:00",
          "2005-06-05T00:00:00",
          "2005-06-12T00:00:00",
          "2005-06-19T00:00:00",
          "2005-06-26T00:00:00",
          "2005-07-03T00:00:00",
          "2005-07-10T00:00:00",
          "2005-07-17T00:00:00",
          "2005-07-24T00:00:00",
          "2005-07-31T00:00:00",
          "2005-08-07T00:00:00",
          "2005-08-14T00:00:00",
          "2005-08-21T00:00:00",
          "2005-08-28T00:00:00",
          "2005-09-04T00:00:00",
          "2005-09-11T00:00:00",
          "2005-09-18T00:00:00",
          "2005-09-25T00:00:00",
          "2005-10-02T00:00:00",
          "2005-10-09T00:00:00",
          "2005-10-16T00:00:00",
          "2005-10-23T00:00:00",
          "2005-10-30T00:00:00",
          "2005-11-06T00:00:00",
          "2005-11-13T00:00:00",
          "2005-11-20T00:00:00",
          "2005-11-27T00:00:00",
          "2005-12-04T00:00:00",
          "2005-12-11T00:00:00",
          "2005-12-18T00:00:00",
          "2005-12-25T00:00:00",
          "2006-01-01T00:00:00",
          "2006-01-08T00:00:00",
          "2006-01-15T00:00:00",
          "2006-01-22T00:00:00",
          "2006-01-29T00:00:00",
          "2006-02-05T00:00:00",
          "2006-02-12T00:00:00",
          "2006-02-19T00:00:00",
          "2006-02-26T00:00:00",
          "2006-03-05T00:00:00",
          "2006-03-12T00:00:00",
          "2006-03-19T00:00:00",
          "2006-03-26T00:00:00",
          "2006-04-02T00:00:00",
          "2006-04-09T00:00:00",
          "2006-04-16T00:00:00",
          "2006-04-23T00:00:00",
          "2006-04-30T00:00:00",
          "2006-05-07T00:00:00",
          "2006-05-14T00:00:00",
          "2006-05-21T00:00:00",
          "2006-05-28T00:00:00",
          "2006-06-04T00:00:00",
          "2006-06-11T00:00:00",
          "2006-06-18T00:00:00",
          "2006-06-25T00:00:00",
          "2006-07-02T00:00:00",
          "2006-07-09T00:00:00",
          "2006-07-16T00:00:00",
          "2006-07-23T00:00:00",
          "2006-07-30T00:00:00",
          "2006-08-06T00:00:00",
          "2006-08-13T00:00:00",
          "2006-08-20T00:00:00",
          "2006-08-27T00:00:00",
          "2006-09-03T00:00:00",
          "2006-09-10T00:00:00",
          "2006-09-17T00:00:00",
          "2006-09-24T00:00:00",
          "2006-10-01T00:00:00",
          "2006-10-08T00:00:00",
          "2006-10-15T00:00:00",
          "2006-10-22T00:00:00",
          "2006-10-29T00:00:00",
          "2006-11-05T00:00:00",
          "2006-11-12T00:00:00",
          "2006-11-19T00:00:00",
          "2006-11-26T00:00:00",
          "2006-12-03T00:00:00",
          "2006-12-10T00:00:00",
          "2006-12-17T00:00:00",
          "2006-12-24T00:00:00",
          "2006-12-31T00:00:00",
          "2007-01-07T00:00:00",
          "2007-01-14T00:00:00",
          "2007-01-21T00:00:00",
          "2007-01-28T00:00:00",
          "2007-02-04T00:00:00",
          "2007-02-11T00:00:00",
          "2007-02-18T00:00:00",
          "2007-02-25T00:00:00",
          "2007-03-04T00:00:00",
          "2007-03-11T00:00:00",
          "2007-03-18T00:00:00",
          "2007-03-25T00:00:00",
          "2007-04-01T00:00:00",
          "2007-04-08T00:00:00",
          "2007-04-15T00:00:00",
          "2007-04-22T00:00:00",
          "2007-04-29T00:00:00",
          "2007-05-06T00:00:00",
          "2007-05-13T00:00:00",
          "2007-05-20T00:00:00",
          "2007-05-27T00:00:00",
          "2007-06-03T00:00:00",
          "2007-06-10T00:00:00",
          "2007-06-17T00:00:00",
          "2007-06-24T00:00:00",
          "2007-07-01T00:00:00",
          "2007-07-08T00:00:00",
          "2007-07-15T00:00:00",
          "2007-07-22T00:00:00",
          "2007-07-29T00:00:00",
          "2007-08-05T00:00:00",
          "2007-08-12T00:00:00",
          "2007-08-19T00:00:00",
          "2007-08-26T00:00:00",
          "2007-09-02T00:00:00",
          "2007-09-09T00:00:00",
          "2007-09-16T00:00:00",
          "2007-09-23T00:00:00",
          "2007-09-30T00:00:00",
          "2007-10-07T00:00:00",
          "2007-10-14T00:00:00",
          "2007-10-21T00:00:00",
          "2007-10-28T00:00:00",
          "2007-11-04T00:00:00",
          "2007-11-11T00:00:00",
          "2007-11-18T00:00:00",
          "2007-11-25T00:00:00",
          "2007-12-02T00:00:00",
          "2007-12-09T00:00:00",
          "2007-12-16T00:00:00",
          "2007-12-23T00:00:00",
          "2007-12-30T00:00:00",
          "2008-01-06T00:00:00"
         ],
         "y": [
          -0.5,
          0.05555555555555555,
          null,
          -0.6071428571428571,
          -0.45454545454545453,
          -0.25,
          0.2,
          -0.19047619047619047,
          -0.06666666666666667,
          0.375,
          0.3939393939393939,
          0.1111111111111111,
          -0.35294117647058826,
          -1,
          -0.3333333333333333,
          -0.03508771929824561,
          -0.09375,
          1,
          0.05333333333333334,
          0.7692307692307693,
          0.24242424242424243,
          -0.058823529411764705,
          null,
          0.9193548387096774,
          0.6557377049180327,
          0.75,
          0.4950980392156863,
          0.75,
          0.5404255319148936,
          0.8032786885245902,
          0.5195530726256983,
          0.19642857142857142,
          0.6774193548387096,
          0.6264705882352941,
          0.6706827309236948,
          0.7730496453900709,
          0.7447698744769874,
          0.6798245614035088,
          0.7894736842105263,
          0.4146341463414634,
          0.46875,
          0.7642857142857142,
          0.6377952755905512,
          0.7676056338028169,
          0.6455696202531646,
          0.6363636363636364,
          0.6906474820143885,
          0.7236842105263158,
          0.6071428571428571,
          0.7326732673267327,
          0.4861111111111111,
          0.700507614213198,
          0.5610859728506787,
          0.7573221757322176,
          0.6583850931677019,
          0.606694560669456,
          0.5964125560538116,
          0.6666666666666666,
          0.5990338164251208,
          0.38333333333333336,
          0.5364806866952789,
          0.6511627906976745,
          0.6518046709129511,
          0.7289719626168224,
          0.6811594202898551,
          0.5993265993265994,
          0.5226480836236934,
          0.547244094488189,
          0.4986072423398329,
          0.4561933534743202,
          0.6295180722891566,
          0.7559429477020603,
          0.6980728051391863,
          0.7033898305084746,
          0.621978021978022,
          0.6480186480186481,
          0.6204620462046204,
          0.6277777777777778,
          0.689727463312369,
          0.6973684210526315,
          0.7372685185185185,
          0.637203166226913,
          0.569371727748691,
          0.4561224489795918,
          0.6656862745098039,
          0.7734375,
          0.7639077340569878,
          0.7243346007604563,
          0.7111111111111111,
          0.6493506493506493,
          0.6974169741697417,
          0.7056213017751479,
          0.734065934065934,
          0.6067653276955602,
          0.4505363528009535,
          0.5720108695652174,
          0.41947565543071164,
          0.4334305150631681,
          0.6772068511198946,
          0.5113314447592068,
          0.383,
          0.48417721518987344,
          0.4967032967032967,
          0.5989189189189189,
          0.4947049924357035,
          0.6885644768856448,
          0.5704948646125116,
          0.5596330275229358,
          0.4052511415525114,
          0.5529661016949152,
          0.5312868949232585,
          0.4928698752228164,
          0.5472370766488414,
          0.4260670731707317,
          0.3191287878787879,
          0.53045013239188,
          0.5107344632768361,
          0.5294117647058824,
          0.38344226579520696,
          0.3288135593220339,
          0.5548717948717948,
          0.4681684622918707,
          0.6429463171036205,
          0.31513083048919227,
          0.37731958762886597,
          0.5398843930635838,
          0.4271523178807947,
          0.391156462585034,
          0.5407894736842105,
          0.543939393939394,
          0.3353028064992615,
          0.4435146443514644,
          0.40599455040871935,
          0.5897887323943662,
          0.5556915544675642,
          0.39264990328820115,
          0.614900314795383,
          0.7058201058201058,
          0.7019438444924406,
          0.5932203389830508,
          0.4163265306122449,
          0.4417744916820702,
          0.34541984732824427,
          0.37738853503184716,
          0.06267029972752043,
          0.5554231227651967,
          0.4632272228320527,
          0.34523809523809523,
          0.529245283018868,
          0.28631138975966564,
          0.5693430656934306,
          0.5210355987055016,
          0.6644219977553311,
          0.5864297253634895,
          0.4728682170542636,
          0.5133196721311475,
          0.5783410138248848,
          0.3832258064516129,
          0.5153913808267371,
          0.33951332560834296,
          0.4265975820379965,
          0.5570342205323194,
          0.4148296593186373,
          0.7325475974614687,
          0.5856727976766699,
          0.4481409001956947,
          0.48040201005025124,
          0.44456177402323127,
          0.6045197740112994,
          0.7111436950146628,
          0.6276315789473684,
          0.4249329758713137,
          0.46586345381526106,
          0.5938009787928222,
          0.5415282392026578,
          0.30419161676646705,
          0.5401606425702812,
          0.4318181818181818,
          0.4186666666666667,
          0.5306666666666666,
          0.4045393858477971,
          0.5754923413566739,
          0.5574229691876751,
          0.3920529801324503,
          0.5469613259668509,
          0.4019607843137255,
          0.6208530805687204,
          0.522020725388601,
          0.6014545454545455,
          0.6655124653739612,
          0.7809419496166484,
          0.4872611464968153,
          0.3526448362720403,
          0.5607043558850788,
          0.4517453798767967,
          0.6615120274914089,
          0.3586776859504132,
          0.5510204081632653
         ]
        },
        {
         "hovertemplate": "<br><b>Date </b>: %{x}<br><b>Average vote </b>: %{y}",
         "mode": "lines",
         "name": "average over years",
         "type": "scatter",
         "visible": "legendonly",
         "x": [
          "2004-12-31T00:00:00",
          "2005-12-31T00:00:00",
          "2006-12-31T00:00:00",
          "2007-12-31T00:00:00",
          "2008-12-31T00:00:00"
         ],
         "y": [
          0.5138261851015802,
          0.6542372881355932,
          0.4945863719744083,
          0.515058319664662,
          0.6182380216383307
         ]
        }
       ],
       "layout": {
        "autosize": true,
        "template": {
         "data": {
          "bar": [
           {
            "error_x": {
             "color": "#2a3f5f"
            },
            "error_y": {
             "color": "#2a3f5f"
            },
            "marker": {
             "line": {
              "color": "#E5ECF6",
              "width": 0.5
             }
            },
            "type": "bar"
           }
          ],
          "barpolar": [
           {
            "marker": {
             "line": {
              "color": "#E5ECF6",
              "width": 0.5
             }
            },
            "type": "barpolar"
           }
          ],
          "carpet": [
           {
            "aaxis": {
             "endlinecolor": "#2a3f5f",
             "gridcolor": "white",
             "linecolor": "white",
             "minorgridcolor": "white",
             "startlinecolor": "#2a3f5f"
            },
            "baxis": {
             "endlinecolor": "#2a3f5f",
             "gridcolor": "white",
             "linecolor": "white",
             "minorgridcolor": "white",
             "startlinecolor": "#2a3f5f"
            },
            "type": "carpet"
           }
          ],
          "choropleth": [
           {
            "colorbar": {
             "outlinewidth": 0,
             "ticks": ""
            },
            "type": "choropleth"
           }
          ],
          "contour": [
           {
            "colorbar": {
             "outlinewidth": 0,
             "ticks": ""
            },
            "colorscale": [
             [
              0,
              "#0d0887"
             ],
             [
              0.1111111111111111,
              "#46039f"
             ],
             [
              0.2222222222222222,
              "#7201a8"
             ],
             [
              0.3333333333333333,
              "#9c179e"
             ],
             [
              0.4444444444444444,
              "#bd3786"
             ],
             [
              0.5555555555555556,
              "#d8576b"
             ],
             [
              0.6666666666666666,
              "#ed7953"
             ],
             [
              0.7777777777777778,
              "#fb9f3a"
             ],
             [
              0.8888888888888888,
              "#fdca26"
             ],
             [
              1,
              "#f0f921"
             ]
            ],
            "type": "contour"
           }
          ],
          "contourcarpet": [
           {
            "colorbar": {
             "outlinewidth": 0,
             "ticks": ""
            },
            "type": "contourcarpet"
           }
          ],
          "heatmap": [
           {
            "colorbar": {
             "outlinewidth": 0,
             "ticks": ""
            },
            "colorscale": [
             [
              0,
              "#0d0887"
             ],
             [
              0.1111111111111111,
              "#46039f"
             ],
             [
              0.2222222222222222,
              "#7201a8"
             ],
             [
              0.3333333333333333,
              "#9c179e"
             ],
             [
              0.4444444444444444,
              "#bd3786"
             ],
             [
              0.5555555555555556,
              "#d8576b"
             ],
             [
              0.6666666666666666,
              "#ed7953"
             ],
             [
              0.7777777777777778,
              "#fb9f3a"
             ],
             [
              0.8888888888888888,
              "#fdca26"
             ],
             [
              1,
              "#f0f921"
             ]
            ],
            "type": "heatmap"
           }
          ],
          "heatmapgl": [
           {
            "colorbar": {
             "outlinewidth": 0,
             "ticks": ""
            },
            "colorscale": [
             [
              0,
              "#0d0887"
             ],
             [
              0.1111111111111111,
              "#46039f"
             ],
             [
              0.2222222222222222,
              "#7201a8"
             ],
             [
              0.3333333333333333,
              "#9c179e"
             ],
             [
              0.4444444444444444,
              "#bd3786"
             ],
             [
              0.5555555555555556,
              "#d8576b"
             ],
             [
              0.6666666666666666,
              "#ed7953"
             ],
             [
              0.7777777777777778,
              "#fb9f3a"
             ],
             [
              0.8888888888888888,
              "#fdca26"
             ],
             [
              1,
              "#f0f921"
             ]
            ],
            "type": "heatmapgl"
           }
          ],
          "histogram": [
           {
            "marker": {
             "colorbar": {
              "outlinewidth": 0,
              "ticks": ""
             }
            },
            "type": "histogram"
           }
          ],
          "histogram2d": [
           {
            "colorbar": {
             "outlinewidth": 0,
             "ticks": ""
            },
            "colorscale": [
             [
              0,
              "#0d0887"
             ],
             [
              0.1111111111111111,
              "#46039f"
             ],
             [
              0.2222222222222222,
              "#7201a8"
             ],
             [
              0.3333333333333333,
              "#9c179e"
             ],
             [
              0.4444444444444444,
              "#bd3786"
             ],
             [
              0.5555555555555556,
              "#d8576b"
             ],
             [
              0.6666666666666666,
              "#ed7953"
             ],
             [
              0.7777777777777778,
              "#fb9f3a"
             ],
             [
              0.8888888888888888,
              "#fdca26"
             ],
             [
              1,
              "#f0f921"
             ]
            ],
            "type": "histogram2d"
           }
          ],
          "histogram2dcontour": [
           {
            "colorbar": {
             "outlinewidth": 0,
             "ticks": ""
            },
            "colorscale": [
             [
              0,
              "#0d0887"
             ],
             [
              0.1111111111111111,
              "#46039f"
             ],
             [
              0.2222222222222222,
              "#7201a8"
             ],
             [
              0.3333333333333333,
              "#9c179e"
             ],
             [
              0.4444444444444444,
              "#bd3786"
             ],
             [
              0.5555555555555556,
              "#d8576b"
             ],
             [
              0.6666666666666666,
              "#ed7953"
             ],
             [
              0.7777777777777778,
              "#fb9f3a"
             ],
             [
              0.8888888888888888,
              "#fdca26"
             ],
             [
              1,
              "#f0f921"
             ]
            ],
            "type": "histogram2dcontour"
           }
          ],
          "mesh3d": [
           {
            "colorbar": {
             "outlinewidth": 0,
             "ticks": ""
            },
            "type": "mesh3d"
           }
          ],
          "parcoords": [
           {
            "line": {
             "colorbar": {
              "outlinewidth": 0,
              "ticks": ""
             }
            },
            "type": "parcoords"
           }
          ],
          "pie": [
           {
            "automargin": true,
            "type": "pie"
           }
          ],
          "scatter": [
           {
            "marker": {
             "colorbar": {
              "outlinewidth": 0,
              "ticks": ""
             }
            },
            "type": "scatter"
           }
          ],
          "scatter3d": [
           {
            "line": {
             "colorbar": {
              "outlinewidth": 0,
              "ticks": ""
             }
            },
            "marker": {
             "colorbar": {
              "outlinewidth": 0,
              "ticks": ""
             }
            },
            "type": "scatter3d"
           }
          ],
          "scattercarpet": [
           {
            "marker": {
             "colorbar": {
              "outlinewidth": 0,
              "ticks": ""
             }
            },
            "type": "scattercarpet"
           }
          ],
          "scattergeo": [
           {
            "marker": {
             "colorbar": {
              "outlinewidth": 0,
              "ticks": ""
             }
            },
            "type": "scattergeo"
           }
          ],
          "scattergl": [
           {
            "marker": {
             "colorbar": {
              "outlinewidth": 0,
              "ticks": ""
             }
            },
            "type": "scattergl"
           }
          ],
          "scattermapbox": [
           {
            "marker": {
             "colorbar": {
              "outlinewidth": 0,
              "ticks": ""
             }
            },
            "type": "scattermapbox"
           }
          ],
          "scatterpolar": [
           {
            "marker": {
             "colorbar": {
              "outlinewidth": 0,
              "ticks": ""
             }
            },
            "type": "scatterpolar"
           }
          ],
          "scatterpolargl": [
           {
            "marker": {
             "colorbar": {
              "outlinewidth": 0,
              "ticks": ""
             }
            },
            "type": "scatterpolargl"
           }
          ],
          "scatterternary": [
           {
            "marker": {
             "colorbar": {
              "outlinewidth": 0,
              "ticks": ""
             }
            },
            "type": "scatterternary"
           }
          ],
          "surface": [
           {
            "colorbar": {
             "outlinewidth": 0,
             "ticks": ""
            },
            "colorscale": [
             [
              0,
              "#0d0887"
             ],
             [
              0.1111111111111111,
              "#46039f"
             ],
             [
              0.2222222222222222,
              "#7201a8"
             ],
             [
              0.3333333333333333,
              "#9c179e"
             ],
             [
              0.4444444444444444,
              "#bd3786"
             ],
             [
              0.5555555555555556,
              "#d8576b"
             ],
             [
              0.6666666666666666,
              "#ed7953"
             ],
             [
              0.7777777777777778,
              "#fb9f3a"
             ],
             [
              0.8888888888888888,
              "#fdca26"
             ],
             [
              1,
              "#f0f921"
             ]
            ],
            "type": "surface"
           }
          ],
          "table": [
           {
            "cells": {
             "fill": {
              "color": "#EBF0F8"
             },
             "line": {
              "color": "white"
             }
            },
            "header": {
             "fill": {
              "color": "#C8D4E3"
             },
             "line": {
              "color": "white"
             }
            },
            "type": "table"
           }
          ]
         },
         "layout": {
          "annotationdefaults": {
           "arrowcolor": "#2a3f5f",
           "arrowhead": 0,
           "arrowwidth": 1
          },
          "coloraxis": {
           "colorbar": {
            "outlinewidth": 0,
            "ticks": ""
           }
          },
          "colorscale": {
           "diverging": [
            [
             0,
             "#8e0152"
            ],
            [
             0.1,
             "#c51b7d"
            ],
            [
             0.2,
             "#de77ae"
            ],
            [
             0.3,
             "#f1b6da"
            ],
            [
             0.4,
             "#fde0ef"
            ],
            [
             0.5,
             "#f7f7f7"
            ],
            [
             0.6,
             "#e6f5d0"
            ],
            [
             0.7,
             "#b8e186"
            ],
            [
             0.8,
             "#7fbc41"
            ],
            [
             0.9,
             "#4d9221"
            ],
            [
             1,
             "#276419"
            ]
           ],
           "sequential": [
            [
             0,
             "#0d0887"
            ],
            [
             0.1111111111111111,
             "#46039f"
            ],
            [
             0.2222222222222222,
             "#7201a8"
            ],
            [
             0.3333333333333333,
             "#9c179e"
            ],
            [
             0.4444444444444444,
             "#bd3786"
            ],
            [
             0.5555555555555556,
             "#d8576b"
            ],
            [
             0.6666666666666666,
             "#ed7953"
            ],
            [
             0.7777777777777778,
             "#fb9f3a"
            ],
            [
             0.8888888888888888,
             "#fdca26"
            ],
            [
             1,
             "#f0f921"
            ]
           ],
           "sequentialminus": [
            [
             0,
             "#0d0887"
            ],
            [
             0.1111111111111111,
             "#46039f"
            ],
            [
             0.2222222222222222,
             "#7201a8"
            ],
            [
             0.3333333333333333,
             "#9c179e"
            ],
            [
             0.4444444444444444,
             "#bd3786"
            ],
            [
             0.5555555555555556,
             "#d8576b"
            ],
            [
             0.6666666666666666,
             "#ed7953"
            ],
            [
             0.7777777777777778,
             "#fb9f3a"
            ],
            [
             0.8888888888888888,
             "#fdca26"
            ],
            [
             1,
             "#f0f921"
            ]
           ]
          },
          "colorway": [
           "#636efa",
           "#EF553B",
           "#00cc96",
           "#ab63fa",
           "#FFA15A",
           "#19d3f3",
           "#FF6692",
           "#B6E880",
           "#FF97FF",
           "#FECB52"
          ],
          "font": {
           "color": "#2a3f5f"
          },
          "geo": {
           "bgcolor": "white",
           "lakecolor": "white",
           "landcolor": "#E5ECF6",
           "showlakes": true,
           "showland": true,
           "subunitcolor": "white"
          },
          "hoverlabel": {
           "align": "left"
          },
          "hovermode": "closest",
          "mapbox": {
           "style": "light"
          },
          "paper_bgcolor": "white",
          "plot_bgcolor": "#E5ECF6",
          "polar": {
           "angularaxis": {
            "gridcolor": "white",
            "linecolor": "white",
            "ticks": ""
           },
           "bgcolor": "#E5ECF6",
           "radialaxis": {
            "gridcolor": "white",
            "linecolor": "white",
            "ticks": ""
           }
          },
          "scene": {
           "xaxis": {
            "backgroundcolor": "#E5ECF6",
            "gridcolor": "white",
            "gridwidth": 2,
            "linecolor": "white",
            "showbackground": true,
            "ticks": "",
            "zerolinecolor": "white"
           },
           "yaxis": {
            "backgroundcolor": "#E5ECF6",
            "gridcolor": "white",
            "gridwidth": 2,
            "linecolor": "white",
            "showbackground": true,
            "ticks": "",
            "zerolinecolor": "white"
           },
           "zaxis": {
            "backgroundcolor": "#E5ECF6",
            "gridcolor": "white",
            "gridwidth": 2,
            "linecolor": "white",
            "showbackground": true,
            "ticks": "",
            "zerolinecolor": "white"
           }
          },
          "shapedefaults": {
           "line": {
            "color": "#2a3f5f"
           }
          },
          "ternary": {
           "aaxis": {
            "gridcolor": "white",
            "linecolor": "white",
            "ticks": ""
           },
           "baxis": {
            "gridcolor": "white",
            "linecolor": "white",
            "ticks": ""
           },
           "bgcolor": "#E5ECF6",
           "caxis": {
            "gridcolor": "white",
            "linecolor": "white",
            "ticks": ""
           }
          },
          "title": {
           "x": 0.05
          },
          "xaxis": {
           "automargin": true,
           "gridcolor": "white",
           "linecolor": "white",
           "ticks": "",
           "title": {
            "standoff": 15
           },
           "zerolinecolor": "white",
           "zerolinewidth": 2
          },
          "yaxis": {
           "automargin": true,
           "gridcolor": "white",
           "linecolor": "white",
           "ticks": "",
           "title": {
            "standoff": 15
           },
           "zerolinecolor": "white",
           "zerolinewidth": 2
          }
         }
        },
        "title": {
         "text": "Evolution of the average vote over time"
        },
        "xaxis": {
         "autorange": true,
         "range": [
          "2004-03-31",
          "2008-01-31"
         ],
         "title": {
          "text": "time"
         },
         "type": "date"
        },
        "yaxis": {
         "autorange": true,
         "range": [
          -0.5679656274980016,
          0.7913469224620304
         ],
         "title": {
          "text": "average vote"
         },
         "type": "linear"
        }
       }
      },
      "image/png": "[encoded data removed]",
      "text/html": [
       "<div>                            <div id=\"caca26df-b7c8-4312-a02d-3dd890214a7b\" class=\"plotly-graph-div\" style=\"height:525px; width:100%;\"></div>            <script type=\"text/javascript\">                require([\"plotly\"], function(Plotly) {                    window.PLOTLYENV=window.PLOTLYENV || {};                                    if (document.getElementById(\"caca26df-b7c8-4312-a02d-3dd890214a7b\")) {                    Plotly.newPlot(                        \"caca26df-b7c8-4312-a02d-3dd890214a7b\",                        [{\"hovertemplate\": \"<br><b>Date </b>: %{x}<br><b>Average vote </b>: %{y}\", \"mode\": \"lines\", \"name\": \"average over months\", \"type\": \"scatter\", \"x\": [\"2004-03-31T00:00:00\", \"2004-04-30T00:00:00\", \"2004-05-31T00:00:00\", \"2004-06-30T00:00:00\", \"2004-07-31T00:00:00\", \"2004-08-31T00:00:00\", \"2004-09-30T00:00:00\", \"2004-10-31T00:00:00\", \"2004-11-30T00:00:00\", \"2004-12-31T00:00:00\", \"2005-01-31T00:00:00\", \"2005-02-28T00:00:00\", \"2005-03-31T00:00:00\", \"2005-04-30T00:00:00\", \"2005-05-31T00:00:00\", \"2005-06-30T00:00:00\", \"2005-07-31T00:00:00\", \"2005-08-31T00:00:00\", \"2005-09-30T00:00:00\", \"2005-10-31T00:00:00\", \"2005-11-30T00:00:00\", \"2005-12-31T00:00:00\", \"2006-01-31T00:00:00\", \"2006-02-28T00:00:00\", \"2006-03-31T00:00:00\", \"2006-04-30T00:00:00\", \"2006-05-31T00:00:00\", \"2006-06-30T00:00:00\", \"2006-07-31T00:00:00\", \"2006-08-31T00:00:00\", \"2006-09-30T00:00:00\", \"2006-10-31T00:00:00\", \"2006-11-30T00:00:00\", \"2006-12-31T00:00:00\", \"2007-01-31T00:00:00\", \"2007-02-28T00:00:00\", \"2007-03-31T00:00:00\", \"2007-04-30T00:00:00\", \"2007-05-31T00:00:00\", \"2007-06-30T00:00:00\", \"2007-07-31T00:00:00\", \"2007-08-31T00:00:00\", \"2007-09-30T00:00:00\", \"2007-10-31T00:00:00\", \"2007-11-30T00:00:00\", \"2007-12-31T00:00:00\", \"2008-01-31T00:00:00\"], \"y\": [-0.02127659574468085, -0.5, 0.19387755102040816, 0.0, 0.07983193277310924, 0.3475177304964539, 0.6484375, 0.5270618556701031, 0.675734494015234, 0.6201201201201201, 0.7055449330783938, 0.7006172839506173, 0.6244239631336406, 0.6252446183953033, 0.6280148423005566, 0.6433778857837181, 0.5137085137085137, 0.693170731707317, 0.646784715750233, 0.6119840213049268, 0.7233812949640288, 0.6971600218459858, 0.5210129310344828, 0.48751076658053405, 0.5456110154905336, 0.5446115288220551, 0.4764789016757521, 0.48653281096963763, 0.4670223084384093, 0.4263742523497579, 0.45114420632037777, 0.5024228513134404, 0.6301672451877564, 0.33517417162276975, 0.43671031472547667, 0.5548810101991258, 0.49626762510367706, 0.4808743169398907, 0.5372211177380164, 0.5824429685244008, 0.47670043415340085, 0.4565794463405385, 0.48164014687882495, 0.5333763302160593, 0.6239464551313832, 0.4985632183908046, 0.6182380216383307]}, {\"hovertemplate\": \"<br><b>Date </b>: %{x}<br><b>Average vote </b>: %{y}\", \"mode\": \"lines\", \"name\": \"average over weeks\", \"type\": \"scatter\", \"visible\": \"legendonly\", \"x\": [\"2004-03-28T00:00:00\", \"2004-04-04T00:00:00\", \"2004-04-11T00:00:00\", \"2004-04-18T00:00:00\", \"2004-04-25T00:00:00\", \"2004-05-02T00:00:00\", \"2004-05-09T00:00:00\", \"2004-05-16T00:00:00\", \"2004-05-23T00:00:00\", \"2004-05-30T00:00:00\", \"2004-06-06T00:00:00\", \"2004-06-13T00:00:00\", \"2004-06-20T00:00:00\", \"2004-06-27T00:00:00\", \"2004-07-04T00:00:00\", \"2004-07-11T00:00:00\", \"2004-07-18T00:00:00\", \"2004-07-25T00:00:00\", \"2004-08-01T00:00:00\", \"2004-08-08T00:00:00\", \"2004-08-15T00:00:00\", \"2004-08-22T00:00:00\", \"2004-08-29T00:00:00\", \"2004-09-05T00:00:00\", \"2004-09-12T00:00:00\", \"2004-09-19T00:00:00\", \"2004-09-26T00:00:00\", \"2004-10-03T00:00:00\", \"2004-10-10T00:00:00\", \"2004-10-17T00:00:00\", \"2004-10-24T00:00:00\", \"2004-10-31T00:00:00\", \"2004-11-07T00:00:00\", \"2004-11-14T00:00:00\", \"2004-11-21T00:00:00\", \"2004-11-28T00:00:00\", \"2004-12-05T00:00:00\", \"2004-12-12T00:00:00\", \"2004-12-19T00:00:00\", \"2004-12-26T00:00:00\", \"2005-01-02T00:00:00\", \"2005-01-09T00:00:00\", \"2005-01-16T00:00:00\", \"2005-01-23T00:00:00\", \"2005-01-30T00:00:00\", \"2005-02-06T00:00:00\", \"2005-02-13T00:00:00\", \"2005-02-20T00:00:00\", \"2005-02-27T00:00:00\", \"2005-03-06T00:00:00\", \"2005-03-13T00:00:00\", \"2005-03-20T00:00:00\", \"2005-03-27T00:00:00\", \"2005-04-03T00:00:00\", \"2005-04-10T00:00:00\", \"2005-04-17T00:00:00\", \"2005-04-24T00:00:00\", \"2005-05-01T00:00:00\", \"2005-05-08T00:00:00\", \"2005-05-15T00:00:00\", \"2005-05-22T00:00:00\", \"2005-05-29T00:00:00\", \"2005-06-05T00:00:00\", \"2005-06-12T00:00:00\", \"2005-06-19T00:00:00\", \"2005-06-26T00:00:00\", \"2005-07-03T00:00:00\", \"2005-07-10T00:00:00\", \"2005-07-17T00:00:00\", \"2005-07-24T00:00:00\", \"2005-07-31T00:00:00\", \"2005-08-07T00:00:00\", \"2005-08-14T00:00:00\", \"2005-08-21T00:00:00\", \"2005-08-28T00:00:00\", \"2005-09-04T00:00:00\", \"2005-09-11T00:00:00\", \"2005-09-18T00:00:00\", \"2005-09-25T00:00:00\", \"2005-10-02T00:00:00\", \"2005-10-09T00:00:00\", \"2005-10-16T00:00:00\", \"2005-10-23T00:00:00\", \"2005-10-30T00:00:00\", \"2005-11-06T00:00:00\", \"2005-11-13T00:00:00\", \"2005-11-20T00:00:00\", \"2005-11-27T00:00:00\", \"2005-12-04T00:00:00\", \"2005-12-11T00:00:00\", \"2005-12-18T00:00:00\", \"2005-12-25T00:00:00\", \"2006-01-01T00:00:00\", \"2006-01-08T00:00:00\", \"2006-01-15T00:00:00\", \"2006-01-22T00:00:00\", \"2006-01-29T00:00:00\", \"2006-02-05T00:00:00\", \"2006-02-12T00:00:00\", \"2006-02-19T00:00:00\", \"2006-02-26T00:00:00\", \"2006-03-05T00:00:00\", \"2006-03-12T00:00:00\", \"2006-03-19T00:00:00\", \"2006-03-26T00:00:00\", \"2006-04-02T00:00:00\", \"2006-04-09T00:00:00\", \"2006-04-16T00:00:00\", \"2006-04-23T00:00:00\", \"2006-04-30T00:00:00\", \"2006-05-07T00:00:00\", \"2006-05-14T00:00:00\", \"2006-05-21T00:00:00\", \"2006-05-28T00:00:00\", \"2006-06-04T00:00:00\", \"2006-06-11T00:00:00\", \"2006-06-18T00:00:00\", \"2006-06-25T00:00:00\", \"2006-07-02T00:00:00\", \"2006-07-09T00:00:00\", \"2006-07-16T00:00:00\", \"2006-07-23T00:00:00\", \"2006-07-30T00:00:00\", \"2006-08-06T00:00:00\", \"2006-08-13T00:00:00\", \"2006-08-20T00:00:00\", \"2006-08-27T00:00:00\", \"2006-09-03T00:00:00\", \"2006-09-10T00:00:00\", \"2006-09-17T00:00:00\", \"2006-09-24T00:00:00\", \"2006-10-01T00:00:00\", \"2006-10-08T00:00:00\", \"2006-10-15T00:00:00\", \"2006-10-22T00:00:00\", \"2006-10-29T00:00:00\", \"2006-11-05T00:00:00\", \"2006-11-12T00:00:00\", \"2006-11-19T00:00:00\", \"2006-11-26T00:00:00\", \"2006-12-03T00:00:00\", \"2006-12-10T00:00:00\", \"2006-12-17T00:00:00\", \"2006-12-24T00:00:00\", \"2006-12-31T00:00:00\", \"2007-01-07T00:00:00\", \"2007-01-14T00:00:00\", \"2007-01-21T00:00:00\", \"2007-01-28T00:00:00\", \"2007-02-04T00:00:00\", \"2007-02-11T00:00:00\", \"2007-02-18T00:00:00\", \"2007-02-25T00:00:00\", \"2007-03-04T00:00:00\", \"2007-03-11T00:00:00\", \"2007-03-18T00:00:00\", \"2007-03-25T00:00:00\", \"2007-04-01T00:00:00\", \"2007-04-08T00:00:00\", \"2007-04-15T00:00:00\", \"2007-04-22T00:00:00\", \"2007-04-29T00:00:00\", \"2007-05-06T00:00:00\", \"2007-05-13T00:00:00\", \"2007-05-20T00:00:00\", \"2007-05-27T00:00:00\", \"2007-06-03T00:00:00\", \"2007-06-10T00:00:00\", \"2007-06-17T00:00:00\", \"2007-06-24T00:00:00\", \"2007-07-01T00:00:00\", \"2007-07-08T00:00:00\", \"2007-07-15T00:00:00\", \"2007-07-22T00:00:00\", \"2007-07-29T00:00:00\", \"2007-08-05T00:00:00\", \"2007-08-12T00:00:00\", \"2007-08-19T00:00:00\", \"2007-08-26T00:00:00\", \"2007-09-02T00:00:00\", \"2007-09-09T00:00:00\", \"2007-09-16T00:00:00\", \"2007-09-23T00:00:00\", \"2007-09-30T00:00:00\", \"2007-10-07T00:00:00\", \"2007-10-14T00:00:00\", \"2007-10-21T00:00:00\", \"2007-10-28T00:00:00\", \"2007-11-04T00:00:00\", \"2007-11-11T00:00:00\", \"2007-11-18T00:00:00\", \"2007-11-25T00:00:00\", \"2007-12-02T00:00:00\", \"2007-12-09T00:00:00\", \"2007-12-16T00:00:00\", \"2007-12-23T00:00:00\", \"2007-12-30T00:00:00\", \"2008-01-06T00:00:00\"], \"y\": [-0.5, 0.05555555555555555, null, -0.6071428571428571, -0.45454545454545453, -0.25, 0.2, -0.19047619047619047, -0.06666666666666667, 0.375, 0.3939393939393939, 0.1111111111111111, -0.35294117647058826, -1.0, -0.3333333333333333, -0.03508771929824561, -0.09375, 1.0, 0.05333333333333334, 0.7692307692307693, 0.24242424242424243, -0.058823529411764705, null, 0.9193548387096774, 0.6557377049180327, 0.75, 0.4950980392156863, 0.75, 0.5404255319148936, 0.8032786885245902, 0.5195530726256983, 0.19642857142857142, 0.6774193548387096, 0.6264705882352941, 0.6706827309236948, 0.7730496453900709, 0.7447698744769874, 0.6798245614035088, 0.7894736842105263, 0.4146341463414634, 0.46875, 0.7642857142857142, 0.6377952755905512, 0.7676056338028169, 0.6455696202531646, 0.6363636363636364, 0.6906474820143885, 0.7236842105263158, 0.6071428571428571, 0.7326732673267327, 0.4861111111111111, 0.700507614213198, 0.5610859728506787, 0.7573221757322176, 0.6583850931677019, 0.606694560669456, 0.5964125560538116, 0.6666666666666666, 0.5990338164251208, 0.38333333333333336, 0.5364806866952789, 0.6511627906976745, 0.6518046709129511, 0.7289719626168224, 0.6811594202898551, 0.5993265993265994, 0.5226480836236934, 0.547244094488189, 0.4986072423398329, 0.4561933534743202, 0.6295180722891566, 0.7559429477020603, 0.6980728051391863, 0.7033898305084746, 0.621978021978022, 0.6480186480186481, 0.6204620462046204, 0.6277777777777778, 0.689727463312369, 0.6973684210526315, 0.7372685185185185, 0.637203166226913, 0.569371727748691, 0.4561224489795918, 0.6656862745098039, 0.7734375, 0.7639077340569878, 0.7243346007604563, 0.7111111111111111, 0.6493506493506493, 0.6974169741697417, 0.7056213017751479, 0.734065934065934, 0.6067653276955602, 0.4505363528009535, 0.5720108695652174, 0.41947565543071164, 0.4334305150631681, 0.6772068511198946, 0.5113314447592068, 0.383, 0.48417721518987344, 0.4967032967032967, 0.5989189189189189, 0.4947049924357035, 0.6885644768856448, 0.5704948646125116, 0.5596330275229358, 0.4052511415525114, 0.5529661016949152, 0.5312868949232585, 0.4928698752228164, 0.5472370766488414, 0.4260670731707317, 0.3191287878787879, 0.53045013239188, 0.5107344632768361, 0.5294117647058824, 0.38344226579520696, 0.3288135593220339, 0.5548717948717948, 0.4681684622918707, 0.6429463171036205, 0.31513083048919227, 0.37731958762886597, 0.5398843930635838, 0.4271523178807947, 0.391156462585034, 0.5407894736842105, 0.543939393939394, 0.3353028064992615, 0.4435146443514644, 0.40599455040871935, 0.5897887323943662, 0.5556915544675642, 0.39264990328820115, 0.614900314795383, 0.7058201058201058, 0.7019438444924406, 0.5932203389830508, 0.4163265306122449, 0.4417744916820702, 0.34541984732824427, 0.37738853503184716, 0.06267029972752043, 0.5554231227651967, 0.4632272228320527, 0.34523809523809523, 0.529245283018868, 0.28631138975966564, 0.5693430656934306, 0.5210355987055016, 0.6644219977553311, 0.5864297253634895, 0.4728682170542636, 0.5133196721311475, 0.5783410138248848, 0.3832258064516129, 0.5153913808267371, 0.33951332560834296, 0.4265975820379965, 0.5570342205323194, 0.4148296593186373, 0.7325475974614687, 0.5856727976766699, 0.4481409001956947, 0.48040201005025124, 0.44456177402323127, 0.6045197740112994, 0.7111436950146628, 0.6276315789473684, 0.4249329758713137, 0.46586345381526106, 0.5938009787928222, 0.5415282392026578, 0.30419161676646705, 0.5401606425702812, 0.4318181818181818, 0.4186666666666667, 0.5306666666666666, 0.4045393858477971, 0.5754923413566739, 0.5574229691876751, 0.3920529801324503, 0.5469613259668509, 0.4019607843137255, 0.6208530805687204, 0.522020725388601, 0.6014545454545455, 0.6655124653739612, 0.7809419496166484, 0.4872611464968153, 0.3526448362720403, 0.5607043558850788, 0.4517453798767967, 0.6615120274914089, 0.3586776859504132, 0.5510204081632653]}, {\"hovertemplate\": \"<br><b>Date </b>: %{x}<br><b>Average vote </b>: %{y}\", \"mode\": \"lines\", \"name\": \"average over years\", \"type\": \"scatter\", \"visible\": \"legendonly\", \"x\": [\"2004-12-31T00:00:00\", \"2005-12-31T00:00:00\", \"2006-12-31T00:00:00\", \"2007-12-31T00:00:00\", \"2008-12-31T00:00:00\"], \"y\": [0.5138261851015802, 0.6542372881355932, 0.4945863719744083, 0.515058319664662, 0.6182380216383307]}],                        {\"template\": {\"data\": {\"bar\": [{\"error_x\": {\"color\": \"#2a3f5f\"}, \"error_y\": {\"color\": \"#2a3f5f\"}, \"marker\": {\"line\": {\"color\": \"#E5ECF6\", \"width\": 0.5}}, \"type\": \"bar\"}], \"barpolar\": [{\"marker\": {\"line\": {\"color\": \"#E5ECF6\", \"width\": 0.5}}, \"type\": \"barpolar\"}], \"carpet\": [{\"aaxis\": {\"endlinecolor\": \"#2a3f5f\", \"gridcolor\": \"white\", \"linecolor\": \"white\", \"minorgridcolor\": \"white\", \"startlinecolor\": \"#2a3f5f\"}, \"baxis\": {\"endlinecolor\": \"#2a3f5f\", \"gridcolor\": \"white\", \"linecolor\": \"white\", \"minorgridcolor\": \"white\", \"startlinecolor\": \"#2a3f5f\"}, \"type\": \"carpet\"}], \"choropleth\": [{\"colorbar\": {\"outlinewidth\": 0, \"ticks\": \"\"}, \"type\": \"choropleth\"}], \"contour\": [{\"colorbar\": {\"outlinewidth\": 0, \"ticks\": \"\"}, \"colorscale\": [[0.0, \"#0d0887\"], [0.1111111111111111, \"#46039f\"], [0.2222222222222222, \"#7201a8\"], [0.3333333333333333, \"#9c179e\"], [0.4444444444444444, \"#bd3786\"], [0.5555555555555556, \"#d8576b\"], [0.6666666666666666, \"#ed7953\"], [0.7777777777777778, \"#fb9f3a\"], [0.8888888888888888, \"#fdca26\"], [1.0, \"#f0f921\"]], \"type\": \"contour\"}], \"contourcarpet\": [{\"colorbar\": {\"outlinewidth\": 0, \"ticks\": \"\"}, \"type\": \"contourcarpet\"}], \"heatmap\": [{\"colorbar\": {\"outlinewidth\": 0, \"ticks\": \"\"}, \"colorscale\": [[0.0, \"#0d0887\"], [0.1111111111111111, \"#46039f\"], [0.2222222222222222, \"#7201a8\"], [0.3333333333333333, \"#9c179e\"], [0.4444444444444444, \"#bd3786\"], [0.5555555555555556, \"#d8576b\"], [0.6666666666666666, \"#ed7953\"], [0.7777777777777778, \"#fb9f3a\"], [0.8888888888888888, \"#fdca26\"], [1.0, \"#f0f921\"]], \"type\": \"heatmap\"}], \"heatmapgl\": [{\"colorbar\": {\"outlinewidth\": 0, \"ticks\": \"\"}, \"colorscale\": [[0.0, \"#0d0887\"], [0.1111111111111111, \"#46039f\"], [0.2222222222222222, \"#7201a8\"], [0.3333333333333333, \"#9c179e\"], [0.4444444444444444, \"#bd3786\"], [0.5555555555555556, \"#d8576b\"], [0.6666666666666666, \"#ed7953\"], [0.7777777777777778, \"#fb9f3a\"], [0.8888888888888888, \"#fdca26\"], [1.0, \"#f0f921\"]], \"type\": \"heatmapgl\"}], \"histogram\": [{\"marker\": {\"colorbar\": {\"outlinewidth\": 0, \"ticks\": \"\"}}, \"type\": \"histogram\"}], \"histogram2d\": [{\"colorbar\": {\"outlinewidth\": 0, \"ticks\": \"\"}, \"colorscale\": [[0.0, \"#0d0887\"], [0.1111111111111111, \"#46039f\"], [0.2222222222222222, \"#7201a8\"], [0.3333333333333333, \"#9c179e\"], [0.4444444444444444, \"#bd3786\"], [0.5555555555555556, \"#d8576b\"], [0.6666666666666666, \"#ed7953\"], [0.7777777777777778, \"#fb9f3a\"], [0.8888888888888888, \"#fdca26\"], [1.0, \"#f0f921\"]], \"type\": \"histogram2d\"}], \"histogram2dcontour\": [{\"colorbar\": {\"outlinewidth\": 0, \"ticks\": \"\"}, \"colorscale\": [[0.0, \"#0d0887\"], [0.1111111111111111, \"#46039f\"], [0.2222222222222222, \"#7201a8\"], [0.3333333333333333, \"#9c179e\"], [0.4444444444444444, \"#bd3786\"], [0.5555555555555556, \"#d8576b\"], [0.6666666666666666, \"#ed7953\"], [0.7777777777777778, \"#fb9f3a\"], [0.8888888888888888, \"#fdca26\"], [1.0, \"#f0f921\"]], \"type\": \"histogram2dcontour\"}], \"mesh3d\": [{\"colorbar\": {\"outlinewidth\": 0, \"ticks\": \"\"}, \"type\": \"mesh3d\"}], \"parcoords\": [{\"line\": {\"colorbar\": {\"outlinewidth\": 0, \"ticks\": \"\"}}, \"type\": \"parcoords\"}], \"pie\": [{\"automargin\": true, \"type\": \"pie\"}], \"scatter\": [{\"marker\": {\"colorbar\": {\"outlinewidth\": 0, \"ticks\": \"\"}}, \"type\": \"scatter\"}], \"scatter3d\": [{\"line\": {\"colorbar\": {\"outlinewidth\": 0, \"ticks\": \"\"}}, \"marker\": {\"colorbar\": {\"outlinewidth\": 0, \"ticks\": \"\"}}, \"type\": \"scatter3d\"}], \"scattercarpet\": [{\"marker\": {\"colorbar\": {\"outlinewidth\": 0, \"ticks\": \"\"}}, \"type\": \"scattercarpet\"}], \"scattergeo\": [{\"marker\": {\"colorbar\": {\"outlinewidth\": 0, \"ticks\": \"\"}}, \"type\": \"scattergeo\"}], \"scattergl\": [{\"marker\": {\"colorbar\": {\"outlinewidth\": 0, \"ticks\": \"\"}}, \"type\": \"scattergl\"}], \"scattermapbox\": [{\"marker\": {\"colorbar\": {\"outlinewidth\": 0, \"ticks\": \"\"}}, \"type\": \"scattermapbox\"}], \"scatterpolar\": [{\"marker\": {\"colorbar\": {\"outlinewidth\": 0, \"ticks\": \"\"}}, \"type\": \"scatterpolar\"}], \"scatterpolargl\": [{\"marker\": {\"colorbar\": {\"outlinewidth\": 0, \"ticks\": \"\"}}, \"type\": \"scatterpolargl\"}], \"scatterternary\": [{\"marker\": {\"colorbar\": {\"outlinewidth\": 0, \"ticks\": \"\"}}, \"type\": \"scatterternary\"}], \"surface\": [{\"colorbar\": {\"outlinewidth\": 0, \"ticks\": \"\"}, \"colorscale\": [[0.0, \"#0d0887\"], [0.1111111111111111, \"#46039f\"], [0.2222222222222222, \"#7201a8\"], [0.3333333333333333, \"#9c179e\"], [0.4444444444444444, \"#bd3786\"], [0.5555555555555556, \"#d8576b\"], [0.6666666666666666, \"#ed7953\"], [0.7777777777777778, \"#fb9f3a\"], [0.8888888888888888, \"#fdca26\"], [1.0, \"#f0f921\"]], \"type\": \"surface\"}], \"table\": [{\"cells\": {\"fill\": {\"color\": \"#EBF0F8\"}, \"line\": {\"color\": \"white\"}}, \"header\": {\"fill\": {\"color\": \"#C8D4E3\"}, \"line\": {\"color\": \"white\"}}, \"type\": \"table\"}]}, \"layout\": {\"annotationdefaults\": {\"arrowcolor\": \"#2a3f5f\", \"arrowhead\": 0, \"arrowwidth\": 1}, \"coloraxis\": {\"colorbar\": {\"outlinewidth\": 0, \"ticks\": \"\"}}, \"colorscale\": {\"diverging\": [[0, \"#8e0152\"], [0.1, \"#c51b7d\"], [0.2, \"#de77ae\"], [0.3, \"#f1b6da\"], [0.4, \"#fde0ef\"], [0.5, \"#f7f7f7\"], [0.6, \"#e6f5d0\"], [0.7, \"#b8e186\"], [0.8, \"#7fbc41\"], [0.9, \"#4d9221\"], [1, \"#276419\"]], \"sequential\": [[0.0, \"#0d0887\"], [0.1111111111111111, \"#46039f\"], [0.2222222222222222, \"#7201a8\"], [0.3333333333333333, \"#9c179e\"], [0.4444444444444444, \"#bd3786\"], [0.5555555555555556, \"#d8576b\"], [0.6666666666666666, \"#ed7953\"], [0.7777777777777778, \"#fb9f3a\"], [0.8888888888888888, \"#fdca26\"], [1.0, \"#f0f921\"]], \"sequentialminus\": [[0.0, \"#0d0887\"], [0.1111111111111111, \"#46039f\"], [0.2222222222222222, \"#7201a8\"], [0.3333333333333333, \"#9c179e\"], [0.4444444444444444, \"#bd3786\"], [0.5555555555555556, \"#d8576b\"], [0.6666666666666666, \"#ed7953\"], [0.7777777777777778, \"#fb9f3a\"], [0.8888888888888888, \"#fdca26\"], [1.0, \"#f0f921\"]]}, \"colorway\": [\"#636efa\", \"#EF553B\", \"#00cc96\", \"#ab63fa\", \"#FFA15A\", \"#19d3f3\", \"#FF6692\", \"#B6E880\", \"#FF97FF\", \"#FECB52\"], \"font\": {\"color\": \"#2a3f5f\"}, \"geo\": {\"bgcolor\": \"white\", \"lakecolor\": \"white\", \"landcolor\": \"#E5ECF6\", \"showlakes\": true, \"showland\": true, \"subunitcolor\": \"white\"}, \"hoverlabel\": {\"align\": \"left\"}, \"hovermode\": \"closest\", \"mapbox\": {\"style\": \"light\"}, \"paper_bgcolor\": \"white\", \"plot_bgcolor\": \"#E5ECF6\", \"polar\": {\"angularaxis\": {\"gridcolor\": \"white\", \"linecolor\": \"white\", \"ticks\": \"\"}, \"bgcolor\": \"#E5ECF6\", \"radialaxis\": {\"gridcolor\": \"white\", \"linecolor\": \"white\", \"ticks\": \"\"}}, \"scene\": {\"xaxis\": {\"backgroundcolor\": \"#E5ECF6\", \"gridcolor\": \"white\", \"gridwidth\": 2, \"linecolor\": \"white\", \"showbackground\": true, \"ticks\": \"\", \"zerolinecolor\": \"white\"}, \"yaxis\": {\"backgroundcolor\": \"#E5ECF6\", \"gridcolor\": \"white\", \"gridwidth\": 2, \"linecolor\": \"white\", \"showbackground\": true, \"ticks\": \"\", \"zerolinecolor\": \"white\"}, \"zaxis\": {\"backgroundcolor\": \"#E5ECF6\", \"gridcolor\": \"white\", \"gridwidth\": 2, \"linecolor\": \"white\", \"showbackground\": true, \"ticks\": \"\", \"zerolinecolor\": \"white\"}}, \"shapedefaults\": {\"line\": {\"color\": \"#2a3f5f\"}}, \"ternary\": {\"aaxis\": {\"gridcolor\": \"white\", \"linecolor\": \"white\", \"ticks\": \"\"}, \"baxis\": {\"gridcolor\": \"white\", \"linecolor\": \"white\", \"ticks\": \"\"}, \"bgcolor\": \"#E5ECF6\", \"caxis\": {\"gridcolor\": \"white\", \"linecolor\": \"white\", \"ticks\": \"\"}}, \"title\": {\"x\": 0.05}, \"xaxis\": {\"automargin\": true, \"gridcolor\": \"white\", \"linecolor\": \"white\", \"ticks\": \"\", \"title\": {\"standoff\": 15}, \"zerolinecolor\": \"white\", \"zerolinewidth\": 2}, \"yaxis\": {\"automargin\": true, \"gridcolor\": \"white\", \"linecolor\": \"white\", \"ticks\": \"\", \"title\": {\"standoff\": 15}, \"zerolinecolor\": \"white\", \"zerolinewidth\": 2}}}, \"title\": {\"text\": \"Evolution of the average vote over time\"}, \"xaxis\": {\"title\": {\"text\": \"time\"}}, \"yaxis\": {\"title\": {\"text\": \"average vote\"}}},                        {\"responsive\": true}                    ).then(function(){\n",
       "                            \n",
       "var gd = document.getElementById('caca26df-b7c8-4312-a02d-3dd890214a7b');\n",
       "var x = new MutationObserver(function (mutations, observer) {{\n",
       "        var display = window.getComputedStyle(gd).display;\n",
       "        if (!display || display === 'none') {{\n",
       "            console.log([gd, 'removed!']);\n",
       "            Plotly.purge(gd);\n",
       "            observer.disconnect();\n",
       "        }}\n",
       "}});\n",
       "\n",
       "// Listen for the removal of the full notebook cells\n",
       "var notebookContainer = gd.closest('#notebook-container');\n",
       "if (notebookContainer) {{\n",
       "    x.observe(notebookContainer, {childList: true});\n",
       "}}\n",
       "\n",
       "// Listen for the clearing of the current output cell\n",
       "var outputEl = gd.closest('.output');\n",
       "if (outputEl) {{\n",
       "    x.observe(outputEl, {childList: true});\n",
       "}}\n",
       "\n",
       "                        })                };                });            </script>        </div>"
      ]
     },
     "metadata": {},
     "output_type": "display_data"
    }
   ],
   "source": [
    "import plotly.graph_objects as go\n",
    "\n",
    "sign_avg_month = sign_time.groupby(pd.Grouper(key=\"vote_time\", freq=\"M\")).mean()\n",
    "sign_avg_month['count'] = sign_time.groupby(pd.Grouper(key=\"vote_time\", freq=\"M\")).count()\n",
    "sign_avg_week = sign_time.groupby(pd.Grouper(key=\"vote_time\", freq=\"W\")).mean()\n",
    "sign_avg_week['count'] = sign_time.groupby(pd.Grouper(key=\"vote_time\", freq=\"W\")).count()\n",
    "sign_avg_year = sign_time.groupby(pd.Grouper(key=\"vote_time\", freq=\"Y\")).mean()\n",
    "sign_avg_year['count'] = sign_time.groupby(pd.Grouper(key=\"vote_time\", freq=\"Y\")).count()\n",
    "\n",
    "fig = go.Figure()\n",
    "\n",
    "fig.add_trace(go.Scatter(\n",
    "    x= sign_avg_month.index,\n",
    "    y= sign_avg_month['vote'],\n",
    "    mode=\"lines\",\n",
    "    name=\"average over months\",\n",
    "    hovertemplate =\n",
    "    '<br><b>Date </b>: %{x}'+\n",
    "    '<br><b>Average vote </b>: %{y}'\n",
    "))\n",
    "\n",
    "\n",
    "fig.add_trace(go.Scatter(\n",
    "    x= sign_avg_week.index,\n",
    "    y= sign_avg_week['vote'],\n",
    "    mode=\"lines\",\n",
    "    name=\"average over weeks\",\n",
    "    visible = 'legendonly',\n",
    "    #opacity=0.2\n",
    "    hovertemplate =\n",
    "    '<br><b>Date </b>: %{x}'+\n",
    "    '<br><b>Average vote </b>: %{y}'\n",
    "))\n",
    "\n",
    "fig.add_trace(go.Scatter(\n",
    "    x= sign_avg_year.index,\n",
    "    y= sign_avg_year['vote'],\n",
    "    mode=\"lines\",\n",
    "    name=\"average over years\",\n",
    "    visible = 'legendonly',\n",
    "    #opacity=0.2\n",
    "    hovertemplate =\n",
    "    '<br><b>Date </b>: %{x}'+\n",
    "    '<br><b>Average vote </b>: %{y}'\n",
    "))\n",
    "\n",
    "fig.update_layout(\n",
    "    title=\"Evolution of the average vote over time\",\n",
    "    xaxis_title=\"time\",\n",
    "    yaxis_title=\"average vote\")\n",
    "fig.show()\n",
    "\n",
    "fig.write_html(\"../wikipedia/_includes/average_over_time.html\")"
   ]
  },
  {
   "cell_type": "markdown",
   "metadata": {},
   "source": [
    "Feel free to investigate this graph by activating the traces for averaging over different time ranges and/or by zooming in! A few things on this visualization immediately caught our attention. First of all, considering the averaging over years, we only have 4 values of course as all voting dates occurred between 2004 and 2008. It is important to note that especially the value obtained for the year '2008' does not represent much as our dataset only has values for the first 6 days of that year. The value obtained for '2008' has thus been calculated from 6 days only. \n",
    "\n",
    "Secondly, by taking a closer look at the averaging over the weeks, we can see that data is missing for two 2-week periods, namely between April 4th and April 18th 2004 as well as between August 22nd and September 5th 2004.\n",
    "\n",
    "Last but not least, the average vote is very low considering values from the beginning on the vote recording, i.e. March 2004, until around October of the same year. Does this mean that people were overall 'meaner' and thus preferentially voting against people in the beginning of 2004? Let's not jump to conclusions! It might be better to first check for outliers and see if we have a skewed distribution of votes, so let's do this as next step!"
   ]
  },
  {
   "cell_type": "code",
   "execution_count": 19,
   "metadata": {},
   "outputs": [
    {
     "data": {
      "image/png": "[encoded data removed]",
      "text/plain": [
       "<Figure size 720x252 with 2 Axes>"
      ]
     },
     "metadata": {
      "needs_background": "light"
     },
     "output_type": "display_data"
    }
   ],
   "source": [
    "#Analyze distribution of the number of votes\n",
    "count_per_week=sign_time.groupby(pd.Grouper(key=\"vote_time\", freq=\"W\")).count()\n",
    "count_per_month=sign_time.groupby(pd.Grouper(key=\"vote_time\", freq=\"M\")).count()\n",
    "\n",
    "#plt.figure(1, figsize = (7,3.5))\n",
    "fig , (ax1, ax2) = plt.subplots(1,2, figsize = (10,3.5))\n",
    "count_per_week.boxplot(grid=False, ax=ax1)\n",
    "count_per_month.boxplot(grid=False, ax=ax2) \n",
    "ax1.set_ylabel('number of votes')\n",
    "ax1.set_title('Number of votes per week')\n",
    "ax2.set_ylabel('number of votes')\n",
    "ax2.set_title('Number of votes per month')\n",
    "\n",
    "plt.show()"
   ]
  },
  {
   "cell_type": "markdown",
   "metadata": {},
   "source": [
    "This figures show us that we have no outliers, neat. We can however already see that the distribution is clearly skewed. "
   ]
  },
  {
   "cell_type": "code",
   "execution_count": 20,
   "metadata": {},
   "outputs": [
    {
     "name": "stderr",
     "output_type": "stream",
     "text": [
      "/Users/camille/opt/anaconda3/lib/python3.8/site-packages/seaborn/distributions.py:2551: FutureWarning:\n",
      "\n",
      "`distplot` is a deprecated function and will be removed in a future version. Please adapt your code to use either `displot` (a figure-level function with similar flexibility) or `histplot` (an axes-level function for histograms).\n",
      "\n",
      "/Users/camille/opt/anaconda3/lib/python3.8/site-packages/seaborn/distributions.py:2551: FutureWarning:\n",
      "\n",
      "`distplot` is a deprecated function and will be removed in a future version. Please adapt your code to use either `displot` (a figure-level function with similar flexibility) or `histplot` (an axes-level function for histograms).\n",
      "\n"
     ]
    },
    {
     "data": {
      "image/png": "[encoded data removed]",
      "text/plain": [
       "<Figure size 720x252 with 2 Axes>"
      ]
     },
     "metadata": {
      "needs_background": "light"
     },
     "output_type": "display_data"
    }
   ],
   "source": [
    "import seaborn as sns\n",
    "count_per_week\n",
    "\n",
    "fig , (ax1, ax2) = plt.subplots(1,2, figsize = (10,3.5))\n",
    "sns.distplot(count_per_week, hist=True, label='per week', ax=ax1)\n",
    "sns.distplot(count_per_month, hist=True, label='per month', ax=ax2)\n",
    "ax1.set_xlabel('number of votes')\n",
    "ax1.set_title('Distribution of number of votes per week')\n",
    "ax2.set_xlabel('number of votes')\n",
    "ax2.set_title('Distribution of number of votes per month')\n",
    "\n",
    "plt.show()\n",
    "#WHAT DO WE GET FROM THIS? :/ could interpret as 2 sep pattern of counts (double peak distribution)"
   ]
  },
  {
   "cell_type": "code",
   "execution_count": 21,
   "metadata": {},
   "outputs": [
    {
     "data": {
      "application/vnd.plotly.v1+json": {
       "config": {
        "plotlyServerURL": "https://plot.ly"
       },
       "data": [
        {
         "hovertemplate": "<br><b>Date </b>: %{x}<br><b>Average vote </b>: %{y}<br><b>Number of votes </b>: %{marker_size}<br>",
         "marker": {
          "size": [
           47,
           80,
           98,
           67,
           238,
           141,
           512,
           776,
           919,
           666,
           523,
           324,
           868,
           1022,
           1078,
           1646,
           1386,
           2050,
           2146,
           3755,
           2780,
           3662,
           3712,
           3483,
           4648,
           3990,
           4953,
           4084,
           4124,
           3511,
           2753,
           3921,
           3169,
           2354,
           4353,
           4118,
           3617,
           3843,
           4527,
           3463,
           3455,
           2637,
           3268,
           3101,
           4034,
           3480,
           647
          ],
          "sizemode": "area",
          "sizeref": 10
         },
         "mode": "markers",
         "name": "average over months",
         "type": "scatter",
         "x": [
          "2004-03-31T00:00:00",
          "2004-04-30T00:00:00",
          "2004-05-31T00:00:00",
          "2004-06-30T00:00:00",
          "2004-07-31T00:00:00",
          "2004-08-31T00:00:00",
          "2004-09-30T00:00:00",
          "2004-10-31T00:00:00",
          "2004-11-30T00:00:00",
          "2004-12-31T00:00:00",
          "2005-01-31T00:00:00",
          "2005-02-28T00:00:00",
          "2005-03-31T00:00:00",
          "2005-04-30T00:00:00",
          "2005-05-31T00:00:00",
          "2005-06-30T00:00:00",
          "2005-07-31T00:00:00",
          "2005-08-31T00:00:00",
          "2005-09-30T00:00:00",
          "2005-10-31T00:00:00",
          "2005-11-30T00:00:00",
          "2005-12-31T00:00:00",
          "2006-01-31T00:00:00",
          "2006-02-28T00:00:00",
          "2006-03-31T00:00:00",
          "2006-04-30T00:00:00",
          "2006-05-31T00:00:00",
          "2006-06-30T00:00:00",
          "2006-07-31T00:00:00",
          "2006-08-31T00:00:00",
          "2006-09-30T00:00:00",
          "2006-10-31T00:00:00",
          "2006-11-30T00:00:00",
          "2006-12-31T00:00:00",
          "2007-01-31T00:00:00",
          "2007-02-28T00:00:00",
          "2007-03-31T00:00:00",
          "2007-04-30T00:00:00",
          "2007-05-31T00:00:00",
          "2007-06-30T00:00:00",
          "2007-07-31T00:00:00",
          "2007-08-31T00:00:00",
          "2007-09-30T00:00:00",
          "2007-10-31T00:00:00",
          "2007-11-30T00:00:00",
          "2007-12-31T00:00:00",
          "2008-01-31T00:00:00"
         ],
         "y": [
          -0.02127659574468085,
          -0.5,
          0.19387755102040816,
          0,
          0.07983193277310924,
          0.3475177304964539,
          0.6484375,
          0.5270618556701031,
          0.675734494015234,
          0.6201201201201201,
          0.7055449330783938,
          0.7006172839506173,
          0.6244239631336406,
          0.6252446183953033,
          0.6280148423005566,
          0.6433778857837181,
          0.5137085137085137,
          0.693170731707317,
          0.646784715750233,
          0.6119840213049268,
          0.7233812949640288,
          0.6971600218459858,
          0.5210129310344828,
          0.48751076658053405,
          0.5456110154905336,
          0.5446115288220551,
          0.4764789016757521,
          0.48653281096963763,
          0.4670223084384093,
          0.4263742523497579,
          0.45114420632037777,
          0.5024228513134404,
          0.6301672451877564,
          0.33517417162276975,
          0.43671031472547667,
          0.5548810101991258,
          0.49626762510367706,
          0.4808743169398907,
          0.5372211177380164,
          0.5824429685244008,
          0.47670043415340085,
          0.4565794463405385,
          0.48164014687882495,
          0.5333763302160593,
          0.6239464551313832,
          0.4985632183908046,
          0.6182380216383307
         ]
        },
        {
         "hovertemplate": "<br><b>Date </b>: %{x}<br><b>Average vote </b>: %{y}<br><b>Number of votes </b>: %{marker_size}<br>",
         "marker": {
          "size": [
           6,
           54,
           0,
           28,
           22,
           28,
           30,
           21,
           15,
           16,
           33,
           18,
           17,
           1,
           45,
           57,
           32,
           32,
           75,
           13,
           66,
           34,
           0,
           62,
           61,
           156,
           204,
           68,
           235,
           183,
           179,
           168,
           155,
           340,
           249,
           141,
           239,
           228,
           38,
           123,
           96,
           140,
           127,
           142,
           79,
           55,
           139,
           76,
           56,
           101,
           216,
           197,
           221,
           239,
           161,
           239,
           223,
           381,
           207,
           60,
           233,
           344,
           471,
           214,
           345,
           594,
           287,
           254,
           359,
           331,
           332,
           631,
           467,
           354,
           455,
           429,
           606,
           360,
           477,
           608,
           864,
           758,
           764,
           980,
           1020,
           512,
           737,
           526,
           810,
           770,
           813,
           676,
           910,
           946,
           839,
           736,
           801,
           1029,
           759,
           706,
           1000,
           948,
           910,
           925,
           1322,
           1233,
           1071,
           654,
           876,
           944,
           847,
           1122,
           1122,
           1312,
           1056,
           1133,
           885,
           935,
           918,
           885,
           975,
           1021,
           801,
           879,
           970,
           865,
           604,
           588,
           760,
           660,
           677,
           478,
           1101,
           1136,
           817,
           517,
           953,
           945,
           463,
           649,
           735,
           541,
           524,
           628,
           367,
           839,
           911,
           1176,
           1060,
           957,
           1370,
           927,
           891,
           619,
           774,
           976,
           868,
           775,
           1137,
           863,
           579,
           1052,
           998,
           1103,
           1033,
           1022,
           995,
           947,
           708,
           682,
           760,
           746,
           747,
           613,
           903,
           835,
           498,
           660,
           375,
           750,
           749,
           914,
           714,
           755,
           724,
           612,
           422,
           772,
           1375,
           1444,
           913,
           628,
           397,
           1079,
           974,
           582,
           605,
           735
          ],
          "sizemode": "area",
          "sizeref": 10
         },
         "mode": "markers",
         "name": "average over weeks",
         "type": "scatter",
         "visible": "legendonly",
         "x": [
          "2004-03-28T00:00:00",
          "2004-04-04T00:00:00",
          "2004-04-11T00:00:00",
          "2004-04-18T00:00:00",
          "2004-04-25T00:00:00",
          "2004-05-02T00:00:00",
          "2004-05-09T00:00:00",
          "2004-05-16T00:00:00",
          "2004-05-23T00:00:00",
          "2004-05-30T00:00:00",
          "2004-06-06T00:00:00",
          "2004-06-13T00:00:00",
          "2004-06-20T00:00:00",
          "2004-06-27T00:00:00",
          "2004-07-04T00:00:00",
          "2004-07-11T00:00:00",
          "2004-07-18T00:00:00",
          "2004-07-25T00:00:00",
          "2004-08-01T00:00:00",
          "2004-08-08T00:00:00",
          "2004-08-15T00:00:00",
          "2004-08-22T00:00:00",
          "2004-08-29T00:00:00",
          "2004-09-05T00:00:00",
          "2004-09-12T00:00:00",
          "2004-09-19T00:00:00",
          "2004-09-26T00:00:00",
          "2004-10-03T00:00:00",
          "2004-10-10T00:00:00",
          "2004-10-17T00:00:00",
          "2004-10-24T00:00:00",
          "2004-10-31T00:00:00",
          "2004-11-07T00:00:00",
          "2004-11-14T00:00:00",
          "2004-11-21T00:00:00",
          "2004-11-28T00:00:00",
          "2004-12-05T00:00:00",
          "2004-12-12T00:00:00",
          "2004-12-19T00:00:00",
          "2004-12-26T00:00:00",
          "2005-01-02T00:00:00",
          "2005-01-09T00:00:00",
          "2005-01-16T00:00:00",
          "2005-01-23T00:00:00",
          "2005-01-30T00:00:00",
          "2005-02-06T00:00:00",
          "2005-02-13T00:00:00",
          "2005-02-20T00:00:00",
          "2005-02-27T00:00:00",
          "2005-03-06T00:00:00",
          "2005-03-13T00:00:00",
          "2005-03-20T00:00:00",
          "2005-03-27T00:00:00",
          "2005-04-03T00:00:00",
          "2005-04-10T00:00:00",
          "2005-04-17T00:00:00",
          "2005-04-24T00:00:00",
          "2005-05-01T00:00:00",
          "2005-05-08T00:00:00",
          "2005-05-15T00:00:00",
          "2005-05-22T00:00:00",
          "2005-05-29T00:00:00",
          "2005-06-05T00:00:00",
          "2005-06-12T00:00:00",
          "2005-06-19T00:00:00",
          "2005-06-26T00:00:00",
          "2005-07-03T00:00:00",
          "2005-07-10T00:00:00",
          "2005-07-17T00:00:00",
          "2005-07-24T00:00:00",
          "2005-07-31T00:00:00",
          "2005-08-07T00:00:00",
          "2005-08-14T00:00:00",
          "2005-08-21T00:00:00",
          "2005-08-28T00:00:00",
          "2005-09-04T00:00:00",
          "2005-09-11T00:00:00",
          "2005-09-18T00:00:00",
          "2005-09-25T00:00:00",
          "2005-10-02T00:00:00",
          "2005-10-09T00:00:00",
          "2005-10-16T00:00:00",
          "2005-10-23T00:00:00",
          "2005-10-30T00:00:00",
          "2005-11-06T00:00:00",
          "2005-11-13T00:00:00",
          "2005-11-20T00:00:00",
          "2005-11-27T00:00:00",
          "2005-12-04T00:00:00",
          "2005-12-11T00:00:00",
          "2005-12-18T00:00:00",
          "2005-12-25T00:00:00",
          "2006-01-01T00:00:00",
          "2006-01-08T00:00:00",
          "2006-01-15T00:00:00",
          "2006-01-22T00:00:00",
          "2006-01-29T00:00:00",
          "2006-02-05T00:00:00",
          "2006-02-12T00:00:00",
          "2006-02-19T00:00:00",
          "2006-02-26T00:00:00",
          "2006-03-05T00:00:00",
          "2006-03-12T00:00:00",
          "2006-03-19T00:00:00",
          "2006-03-26T00:00:00",
          "2006-04-02T00:00:00",
          "2006-04-09T00:00:00",
          "2006-04-16T00:00:00",
          "2006-04-23T00:00:00",
          "2006-04-30T00:00:00",
          "2006-05-07T00:00:00",
          "2006-05-14T00:00:00",
          "2006-05-21T00:00:00",
          "2006-05-28T00:00:00",
          "2006-06-04T00:00:00",
          "2006-06-11T00:00:00",
          "2006-06-18T00:00:00",
          "2006-06-25T00:00:00",
          "2006-07-02T00:00:00",
          "2006-07-09T00:00:00",
          "2006-07-16T00:00:00",
          "2006-07-23T00:00:00",
          "2006-07-30T00:00:00",
          "2006-08-06T00:00:00",
          "2006-08-13T00:00:00",
          "2006-08-20T00:00:00",
          "2006-08-27T00:00:00",
          "2006-09-03T00:00:00",
          "2006-09-10T00:00:00",
          "2006-09-17T00:00:00",
          "2006-09-24T00:00:00",
          "2006-10-01T00:00:00",
          "2006-10-08T00:00:00",
          "2006-10-15T00:00:00",
          "2006-10-22T00:00:00",
          "2006-10-29T00:00:00",
          "2006-11-05T00:00:00",
          "2006-11-12T00:00:00",
          "2006-11-19T00:00:00",
          "2006-11-26T00:00:00",
          "2006-12-03T00:00:00",
          "2006-12-10T00:00:00",
          "2006-12-17T00:00:00",
          "2006-12-24T00:00:00",
          "2006-12-31T00:00:00",
          "2007-01-07T00:00:00",
          "2007-01-14T00:00:00",
          "2007-01-21T00:00:00",
          "2007-01-28T00:00:00",
          "2007-02-04T00:00:00",
          "2007-02-11T00:00:00",
          "2007-02-18T00:00:00",
          "2007-02-25T00:00:00",
          "2007-03-04T00:00:00",
          "2007-03-11T00:00:00",
          "2007-03-18T00:00:00",
          "2007-03-25T00:00:00",
          "2007-04-01T00:00:00",
          "2007-04-08T00:00:00",
          "2007-04-15T00:00:00",
          "2007-04-22T00:00:00",
          "2007-04-29T00:00:00",
          "2007-05-06T00:00:00",
          "2007-05-13T00:00:00",
          "2007-05-20T00:00:00",
          "2007-05-27T00:00:00",
          "2007-06-03T00:00:00",
          "2007-06-10T00:00:00",
          "2007-06-17T00:00:00",
          "2007-06-24T00:00:00",
          "2007-07-01T00:00:00",
          "2007-07-08T00:00:00",
          "2007-07-15T00:00:00",
          "2007-07-22T00:00:00",
          "2007-07-29T00:00:00",
          "2007-08-05T00:00:00",
          "2007-08-12T00:00:00",
          "2007-08-19T00:00:00",
          "2007-08-26T00:00:00",
          "2007-09-02T00:00:00",
          "2007-09-09T00:00:00",
          "2007-09-16T00:00:00",
          "2007-09-23T00:00:00",
          "2007-09-30T00:00:00",
          "2007-10-07T00:00:00",
          "2007-10-14T00:00:00",
          "2007-10-21T00:00:00",
          "2007-10-28T00:00:00",
          "2007-11-04T00:00:00",
          "2007-11-11T00:00:00",
          "2007-11-18T00:00:00",
          "2007-11-25T00:00:00",
          "2007-12-02T00:00:00",
          "2007-12-09T00:00:00",
          "2007-12-16T00:00:00",
          "2007-12-23T00:00:00",
          "2007-12-30T00:00:00",
          "2008-01-06T00:00:00"
         ],
         "y": [
          -0.5,
          0.05555555555555555,
          null,
          -0.6071428571428571,
          -0.45454545454545453,
          -0.25,
          0.2,
          -0.19047619047619047,
          -0.06666666666666667,
          0.375,
          0.3939393939393939,
          0.1111111111111111,
          -0.35294117647058826,
          -1,
          -0.3333333333333333,
          -0.03508771929824561,
          -0.09375,
          1,
          0.05333333333333334,
          0.7692307692307693,
          0.24242424242424243,
          -0.058823529411764705,
          null,
          0.9193548387096774,
          0.6557377049180327,
          0.75,
          0.4950980392156863,
          0.75,
          0.5404255319148936,
          0.8032786885245902,
          0.5195530726256983,
          0.19642857142857142,
          0.6774193548387096,
          0.6264705882352941,
          0.6706827309236948,
          0.7730496453900709,
          0.7447698744769874,
          0.6798245614035088,
          0.7894736842105263,
          0.4146341463414634,
          0.46875,
          0.7642857142857142,
          0.6377952755905512,
          0.7676056338028169,
          0.6455696202531646,
          0.6363636363636364,
          0.6906474820143885,
          0.7236842105263158,
          0.6071428571428571,
          0.7326732673267327,
          0.4861111111111111,
          0.700507614213198,
          0.5610859728506787,
          0.7573221757322176,
          0.6583850931677019,
          0.606694560669456,
          0.5964125560538116,
          0.6666666666666666,
          0.5990338164251208,
          0.38333333333333336,
          0.5364806866952789,
          0.6511627906976745,
          0.6518046709129511,
          0.7289719626168224,
          0.6811594202898551,
          0.5993265993265994,
          0.5226480836236934,
          0.547244094488189,
          0.4986072423398329,
          0.4561933534743202,
          0.6295180722891566,
          0.7559429477020603,
          0.6980728051391863,
          0.7033898305084746,
          0.621978021978022,
          0.6480186480186481,
          0.6204620462046204,
          0.6277777777777778,
          0.689727463312369,
          0.6973684210526315,
          0.7372685185185185,
          0.637203166226913,
          0.569371727748691,
          0.4561224489795918,
          0.6656862745098039,
          0.7734375,
          0.7639077340569878,
          0.7243346007604563,
          0.7111111111111111,
          0.6493506493506493,
          0.6974169741697417,
          0.7056213017751479,
          0.734065934065934,
          0.6067653276955602,
          0.4505363528009535,
          0.5720108695652174,
          0.41947565543071164,
          0.4334305150631681,
          0.6772068511198946,
          0.5113314447592068,
          0.383,
          0.48417721518987344,
          0.4967032967032967,
          0.5989189189189189,
          0.4947049924357035,
          0.6885644768856448,
          0.5704948646125116,
          0.5596330275229358,
          0.4052511415525114,
          0.5529661016949152,
          0.5312868949232585,
          0.4928698752228164,
          0.5472370766488414,
          0.4260670731707317,
          0.3191287878787879,
          0.53045013239188,
          0.5107344632768361,
          0.5294117647058824,
          0.38344226579520696,
          0.3288135593220339,
          0.5548717948717948,
          0.4681684622918707,
          0.6429463171036205,
          0.31513083048919227,
          0.37731958762886597,
          0.5398843930635838,
          0.4271523178807947,
          0.391156462585034,
          0.5407894736842105,
          0.543939393939394,
          0.3353028064992615,
          0.4435146443514644,
          0.40599455040871935,
          0.5897887323943662,
          0.5556915544675642,
          0.39264990328820115,
          0.614900314795383,
          0.7058201058201058,
          0.7019438444924406,
          0.5932203389830508,
          0.4163265306122449,
          0.4417744916820702,
          0.34541984732824427,
          0.37738853503184716,
          0.06267029972752043,
          0.5554231227651967,
          0.4632272228320527,
          0.34523809523809523,
          0.529245283018868,
          0.28631138975966564,
          0.5693430656934306,
          0.5210355987055016,
          0.6644219977553311,
          0.5864297253634895,
          0.4728682170542636,
          0.5133196721311475,
          0.5783410138248848,
          0.3832258064516129,
          0.5153913808267371,
          0.33951332560834296,
          0.4265975820379965,
          0.5570342205323194,
          0.4148296593186373,
          0.7325475974614687,
          0.5856727976766699,
          0.4481409001956947,
          0.48040201005025124,
          0.44456177402323127,
          0.6045197740112994,
          0.7111436950146628,
          0.6276315789473684,
          0.4249329758713137,
          0.46586345381526106,
          0.5938009787928222,
          0.5415282392026578,
          0.30419161676646705,
          0.5401606425702812,
          0.4318181818181818,
          0.4186666666666667,
          0.5306666666666666,
          0.4045393858477971,
          0.5754923413566739,
          0.5574229691876751,
          0.3920529801324503,
          0.5469613259668509,
          0.4019607843137255,
          0.6208530805687204,
          0.522020725388601,
          0.6014545454545455,
          0.6655124653739612,
          0.7809419496166484,
          0.4872611464968153,
          0.3526448362720403,
          0.5607043558850788,
          0.4517453798767967,
          0.6615120274914089,
          0.3586776859504132,
          0.5510204081632653
         ]
        }
       ],
       "layout": {
        "autosize": true,
        "template": {
         "data": {
          "bar": [
           {
            "error_x": {
             "color": "#2a3f5f"
            },
            "error_y": {
             "color": "#2a3f5f"
            },
            "marker": {
             "line": {
              "color": "#E5ECF6",
              "width": 0.5
             }
            },
            "type": "bar"
           }
          ],
          "barpolar": [
           {
            "marker": {
             "line": {
              "color": "#E5ECF6",
              "width": 0.5
             }
            },
            "type": "barpolar"
           }
          ],
          "carpet": [
           {
            "aaxis": {
             "endlinecolor": "#2a3f5f",
             "gridcolor": "white",
             "linecolor": "white",
             "minorgridcolor": "white",
             "startlinecolor": "#2a3f5f"
            },
            "baxis": {
             "endlinecolor": "#2a3f5f",
             "gridcolor": "white",
             "linecolor": "white",
             "minorgridcolor": "white",
             "startlinecolor": "#2a3f5f"
            },
            "type": "carpet"
           }
          ],
          "choropleth": [
           {
            "colorbar": {
             "outlinewidth": 0,
             "ticks": ""
            },
            "type": "choropleth"
           }
          ],
          "contour": [
           {
            "colorbar": {
             "outlinewidth": 0,
             "ticks": ""
            },
            "colorscale": [
             [
              0,
              "#0d0887"
             ],
             [
              0.1111111111111111,
              "#46039f"
             ],
             [
              0.2222222222222222,
              "#7201a8"
             ],
             [
              0.3333333333333333,
              "#9c179e"
             ],
             [
              0.4444444444444444,
              "#bd3786"
             ],
             [
              0.5555555555555556,
              "#d8576b"
             ],
             [
              0.6666666666666666,
              "#ed7953"
             ],
             [
              0.7777777777777778,
              "#fb9f3a"
             ],
             [
              0.8888888888888888,
              "#fdca26"
             ],
             [
              1,
              "#f0f921"
             ]
            ],
            "type": "contour"
           }
          ],
          "contourcarpet": [
           {
            "colorbar": {
             "outlinewidth": 0,
             "ticks": ""
            },
            "type": "contourcarpet"
           }
          ],
          "heatmap": [
           {
            "colorbar": {
             "outlinewidth": 0,
             "ticks": ""
            },
            "colorscale": [
             [
              0,
              "#0d0887"
             ],
             [
              0.1111111111111111,
              "#46039f"
             ],
             [
              0.2222222222222222,
              "#7201a8"
             ],
             [
              0.3333333333333333,
              "#9c179e"
             ],
             [
              0.4444444444444444,
              "#bd3786"
             ],
             [
              0.5555555555555556,
              "#d8576b"
             ],
             [
              0.6666666666666666,
              "#ed7953"
             ],
             [
              0.7777777777777778,
              "#fb9f3a"
             ],
             [
              0.8888888888888888,
              "#fdca26"
             ],
             [
              1,
              "#f0f921"
             ]
            ],
            "type": "heatmap"
           }
          ],
          "heatmapgl": [
           {
            "colorbar": {
             "outlinewidth": 0,
             "ticks": ""
            },
            "colorscale": [
             [
              0,
              "#0d0887"
             ],
             [
              0.1111111111111111,
              "#46039f"
             ],
             [
              0.2222222222222222,
              "#7201a8"
             ],
             [
              0.3333333333333333,
              "#9c179e"
             ],
             [
              0.4444444444444444,
              "#bd3786"
             ],
             [
              0.5555555555555556,
              "#d8576b"
             ],
             [
              0.6666666666666666,
              "#ed7953"
             ],
             [
              0.7777777777777778,
              "#fb9f3a"
             ],
             [
              0.8888888888888888,
              "#fdca26"
             ],
             [
              1,
              "#f0f921"
             ]
            ],
            "type": "heatmapgl"
           }
          ],
          "histogram": [
           {
            "marker": {
             "colorbar": {
              "outlinewidth": 0,
              "ticks": ""
             }
            },
            "type": "histogram"
           }
          ],
          "histogram2d": [
           {
            "colorbar": {
             "outlinewidth": 0,
             "ticks": ""
            },
            "colorscale": [
             [
              0,
              "#0d0887"
             ],
             [
              0.1111111111111111,
              "#46039f"
             ],
             [
              0.2222222222222222,
              "#7201a8"
             ],
             [
              0.3333333333333333,
              "#9c179e"
             ],
             [
              0.4444444444444444,
              "#bd3786"
             ],
             [
              0.5555555555555556,
              "#d8576b"
             ],
             [
              0.6666666666666666,
              "#ed7953"
             ],
             [
              0.7777777777777778,
              "#fb9f3a"
             ],
             [
              0.8888888888888888,
              "#fdca26"
             ],
             [
              1,
              "#f0f921"
             ]
            ],
            "type": "histogram2d"
           }
          ],
          "histogram2dcontour": [
           {
            "colorbar": {
             "outlinewidth": 0,
             "ticks": ""
            },
            "colorscale": [
             [
              0,
              "#0d0887"
             ],
             [
              0.1111111111111111,
              "#46039f"
             ],
             [
              0.2222222222222222,
              "#7201a8"
             ],
             [
              0.3333333333333333,
              "#9c179e"
             ],
             [
              0.4444444444444444,
              "#bd3786"
             ],
             [
              0.5555555555555556,
              "#d8576b"
             ],
             [
              0.6666666666666666,
              "#ed7953"
             ],
             [
              0.7777777777777778,
              "#fb9f3a"
             ],
             [
              0.8888888888888888,
              "#fdca26"
             ],
             [
              1,
              "#f0f921"
             ]
            ],
            "type": "histogram2dcontour"
           }
          ],
          "mesh3d": [
           {
            "colorbar": {
             "outlinewidth": 0,
             "ticks": ""
            },
            "type": "mesh3d"
           }
          ],
          "parcoords": [
           {
            "line": {
             "colorbar": {
              "outlinewidth": 0,
              "ticks": ""
             }
            },
            "type": "parcoords"
           }
          ],
          "pie": [
           {
            "automargin": true,
            "type": "pie"
           }
          ],
          "scatter": [
           {
            "marker": {
             "colorbar": {
              "outlinewidth": 0,
              "ticks": ""
             }
            },
            "type": "scatter"
           }
          ],
          "scatter3d": [
           {
            "line": {
             "colorbar": {
              "outlinewidth": 0,
              "ticks": ""
             }
            },
            "marker": {
             "colorbar": {
              "outlinewidth": 0,
              "ticks": ""
             }
            },
            "type": "scatter3d"
           }
          ],
          "scattercarpet": [
           {
            "marker": {
             "colorbar": {
              "outlinewidth": 0,
              "ticks": ""
             }
            },
            "type": "scattercarpet"
           }
          ],
          "scattergeo": [
           {
            "marker": {
             "colorbar": {
              "outlinewidth": 0,
              "ticks": ""
             }
            },
            "type": "scattergeo"
           }
          ],
          "scattergl": [
           {
            "marker": {
             "colorbar": {
              "outlinewidth": 0,
              "ticks": ""
             }
            },
            "type": "scattergl"
           }
          ],
          "scattermapbox": [
           {
            "marker": {
             "colorbar": {
              "outlinewidth": 0,
              "ticks": ""
             }
            },
            "type": "scattermapbox"
           }
          ],
          "scatterpolar": [
           {
            "marker": {
             "colorbar": {
              "outlinewidth": 0,
              "ticks": ""
             }
            },
            "type": "scatterpolar"
           }
          ],
          "scatterpolargl": [
           {
            "marker": {
             "colorbar": {
              "outlinewidth": 0,
              "ticks": ""
             }
            },
            "type": "scatterpolargl"
           }
          ],
          "scatterternary": [
           {
            "marker": {
             "colorbar": {
              "outlinewidth": 0,
              "ticks": ""
             }
            },
            "type": "scatterternary"
           }
          ],
          "surface": [
           {
            "colorbar": {
             "outlinewidth": 0,
             "ticks": ""
            },
            "colorscale": [
             [
              0,
              "#0d0887"
             ],
             [
              0.1111111111111111,
              "#46039f"
             ],
             [
              0.2222222222222222,
              "#7201a8"
             ],
             [
              0.3333333333333333,
              "#9c179e"
             ],
             [
              0.4444444444444444,
              "#bd3786"
             ],
             [
              0.5555555555555556,
              "#d8576b"
             ],
             [
              0.6666666666666666,
              "#ed7953"
             ],
             [
              0.7777777777777778,
              "#fb9f3a"
             ],
             [
              0.8888888888888888,
              "#fdca26"
             ],
             [
              1,
              "#f0f921"
             ]
            ],
            "type": "surface"
           }
          ],
          "table": [
           {
            "cells": {
             "fill": {
              "color": "#EBF0F8"
             },
             "line": {
              "color": "white"
             }
            },
            "header": {
             "fill": {
              "color": "#C8D4E3"
             },
             "line": {
              "color": "white"
             }
            },
            "type": "table"
           }
          ]
         },
         "layout": {
          "annotationdefaults": {
           "arrowcolor": "#2a3f5f",
           "arrowhead": 0,
           "arrowwidth": 1
          },
          "coloraxis": {
           "colorbar": {
            "outlinewidth": 0,
            "ticks": ""
           }
          },
          "colorscale": {
           "diverging": [
            [
             0,
             "#8e0152"
            ],
            [
             0.1,
             "#c51b7d"
            ],
            [
             0.2,
             "#de77ae"
            ],
            [
             0.3,
             "#f1b6da"
            ],
            [
             0.4,
             "#fde0ef"
            ],
            [
             0.5,
             "#f7f7f7"
            ],
            [
             0.6,
             "#e6f5d0"
            ],
            [
             0.7,
             "#b8e186"
            ],
            [
             0.8,
             "#7fbc41"
            ],
            [
             0.9,
             "#4d9221"
            ],
            [
             1,
             "#276419"
            ]
           ],
           "sequential": [
            [
             0,
             "#0d0887"
            ],
            [
             0.1111111111111111,
             "#46039f"
            ],
            [
             0.2222222222222222,
             "#7201a8"
            ],
            [
             0.3333333333333333,
             "#9c179e"
            ],
            [
             0.4444444444444444,
             "#bd3786"
            ],
            [
             0.5555555555555556,
             "#d8576b"
            ],
            [
             0.6666666666666666,
             "#ed7953"
            ],
            [
             0.7777777777777778,
             "#fb9f3a"
            ],
            [
             0.8888888888888888,
             "#fdca26"
            ],
            [
             1,
             "#f0f921"
            ]
           ],
           "sequentialminus": [
            [
             0,
             "#0d0887"
            ],
            [
             0.1111111111111111,
             "#46039f"
            ],
            [
             0.2222222222222222,
             "#7201a8"
            ],
            [
             0.3333333333333333,
             "#9c179e"
            ],
            [
             0.4444444444444444,
             "#bd3786"
            ],
            [
             0.5555555555555556,
             "#d8576b"
            ],
            [
             0.6666666666666666,
             "#ed7953"
            ],
            [
             0.7777777777777778,
             "#fb9f3a"
            ],
            [
             0.8888888888888888,
             "#fdca26"
            ],
            [
             1,
             "#f0f921"
            ]
           ]
          },
          "colorway": [
           "#636efa",
           "#EF553B",
           "#00cc96",
           "#ab63fa",
           "#FFA15A",
           "#19d3f3",
           "#FF6692",
           "#B6E880",
           "#FF97FF",
           "#FECB52"
          ],
          "font": {
           "color": "#2a3f5f"
          },
          "geo": {
           "bgcolor": "white",
           "lakecolor": "white",
           "landcolor": "#E5ECF6",
           "showlakes": true,
           "showland": true,
           "subunitcolor": "white"
          },
          "hoverlabel": {
           "align": "left"
          },
          "hovermode": "closest",
          "mapbox": {
           "style": "light"
          },
          "paper_bgcolor": "white",
          "plot_bgcolor": "#E5ECF6",
          "polar": {
           "angularaxis": {
            "gridcolor": "white",
            "linecolor": "white",
            "ticks": ""
           },
           "bgcolor": "#E5ECF6",
           "radialaxis": {
            "gridcolor": "white",
            "linecolor": "white",
            "ticks": ""
           }
          },
          "scene": {
           "xaxis": {
            "backgroundcolor": "#E5ECF6",
            "gridcolor": "white",
            "gridwidth": 2,
            "linecolor": "white",
            "showbackground": true,
            "ticks": "",
            "zerolinecolor": "white"
           },
           "yaxis": {
            "backgroundcolor": "#E5ECF6",
            "gridcolor": "white",
            "gridwidth": 2,
            "linecolor": "white",
            "showbackground": true,
            "ticks": "",
            "zerolinecolor": "white"
           },
           "zaxis": {
            "backgroundcolor": "#E5ECF6",
            "gridcolor": "white",
            "gridwidth": 2,
            "linecolor": "white",
            "showbackground": true,
            "ticks": "",
            "zerolinecolor": "white"
           }
          },
          "shapedefaults": {
           "line": {
            "color": "#2a3f5f"
           }
          },
          "ternary": {
           "aaxis": {
            "gridcolor": "white",
            "linecolor": "white",
            "ticks": ""
           },
           "baxis": {
            "gridcolor": "white",
            "linecolor": "white",
            "ticks": ""
           },
           "bgcolor": "#E5ECF6",
           "caxis": {
            "gridcolor": "white",
            "linecolor": "white",
            "ticks": ""
           }
          },
          "title": {
           "x": 0.05
          },
          "xaxis": {
           "automargin": true,
           "gridcolor": "white",
           "linecolor": "white",
           "ticks": "",
           "title": {
            "standoff": 15
           },
           "zerolinecolor": "white",
           "zerolinewidth": 2
          },
          "yaxis": {
           "automargin": true,
           "gridcolor": "white",
           "linecolor": "white",
           "ticks": "",
           "title": {
            "standoff": 15
           },
           "zerolinecolor": "white",
           "zerolinewidth": 2
          }
         }
        },
        "title": {
         "text": "Evolution of the average vote over time"
        },
        "xaxis": {
         "autorange": true,
         "range": [
          "2004-01-04 22:43:21.8887",
          "2008-05-03 21:32:12.7252"
         ],
         "title": {
          "text": "time"
         },
         "type": "date"
        },
        "yaxis": {
         "autorange": true,
         "range": [
          -0.5889953192103229,
          0.8672917224131429
         ],
         "title": {
          "text": "average vote"
         },
         "type": "linear"
        }
       }
      },
      "image/png": "[encoded data removed]",
      "text/html": [
       "<div>                            <div id=\"11b3ae2c-c5dd-4a23-a788-66597e0d4d5e\" class=\"plotly-graph-div\" style=\"height:525px; width:100%;\"></div>            <script type=\"text/javascript\">                require([\"plotly\"], function(Plotly) {                    window.PLOTLYENV=window.PLOTLYENV || {};                                    if (document.getElementById(\"11b3ae2c-c5dd-4a23-a788-66597e0d4d5e\")) {                    Plotly.newPlot(                        \"11b3ae2c-c5dd-4a23-a788-66597e0d4d5e\",                        [{\"hovertemplate\": \"<br><b>Date </b>: %{x}<br><b>Average vote </b>: %{y}<br><b>Number of votes </b>: %{marker_size}<br>\", \"marker\": {\"size\": [47, 80, 98, 67, 238, 141, 512, 776, 919, 666, 523, 324, 868, 1022, 1078, 1646, 1386, 2050, 2146, 3755, 2780, 3662, 3712, 3483, 4648, 3990, 4953, 4084, 4124, 3511, 2753, 3921, 3169, 2354, 4353, 4118, 3617, 3843, 4527, 3463, 3455, 2637, 3268, 3101, 4034, 3480, 647], \"sizemode\": \"area\", \"sizeref\": 10}, \"mode\": \"markers\", \"name\": \"average over months\", \"type\": \"scatter\", \"x\": [\"2004-03-31T00:00:00\", \"2004-04-30T00:00:00\", \"2004-05-31T00:00:00\", \"2004-06-30T00:00:00\", \"2004-07-31T00:00:00\", \"2004-08-31T00:00:00\", \"2004-09-30T00:00:00\", \"2004-10-31T00:00:00\", \"2004-11-30T00:00:00\", \"2004-12-31T00:00:00\", \"2005-01-31T00:00:00\", \"2005-02-28T00:00:00\", \"2005-03-31T00:00:00\", \"2005-04-30T00:00:00\", \"2005-05-31T00:00:00\", \"2005-06-30T00:00:00\", \"2005-07-31T00:00:00\", \"2005-08-31T00:00:00\", \"2005-09-30T00:00:00\", \"2005-10-31T00:00:00\", \"2005-11-30T00:00:00\", \"2005-12-31T00:00:00\", \"2006-01-31T00:00:00\", \"2006-02-28T00:00:00\", \"2006-03-31T00:00:00\", \"2006-04-30T00:00:00\", \"2006-05-31T00:00:00\", \"2006-06-30T00:00:00\", \"2006-07-31T00:00:00\", \"2006-08-31T00:00:00\", \"2006-09-30T00:00:00\", \"2006-10-31T00:00:00\", \"2006-11-30T00:00:00\", \"2006-12-31T00:00:00\", \"2007-01-31T00:00:00\", \"2007-02-28T00:00:00\", \"2007-03-31T00:00:00\", \"2007-04-30T00:00:00\", \"2007-05-31T00:00:00\", \"2007-06-30T00:00:00\", \"2007-07-31T00:00:00\", \"2007-08-31T00:00:00\", \"2007-09-30T00:00:00\", \"2007-10-31T00:00:00\", \"2007-11-30T00:00:00\", \"2007-12-31T00:00:00\", \"2008-01-31T00:00:00\"], \"y\": [-0.02127659574468085, -0.5, 0.19387755102040816, 0.0, 0.07983193277310924, 0.3475177304964539, 0.6484375, 0.5270618556701031, 0.675734494015234, 0.6201201201201201, 0.7055449330783938, 0.7006172839506173, 0.6244239631336406, 0.6252446183953033, 0.6280148423005566, 0.6433778857837181, 0.5137085137085137, 0.693170731707317, 0.646784715750233, 0.6119840213049268, 0.7233812949640288, 0.6971600218459858, 0.5210129310344828, 0.48751076658053405, 0.5456110154905336, 0.5446115288220551, 0.4764789016757521, 0.48653281096963763, 0.4670223084384093, 0.4263742523497579, 0.45114420632037777, 0.5024228513134404, 0.6301672451877564, 0.33517417162276975, 0.43671031472547667, 0.5548810101991258, 0.49626762510367706, 0.4808743169398907, 0.5372211177380164, 0.5824429685244008, 0.47670043415340085, 0.4565794463405385, 0.48164014687882495, 0.5333763302160593, 0.6239464551313832, 0.4985632183908046, 0.6182380216383307]}, {\"hovertemplate\": \"<br><b>Date </b>: %{x}<br><b>Average vote </b>: %{y}<br><b>Number of votes </b>: %{marker_size}<br>\", \"marker\": {\"size\": [6, 54, 0, 28, 22, 28, 30, 21, 15, 16, 33, 18, 17, 1, 45, 57, 32, 32, 75, 13, 66, 34, 0, 62, 61, 156, 204, 68, 235, 183, 179, 168, 155, 340, 249, 141, 239, 228, 38, 123, 96, 140, 127, 142, 79, 55, 139, 76, 56, 101, 216, 197, 221, 239, 161, 239, 223, 381, 207, 60, 233, 344, 471, 214, 345, 594, 287, 254, 359, 331, 332, 631, 467, 354, 455, 429, 606, 360, 477, 608, 864, 758, 764, 980, 1020, 512, 737, 526, 810, 770, 813, 676, 910, 946, 839, 736, 801, 1029, 759, 706, 1000, 948, 910, 925, 1322, 1233, 1071, 654, 876, 944, 847, 1122, 1122, 1312, 1056, 1133, 885, 935, 918, 885, 975, 1021, 801, 879, 970, 865, 604, 588, 760, 660, 677, 478, 1101, 1136, 817, 517, 953, 945, 463, 649, 735, 541, 524, 628, 367, 839, 911, 1176, 1060, 957, 1370, 927, 891, 619, 774, 976, 868, 775, 1137, 863, 579, 1052, 998, 1103, 1033, 1022, 995, 947, 708, 682, 760, 746, 747, 613, 903, 835, 498, 660, 375, 750, 749, 914, 714, 755, 724, 612, 422, 772, 1375, 1444, 913, 628, 397, 1079, 974, 582, 605, 735], \"sizemode\": \"area\", \"sizeref\": 10}, \"mode\": \"markers\", \"name\": \"average over weeks\", \"type\": \"scatter\", \"visible\": \"legendonly\", \"x\": [\"2004-03-28T00:00:00\", \"2004-04-04T00:00:00\", \"2004-04-11T00:00:00\", \"2004-04-18T00:00:00\", \"2004-04-25T00:00:00\", \"2004-05-02T00:00:00\", \"2004-05-09T00:00:00\", \"2004-05-16T00:00:00\", \"2004-05-23T00:00:00\", \"2004-05-30T00:00:00\", \"2004-06-06T00:00:00\", \"2004-06-13T00:00:00\", \"2004-06-20T00:00:00\", \"2004-06-27T00:00:00\", \"2004-07-04T00:00:00\", \"2004-07-11T00:00:00\", \"2004-07-18T00:00:00\", \"2004-07-25T00:00:00\", \"2004-08-01T00:00:00\", \"2004-08-08T00:00:00\", \"2004-08-15T00:00:00\", \"2004-08-22T00:00:00\", \"2004-08-29T00:00:00\", \"2004-09-05T00:00:00\", \"2004-09-12T00:00:00\", \"2004-09-19T00:00:00\", \"2004-09-26T00:00:00\", \"2004-10-03T00:00:00\", \"2004-10-10T00:00:00\", \"2004-10-17T00:00:00\", \"2004-10-24T00:00:00\", \"2004-10-31T00:00:00\", \"2004-11-07T00:00:00\", \"2004-11-14T00:00:00\", \"2004-11-21T00:00:00\", \"2004-11-28T00:00:00\", \"2004-12-05T00:00:00\", \"2004-12-12T00:00:00\", \"2004-12-19T00:00:00\", \"2004-12-26T00:00:00\", \"2005-01-02T00:00:00\", \"2005-01-09T00:00:00\", \"2005-01-16T00:00:00\", \"2005-01-23T00:00:00\", \"2005-01-30T00:00:00\", \"2005-02-06T00:00:00\", \"2005-02-13T00:00:00\", \"2005-02-20T00:00:00\", \"2005-02-27T00:00:00\", \"2005-03-06T00:00:00\", \"2005-03-13T00:00:00\", \"2005-03-20T00:00:00\", \"2005-03-27T00:00:00\", \"2005-04-03T00:00:00\", \"2005-04-10T00:00:00\", \"2005-04-17T00:00:00\", \"2005-04-24T00:00:00\", \"2005-05-01T00:00:00\", \"2005-05-08T00:00:00\", \"2005-05-15T00:00:00\", \"2005-05-22T00:00:00\", \"2005-05-29T00:00:00\", \"2005-06-05T00:00:00\", \"2005-06-12T00:00:00\", \"2005-06-19T00:00:00\", \"2005-06-26T00:00:00\", \"2005-07-03T00:00:00\", \"2005-07-10T00:00:00\", \"2005-07-17T00:00:00\", \"2005-07-24T00:00:00\", \"2005-07-31T00:00:00\", \"2005-08-07T00:00:00\", \"2005-08-14T00:00:00\", \"2005-08-21T00:00:00\", \"2005-08-28T00:00:00\", \"2005-09-04T00:00:00\", \"2005-09-11T00:00:00\", \"2005-09-18T00:00:00\", \"2005-09-25T00:00:00\", \"2005-10-02T00:00:00\", \"2005-10-09T00:00:00\", \"2005-10-16T00:00:00\", \"2005-10-23T00:00:00\", \"2005-10-30T00:00:00\", \"2005-11-06T00:00:00\", \"2005-11-13T00:00:00\", \"2005-11-20T00:00:00\", \"2005-11-27T00:00:00\", \"2005-12-04T00:00:00\", \"2005-12-11T00:00:00\", \"2005-12-18T00:00:00\", \"2005-12-25T00:00:00\", \"2006-01-01T00:00:00\", \"2006-01-08T00:00:00\", \"2006-01-15T00:00:00\", \"2006-01-22T00:00:00\", \"2006-01-29T00:00:00\", \"2006-02-05T00:00:00\", \"2006-02-12T00:00:00\", \"2006-02-19T00:00:00\", \"2006-02-26T00:00:00\", \"2006-03-05T00:00:00\", \"2006-03-12T00:00:00\", \"2006-03-19T00:00:00\", \"2006-03-26T00:00:00\", \"2006-04-02T00:00:00\", \"2006-04-09T00:00:00\", \"2006-04-16T00:00:00\", \"2006-04-23T00:00:00\", \"2006-04-30T00:00:00\", \"2006-05-07T00:00:00\", \"2006-05-14T00:00:00\", \"2006-05-21T00:00:00\", \"2006-05-28T00:00:00\", \"2006-06-04T00:00:00\", \"2006-06-11T00:00:00\", \"2006-06-18T00:00:00\", \"2006-06-25T00:00:00\", \"2006-07-02T00:00:00\", \"2006-07-09T00:00:00\", \"2006-07-16T00:00:00\", \"2006-07-23T00:00:00\", \"2006-07-30T00:00:00\", \"2006-08-06T00:00:00\", \"2006-08-13T00:00:00\", \"2006-08-20T00:00:00\", \"2006-08-27T00:00:00\", \"2006-09-03T00:00:00\", \"2006-09-10T00:00:00\", \"2006-09-17T00:00:00\", \"2006-09-24T00:00:00\", \"2006-10-01T00:00:00\", \"2006-10-08T00:00:00\", \"2006-10-15T00:00:00\", \"2006-10-22T00:00:00\", \"2006-10-29T00:00:00\", \"2006-11-05T00:00:00\", \"2006-11-12T00:00:00\", \"2006-11-19T00:00:00\", \"2006-11-26T00:00:00\", \"2006-12-03T00:00:00\", \"2006-12-10T00:00:00\", \"2006-12-17T00:00:00\", \"2006-12-24T00:00:00\", \"2006-12-31T00:00:00\", \"2007-01-07T00:00:00\", \"2007-01-14T00:00:00\", \"2007-01-21T00:00:00\", \"2007-01-28T00:00:00\", \"2007-02-04T00:00:00\", \"2007-02-11T00:00:00\", \"2007-02-18T00:00:00\", \"2007-02-25T00:00:00\", \"2007-03-04T00:00:00\", \"2007-03-11T00:00:00\", \"2007-03-18T00:00:00\", \"2007-03-25T00:00:00\", \"2007-04-01T00:00:00\", \"2007-04-08T00:00:00\", \"2007-04-15T00:00:00\", \"2007-04-22T00:00:00\", \"2007-04-29T00:00:00\", \"2007-05-06T00:00:00\", \"2007-05-13T00:00:00\", \"2007-05-20T00:00:00\", \"2007-05-27T00:00:00\", \"2007-06-03T00:00:00\", \"2007-06-10T00:00:00\", \"2007-06-17T00:00:00\", \"2007-06-24T00:00:00\", \"2007-07-01T00:00:00\", \"2007-07-08T00:00:00\", \"2007-07-15T00:00:00\", \"2007-07-22T00:00:00\", \"2007-07-29T00:00:00\", \"2007-08-05T00:00:00\", \"2007-08-12T00:00:00\", \"2007-08-19T00:00:00\", \"2007-08-26T00:00:00\", \"2007-09-02T00:00:00\", \"2007-09-09T00:00:00\", \"2007-09-16T00:00:00\", \"2007-09-23T00:00:00\", \"2007-09-30T00:00:00\", \"2007-10-07T00:00:00\", \"2007-10-14T00:00:00\", \"2007-10-21T00:00:00\", \"2007-10-28T00:00:00\", \"2007-11-04T00:00:00\", \"2007-11-11T00:00:00\", \"2007-11-18T00:00:00\", \"2007-11-25T00:00:00\", \"2007-12-02T00:00:00\", \"2007-12-09T00:00:00\", \"2007-12-16T00:00:00\", \"2007-12-23T00:00:00\", \"2007-12-30T00:00:00\", \"2008-01-06T00:00:00\"], \"y\": [-0.5, 0.05555555555555555, null, -0.6071428571428571, -0.45454545454545453, -0.25, 0.2, -0.19047619047619047, -0.06666666666666667, 0.375, 0.3939393939393939, 0.1111111111111111, -0.35294117647058826, -1.0, -0.3333333333333333, -0.03508771929824561, -0.09375, 1.0, 0.05333333333333334, 0.7692307692307693, 0.24242424242424243, -0.058823529411764705, null, 0.9193548387096774, 0.6557377049180327, 0.75, 0.4950980392156863, 0.75, 0.5404255319148936, 0.8032786885245902, 0.5195530726256983, 0.19642857142857142, 0.6774193548387096, 0.6264705882352941, 0.6706827309236948, 0.7730496453900709, 0.7447698744769874, 0.6798245614035088, 0.7894736842105263, 0.4146341463414634, 0.46875, 0.7642857142857142, 0.6377952755905512, 0.7676056338028169, 0.6455696202531646, 0.6363636363636364, 0.6906474820143885, 0.7236842105263158, 0.6071428571428571, 0.7326732673267327, 0.4861111111111111, 0.700507614213198, 0.5610859728506787, 0.7573221757322176, 0.6583850931677019, 0.606694560669456, 0.5964125560538116, 0.6666666666666666, 0.5990338164251208, 0.38333333333333336, 0.5364806866952789, 0.6511627906976745, 0.6518046709129511, 0.7289719626168224, 0.6811594202898551, 0.5993265993265994, 0.5226480836236934, 0.547244094488189, 0.4986072423398329, 0.4561933534743202, 0.6295180722891566, 0.7559429477020603, 0.6980728051391863, 0.7033898305084746, 0.621978021978022, 0.6480186480186481, 0.6204620462046204, 0.6277777777777778, 0.689727463312369, 0.6973684210526315, 0.7372685185185185, 0.637203166226913, 0.569371727748691, 0.4561224489795918, 0.6656862745098039, 0.7734375, 0.7639077340569878, 0.7243346007604563, 0.7111111111111111, 0.6493506493506493, 0.6974169741697417, 0.7056213017751479, 0.734065934065934, 0.6067653276955602, 0.4505363528009535, 0.5720108695652174, 0.41947565543071164, 0.4334305150631681, 0.6772068511198946, 0.5113314447592068, 0.383, 0.48417721518987344, 0.4967032967032967, 0.5989189189189189, 0.4947049924357035, 0.6885644768856448, 0.5704948646125116, 0.5596330275229358, 0.4052511415525114, 0.5529661016949152, 0.5312868949232585, 0.4928698752228164, 0.5472370766488414, 0.4260670731707317, 0.3191287878787879, 0.53045013239188, 0.5107344632768361, 0.5294117647058824, 0.38344226579520696, 0.3288135593220339, 0.5548717948717948, 0.4681684622918707, 0.6429463171036205, 0.31513083048919227, 0.37731958762886597, 0.5398843930635838, 0.4271523178807947, 0.391156462585034, 0.5407894736842105, 0.543939393939394, 0.3353028064992615, 0.4435146443514644, 0.40599455040871935, 0.5897887323943662, 0.5556915544675642, 0.39264990328820115, 0.614900314795383, 0.7058201058201058, 0.7019438444924406, 0.5932203389830508, 0.4163265306122449, 0.4417744916820702, 0.34541984732824427, 0.37738853503184716, 0.06267029972752043, 0.5554231227651967, 0.4632272228320527, 0.34523809523809523, 0.529245283018868, 0.28631138975966564, 0.5693430656934306, 0.5210355987055016, 0.6644219977553311, 0.5864297253634895, 0.4728682170542636, 0.5133196721311475, 0.5783410138248848, 0.3832258064516129, 0.5153913808267371, 0.33951332560834296, 0.4265975820379965, 0.5570342205323194, 0.4148296593186373, 0.7325475974614687, 0.5856727976766699, 0.4481409001956947, 0.48040201005025124, 0.44456177402323127, 0.6045197740112994, 0.7111436950146628, 0.6276315789473684, 0.4249329758713137, 0.46586345381526106, 0.5938009787928222, 0.5415282392026578, 0.30419161676646705, 0.5401606425702812, 0.4318181818181818, 0.4186666666666667, 0.5306666666666666, 0.4045393858477971, 0.5754923413566739, 0.5574229691876751, 0.3920529801324503, 0.5469613259668509, 0.4019607843137255, 0.6208530805687204, 0.522020725388601, 0.6014545454545455, 0.6655124653739612, 0.7809419496166484, 0.4872611464968153, 0.3526448362720403, 0.5607043558850788, 0.4517453798767967, 0.6615120274914089, 0.3586776859504132, 0.5510204081632653]}],                        {\"template\": {\"data\": {\"bar\": [{\"error_x\": {\"color\": \"#2a3f5f\"}, \"error_y\": {\"color\": \"#2a3f5f\"}, \"marker\": {\"line\": {\"color\": \"#E5ECF6\", \"width\": 0.5}}, \"type\": \"bar\"}], \"barpolar\": [{\"marker\": {\"line\": {\"color\": \"#E5ECF6\", \"width\": 0.5}}, \"type\": \"barpolar\"}], \"carpet\": [{\"aaxis\": {\"endlinecolor\": \"#2a3f5f\", \"gridcolor\": \"white\", \"linecolor\": \"white\", \"minorgridcolor\": \"white\", \"startlinecolor\": \"#2a3f5f\"}, \"baxis\": {\"endlinecolor\": \"#2a3f5f\", \"gridcolor\": \"white\", \"linecolor\": \"white\", \"minorgridcolor\": \"white\", \"startlinecolor\": \"#2a3f5f\"}, \"type\": \"carpet\"}], \"choropleth\": [{\"colorbar\": {\"outlinewidth\": 0, \"ticks\": \"\"}, \"type\": \"choropleth\"}], \"contour\": [{\"colorbar\": {\"outlinewidth\": 0, \"ticks\": \"\"}, \"colorscale\": [[0.0, \"#0d0887\"], [0.1111111111111111, \"#46039f\"], [0.2222222222222222, \"#7201a8\"], [0.3333333333333333, \"#9c179e\"], [0.4444444444444444, \"#bd3786\"], [0.5555555555555556, \"#d8576b\"], [0.6666666666666666, \"#ed7953\"], [0.7777777777777778, \"#fb9f3a\"], [0.8888888888888888, \"#fdca26\"], [1.0, \"#f0f921\"]], \"type\": \"contour\"}], \"contourcarpet\": [{\"colorbar\": {\"outlinewidth\": 0, \"ticks\": \"\"}, \"type\": \"contourcarpet\"}], \"heatmap\": [{\"colorbar\": {\"outlinewidth\": 0, \"ticks\": \"\"}, \"colorscale\": [[0.0, \"#0d0887\"], [0.1111111111111111, \"#46039f\"], [0.2222222222222222, \"#7201a8\"], [0.3333333333333333, \"#9c179e\"], [0.4444444444444444, \"#bd3786\"], [0.5555555555555556, \"#d8576b\"], [0.6666666666666666, \"#ed7953\"], [0.7777777777777778, \"#fb9f3a\"], [0.8888888888888888, \"#fdca26\"], [1.0, \"#f0f921\"]], \"type\": \"heatmap\"}], \"heatmapgl\": [{\"colorbar\": {\"outlinewidth\": 0, \"ticks\": \"\"}, \"colorscale\": [[0.0, \"#0d0887\"], [0.1111111111111111, \"#46039f\"], [0.2222222222222222, \"#7201a8\"], [0.3333333333333333, \"#9c179e\"], [0.4444444444444444, \"#bd3786\"], [0.5555555555555556, \"#d8576b\"], [0.6666666666666666, \"#ed7953\"], [0.7777777777777778, \"#fb9f3a\"], [0.8888888888888888, \"#fdca26\"], [1.0, \"#f0f921\"]], \"type\": \"heatmapgl\"}], \"histogram\": [{\"marker\": {\"colorbar\": {\"outlinewidth\": 0, \"ticks\": \"\"}}, \"type\": \"histogram\"}], \"histogram2d\": [{\"colorbar\": {\"outlinewidth\": 0, \"ticks\": \"\"}, \"colorscale\": [[0.0, \"#0d0887\"], [0.1111111111111111, \"#46039f\"], [0.2222222222222222, \"#7201a8\"], [0.3333333333333333, \"#9c179e\"], [0.4444444444444444, \"#bd3786\"], [0.5555555555555556, \"#d8576b\"], [0.6666666666666666, \"#ed7953\"], [0.7777777777777778, \"#fb9f3a\"], [0.8888888888888888, \"#fdca26\"], [1.0, \"#f0f921\"]], \"type\": \"histogram2d\"}], \"histogram2dcontour\": [{\"colorbar\": {\"outlinewidth\": 0, \"ticks\": \"\"}, \"colorscale\": [[0.0, \"#0d0887\"], [0.1111111111111111, \"#46039f\"], [0.2222222222222222, \"#7201a8\"], [0.3333333333333333, \"#9c179e\"], [0.4444444444444444, \"#bd3786\"], [0.5555555555555556, \"#d8576b\"], [0.6666666666666666, \"#ed7953\"], [0.7777777777777778, \"#fb9f3a\"], [0.8888888888888888, \"#fdca26\"], [1.0, \"#f0f921\"]], \"type\": \"histogram2dcontour\"}], \"mesh3d\": [{\"colorbar\": {\"outlinewidth\": 0, \"ticks\": \"\"}, \"type\": \"mesh3d\"}], \"parcoords\": [{\"line\": {\"colorbar\": {\"outlinewidth\": 0, \"ticks\": \"\"}}, \"type\": \"parcoords\"}], \"pie\": [{\"automargin\": true, \"type\": \"pie\"}], \"scatter\": [{\"marker\": {\"colorbar\": {\"outlinewidth\": 0, \"ticks\": \"\"}}, \"type\": \"scatter\"}], \"scatter3d\": [{\"line\": {\"colorbar\": {\"outlinewidth\": 0, \"ticks\": \"\"}}, \"marker\": {\"colorbar\": {\"outlinewidth\": 0, \"ticks\": \"\"}}, \"type\": \"scatter3d\"}], \"scattercarpet\": [{\"marker\": {\"colorbar\": {\"outlinewidth\": 0, \"ticks\": \"\"}}, \"type\": \"scattercarpet\"}], \"scattergeo\": [{\"marker\": {\"colorbar\": {\"outlinewidth\": 0, \"ticks\": \"\"}}, \"type\": \"scattergeo\"}], \"scattergl\": [{\"marker\": {\"colorbar\": {\"outlinewidth\": 0, \"ticks\": \"\"}}, \"type\": \"scattergl\"}], \"scattermapbox\": [{\"marker\": {\"colorbar\": {\"outlinewidth\": 0, \"ticks\": \"\"}}, \"type\": \"scattermapbox\"}], \"scatterpolar\": [{\"marker\": {\"colorbar\": {\"outlinewidth\": 0, \"ticks\": \"\"}}, \"type\": \"scatterpolar\"}], \"scatterpolargl\": [{\"marker\": {\"colorbar\": {\"outlinewidth\": 0, \"ticks\": \"\"}}, \"type\": \"scatterpolargl\"}], \"scatterternary\": [{\"marker\": {\"colorbar\": {\"outlinewidth\": 0, \"ticks\": \"\"}}, \"type\": \"scatterternary\"}], \"surface\": [{\"colorbar\": {\"outlinewidth\": 0, \"ticks\": \"\"}, \"colorscale\": [[0.0, \"#0d0887\"], [0.1111111111111111, \"#46039f\"], [0.2222222222222222, \"#7201a8\"], [0.3333333333333333, \"#9c179e\"], [0.4444444444444444, \"#bd3786\"], [0.5555555555555556, \"#d8576b\"], [0.6666666666666666, \"#ed7953\"], [0.7777777777777778, \"#fb9f3a\"], [0.8888888888888888, \"#fdca26\"], [1.0, \"#f0f921\"]], \"type\": \"surface\"}], \"table\": [{\"cells\": {\"fill\": {\"color\": \"#EBF0F8\"}, \"line\": {\"color\": \"white\"}}, \"header\": {\"fill\": {\"color\": \"#C8D4E3\"}, \"line\": {\"color\": \"white\"}}, \"type\": \"table\"}]}, \"layout\": {\"annotationdefaults\": {\"arrowcolor\": \"#2a3f5f\", \"arrowhead\": 0, \"arrowwidth\": 1}, \"coloraxis\": {\"colorbar\": {\"outlinewidth\": 0, \"ticks\": \"\"}}, \"colorscale\": {\"diverging\": [[0, \"#8e0152\"], [0.1, \"#c51b7d\"], [0.2, \"#de77ae\"], [0.3, \"#f1b6da\"], [0.4, \"#fde0ef\"], [0.5, \"#f7f7f7\"], [0.6, \"#e6f5d0\"], [0.7, \"#b8e186\"], [0.8, \"#7fbc41\"], [0.9, \"#4d9221\"], [1, \"#276419\"]], \"sequential\": [[0.0, \"#0d0887\"], [0.1111111111111111, \"#46039f\"], [0.2222222222222222, \"#7201a8\"], [0.3333333333333333, \"#9c179e\"], [0.4444444444444444, \"#bd3786\"], [0.5555555555555556, \"#d8576b\"], [0.6666666666666666, \"#ed7953\"], [0.7777777777777778, \"#fb9f3a\"], [0.8888888888888888, \"#fdca26\"], [1.0, \"#f0f921\"]], \"sequentialminus\": [[0.0, \"#0d0887\"], [0.1111111111111111, \"#46039f\"], [0.2222222222222222, \"#7201a8\"], [0.3333333333333333, \"#9c179e\"], [0.4444444444444444, \"#bd3786\"], [0.5555555555555556, \"#d8576b\"], [0.6666666666666666, \"#ed7953\"], [0.7777777777777778, \"#fb9f3a\"], [0.8888888888888888, \"#fdca26\"], [1.0, \"#f0f921\"]]}, \"colorway\": [\"#636efa\", \"#EF553B\", \"#00cc96\", \"#ab63fa\", \"#FFA15A\", \"#19d3f3\", \"#FF6692\", \"#B6E880\", \"#FF97FF\", \"#FECB52\"], \"font\": {\"color\": \"#2a3f5f\"}, \"geo\": {\"bgcolor\": \"white\", \"lakecolor\": \"white\", \"landcolor\": \"#E5ECF6\", \"showlakes\": true, \"showland\": true, \"subunitcolor\": \"white\"}, \"hoverlabel\": {\"align\": \"left\"}, \"hovermode\": \"closest\", \"mapbox\": {\"style\": \"light\"}, \"paper_bgcolor\": \"white\", \"plot_bgcolor\": \"#E5ECF6\", \"polar\": {\"angularaxis\": {\"gridcolor\": \"white\", \"linecolor\": \"white\", \"ticks\": \"\"}, \"bgcolor\": \"#E5ECF6\", \"radialaxis\": {\"gridcolor\": \"white\", \"linecolor\": \"white\", \"ticks\": \"\"}}, \"scene\": {\"xaxis\": {\"backgroundcolor\": \"#E5ECF6\", \"gridcolor\": \"white\", \"gridwidth\": 2, \"linecolor\": \"white\", \"showbackground\": true, \"ticks\": \"\", \"zerolinecolor\": \"white\"}, \"yaxis\": {\"backgroundcolor\": \"#E5ECF6\", \"gridcolor\": \"white\", \"gridwidth\": 2, \"linecolor\": \"white\", \"showbackground\": true, \"ticks\": \"\", \"zerolinecolor\": \"white\"}, \"zaxis\": {\"backgroundcolor\": \"#E5ECF6\", \"gridcolor\": \"white\", \"gridwidth\": 2, \"linecolor\": \"white\", \"showbackground\": true, \"ticks\": \"\", \"zerolinecolor\": \"white\"}}, \"shapedefaults\": {\"line\": {\"color\": \"#2a3f5f\"}}, \"ternary\": {\"aaxis\": {\"gridcolor\": \"white\", \"linecolor\": \"white\", \"ticks\": \"\"}, \"baxis\": {\"gridcolor\": \"white\", \"linecolor\": \"white\", \"ticks\": \"\"}, \"bgcolor\": \"#E5ECF6\", \"caxis\": {\"gridcolor\": \"white\", \"linecolor\": \"white\", \"ticks\": \"\"}}, \"title\": {\"x\": 0.05}, \"xaxis\": {\"automargin\": true, \"gridcolor\": \"white\", \"linecolor\": \"white\", \"ticks\": \"\", \"title\": {\"standoff\": 15}, \"zerolinecolor\": \"white\", \"zerolinewidth\": 2}, \"yaxis\": {\"automargin\": true, \"gridcolor\": \"white\", \"linecolor\": \"white\", \"ticks\": \"\", \"title\": {\"standoff\": 15}, \"zerolinecolor\": \"white\", \"zerolinewidth\": 2}}}, \"title\": {\"text\": \"Evolution of the average vote over time\"}, \"xaxis\": {\"title\": {\"text\": \"time\"}}, \"yaxis\": {\"title\": {\"text\": \"average vote\"}}},                        {\"responsive\": true}                    ).then(function(){\n",
       "                            \n",
       "var gd = document.getElementById('11b3ae2c-c5dd-4a23-a788-66597e0d4d5e');\n",
       "var x = new MutationObserver(function (mutations, observer) {{\n",
       "        var display = window.getComputedStyle(gd).display;\n",
       "        if (!display || display === 'none') {{\n",
       "            console.log([gd, 'removed!']);\n",
       "            Plotly.purge(gd);\n",
       "            observer.disconnect();\n",
       "        }}\n",
       "}});\n",
       "\n",
       "// Listen for the removal of the full notebook cells\n",
       "var notebookContainer = gd.closest('#notebook-container');\n",
       "if (notebookContainer) {{\n",
       "    x.observe(notebookContainer, {childList: true});\n",
       "}}\n",
       "\n",
       "// Listen for the clearing of the current output cell\n",
       "var outputEl = gd.closest('.output');\n",
       "if (outputEl) {{\n",
       "    x.observe(outputEl, {childList: true});\n",
       "}}\n",
       "\n",
       "                        })                };                });            </script>        </div>"
      ]
     },
     "metadata": {},
     "output_type": "display_data"
    }
   ],
   "source": [
    "#import plotly.express as px\n",
    "\n",
    "fig = go.Figure()\n",
    "\n",
    "fig.add_trace(go.Scatter(\n",
    "    x= sign_avg_month.index,\n",
    "    y= sign_avg_month['vote'],\n",
    "    name=\"average over months\",\n",
    "    marker_size=sign_avg_month['count'],\n",
    "    hovertemplate =\n",
    "    '<br><b>Date </b>: %{x}'+\n",
    "    '<br><b>Average vote </b>: %{y}'+\n",
    "    '<br><b>Number of votes </b>: %{marker_size}<br>'\n",
    "))\n",
    "\n",
    "\n",
    "fig.add_trace(go.Scatter(\n",
    "    x= sign_avg_week.index,\n",
    "    y= sign_avg_week['vote'],\n",
    "    name=\"average over weeks\",\n",
    "    visible = 'legendonly',\n",
    "    marker_size=sign_avg_week['count'],\n",
    "    hovertemplate =\n",
    "    '<br><b>Date </b>: %{x}'+\n",
    "    '<br><b>Average vote </b>: %{y}'+\n",
    "    '<br><b>Number of votes </b>: %{marker_size}<br>'\n",
    "))\n",
    "\n",
    "\n",
    "fig.update_layout(\n",
    "    title=\"Evolution of the average vote over time\",\n",
    "    xaxis_title=\"time\",\n",
    "    yaxis_title=\"average vote\")\n",
    "\n",
    "fig.update_traces(\n",
    "    mode='markers',\n",
    "    marker={'sizemode':'area',\n",
    "            'sizeref':10})\n",
    "fig.show()"
   ]
  },
  {
   "cell_type": "markdown",
   "metadata": {},
   "source": [
    "We can now easily see that until around July 2005, we only have a quite low number of votes (smaller bubbles) compared to the number of votes from July 2005 until January 2008 (bigger bubbles). Interesting! It seems that over time more and more people started voted in Wikipedia elections. However, we unfortunately do not have the total number of wikipedia admins because most likely this number also increased over time in the same fashion than the number of votes. Circling back to our previous comment, we can thus see that especially before October 2004, only very few people voted during adminship elections. XXcomment? maybe interesting for herding behaviour as we see that as we have far less votes they are way more negative! \n",
    "\n",
    "We are sure you did not miss out on the little bubble that does not follow the overall trend in January 2007. Indeed, this bubble corresponds to the number of votes that was recorded the week ending with December the 31st 2006. The small size of this bubble does not surprise, one could expect that during the holiday season less people vote on elections (even though we did not investigate this trend for the other years), XXThey might also be a lower number of elections? interesting to look into?. What is more interesting however, is that the average vote is significantly(XXwould need to do a test for that) for that week. XXback to comment before! \n",
    "\n",
    "https://en.wikipedia.org/wiki/Special:ListUsers?username=&group=sysop&wpsubmit=&wpFormIdentifier=mw-listusers-form&limit=50 (list of all wikipedia admins, maybe interesting to cite or put as hyperlink onto website)"
   ]
  },
  {
   "cell_type": "markdown",
   "metadata": {},
   "source": [
    "## Duplicates \n",
    "We want to investigate the vote distributions for repeated elections, meaning when the same candidate seeks adminship several times. For this to be possible, we have to chack that we indeed have enough duplicates in our dataset in order to conduct a meaningful analysis."
   ]
  },
  {
   "cell_type": "code",
   "execution_count": 22,
   "metadata": {},
   "outputs": [
    {
     "data": {
      "text/html": [
       "<div>\n",
       "<style scoped>\n",
       "    .dataframe tbody tr th:only-of-type {\n",
       "        vertical-align: middle;\n",
       "    }\n",
       "\n",
       "    .dataframe tbody tr th {\n",
       "        vertical-align: top;\n",
       "    }\n",
       "\n",
       "    .dataframe thead th {\n",
       "        text-align: right;\n",
       "    }\n",
       "</style>\n",
       "<table border=\"1\" class=\"dataframe\">\n",
       "  <thead>\n",
       "    <tr style=\"text-align: right;\">\n",
       "      <th></th>\n",
       "      <th>elec_outcome</th>\n",
       "      <th>elec_time</th>\n",
       "      <th>candidate_id</th>\n",
       "      <th>voter_id</th>\n",
       "      <th>vote</th>\n",
       "      <th>vote_time</th>\n",
       "      <th>nominator_id</th>\n",
       "    </tr>\n",
       "  </thead>\n",
       "  <tbody>\n",
       "    <tr>\n",
       "      <th>0</th>\n",
       "      <td>1</td>\n",
       "      <td>2004-09-21 01:15:53</td>\n",
       "      <td>30</td>\n",
       "      <td>3</td>\n",
       "      <td>1</td>\n",
       "      <td>2004-09-14 16:26:00</td>\n",
       "      <td>32</td>\n",
       "    </tr>\n",
       "    <tr>\n",
       "      <th>1</th>\n",
       "      <td>1</td>\n",
       "      <td>2004-09-21 01:15:53</td>\n",
       "      <td>30</td>\n",
       "      <td>25</td>\n",
       "      <td>-1</td>\n",
       "      <td>2004-09-14 16:53:00</td>\n",
       "      <td>32</td>\n",
       "    </tr>\n",
       "    <tr>\n",
       "      <th>2</th>\n",
       "      <td>1</td>\n",
       "      <td>2004-09-21 01:15:53</td>\n",
       "      <td>30</td>\n",
       "      <td>4</td>\n",
       "      <td>1</td>\n",
       "      <td>2004-09-14 17:08:00</td>\n",
       "      <td>32</td>\n",
       "    </tr>\n",
       "    <tr>\n",
       "      <th>3</th>\n",
       "      <td>1</td>\n",
       "      <td>2004-09-21 01:15:53</td>\n",
       "      <td>30</td>\n",
       "      <td>5</td>\n",
       "      <td>1</td>\n",
       "      <td>2004-09-14 17:37:00</td>\n",
       "      <td>32</td>\n",
       "    </tr>\n",
       "    <tr>\n",
       "      <th>4</th>\n",
       "      <td>1</td>\n",
       "      <td>2004-09-21 01:15:53</td>\n",
       "      <td>30</td>\n",
       "      <td>6</td>\n",
       "      <td>1</td>\n",
       "      <td>2004-09-14 19:28:00</td>\n",
       "      <td>32</td>\n",
       "    </tr>\n",
       "  </tbody>\n",
       "</table>\n",
       "</div>"
      ],
      "text/plain": [
       "  elec_outcome           elec_time candidate_id voter_id vote  \\\n",
       "0            1 2004-09-21 01:15:53           30        3    1   \n",
       "1            1 2004-09-21 01:15:53           30       25   -1   \n",
       "2            1 2004-09-21 01:15:53           30        4    1   \n",
       "3            1 2004-09-21 01:15:53           30        5    1   \n",
       "4            1 2004-09-21 01:15:53           30        6    1   \n",
       "\n",
       "            vote_time nominator_id  \n",
       "0 2004-09-14 16:26:00           32  \n",
       "1 2004-09-14 16:53:00           32  \n",
       "2 2004-09-14 17:08:00           32  \n",
       "3 2004-09-14 17:37:00           32  \n",
       "4 2004-09-14 19:28:00           32  "
      ]
     },
     "execution_count": 22,
     "metadata": {},
     "output_type": "execute_result"
    }
   ],
   "source": [
    "wikipedia.head()"
   ]
  },
  {
   "cell_type": "code",
   "execution_count": 23,
   "metadata": {},
   "outputs": [
    {
     "data": {
      "text/plain": [
       "(114029, 7)"
      ]
     },
     "execution_count": 23,
     "metadata": {},
     "output_type": "execute_result"
    }
   ],
   "source": [
    "wikipedia.shape"
   ]
  },
  {
   "cell_type": "code",
   "execution_count": 24,
   "metadata": {},
   "outputs": [
    {
     "ename": "KeyError",
     "evalue": "\"None of [Index(['Voter', 'Candidate'], dtype='object')] are in the [columns]\"",
     "output_type": "error",
     "traceback": [
      "\u001b[0;31m---------------------------------------------------------------------------\u001b[0m",
      "\u001b[0;31mKeyError\u001b[0m                                  Traceback (most recent call last)",
      "\u001b[0;32m<ipython-input-24-efe11b033ef4>\u001b[0m in \u001b[0;36m<module>\u001b[0;34m\u001b[0m\n\u001b[0;32m----> 1\u001b[0;31m \u001b[0mduplicated\u001b[0m \u001b[0;34m=\u001b[0m \u001b[0mwikipedia\u001b[0m\u001b[0;34m[\u001b[0m \u001b[0mwikipedia\u001b[0m\u001b[0;34m[\u001b[0m\u001b[0;34m[\u001b[0m\u001b[0;34m'Voter'\u001b[0m\u001b[0;34m,\u001b[0m\u001b[0;34m'Candidate'\u001b[0m\u001b[0;34m]\u001b[0m\u001b[0;34m]\u001b[0m\u001b[0;34m.\u001b[0m\u001b[0mduplicated\u001b[0m\u001b[0;34m(\u001b[0m\u001b[0mkeep\u001b[0m\u001b[0;34m=\u001b[0m\u001b[0;32mFalse\u001b[0m\u001b[0;34m)\u001b[0m \u001b[0;34m]\u001b[0m \u001b[0;31m# keep=False to keep all duplicates\u001b[0m\u001b[0;34m\u001b[0m\u001b[0;34m\u001b[0m\u001b[0m\n\u001b[0m\u001b[1;32m      2\u001b[0m \u001b[0mduplicated\u001b[0m\u001b[0;34m\u001b[0m\u001b[0;34m\u001b[0m\u001b[0m\n\u001b[1;32m      3\u001b[0m \u001b[0;31m# duplicate in this context = when a voter voted for the same candidate several time\u001b[0m\u001b[0;34m\u001b[0m\u001b[0;34m\u001b[0m\u001b[0;34m\u001b[0m\u001b[0m\n\u001b[1;32m      4\u001b[0m \u001b[0;31m# we have a lot of duplicates : ~7500\u001b[0m\u001b[0;34m\u001b[0m\u001b[0;34m\u001b[0m\u001b[0;34m\u001b[0m\u001b[0m\n",
      "\u001b[0;32m~/opt/anaconda3/lib/python3.8/site-packages/pandas/core/frame.py\u001b[0m in \u001b[0;36m__getitem__\u001b[0;34m(self, key)\u001b[0m\n\u001b[1;32m   2804\u001b[0m             \u001b[0;32mif\u001b[0m \u001b[0mis_iterator\u001b[0m\u001b[0;34m(\u001b[0m\u001b[0mkey\u001b[0m\u001b[0;34m)\u001b[0m\u001b[0;34m:\u001b[0m\u001b[0;34m\u001b[0m\u001b[0;34m\u001b[0m\u001b[0m\n\u001b[1;32m   2805\u001b[0m                 \u001b[0mkey\u001b[0m \u001b[0;34m=\u001b[0m \u001b[0mlist\u001b[0m\u001b[0;34m(\u001b[0m\u001b[0mkey\u001b[0m\u001b[0;34m)\u001b[0m\u001b[0;34m\u001b[0m\u001b[0;34m\u001b[0m\u001b[0m\n\u001b[0;32m-> 2806\u001b[0;31m             \u001b[0mindexer\u001b[0m \u001b[0;34m=\u001b[0m \u001b[0mself\u001b[0m\u001b[0;34m.\u001b[0m\u001b[0mloc\u001b[0m\u001b[0;34m.\u001b[0m\u001b[0m_get_listlike_indexer\u001b[0m\u001b[0;34m(\u001b[0m\u001b[0mkey\u001b[0m\u001b[0;34m,\u001b[0m \u001b[0maxis\u001b[0m\u001b[0;34m=\u001b[0m\u001b[0;36m1\u001b[0m\u001b[0;34m,\u001b[0m \u001b[0mraise_missing\u001b[0m\u001b[0;34m=\u001b[0m\u001b[0;32mTrue\u001b[0m\u001b[0;34m)\u001b[0m\u001b[0;34m[\u001b[0m\u001b[0;36m1\u001b[0m\u001b[0;34m]\u001b[0m\u001b[0;34m\u001b[0m\u001b[0;34m\u001b[0m\u001b[0m\n\u001b[0m\u001b[1;32m   2807\u001b[0m \u001b[0;34m\u001b[0m\u001b[0m\n\u001b[1;32m   2808\u001b[0m         \u001b[0;31m# take() does not accept boolean indexers\u001b[0m\u001b[0;34m\u001b[0m\u001b[0;34m\u001b[0m\u001b[0;34m\u001b[0m\u001b[0m\n",
      "\u001b[0;32m~/opt/anaconda3/lib/python3.8/site-packages/pandas/core/indexing.py\u001b[0m in \u001b[0;36m_get_listlike_indexer\u001b[0;34m(self, key, axis, raise_missing)\u001b[0m\n\u001b[1;32m   1549\u001b[0m             \u001b[0mkeyarr\u001b[0m\u001b[0;34m,\u001b[0m \u001b[0mindexer\u001b[0m\u001b[0;34m,\u001b[0m \u001b[0mnew_indexer\u001b[0m \u001b[0;34m=\u001b[0m \u001b[0max\u001b[0m\u001b[0;34m.\u001b[0m\u001b[0m_reindex_non_unique\u001b[0m\u001b[0;34m(\u001b[0m\u001b[0mkeyarr\u001b[0m\u001b[0;34m)\u001b[0m\u001b[0;34m\u001b[0m\u001b[0;34m\u001b[0m\u001b[0m\n\u001b[1;32m   1550\u001b[0m \u001b[0;34m\u001b[0m\u001b[0m\n\u001b[0;32m-> 1551\u001b[0;31m         self._validate_read_indexer(\n\u001b[0m\u001b[1;32m   1552\u001b[0m             \u001b[0mkeyarr\u001b[0m\u001b[0;34m,\u001b[0m \u001b[0mindexer\u001b[0m\u001b[0;34m,\u001b[0m \u001b[0mo\u001b[0m\u001b[0;34m.\u001b[0m\u001b[0m_get_axis_number\u001b[0m\u001b[0;34m(\u001b[0m\u001b[0maxis\u001b[0m\u001b[0;34m)\u001b[0m\u001b[0;34m,\u001b[0m \u001b[0mraise_missing\u001b[0m\u001b[0;34m=\u001b[0m\u001b[0mraise_missing\u001b[0m\u001b[0;34m\u001b[0m\u001b[0;34m\u001b[0m\u001b[0m\n\u001b[1;32m   1553\u001b[0m         )\n",
      "\u001b[0;32m~/opt/anaconda3/lib/python3.8/site-packages/pandas/core/indexing.py\u001b[0m in \u001b[0;36m_validate_read_indexer\u001b[0;34m(self, key, indexer, axis, raise_missing)\u001b[0m\n\u001b[1;32m   1637\u001b[0m             \u001b[0;32mif\u001b[0m \u001b[0mmissing\u001b[0m \u001b[0;34m==\u001b[0m \u001b[0mlen\u001b[0m\u001b[0;34m(\u001b[0m\u001b[0mindexer\u001b[0m\u001b[0;34m)\u001b[0m\u001b[0;34m:\u001b[0m\u001b[0;34m\u001b[0m\u001b[0;34m\u001b[0m\u001b[0m\n\u001b[1;32m   1638\u001b[0m                 \u001b[0maxis_name\u001b[0m \u001b[0;34m=\u001b[0m \u001b[0mself\u001b[0m\u001b[0;34m.\u001b[0m\u001b[0mobj\u001b[0m\u001b[0;34m.\u001b[0m\u001b[0m_get_axis_name\u001b[0m\u001b[0;34m(\u001b[0m\u001b[0maxis\u001b[0m\u001b[0;34m)\u001b[0m\u001b[0;34m\u001b[0m\u001b[0;34m\u001b[0m\u001b[0m\n\u001b[0;32m-> 1639\u001b[0;31m                 \u001b[0;32mraise\u001b[0m \u001b[0mKeyError\u001b[0m\u001b[0;34m(\u001b[0m\u001b[0;34mf\"None of [{key}] are in the [{axis_name}]\"\u001b[0m\u001b[0;34m)\u001b[0m\u001b[0;34m\u001b[0m\u001b[0;34m\u001b[0m\u001b[0m\n\u001b[0m\u001b[1;32m   1640\u001b[0m \u001b[0;34m\u001b[0m\u001b[0m\n\u001b[1;32m   1641\u001b[0m             \u001b[0;31m# We (temporarily) allow for some missing keys with .loc, except in\u001b[0m\u001b[0;34m\u001b[0m\u001b[0;34m\u001b[0m\u001b[0;34m\u001b[0m\u001b[0m\n",
      "\u001b[0;31mKeyError\u001b[0m: \"None of [Index(['Voter', 'Candidate'], dtype='object')] are in the [columns]\""
     ]
    }
   ],
   "source": [
    "duplicated = wikipedia[ wikipedia[['Voter','Candidate']].duplicated(keep=False) ] # keep=False to keep all duplicates\n",
    "duplicated\n",
    "# duplicate in this context = when a voter voted for the same candidate several time\n",
    "# we have a lot of duplicates : ~7500"
   ]
  },
  {
   "cell_type": "code",
   "execution_count": null,
   "metadata": {},
   "outputs": [],
   "source": [
    "# But on average, how many time did a voter voted for the same candidate?\n",
    "\n",
    "voter_candidate = wikipedia[['Voter','Candidate']]\n",
    "# voter_candidate = voter_candidate[voter_candidate.duplicated()]\n",
    "count_duplicated = voter_candidate.groupby(voter_candidate.columns.tolist(),as_index=False).size()\n",
    "count_duplicated"
   ]
  },
  {
   "cell_type": "code",
   "execution_count": null,
   "metadata": {},
   "outputs": [],
   "source": [
    "count_duplicated['size'].describe()\n",
    "\n",
    "# Interpretation\n",
    "# Most of the voter voted a single time for a given candidate \n",
    "# but some voted up to 5 times for the same candidate"
   ]
  },
  {
   "cell_type": "code",
   "execution_count": null,
   "metadata": {},
   "outputs": [],
   "source": [
    "# Histo of the duplicates (1= no duplication)\n",
    "plt.hist(count_duplicated['size']);"
   ]
  },
  {
   "cell_type": "code",
   "execution_count": null,
   "metadata": {},
   "outputs": [],
   "source": [
    "# Histo of the duplicates \n",
    "\n",
    "count_duplicated_tmp = count_duplicated[count_duplicated['size']>1]\n",
    "\n",
    "plt.hist(count_duplicated_tmp['size']);\n",
    "\n",
    "# Interpretation:\n",
    "# More than 3000 people voted at least 2 times for the same candidate"
   ]
  },
  {
   "cell_type": "code",
   "execution_count": null,
   "metadata": {},
   "outputs": [],
   "source": []
  },
  {
   "cell_type": "code",
   "execution_count": null,
   "metadata": {},
   "outputs": [],
   "source": []
  },
  {
   "cell_type": "code",
   "execution_count": null,
   "metadata": {},
   "outputs": [],
   "source": []
  },
  {
   "cell_type": "code",
   "execution_count": null,
   "metadata": {},
   "outputs": [],
   "source": []
  },
  {
   "cell_type": "code",
   "execution_count": null,
   "metadata": {},
   "outputs": [],
   "source": []
  },
  {
   "cell_type": "code",
   "execution_count": null,
   "metadata": {},
   "outputs": [],
   "source": []
  }
 ],
 "metadata": {
  "kernelspec": {
   "display_name": "Python 3",
   "language": "python",
   "name": "python3"
  },
  "language_info": {
   "codemirror_mode": {
    "name": "ipython",
    "version": 3
   },
   "file_extension": ".py",
   "mimetype": "text/x-python",
   "name": "python",
   "nbconvert_exporter": "python",
   "pygments_lexer": "ipython3",
   "version": "3.8.3"
  }
 },
 "nbformat": 4,
 "nbformat_minor": 4
}
